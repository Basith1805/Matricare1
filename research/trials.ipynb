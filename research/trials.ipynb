{
 "cells": [
  {
   "cell_type": "code",
   "execution_count": 1,
   "id": "7030bd09",
   "metadata": {},
   "outputs": [
    {
     "name": "stdout",
     "output_type": "stream",
     "text": [
      "ok\n"
     ]
    }
   ],
   "source": [
    "print(\"ok\")"
   ]
  },
  {
   "cell_type": "code",
   "execution_count": 6,
   "id": "3e3959ab",
   "metadata": {},
   "outputs": [
    {
     "data": {
      "text/plain": [
       "'c:\\\\matricare\\\\MatriCare\\\\MatriCare'"
      ]
     },
     "execution_count": 6,
     "metadata": {},
     "output_type": "execute_result"
    }
   ],
   "source": [
    "%pwd"
   ]
  },
  {
   "cell_type": "code",
   "execution_count": 5,
   "id": "eb88cb21",
   "metadata": {},
   "outputs": [],
   "source": [
    "import os\n",
    "os.chdir(\"../\")"
   ]
  },
  {
   "cell_type": "code",
   "execution_count": 7,
   "id": "3000ee99",
   "metadata": {},
   "outputs": [
    {
     "data": {
      "text/plain": [
       "'c:\\\\matricare\\\\MatriCare\\\\MatriCare'"
      ]
     },
     "execution_count": 7,
     "metadata": {},
     "output_type": "execute_result"
    }
   ],
   "source": [
    "%pwd"
   ]
  },
  {
   "cell_type": "code",
   "execution_count": 8,
   "id": "d72e3d60",
   "metadata": {},
   "outputs": [
    {
     "ename": "ModuleNotFoundError",
     "evalue": "No module named 'langchain'",
     "output_type": "error",
     "traceback": [
      "\u001b[1;31m---------------------------------------------------------------------------\u001b[0m",
      "\u001b[1;31mModuleNotFoundError\u001b[0m                       Traceback (most recent call last)",
      "Cell \u001b[1;32mIn[8], line 1\u001b[0m\n\u001b[1;32m----> 1\u001b[0m \u001b[38;5;28;01mfrom\u001b[39;00m\u001b[38;5;250m \u001b[39m\u001b[38;5;21;01mlangchain\u001b[39;00m\u001b[38;5;21;01m.\u001b[39;00m\u001b[38;5;21;01mdocument_loaders\u001b[39;00m\u001b[38;5;250m \u001b[39m\u001b[38;5;28;01mimport\u001b[39;00m PyPDFLoader, DirectoryLoader\n\u001b[0;32m      2\u001b[0m \u001b[38;5;28;01mfrom\u001b[39;00m\u001b[38;5;250m \u001b[39m\u001b[38;5;21;01mlangchain\u001b[39;00m\u001b[38;5;21;01m.\u001b[39;00m\u001b[38;5;21;01mtext_splitter\u001b[39;00m\u001b[38;5;250m \u001b[39m\u001b[38;5;28;01mimport\u001b[39;00m RecursiveCharacterTextSplitter \n",
      "\u001b[1;31mModuleNotFoundError\u001b[0m: No module named 'langchain'"
     ]
    }
   ],
   "source": [
    "from langchain.document_loaders import PyPDFLoader, DirectoryLoader\n",
    "from langchain.text_splitter import RecursiveCharacterTextSplitter "
   ]
  },
  {
   "cell_type": "code",
   "execution_count": 13,
   "id": "d0c8bc6b",
   "metadata": {},
   "outputs": [
    {
     "ename": "ModuleNotFoundError",
     "evalue": "No module named 'langchain'",
     "output_type": "error",
     "traceback": [
      "\u001b[1;31m---------------------------------------------------------------------------\u001b[0m",
      "\u001b[1;31mModuleNotFoundError\u001b[0m                       Traceback (most recent call last)",
      "Cell \u001b[1;32mIn[13], line 1\u001b[0m\n\u001b[1;32m----> 1\u001b[0m \u001b[38;5;28;01mfrom\u001b[39;00m\u001b[38;5;250m \u001b[39m\u001b[38;5;21;01mlangchain\u001b[39;00m\u001b[38;5;21;01m.\u001b[39;00m\u001b[38;5;21;01mdocument_loaders\u001b[39;00m\u001b[38;5;250m \u001b[39m\u001b[38;5;28;01mimport\u001b[39;00m PyPDFLoader, DirectoryLoader\n\u001b[0;32m      2\u001b[0m \u001b[38;5;28;01mfrom\u001b[39;00m\u001b[38;5;250m \u001b[39m\u001b[38;5;21;01mlangchain\u001b[39;00m\u001b[38;5;21;01m.\u001b[39;00m\u001b[38;5;21;01mtext_splitter\u001b[39;00m\u001b[38;5;250m \u001b[39m\u001b[38;5;28;01mimport\u001b[39;00m RecursiveCharacterTextSplitter\n",
      "\u001b[1;31mModuleNotFoundError\u001b[0m: No module named 'langchain'"
     ]
    }
   ],
   "source": [
    "from langchain.document_loaders import PyPDFLoader, DirectoryLoader\n",
    "from langchain.text_splitter import RecursiveCharacterTextSplitter"
   ]
  },
  {
   "cell_type": "code",
   "execution_count": 15,
   "id": "2623bb52",
   "metadata": {},
   "outputs": [
    {
     "ename": "ModuleNotFoundError",
     "evalue": "No module named 'langchain'",
     "output_type": "error",
     "traceback": [
      "\u001b[1;31m---------------------------------------------------------------------------\u001b[0m",
      "\u001b[1;31mModuleNotFoundError\u001b[0m                       Traceback (most recent call last)",
      "Cell \u001b[1;32mIn[15], line 1\u001b[0m\n\u001b[1;32m----> 1\u001b[0m \u001b[38;5;28;01mfrom\u001b[39;00m\u001b[38;5;250m \u001b[39m\u001b[38;5;21;01mlangchain\u001b[39;00m\u001b[38;5;21;01m.\u001b[39;00m\u001b[38;5;21;01mdocument_loaders\u001b[39;00m\u001b[38;5;250m \u001b[39m\u001b[38;5;28;01mimport\u001b[39;00m PyPDFLoader, DirectoryLoader\n\u001b[0;32m      2\u001b[0m \u001b[38;5;28;01mfrom\u001b[39;00m\u001b[38;5;250m \u001b[39m\u001b[38;5;21;01mlangchain\u001b[39;00m\u001b[38;5;21;01m.\u001b[39;00m\u001b[38;5;21;01mtext_splitter\u001b[39;00m\u001b[38;5;250m \u001b[39m\u001b[38;5;28;01mimport\u001b[39;00m RecursiveCharacterTextSplitter \n",
      "\u001b[1;31mModuleNotFoundError\u001b[0m: No module named 'langchain'"
     ]
    }
   ],
   "source": [
    "from langchain.document_loaders import PyPDFLoader, DirectoryLoader\n",
    "from langchain.text_splitter import RecursiveCharacterTextSplitter \n"
   ]
  },
  {
   "cell_type": "code",
   "execution_count": 16,
   "id": "ebf2a6ab",
   "metadata": {},
   "outputs": [],
   "source": [
    "import os\n",
    "os.chdir(\"../\")"
   ]
  },
  {
   "cell_type": "code",
   "execution_count": 17,
   "id": "23ed212d",
   "metadata": {},
   "outputs": [
    {
     "data": {
      "text/plain": [
       "'c:\\\\matricare\\\\MatriCare'"
      ]
     },
     "execution_count": 17,
     "metadata": {},
     "output_type": "execute_result"
    }
   ],
   "source": [
    "%pwd"
   ]
  },
  {
   "cell_type": "code",
   "execution_count": 20,
   "id": "2ed46dbe",
   "metadata": {},
   "outputs": [
    {
     "ename": "ModuleNotFoundError",
     "evalue": "No module named 'langchain'",
     "output_type": "error",
     "traceback": [
      "\u001b[1;31m---------------------------------------------------------------------------\u001b[0m",
      "\u001b[1;31mModuleNotFoundError\u001b[0m                       Traceback (most recent call last)",
      "Cell \u001b[1;32mIn[20], line 1\u001b[0m\n\u001b[1;32m----> 1\u001b[0m \u001b[38;5;28;01mfrom\u001b[39;00m\u001b[38;5;250m \u001b[39m\u001b[38;5;21;01mlangchain\u001b[39;00m\u001b[38;5;21;01m.\u001b[39;00m\u001b[38;5;21;01mdocument_loaders\u001b[39;00m\u001b[38;5;250m \u001b[39m\u001b[38;5;28;01mimport\u001b[39;00m PyPDFLoader, DirectoryLoader\n\u001b[0;32m      2\u001b[0m \u001b[38;5;28;01mfrom\u001b[39;00m\u001b[38;5;250m \u001b[39m\u001b[38;5;21;01mlangchain\u001b[39;00m\u001b[38;5;21;01m.\u001b[39;00m\u001b[38;5;21;01mtext_splitter\u001b[39;00m\u001b[38;5;250m \u001b[39m\u001b[38;5;28;01mimport\u001b[39;00m RecursiveCharacterTextSplitter \n",
      "\u001b[1;31mModuleNotFoundError\u001b[0m: No module named 'langchain'"
     ]
    }
   ],
   "source": [
    "from langchain.document_loaders import PyPDFLoader, DirectoryLoader\n",
    "from langchain.text_splitter import RecursiveCharacterTextSplitter \n"
   ]
  },
  {
   "cell_type": "code",
   "execution_count": 21,
   "id": "d455ca87",
   "metadata": {},
   "outputs": [
    {
     "ename": "ModuleNotFoundError",
     "evalue": "No module named 'langchain_community'",
     "output_type": "error",
     "traceback": [
      "\u001b[1;31m---------------------------------------------------------------------------\u001b[0m",
      "\u001b[1;31mModuleNotFoundError\u001b[0m                       Traceback (most recent call last)",
      "Cell \u001b[1;32mIn[21], line 1\u001b[0m\n\u001b[1;32m----> 1\u001b[0m \u001b[38;5;28;01mfrom\u001b[39;00m\u001b[38;5;250m \u001b[39m\u001b[38;5;21;01mlangchain_community\u001b[39;00m\u001b[38;5;21;01m.\u001b[39;00m\u001b[38;5;21;01mdocument_loaders\u001b[39;00m\u001b[38;5;250m \u001b[39m\u001b[38;5;28;01mimport\u001b[39;00m PyPDFLoader, DirectoryLoader\n\u001b[0;32m      2\u001b[0m \u001b[38;5;28;01mfrom\u001b[39;00m\u001b[38;5;250m \u001b[39m\u001b[38;5;21;01mlangchain\u001b[39;00m\u001b[38;5;21;01m.\u001b[39;00m\u001b[38;5;21;01mtext_splitters\u001b[39;00m\u001b[38;5;250m \u001b[39m\u001b[38;5;28;01mimport\u001b[39;00m RecursiveCharacterTextSplitter\n",
      "\u001b[1;31mModuleNotFoundError\u001b[0m: No module named 'langchain_community'"
     ]
    }
   ],
   "source": [
    "from langchain_community.document_loaders import PyPDFLoader, DirectoryLoader\n",
    "from langchain.text_splitters import RecursiveCharacterTextSplitter\n"
   ]
  },
  {
   "cell_type": "code",
   "execution_count": 22,
   "id": "41fbb761",
   "metadata": {},
   "outputs": [
    {
     "ename": "ModuleNotFoundError",
     "evalue": "No module named 'langchain_community'",
     "output_type": "error",
     "traceback": [
      "\u001b[1;31m---------------------------------------------------------------------------\u001b[0m",
      "\u001b[1;31mModuleNotFoundError\u001b[0m                       Traceback (most recent call last)",
      "Cell \u001b[1;32mIn[22], line 1\u001b[0m\n\u001b[1;32m----> 1\u001b[0m \u001b[38;5;28;01mfrom\u001b[39;00m\u001b[38;5;250m \u001b[39m\u001b[38;5;21;01mlangchain_community\u001b[39;00m\u001b[38;5;21;01m.\u001b[39;00m\u001b[38;5;21;01mdocument_loaders\u001b[39;00m\u001b[38;5;250m \u001b[39m\u001b[38;5;28;01mimport\u001b[39;00m PyPDFLoader, DirectoryLoader\n\u001b[0;32m      2\u001b[0m \u001b[38;5;28;01mfrom\u001b[39;00m\u001b[38;5;250m \u001b[39m\u001b[38;5;21;01mlangchain\u001b[39;00m\u001b[38;5;21;01m.\u001b[39;00m\u001b[38;5;21;01mtext_splitters\u001b[39;00m\u001b[38;5;250m \u001b[39m\u001b[38;5;28;01mimport\u001b[39;00m RecursiveCharacterTextSplitter\n",
      "\u001b[1;31mModuleNotFoundError\u001b[0m: No module named 'langchain_community'"
     ]
    }
   ],
   "source": [
    "from langchain_community.document_loaders import PyPDFLoader, DirectoryLoader\n",
    "from langchain.text_splitters import RecursiveCharacterTextSplitter\n"
   ]
  },
  {
   "cell_type": "code",
   "execution_count": 23,
   "id": "79c96bf4",
   "metadata": {},
   "outputs": [
    {
     "ename": "SyntaxError",
     "evalue": "invalid syntax (3947851527.py, line 1)",
     "output_type": "error",
     "traceback": [
      "\u001b[1;36m  Cell \u001b[1;32mIn[23], line 1\u001b[1;36m\u001b[0m\n\u001b[1;33m    pip install langchain\u001b[0m\n\u001b[1;37m        ^\u001b[0m\n\u001b[1;31mSyntaxError\u001b[0m\u001b[1;31m:\u001b[0m invalid syntax\n"
     ]
    }
   ],
   "source": [
    "pip install langchain\n",
    "pip install langchain-community\n",
    "pip install pypdf\n"
   ]
  },
  {
   "cell_type": "code",
   "execution_count": 24,
   "id": "270ad634",
   "metadata": {},
   "outputs": [
    {
     "name": "stdout",
     "output_type": "stream",
     "text": [
      "Collecting langchain\n",
      "  Using cached langchain-0.3.24-py3-none-any.whl.metadata (7.8 kB)\n",
      "Collecting langchain-core<1.0.0,>=0.3.55 (from langchain)\n",
      "  Using cached langchain_core-0.3.56-py3-none-any.whl.metadata (5.9 kB)\n",
      "Collecting langchain-text-splitters<1.0.0,>=0.3.8 (from langchain)\n",
      "  Using cached langchain_text_splitters-0.3.8-py3-none-any.whl.metadata (1.9 kB)\n",
      "Collecting langsmith<0.4,>=0.1.17 (from langchain)\n",
      "  Using cached langsmith-0.3.37-py3-none-any.whl.metadata (15 kB)\n",
      "Collecting pydantic<3.0.0,>=2.7.4 (from langchain)\n",
      "  Downloading pydantic-2.11.3-py3-none-any.whl.metadata (65 kB)\n",
      "Collecting SQLAlchemy<3,>=1.4 (from langchain)\n",
      "  Downloading sqlalchemy-2.0.40-cp310-cp310-win_amd64.whl.metadata (9.9 kB)\n",
      "Collecting requests<3,>=2 (from langchain)\n",
      "  Downloading requests-2.32.3-py3-none-any.whl.metadata (4.6 kB)\n",
      "Collecting PyYAML>=5.3 (from langchain)\n",
      "  Downloading PyYAML-6.0.2-cp310-cp310-win_amd64.whl.metadata (2.1 kB)\n",
      "Collecting async-timeout<5.0.0,>=4.0.0 (from langchain)\n",
      "  Downloading async_timeout-4.0.3-py3-none-any.whl.metadata (4.2 kB)\n",
      "Collecting tenacity!=8.4.0,<10.0.0,>=8.1.0 (from langchain-core<1.0.0,>=0.3.55->langchain)\n",
      "  Using cached tenacity-9.1.2-py3-none-any.whl.metadata (1.2 kB)\n",
      "Collecting jsonpatch<2.0,>=1.33 (from langchain-core<1.0.0,>=0.3.55->langchain)\n",
      "  Downloading jsonpatch-1.33-py2.py3-none-any.whl.metadata (3.0 kB)\n",
      "Collecting packaging<25,>=23.2 (from langchain-core<1.0.0,>=0.3.55->langchain)\n",
      "  Downloading packaging-24.2-py3-none-any.whl.metadata (3.2 kB)\n",
      "Requirement already satisfied: typing-extensions>=4.7 in c:\\users\\admin\\miniconda3\\envs\\medibot\\lib\\site-packages (from langchain-core<1.0.0,>=0.3.55->langchain) (4.13.2)\n",
      "Collecting httpx<1,>=0.23.0 (from langsmith<0.4,>=0.1.17->langchain)\n",
      "  Using cached httpx-0.28.1-py3-none-any.whl.metadata (7.1 kB)\n",
      "Collecting orjson<4.0.0,>=3.9.14 (from langsmith<0.4,>=0.1.17->langchain)\n",
      "  Downloading orjson-3.10.16-cp310-cp310-win_amd64.whl.metadata (42 kB)\n",
      "Collecting requests-toolbelt<2.0.0,>=1.0.0 (from langsmith<0.4,>=0.1.17->langchain)\n",
      "  Using cached requests_toolbelt-1.0.0-py2.py3-none-any.whl.metadata (14 kB)\n",
      "Collecting zstandard<0.24.0,>=0.23.0 (from langsmith<0.4,>=0.1.17->langchain)\n",
      "  Downloading zstandard-0.23.0-cp310-cp310-win_amd64.whl.metadata (3.0 kB)\n",
      "Collecting annotated-types>=0.6.0 (from pydantic<3.0.0,>=2.7.4->langchain)\n",
      "  Downloading annotated_types-0.7.0-py3-none-any.whl.metadata (15 kB)\n",
      "Collecting pydantic-core==2.33.1 (from pydantic<3.0.0,>=2.7.4->langchain)\n",
      "  Downloading pydantic_core-2.33.1-cp310-cp310-win_amd64.whl.metadata (6.9 kB)\n",
      "Collecting typing-inspection>=0.4.0 (from pydantic<3.0.0,>=2.7.4->langchain)\n",
      "  Using cached typing_inspection-0.4.0-py3-none-any.whl.metadata (2.6 kB)\n",
      "Collecting charset-normalizer<4,>=2 (from requests<3,>=2->langchain)\n",
      "  Downloading charset_normalizer-3.4.1-cp310-cp310-win_amd64.whl.metadata (36 kB)\n",
      "Collecting idna<4,>=2.5 (from requests<3,>=2->langchain)\n",
      "  Downloading idna-3.10-py3-none-any.whl.metadata (10 kB)\n",
      "Collecting urllib3<3,>=1.21.1 (from requests<3,>=2->langchain)\n",
      "  Downloading urllib3-2.4.0-py3-none-any.whl.metadata (6.5 kB)\n",
      "Collecting certifi>=2017.4.17 (from requests<3,>=2->langchain)\n",
      "  Downloading certifi-2025.4.26-py3-none-any.whl.metadata (2.5 kB)\n",
      "Collecting greenlet>=1 (from SQLAlchemy<3,>=1.4->langchain)\n",
      "  Downloading greenlet-3.2.1-cp310-cp310-win_amd64.whl.metadata (4.2 kB)\n",
      "Collecting anyio (from httpx<1,>=0.23.0->langsmith<0.4,>=0.1.17->langchain)\n",
      "  Using cached anyio-4.9.0-py3-none-any.whl.metadata (4.7 kB)\n",
      "Collecting httpcore==1.* (from httpx<1,>=0.23.0->langsmith<0.4,>=0.1.17->langchain)\n",
      "  Using cached httpcore-1.0.9-py3-none-any.whl.metadata (21 kB)\n",
      "Collecting h11>=0.16 (from httpcore==1.*->httpx<1,>=0.23.0->langsmith<0.4,>=0.1.17->langchain)\n",
      "  Using cached h11-0.16.0-py3-none-any.whl.metadata (8.3 kB)\n",
      "Collecting jsonpointer>=1.9 (from jsonpatch<2.0,>=1.33->langchain-core<1.0.0,>=0.3.55->langchain)\n",
      "  Downloading jsonpointer-3.0.0-py2.py3-none-any.whl.metadata (2.3 kB)\n",
      "Requirement already satisfied: exceptiongroup>=1.0.2 in c:\\users\\admin\\miniconda3\\envs\\medibot\\lib\\site-packages (from anyio->httpx<1,>=0.23.0->langsmith<0.4,>=0.1.17->langchain) (1.2.2)\n",
      "Collecting sniffio>=1.1 (from anyio->httpx<1,>=0.23.0->langsmith<0.4,>=0.1.17->langchain)\n",
      "  Using cached sniffio-1.3.1-py3-none-any.whl.metadata (3.9 kB)\n",
      "Using cached langchain-0.3.24-py3-none-any.whl (1.0 MB)\n",
      "Downloading async_timeout-4.0.3-py3-none-any.whl (5.7 kB)\n",
      "Using cached langchain_core-0.3.56-py3-none-any.whl (437 kB)\n",
      "Using cached langchain_text_splitters-0.3.8-py3-none-any.whl (32 kB)\n",
      "Using cached langsmith-0.3.37-py3-none-any.whl (359 kB)\n",
      "Downloading pydantic-2.11.3-py3-none-any.whl (443 kB)\n",
      "Downloading pydantic_core-2.33.1-cp310-cp310-win_amd64.whl (2.0 MB)\n",
      "   ---------------------------------------- 0.0/2.0 MB ? eta -:--:--\n",
      "   ----- ---------------------------------- 0.3/2.0 MB ? eta -:--:--\n",
      "   ---------- ----------------------------- 0.5/2.0 MB 1.3 MB/s eta 0:00:02\n",
      "   -------------------------- ------------- 1.3/2.0 MB 2.0 MB/s eta 0:00:01\n",
      "   ------------------------------------- -- 1.8/2.0 MB 2.1 MB/s eta 0:00:01\n",
      "   ---------------------------------------- 2.0/2.0 MB 2.1 MB/s eta 0:00:00\n",
      "Downloading PyYAML-6.0.2-cp310-cp310-win_amd64.whl (161 kB)\n",
      "Downloading requests-2.32.3-py3-none-any.whl (64 kB)\n",
      "Downloading sqlalchemy-2.0.40-cp310-cp310-win_amd64.whl (2.1 MB)\n",
      "   ---------------------------------------- 0.0/2.1 MB ? eta -:--:--\n",
      "   --------- ------------------------------ 0.5/2.1 MB 2.8 MB/s eta 0:00:01\n",
      "   -------------- ------------------------- 0.8/2.1 MB 1.7 MB/s eta 0:00:01\n",
      "   ------------------------ --------------- 1.3/2.1 MB 2.1 MB/s eta 0:00:01\n",
      "   ---------------------------------- ----- 1.8/2.1 MB 2.3 MB/s eta 0:00:01\n",
      "   ---------------------------------------- 2.1/2.1 MB 2.4 MB/s eta 0:00:00\n",
      "Downloading annotated_types-0.7.0-py3-none-any.whl (13 kB)\n",
      "Downloading certifi-2025.4.26-py3-none-any.whl (159 kB)\n",
      "Downloading charset_normalizer-3.4.1-cp310-cp310-win_amd64.whl (102 kB)\n",
      "Downloading greenlet-3.2.1-cp310-cp310-win_amd64.whl (294 kB)\n",
      "Using cached httpx-0.28.1-py3-none-any.whl (73 kB)\n",
      "Using cached httpcore-1.0.9-py3-none-any.whl (78 kB)\n",
      "Downloading idna-3.10-py3-none-any.whl (70 kB)\n",
      "Downloading jsonpatch-1.33-py2.py3-none-any.whl (12 kB)\n",
      "Downloading orjson-3.10.16-cp310-cp310-win_amd64.whl (133 kB)\n",
      "Downloading packaging-24.2-py3-none-any.whl (65 kB)\n",
      "Using cached requests_toolbelt-1.0.0-py2.py3-none-any.whl (54 kB)\n",
      "Using cached tenacity-9.1.2-py3-none-any.whl (28 kB)\n",
      "Using cached typing_inspection-0.4.0-py3-none-any.whl (14 kB)\n",
      "Downloading urllib3-2.4.0-py3-none-any.whl (128 kB)\n",
      "Downloading zstandard-0.23.0-cp310-cp310-win_amd64.whl (495 kB)\n",
      "Downloading jsonpointer-3.0.0-py2.py3-none-any.whl (7.6 kB)\n",
      "Using cached anyio-4.9.0-py3-none-any.whl (100 kB)\n",
      "Using cached h11-0.16.0-py3-none-any.whl (37 kB)\n",
      "Using cached sniffio-1.3.1-py3-none-any.whl (10 kB)\n",
      "Installing collected packages: zstandard, urllib3, typing-inspection, tenacity, sniffio, PyYAML, pydantic-core, packaging, orjson, jsonpointer, idna, h11, greenlet, charset-normalizer, certifi, async-timeout, annotated-types, SQLAlchemy, requests, pydantic, jsonpatch, httpcore, anyio, requests-toolbelt, httpx, langsmith, langchain-core, langchain-text-splitters, langchain\n",
      "  Attempting uninstall: packaging\n",
      "    Found existing installation: packaging 25.0\n",
      "    Uninstalling packaging-25.0:\n",
      "      Successfully uninstalled packaging-25.0\n",
      "Successfully installed PyYAML-6.0.2 SQLAlchemy-2.0.40 annotated-types-0.7.0 anyio-4.9.0 async-timeout-4.0.3 certifi-2025.4.26 charset-normalizer-3.4.1 greenlet-3.2.1 h11-0.16.0 httpcore-1.0.9 httpx-0.28.1 idna-3.10 jsonpatch-1.33 jsonpointer-3.0.0 langchain-0.3.24 langchain-core-0.3.56 langchain-text-splitters-0.3.8 langsmith-0.3.37 orjson-3.10.16 packaging-24.2 pydantic-2.11.3 pydantic-core-2.33.1 requests-2.32.3 requests-toolbelt-1.0.0 sniffio-1.3.1 tenacity-9.1.2 typing-inspection-0.4.0 urllib3-2.4.0 zstandard-0.23.0\n",
      "Collecting langchain-community\n",
      "  Using cached langchain_community-0.3.22-py3-none-any.whl.metadata (2.4 kB)\n",
      "Requirement already satisfied: langchain-core<1.0.0,>=0.3.55 in c:\\users\\admin\\miniconda3\\envs\\medibot\\lib\\site-packages (from langchain-community) (0.3.56)\n",
      "Requirement already satisfied: langchain<1.0.0,>=0.3.24 in c:\\users\\admin\\miniconda3\\envs\\medibot\\lib\\site-packages (from langchain-community) (0.3.24)\n",
      "Requirement already satisfied: SQLAlchemy<3,>=1.4 in c:\\users\\admin\\miniconda3\\envs\\medibot\\lib\\site-packages (from langchain-community) (2.0.40)\n",
      "Requirement already satisfied: requests<3,>=2 in c:\\users\\admin\\miniconda3\\envs\\medibot\\lib\\site-packages (from langchain-community) (2.32.3)\n",
      "Requirement already satisfied: PyYAML>=5.3 in c:\\users\\admin\\miniconda3\\envs\\medibot\\lib\\site-packages (from langchain-community) (6.0.2)\n",
      "Collecting aiohttp<4.0.0,>=3.8.3 (from langchain-community)\n",
      "  Downloading aiohttp-3.11.18-cp310-cp310-win_amd64.whl.metadata (8.0 kB)\n",
      "Requirement already satisfied: tenacity!=8.4.0,<10,>=8.1.0 in c:\\users\\admin\\miniconda3\\envs\\medibot\\lib\\site-packages (from langchain-community) (9.1.2)\n",
      "Collecting dataclasses-json<0.7,>=0.5.7 (from langchain-community)\n",
      "  Using cached dataclasses_json-0.6.7-py3-none-any.whl.metadata (25 kB)\n",
      "Collecting pydantic-settings<3.0.0,>=2.4.0 (from langchain-community)\n",
      "  Using cached pydantic_settings-2.9.1-py3-none-any.whl.metadata (3.8 kB)\n",
      "Requirement already satisfied: langsmith<0.4,>=0.1.125 in c:\\users\\admin\\miniconda3\\envs\\medibot\\lib\\site-packages (from langchain-community) (0.3.37)\n",
      "Collecting httpx-sse<1.0.0,>=0.4.0 (from langchain-community)\n",
      "  Using cached httpx_sse-0.4.0-py3-none-any.whl.metadata (9.0 kB)\n",
      "Collecting numpy>=1.26.2 (from langchain-community)\n",
      "  Downloading numpy-2.2.5-cp310-cp310-win_amd64.whl.metadata (60 kB)\n",
      "Collecting aiohappyeyeballs>=2.3.0 (from aiohttp<4.0.0,>=3.8.3->langchain-community)\n",
      "  Using cached aiohappyeyeballs-2.6.1-py3-none-any.whl.metadata (5.9 kB)\n",
      "Collecting aiosignal>=1.1.2 (from aiohttp<4.0.0,>=3.8.3->langchain-community)\n",
      "  Using cached aiosignal-1.3.2-py2.py3-none-any.whl.metadata (3.8 kB)\n",
      "Requirement already satisfied: async-timeout<6.0,>=4.0 in c:\\users\\admin\\miniconda3\\envs\\medibot\\lib\\site-packages (from aiohttp<4.0.0,>=3.8.3->langchain-community) (4.0.3)\n",
      "Collecting attrs>=17.3.0 (from aiohttp<4.0.0,>=3.8.3->langchain-community)\n",
      "  Using cached attrs-25.3.0-py3-none-any.whl.metadata (10 kB)\n",
      "Collecting frozenlist>=1.1.1 (from aiohttp<4.0.0,>=3.8.3->langchain-community)\n",
      "  Downloading frozenlist-1.6.0-cp310-cp310-win_amd64.whl.metadata (16 kB)\n",
      "Collecting multidict<7.0,>=4.5 (from aiohttp<4.0.0,>=3.8.3->langchain-community)\n",
      "  Downloading multidict-6.4.3-cp310-cp310-win_amd64.whl.metadata (5.5 kB)\n",
      "Collecting propcache>=0.2.0 (from aiohttp<4.0.0,>=3.8.3->langchain-community)\n",
      "  Downloading propcache-0.3.1-cp310-cp310-win_amd64.whl.metadata (11 kB)\n",
      "Collecting yarl<2.0,>=1.17.0 (from aiohttp<4.0.0,>=3.8.3->langchain-community)\n",
      "  Downloading yarl-1.20.0-cp310-cp310-win_amd64.whl.metadata (74 kB)\n",
      "Collecting marshmallow<4.0.0,>=3.18.0 (from dataclasses-json<0.7,>=0.5.7->langchain-community)\n",
      "  Using cached marshmallow-3.26.1-py3-none-any.whl.metadata (7.3 kB)\n",
      "Collecting typing-inspect<1,>=0.4.0 (from dataclasses-json<0.7,>=0.5.7->langchain-community)\n",
      "  Using cached typing_inspect-0.9.0-py3-none-any.whl.metadata (1.5 kB)\n",
      "Requirement already satisfied: langchain-text-splitters<1.0.0,>=0.3.8 in c:\\users\\admin\\miniconda3\\envs\\medibot\\lib\\site-packages (from langchain<1.0.0,>=0.3.24->langchain-community) (0.3.8)\n",
      "Requirement already satisfied: pydantic<3.0.0,>=2.7.4 in c:\\users\\admin\\miniconda3\\envs\\medibot\\lib\\site-packages (from langchain<1.0.0,>=0.3.24->langchain-community) (2.11.3)\n",
      "Requirement already satisfied: jsonpatch<2.0,>=1.33 in c:\\users\\admin\\miniconda3\\envs\\medibot\\lib\\site-packages (from langchain-core<1.0.0,>=0.3.55->langchain-community) (1.33)\n",
      "Requirement already satisfied: packaging<25,>=23.2 in c:\\users\\admin\\miniconda3\\envs\\medibot\\lib\\site-packages (from langchain-core<1.0.0,>=0.3.55->langchain-community) (24.2)\n",
      "Requirement already satisfied: typing-extensions>=4.7 in c:\\users\\admin\\miniconda3\\envs\\medibot\\lib\\site-packages (from langchain-core<1.0.0,>=0.3.55->langchain-community) (4.13.2)\n",
      "Requirement already satisfied: httpx<1,>=0.23.0 in c:\\users\\admin\\miniconda3\\envs\\medibot\\lib\\site-packages (from langsmith<0.4,>=0.1.125->langchain-community) (0.28.1)\n",
      "Requirement already satisfied: orjson<4.0.0,>=3.9.14 in c:\\users\\admin\\miniconda3\\envs\\medibot\\lib\\site-packages (from langsmith<0.4,>=0.1.125->langchain-community) (3.10.16)\n",
      "Requirement already satisfied: requests-toolbelt<2.0.0,>=1.0.0 in c:\\users\\admin\\miniconda3\\envs\\medibot\\lib\\site-packages (from langsmith<0.4,>=0.1.125->langchain-community) (1.0.0)\n",
      "Requirement already satisfied: zstandard<0.24.0,>=0.23.0 in c:\\users\\admin\\miniconda3\\envs\\medibot\\lib\\site-packages (from langsmith<0.4,>=0.1.125->langchain-community) (0.23.0)\n",
      "Collecting python-dotenv>=0.21.0 (from pydantic-settings<3.0.0,>=2.4.0->langchain-community)\n",
      "  Using cached python_dotenv-1.1.0-py3-none-any.whl.metadata (24 kB)\n",
      "Requirement already satisfied: typing-inspection>=0.4.0 in c:\\users\\admin\\miniconda3\\envs\\medibot\\lib\\site-packages (from pydantic-settings<3.0.0,>=2.4.0->langchain-community) (0.4.0)\n",
      "Requirement already satisfied: charset-normalizer<4,>=2 in c:\\users\\admin\\miniconda3\\envs\\medibot\\lib\\site-packages (from requests<3,>=2->langchain-community) (3.4.1)\n",
      "Requirement already satisfied: idna<4,>=2.5 in c:\\users\\admin\\miniconda3\\envs\\medibot\\lib\\site-packages (from requests<3,>=2->langchain-community) (3.10)\n",
      "Requirement already satisfied: urllib3<3,>=1.21.1 in c:\\users\\admin\\miniconda3\\envs\\medibot\\lib\\site-packages (from requests<3,>=2->langchain-community) (2.4.0)\n",
      "Requirement already satisfied: certifi>=2017.4.17 in c:\\users\\admin\\miniconda3\\envs\\medibot\\lib\\site-packages (from requests<3,>=2->langchain-community) (2025.4.26)\n",
      "Requirement already satisfied: greenlet>=1 in c:\\users\\admin\\miniconda3\\envs\\medibot\\lib\\site-packages (from SQLAlchemy<3,>=1.4->langchain-community) (3.2.1)\n",
      "Requirement already satisfied: anyio in c:\\users\\admin\\miniconda3\\envs\\medibot\\lib\\site-packages (from httpx<1,>=0.23.0->langsmith<0.4,>=0.1.125->langchain-community) (4.9.0)\n",
      "Requirement already satisfied: httpcore==1.* in c:\\users\\admin\\miniconda3\\envs\\medibot\\lib\\site-packages (from httpx<1,>=0.23.0->langsmith<0.4,>=0.1.125->langchain-community) (1.0.9)\n",
      "Requirement already satisfied: h11>=0.16 in c:\\users\\admin\\miniconda3\\envs\\medibot\\lib\\site-packages (from httpcore==1.*->httpx<1,>=0.23.0->langsmith<0.4,>=0.1.125->langchain-community) (0.16.0)\n",
      "Requirement already satisfied: jsonpointer>=1.9 in c:\\users\\admin\\miniconda3\\envs\\medibot\\lib\\site-packages (from jsonpatch<2.0,>=1.33->langchain-core<1.0.0,>=0.3.55->langchain-community) (3.0.0)\n",
      "Requirement already satisfied: annotated-types>=0.6.0 in c:\\users\\admin\\miniconda3\\envs\\medibot\\lib\\site-packages (from pydantic<3.0.0,>=2.7.4->langchain<1.0.0,>=0.3.24->langchain-community) (0.7.0)\n",
      "Requirement already satisfied: pydantic-core==2.33.1 in c:\\users\\admin\\miniconda3\\envs\\medibot\\lib\\site-packages (from pydantic<3.0.0,>=2.7.4->langchain<1.0.0,>=0.3.24->langchain-community) (2.33.1)\n",
      "Collecting mypy-extensions>=0.3.0 (from typing-inspect<1,>=0.4.0->dataclasses-json<0.7,>=0.5.7->langchain-community)\n",
      "  Using cached mypy_extensions-1.1.0-py3-none-any.whl.metadata (1.1 kB)\n",
      "Requirement already satisfied: exceptiongroup>=1.0.2 in c:\\users\\admin\\miniconda3\\envs\\medibot\\lib\\site-packages (from anyio->httpx<1,>=0.23.0->langsmith<0.4,>=0.1.125->langchain-community) (1.2.2)\n",
      "Requirement already satisfied: sniffio>=1.1 in c:\\users\\admin\\miniconda3\\envs\\medibot\\lib\\site-packages (from anyio->httpx<1,>=0.23.0->langsmith<0.4,>=0.1.125->langchain-community) (1.3.1)\n",
      "Using cached langchain_community-0.3.22-py3-none-any.whl (2.5 MB)\n",
      "Downloading aiohttp-3.11.18-cp310-cp310-win_amd64.whl (442 kB)\n",
      "Using cached dataclasses_json-0.6.7-py3-none-any.whl (28 kB)\n",
      "Using cached httpx_sse-0.4.0-py3-none-any.whl (7.8 kB)\n",
      "Downloading numpy-2.2.5-cp310-cp310-win_amd64.whl (12.9 MB)\n",
      "   ---------------------------------------- 0.0/12.9 MB ? eta -:--:--\n",
      "    --------------------------------------- 0.3/12.9 MB ? eta -:--:--\n",
      "   -- ------------------------------------- 0.8/12.9 MB 2.1 MB/s eta 0:00:06\n",
      "   ---- ----------------------------------- 1.3/12.9 MB 2.4 MB/s eta 0:00:05\n",
      "   ------ --------------------------------- 2.1/12.9 MB 2.6 MB/s eta 0:00:05\n",
      "   ------- -------------------------------- 2.4/12.9 MB 2.3 MB/s eta 0:00:05\n",
      "   -------- ------------------------------- 2.9/12.9 MB 2.4 MB/s eta 0:00:05\n",
      "   ----------- ---------------------------- 3.7/12.9 MB 2.6 MB/s eta 0:00:04\n",
      "   ------------- -------------------------- 4.5/12.9 MB 2.7 MB/s eta 0:00:04\n",
      "   ---------------- ----------------------- 5.2/12.9 MB 2.9 MB/s eta 0:00:03\n",
      "   ------------------ --------------------- 6.0/12.9 MB 3.0 MB/s eta 0:00:03\n",
      "   ------------------- -------------------- 6.3/12.9 MB 3.0 MB/s eta 0:00:03\n",
      "   --------------------- ------------------ 7.1/12.9 MB 2.9 MB/s eta 0:00:03\n",
      "   ------------------------ --------------- 7.9/12.9 MB 2.9 MB/s eta 0:00:02\n",
      "   -------------------------- ------------- 8.7/12.9 MB 3.0 MB/s eta 0:00:02\n",
      "   ---------------------------- ----------- 9.2/12.9 MB 3.0 MB/s eta 0:00:02\n",
      "   ------------------------------- -------- 10.2/12.9 MB 3.1 MB/s eta 0:00:01\n",
      "   -------------------------------- ------- 10.5/12.9 MB 3.1 MB/s eta 0:00:01\n",
      "   ----------------------------------- ---- 11.5/12.9 MB 3.1 MB/s eta 0:00:01\n",
      "   -------------------------------------- - 12.3/12.9 MB 3.1 MB/s eta 0:00:01\n",
      "   ---------------------------------------  12.8/12.9 MB 3.1 MB/s eta 0:00:01\n",
      "   ---------------------------------------- 12.9/12.9 MB 3.1 MB/s eta 0:00:00\n",
      "Using cached pydantic_settings-2.9.1-py3-none-any.whl (44 kB)\n",
      "Using cached aiohappyeyeballs-2.6.1-py3-none-any.whl (15 kB)\n",
      "Using cached aiosignal-1.3.2-py2.py3-none-any.whl (7.6 kB)\n",
      "Using cached attrs-25.3.0-py3-none-any.whl (63 kB)\n",
      "Downloading frozenlist-1.6.0-cp310-cp310-win_amd64.whl (120 kB)\n",
      "Using cached marshmallow-3.26.1-py3-none-any.whl (50 kB)\n",
      "Downloading multidict-6.4.3-cp310-cp310-win_amd64.whl (38 kB)\n",
      "Downloading propcache-0.3.1-cp310-cp310-win_amd64.whl (45 kB)\n",
      "Using cached python_dotenv-1.1.0-py3-none-any.whl (20 kB)\n",
      "Using cached typing_inspect-0.9.0-py3-none-any.whl (8.8 kB)\n",
      "Downloading yarl-1.20.0-cp310-cp310-win_amd64.whl (92 kB)\n",
      "Using cached mypy_extensions-1.1.0-py3-none-any.whl (5.0 kB)\n",
      "Installing collected packages: python-dotenv, propcache, numpy, mypy-extensions, multidict, marshmallow, httpx-sse, frozenlist, attrs, aiohappyeyeballs, yarl, typing-inspect, aiosignal, pydantic-settings, dataclasses-json, aiohttp, langchain-community\n",
      "Successfully installed aiohappyeyeballs-2.6.1 aiohttp-3.11.18 aiosignal-1.3.2 attrs-25.3.0 dataclasses-json-0.6.7 frozenlist-1.6.0 httpx-sse-0.4.0 langchain-community-0.3.22 marshmallow-3.26.1 multidict-6.4.3 mypy-extensions-1.1.0 numpy-2.2.5 propcache-0.3.1 pydantic-settings-2.9.1 python-dotenv-1.1.0 typing-inspect-0.9.0 yarl-1.20.0\n",
      "Collecting pypdf\n",
      "  Using cached pypdf-5.4.0-py3-none-any.whl.metadata (7.3 kB)\n",
      "Requirement already satisfied: typing_extensions>=4.0 in c:\\users\\admin\\miniconda3\\envs\\medibot\\lib\\site-packages (from pypdf) (4.13.2)\n",
      "Using cached pypdf-5.4.0-py3-none-any.whl (302 kB)\n",
      "Installing collected packages: pypdf\n",
      "Successfully installed pypdf-5.4.0\n"
     ]
    }
   ],
   "source": [
    "!pip install langchain\n",
    "!pip install langchain-community\n",
    "!pip install pypdf\n"
   ]
  },
  {
   "cell_type": "code",
   "execution_count": 25,
   "id": "563aae3c",
   "metadata": {},
   "outputs": [
    {
     "ename": "ModuleNotFoundError",
     "evalue": "No module named 'langchain.text_splitters'",
     "output_type": "error",
     "traceback": [
      "\u001b[1;31m---------------------------------------------------------------------------\u001b[0m",
      "\u001b[1;31mModuleNotFoundError\u001b[0m                       Traceback (most recent call last)",
      "Cell \u001b[1;32mIn[25], line 2\u001b[0m\n\u001b[0;32m      1\u001b[0m \u001b[38;5;28;01mfrom\u001b[39;00m\u001b[38;5;250m \u001b[39m\u001b[38;5;21;01mlangchain_community\u001b[39;00m\u001b[38;5;21;01m.\u001b[39;00m\u001b[38;5;21;01mdocument_loaders\u001b[39;00m\u001b[38;5;250m \u001b[39m\u001b[38;5;28;01mimport\u001b[39;00m PyPDFLoader, DirectoryLoader\n\u001b[1;32m----> 2\u001b[0m \u001b[38;5;28;01mfrom\u001b[39;00m\u001b[38;5;250m \u001b[39m\u001b[38;5;21;01mlangchain\u001b[39;00m\u001b[38;5;21;01m.\u001b[39;00m\u001b[38;5;21;01mtext_splitters\u001b[39;00m\u001b[38;5;250m \u001b[39m\u001b[38;5;28;01mimport\u001b[39;00m RecursiveCharacterTextSplitter\n",
      "\u001b[1;31mModuleNotFoundError\u001b[0m: No module named 'langchain.text_splitters'"
     ]
    }
   ],
   "source": [
    "from langchain_community.document_loaders import PyPDFLoader, DirectoryLoader\n",
    "from langchain.text_splitters import RecursiveCharacterTextSplitter\n"
   ]
  },
  {
   "cell_type": "code",
   "execution_count": 26,
   "id": "43552514",
   "metadata": {},
   "outputs": [],
   "source": [
    "from langchain.text_splitter import RecursiveCharacterTextSplitter\n"
   ]
  },
  {
   "cell_type": "code",
   "execution_count": 27,
   "id": "00daf4dd",
   "metadata": {},
   "outputs": [],
   "source": [
    "from langchain_community.document_loaders import PyPDFLoader, DirectoryLoader\n",
    "from langchain.text_splitter import RecursiveCharacterTextSplitter\n"
   ]
  },
  {
   "cell_type": "code",
   "execution_count": null,
   "id": "1fcac2a2",
   "metadata": {},
   "outputs": [],
   "source": [
    "def load_pdf(data):\n",
    "    loader = DirectoryLoader(data,\n",
    "                    glob=\"*.pdf\",\n",
    "                    loader_cls=PyPDFLoader)\n",
    "    \n",
    "    documents = loader.load()\n",
    "\n",
    "    return documents"
   ]
  },
  {
   "cell_type": "code",
   "execution_count": 29,
   "id": "c3eb74f9",
   "metadata": {},
   "outputs": [
    {
     "ename": "NameError",
     "evalue": "name 'load_pdf_flie' is not defined",
     "output_type": "error",
     "traceback": [
      "\u001b[1;31m---------------------------------------------------------------------------\u001b[0m",
      "\u001b[1;31mNameError\u001b[0m                                 Traceback (most recent call last)",
      "Cell \u001b[1;32mIn[29], line 1\u001b[0m\n\u001b[1;32m----> 1\u001b[0m extracted_data \u001b[38;5;241m=\u001b[39m \u001b[43mload_pdf_flie\u001b[49m(data\u001b[38;5;241m=\u001b[39m\u001b[38;5;124m'\u001b[39m\u001b[38;5;124mdata/\u001b[39m\u001b[38;5;124m'\u001b[39m)\n",
      "\u001b[1;31mNameError\u001b[0m: name 'load_pdf_flie' is not defined"
     ]
    }
   ],
   "source": [
    "extracted_data = load_pdf_flie(data='data/')"
   ]
  },
  {
   "cell_type": "code",
   "execution_count": 30,
   "id": "a2713e35",
   "metadata": {},
   "outputs": [
    {
     "ename": "NameError",
     "evalue": "name 'load_pdf_flie' is not defined",
     "output_type": "error",
     "traceback": [
      "\u001b[1;31m---------------------------------------------------------------------------\u001b[0m",
      "\u001b[1;31mNameError\u001b[0m                                 Traceback (most recent call last)",
      "Cell \u001b[1;32mIn[30], line 1\u001b[0m\n\u001b[1;32m----> 1\u001b[0m extracted_data \u001b[38;5;241m=\u001b[39m \u001b[43mload_pdf_flie\u001b[49m(data\u001b[38;5;241m=\u001b[39m\u001b[38;5;124m'\u001b[39m\u001b[38;5;124mData/\u001b[39m\u001b[38;5;124m'\u001b[39m)\n",
      "\u001b[1;31mNameError\u001b[0m: name 'load_pdf_flie' is not defined"
     ]
    }
   ],
   "source": [
    "extracted_data = load_pdf_flie(data='Data/')"
   ]
  },
  {
   "cell_type": "code",
   "execution_count": 31,
   "id": "6df9a5fe",
   "metadata": {},
   "outputs": [
    {
     "ename": "NameError",
     "evalue": "name 'load_pdf_flie' is not defined",
     "output_type": "error",
     "traceback": [
      "\u001b[1;31m---------------------------------------------------------------------------\u001b[0m",
      "\u001b[1;31mNameError\u001b[0m                                 Traceback (most recent call last)",
      "Cell \u001b[1;32mIn[31], line 1\u001b[0m\n\u001b[1;32m----> 1\u001b[0m extracted_data \u001b[38;5;241m=\u001b[39m \u001b[43mload_pdf_flie\u001b[49m(data\u001b[38;5;241m=\u001b[39m\u001b[38;5;124m'\u001b[39m\u001b[38;5;124mDATA/\u001b[39m\u001b[38;5;124m'\u001b[39m)\n",
      "\u001b[1;31mNameError\u001b[0m: name 'load_pdf_flie' is not defined"
     ]
    }
   ],
   "source": [
    "extracted_data = load_pdf_flie(data='DATA/')"
   ]
  },
  {
   "cell_type": "code",
   "execution_count": 32,
   "id": "d9c239e8",
   "metadata": {},
   "outputs": [
    {
     "ename": "NameError",
     "evalue": "name 'load_pdf_flie' is not defined",
     "output_type": "error",
     "traceback": [
      "\u001b[1;31m---------------------------------------------------------------------------\u001b[0m",
      "\u001b[1;31mNameError\u001b[0m                                 Traceback (most recent call last)",
      "Cell \u001b[1;32mIn[32], line 1\u001b[0m\n\u001b[1;32m----> 1\u001b[0m extracted_data\u001b[38;5;241m=\u001b[39m\u001b[43mload_pdf_flie\u001b[49m(data\u001b[38;5;241m=\u001b[39m\u001b[38;5;124m'\u001b[39m\u001b[38;5;124mDATA/\u001b[39m\u001b[38;5;124m'\u001b[39m)\n",
      "\u001b[1;31mNameError\u001b[0m: name 'load_pdf_flie' is not defined"
     ]
    }
   ],
   "source": [
    "extracted_data=load_pdf_flie(data='DATA/')"
   ]
  },
  {
   "cell_type": "code",
   "execution_count": 33,
   "id": "f9644e82",
   "metadata": {},
   "outputs": [
    {
     "ename": "NameError",
     "evalue": "name 'load_pdf_file' is not defined",
     "output_type": "error",
     "traceback": [
      "\u001b[1;31m---------------------------------------------------------------------------\u001b[0m",
      "\u001b[1;31mNameError\u001b[0m                                 Traceback (most recent call last)",
      "Cell \u001b[1;32mIn[33], line 1\u001b[0m\n\u001b[1;32m----> 1\u001b[0m extracted_data\u001b[38;5;241m=\u001b[39m\u001b[43mload_pdf_file\u001b[49m(data\u001b[38;5;241m=\u001b[39m\u001b[38;5;124m'\u001b[39m\u001b[38;5;124mDATA/\u001b[39m\u001b[38;5;124m'\u001b[39m)\n",
      "\u001b[1;31mNameError\u001b[0m: name 'load_pdf_file' is not defined"
     ]
    }
   ],
   "source": [
    "extracted_data=load_pdf_file(data='DATA/')"
   ]
  },
  {
   "cell_type": "code",
   "execution_count": 34,
   "id": "ed698a0c",
   "metadata": {},
   "outputs": [
    {
     "ename": "NameError",
     "evalue": "name 'load_pdf_file' is not defined",
     "output_type": "error",
     "traceback": [
      "\u001b[1;31m---------------------------------------------------------------------------\u001b[0m",
      "\u001b[1;31mNameError\u001b[0m                                 Traceback (most recent call last)",
      "Cell \u001b[1;32mIn[34], line 1\u001b[0m\n\u001b[1;32m----> 1\u001b[0m extracted_data\u001b[38;5;241m=\u001b[39m\u001b[43mload_pdf_file\u001b[49m(data\u001b[38;5;241m=\u001b[39m\u001b[38;5;124m'\u001b[39m\u001b[38;5;124mDATA/\u001b[39m\u001b[38;5;124m'\u001b[39m)\n",
      "\u001b[1;31mNameError\u001b[0m: name 'load_pdf_file' is not defined"
     ]
    }
   ],
   "source": [
    "extracted_data=load_pdf_file(data='DATA/')"
   ]
  },
  {
   "cell_type": "code",
   "execution_count": 35,
   "id": "1c77c2ca",
   "metadata": {},
   "outputs": [
    {
     "ename": "SyntaxError",
     "evalue": "incomplete input (2244181147.py, line 1)",
     "output_type": "error",
     "traceback": [
      "\u001b[1;36m  Cell \u001b[1;32mIn[35], line 1\u001b[1;36m\u001b[0m\n\u001b[1;33m    extracted_data=load_pdf(data='DATA/'\u001b[0m\n\u001b[1;37m                                        ^\u001b[0m\n\u001b[1;31mSyntaxError\u001b[0m\u001b[1;31m:\u001b[0m incomplete input\n"
     ]
    }
   ],
   "source": [
    "extracted_data=load_pdf(data='DATA/'"
   ]
  },
  {
   "cell_type": "code",
   "execution_count": 36,
   "id": "21c62a8f",
   "metadata": {},
   "outputs": [],
   "source": [
    "def load_pdf(data):\n",
    "    loader = DirectoryLoader(data,\n",
    "                    glob=\"*.pdf\",\n",
    "                    loader_cls=PyPDFLoader)\n",
    "    \n",
    "    documents = loader.load()\n",
    "\n",
    "    return documents"
   ]
  },
  {
   "cell_type": "code",
   "execution_count": 37,
   "id": "9c954236",
   "metadata": {},
   "outputs": [
    {
     "ename": "FileNotFoundError",
     "evalue": "Directory not found: 'DATA/'",
     "output_type": "error",
     "traceback": [
      "\u001b[1;31m---------------------------------------------------------------------------\u001b[0m",
      "\u001b[1;31mFileNotFoundError\u001b[0m                         Traceback (most recent call last)",
      "Cell \u001b[1;32mIn[37], line 1\u001b[0m\n\u001b[1;32m----> 1\u001b[0m extracted_data\u001b[38;5;241m=\u001b[39m\u001b[43mload_pdf\u001b[49m\u001b[43m(\u001b[49m\u001b[43mdata\u001b[49m\u001b[38;5;241;43m=\u001b[39;49m\u001b[38;5;124;43m'\u001b[39;49m\u001b[38;5;124;43mDATA/\u001b[39;49m\u001b[38;5;124;43m'\u001b[39;49m\u001b[43m)\u001b[49m\n",
      "Cell \u001b[1;32mIn[36], line 6\u001b[0m, in \u001b[0;36mload_pdf\u001b[1;34m(data)\u001b[0m\n\u001b[0;32m      1\u001b[0m \u001b[38;5;28;01mdef\u001b[39;00m\u001b[38;5;250m \u001b[39m\u001b[38;5;21mload_pdf\u001b[39m(data):\n\u001b[0;32m      2\u001b[0m     loader \u001b[38;5;241m=\u001b[39m DirectoryLoader(data,\n\u001b[0;32m      3\u001b[0m                     glob\u001b[38;5;241m=\u001b[39m\u001b[38;5;124m\"\u001b[39m\u001b[38;5;124m*.pdf\u001b[39m\u001b[38;5;124m\"\u001b[39m,\n\u001b[0;32m      4\u001b[0m                     loader_cls\u001b[38;5;241m=\u001b[39mPyPDFLoader)\n\u001b[1;32m----> 6\u001b[0m     documents \u001b[38;5;241m=\u001b[39m \u001b[43mloader\u001b[49m\u001b[38;5;241;43m.\u001b[39;49m\u001b[43mload\u001b[49m\u001b[43m(\u001b[49m\u001b[43m)\u001b[49m\n\u001b[0;32m      8\u001b[0m     \u001b[38;5;28;01mreturn\u001b[39;00m documents\n",
      "File \u001b[1;32mc:\\Users\\Admin\\miniconda3\\envs\\medibot\\lib\\site-packages\\langchain_community\\document_loaders\\directory.py:117\u001b[0m, in \u001b[0;36mDirectoryLoader.load\u001b[1;34m(self)\u001b[0m\n\u001b[0;32m    115\u001b[0m \u001b[38;5;28;01mdef\u001b[39;00m\u001b[38;5;250m \u001b[39m\u001b[38;5;21mload\u001b[39m(\u001b[38;5;28mself\u001b[39m) \u001b[38;5;241m-\u001b[39m\u001b[38;5;241m>\u001b[39m List[Document]:\n\u001b[0;32m    116\u001b[0m \u001b[38;5;250m    \u001b[39m\u001b[38;5;124;03m\"\"\"Load documents.\"\"\"\u001b[39;00m\n\u001b[1;32m--> 117\u001b[0m     \u001b[38;5;28;01mreturn\u001b[39;00m \u001b[38;5;28;43mlist\u001b[39;49m\u001b[43m(\u001b[49m\u001b[38;5;28;43mself\u001b[39;49m\u001b[38;5;241;43m.\u001b[39;49m\u001b[43mlazy_load\u001b[49m\u001b[43m(\u001b[49m\u001b[43m)\u001b[49m\u001b[43m)\u001b[49m\n",
      "File \u001b[1;32mc:\\Users\\Admin\\miniconda3\\envs\\medibot\\lib\\site-packages\\langchain_community\\document_loaders\\directory.py:123\u001b[0m, in \u001b[0;36mDirectoryLoader.lazy_load\u001b[1;34m(self)\u001b[0m\n\u001b[0;32m    121\u001b[0m p \u001b[38;5;241m=\u001b[39m Path(\u001b[38;5;28mself\u001b[39m\u001b[38;5;241m.\u001b[39mpath)\n\u001b[0;32m    122\u001b[0m \u001b[38;5;28;01mif\u001b[39;00m \u001b[38;5;129;01mnot\u001b[39;00m p\u001b[38;5;241m.\u001b[39mexists():\n\u001b[1;32m--> 123\u001b[0m     \u001b[38;5;28;01mraise\u001b[39;00m \u001b[38;5;167;01mFileNotFoundError\u001b[39;00m(\u001b[38;5;124mf\u001b[39m\u001b[38;5;124m\"\u001b[39m\u001b[38;5;124mDirectory not found: \u001b[39m\u001b[38;5;124m'\u001b[39m\u001b[38;5;132;01m{\u001b[39;00m\u001b[38;5;28mself\u001b[39m\u001b[38;5;241m.\u001b[39mpath\u001b[38;5;132;01m}\u001b[39;00m\u001b[38;5;124m'\u001b[39m\u001b[38;5;124m\"\u001b[39m)\n\u001b[0;32m    124\u001b[0m \u001b[38;5;28;01mif\u001b[39;00m \u001b[38;5;129;01mnot\u001b[39;00m p\u001b[38;5;241m.\u001b[39mis_dir():\n\u001b[0;32m    125\u001b[0m     \u001b[38;5;28;01mraise\u001b[39;00m \u001b[38;5;167;01mValueError\u001b[39;00m(\u001b[38;5;124mf\u001b[39m\u001b[38;5;124m\"\u001b[39m\u001b[38;5;124mExpected directory, got file: \u001b[39m\u001b[38;5;124m'\u001b[39m\u001b[38;5;132;01m{\u001b[39;00m\u001b[38;5;28mself\u001b[39m\u001b[38;5;241m.\u001b[39mpath\u001b[38;5;132;01m}\u001b[39;00m\u001b[38;5;124m'\u001b[39m\u001b[38;5;124m\"\u001b[39m)\n",
      "\u001b[1;31mFileNotFoundError\u001b[0m: Directory not found: 'DATA/'"
     ]
    }
   ],
   "source": [
    "extracted_data=load_pdf(data='DATA/')"
   ]
  },
  {
   "cell_type": "code",
   "execution_count": 38,
   "id": "9ba81a96",
   "metadata": {},
   "outputs": [],
   "source": [
    "def load_pdf(DATA):\n",
    "    loader = DirectoryLoader(DATA,\n",
    "                    glob=\"*.pdf\",\n",
    "                    loader_cls=PyPDFLoader)\n",
    "    \n",
    "    documents = loader.load()\n",
    "\n",
    "    return documents"
   ]
  },
  {
   "cell_type": "code",
   "execution_count": 39,
   "id": "c6806157",
   "metadata": {},
   "outputs": [
    {
     "ename": "FileNotFoundError",
     "evalue": "Directory not found: 'DATA/'",
     "output_type": "error",
     "traceback": [
      "\u001b[1;31m---------------------------------------------------------------------------\u001b[0m",
      "\u001b[1;31mFileNotFoundError\u001b[0m                         Traceback (most recent call last)",
      "Cell \u001b[1;32mIn[39], line 1\u001b[0m\n\u001b[1;32m----> 1\u001b[0m extracted_data\u001b[38;5;241m=\u001b[39m\u001b[43mload_pdf\u001b[49m\u001b[43m(\u001b[49m\u001b[43mDATA\u001b[49m\u001b[38;5;241;43m=\u001b[39;49m\u001b[38;5;124;43m'\u001b[39;49m\u001b[38;5;124;43mDATA/\u001b[39;49m\u001b[38;5;124;43m'\u001b[39;49m\u001b[43m)\u001b[49m\n",
      "Cell \u001b[1;32mIn[38], line 6\u001b[0m, in \u001b[0;36mload_pdf\u001b[1;34m(DATA)\u001b[0m\n\u001b[0;32m      1\u001b[0m \u001b[38;5;28;01mdef\u001b[39;00m\u001b[38;5;250m \u001b[39m\u001b[38;5;21mload_pdf\u001b[39m(DATA):\n\u001b[0;32m      2\u001b[0m     loader \u001b[38;5;241m=\u001b[39m DirectoryLoader(DATA,\n\u001b[0;32m      3\u001b[0m                     glob\u001b[38;5;241m=\u001b[39m\u001b[38;5;124m\"\u001b[39m\u001b[38;5;124m*.pdf\u001b[39m\u001b[38;5;124m\"\u001b[39m,\n\u001b[0;32m      4\u001b[0m                     loader_cls\u001b[38;5;241m=\u001b[39mPyPDFLoader)\n\u001b[1;32m----> 6\u001b[0m     documents \u001b[38;5;241m=\u001b[39m \u001b[43mloader\u001b[49m\u001b[38;5;241;43m.\u001b[39;49m\u001b[43mload\u001b[49m\u001b[43m(\u001b[49m\u001b[43m)\u001b[49m\n\u001b[0;32m      8\u001b[0m     \u001b[38;5;28;01mreturn\u001b[39;00m documents\n",
      "File \u001b[1;32mc:\\Users\\Admin\\miniconda3\\envs\\medibot\\lib\\site-packages\\langchain_community\\document_loaders\\directory.py:117\u001b[0m, in \u001b[0;36mDirectoryLoader.load\u001b[1;34m(self)\u001b[0m\n\u001b[0;32m    115\u001b[0m \u001b[38;5;28;01mdef\u001b[39;00m\u001b[38;5;250m \u001b[39m\u001b[38;5;21mload\u001b[39m(\u001b[38;5;28mself\u001b[39m) \u001b[38;5;241m-\u001b[39m\u001b[38;5;241m>\u001b[39m List[Document]:\n\u001b[0;32m    116\u001b[0m \u001b[38;5;250m    \u001b[39m\u001b[38;5;124;03m\"\"\"Load documents.\"\"\"\u001b[39;00m\n\u001b[1;32m--> 117\u001b[0m     \u001b[38;5;28;01mreturn\u001b[39;00m \u001b[38;5;28;43mlist\u001b[39;49m\u001b[43m(\u001b[49m\u001b[38;5;28;43mself\u001b[39;49m\u001b[38;5;241;43m.\u001b[39;49m\u001b[43mlazy_load\u001b[49m\u001b[43m(\u001b[49m\u001b[43m)\u001b[49m\u001b[43m)\u001b[49m\n",
      "File \u001b[1;32mc:\\Users\\Admin\\miniconda3\\envs\\medibot\\lib\\site-packages\\langchain_community\\document_loaders\\directory.py:123\u001b[0m, in \u001b[0;36mDirectoryLoader.lazy_load\u001b[1;34m(self)\u001b[0m\n\u001b[0;32m    121\u001b[0m p \u001b[38;5;241m=\u001b[39m Path(\u001b[38;5;28mself\u001b[39m\u001b[38;5;241m.\u001b[39mpath)\n\u001b[0;32m    122\u001b[0m \u001b[38;5;28;01mif\u001b[39;00m \u001b[38;5;129;01mnot\u001b[39;00m p\u001b[38;5;241m.\u001b[39mexists():\n\u001b[1;32m--> 123\u001b[0m     \u001b[38;5;28;01mraise\u001b[39;00m \u001b[38;5;167;01mFileNotFoundError\u001b[39;00m(\u001b[38;5;124mf\u001b[39m\u001b[38;5;124m\"\u001b[39m\u001b[38;5;124mDirectory not found: \u001b[39m\u001b[38;5;124m'\u001b[39m\u001b[38;5;132;01m{\u001b[39;00m\u001b[38;5;28mself\u001b[39m\u001b[38;5;241m.\u001b[39mpath\u001b[38;5;132;01m}\u001b[39;00m\u001b[38;5;124m'\u001b[39m\u001b[38;5;124m\"\u001b[39m)\n\u001b[0;32m    124\u001b[0m \u001b[38;5;28;01mif\u001b[39;00m \u001b[38;5;129;01mnot\u001b[39;00m p\u001b[38;5;241m.\u001b[39mis_dir():\n\u001b[0;32m    125\u001b[0m     \u001b[38;5;28;01mraise\u001b[39;00m \u001b[38;5;167;01mValueError\u001b[39;00m(\u001b[38;5;124mf\u001b[39m\u001b[38;5;124m\"\u001b[39m\u001b[38;5;124mExpected directory, got file: \u001b[39m\u001b[38;5;124m'\u001b[39m\u001b[38;5;132;01m{\u001b[39;00m\u001b[38;5;28mself\u001b[39m\u001b[38;5;241m.\u001b[39mpath\u001b[38;5;132;01m}\u001b[39;00m\u001b[38;5;124m'\u001b[39m\u001b[38;5;124m\"\u001b[39m)\n",
      "\u001b[1;31mFileNotFoundError\u001b[0m: Directory not found: 'DATA/'"
     ]
    }
   ],
   "source": [
    "extracted_data=load_pdf(DATA='DATA/')"
   ]
  },
  {
   "cell_type": "code",
   "execution_count": 40,
   "id": "87b0a9e8",
   "metadata": {},
   "outputs": [],
   "source": [
    "def load_pdf_file(data):\n",
    "    loader = DirectoryLoader(data,\n",
    "                    glob=\"*.pdf\",\n",
    "                    loader_cls=PyPDFLoader)\n",
    "    \n",
    "    documents = loader.load()\n",
    "\n",
    "    return documents"
   ]
  },
  {
   "cell_type": "code",
   "execution_count": 41,
   "id": "b45cd070",
   "metadata": {},
   "outputs": [
    {
     "ename": "FileNotFoundError",
     "evalue": "Directory not found: 'DATA/'",
     "output_type": "error",
     "traceback": [
      "\u001b[1;31m---------------------------------------------------------------------------\u001b[0m",
      "\u001b[1;31mFileNotFoundError\u001b[0m                         Traceback (most recent call last)",
      "Cell \u001b[1;32mIn[41], line 1\u001b[0m\n\u001b[1;32m----> 1\u001b[0m extracted_data\u001b[38;5;241m=\u001b[39m\u001b[43mload_pdf_file\u001b[49m\u001b[43m(\u001b[49m\u001b[43mdata\u001b[49m\u001b[38;5;241;43m=\u001b[39;49m\u001b[38;5;124;43m'\u001b[39;49m\u001b[38;5;124;43mDATA/\u001b[39;49m\u001b[38;5;124;43m'\u001b[39;49m\u001b[43m)\u001b[49m\n",
      "Cell \u001b[1;32mIn[40], line 6\u001b[0m, in \u001b[0;36mload_pdf_file\u001b[1;34m(data)\u001b[0m\n\u001b[0;32m      1\u001b[0m \u001b[38;5;28;01mdef\u001b[39;00m\u001b[38;5;250m \u001b[39m\u001b[38;5;21mload_pdf_file\u001b[39m(data):\n\u001b[0;32m      2\u001b[0m     loader \u001b[38;5;241m=\u001b[39m DirectoryLoader(data,\n\u001b[0;32m      3\u001b[0m                     glob\u001b[38;5;241m=\u001b[39m\u001b[38;5;124m\"\u001b[39m\u001b[38;5;124m*.pdf\u001b[39m\u001b[38;5;124m\"\u001b[39m,\n\u001b[0;32m      4\u001b[0m                     loader_cls\u001b[38;5;241m=\u001b[39mPyPDFLoader)\n\u001b[1;32m----> 6\u001b[0m     documents \u001b[38;5;241m=\u001b[39m \u001b[43mloader\u001b[49m\u001b[38;5;241;43m.\u001b[39;49m\u001b[43mload\u001b[49m\u001b[43m(\u001b[49m\u001b[43m)\u001b[49m\n\u001b[0;32m      8\u001b[0m     \u001b[38;5;28;01mreturn\u001b[39;00m documents\n",
      "File \u001b[1;32mc:\\Users\\Admin\\miniconda3\\envs\\medibot\\lib\\site-packages\\langchain_community\\document_loaders\\directory.py:117\u001b[0m, in \u001b[0;36mDirectoryLoader.load\u001b[1;34m(self)\u001b[0m\n\u001b[0;32m    115\u001b[0m \u001b[38;5;28;01mdef\u001b[39;00m\u001b[38;5;250m \u001b[39m\u001b[38;5;21mload\u001b[39m(\u001b[38;5;28mself\u001b[39m) \u001b[38;5;241m-\u001b[39m\u001b[38;5;241m>\u001b[39m List[Document]:\n\u001b[0;32m    116\u001b[0m \u001b[38;5;250m    \u001b[39m\u001b[38;5;124;03m\"\"\"Load documents.\"\"\"\u001b[39;00m\n\u001b[1;32m--> 117\u001b[0m     \u001b[38;5;28;01mreturn\u001b[39;00m \u001b[38;5;28;43mlist\u001b[39;49m\u001b[43m(\u001b[49m\u001b[38;5;28;43mself\u001b[39;49m\u001b[38;5;241;43m.\u001b[39;49m\u001b[43mlazy_load\u001b[49m\u001b[43m(\u001b[49m\u001b[43m)\u001b[49m\u001b[43m)\u001b[49m\n",
      "File \u001b[1;32mc:\\Users\\Admin\\miniconda3\\envs\\medibot\\lib\\site-packages\\langchain_community\\document_loaders\\directory.py:123\u001b[0m, in \u001b[0;36mDirectoryLoader.lazy_load\u001b[1;34m(self)\u001b[0m\n\u001b[0;32m    121\u001b[0m p \u001b[38;5;241m=\u001b[39m Path(\u001b[38;5;28mself\u001b[39m\u001b[38;5;241m.\u001b[39mpath)\n\u001b[0;32m    122\u001b[0m \u001b[38;5;28;01mif\u001b[39;00m \u001b[38;5;129;01mnot\u001b[39;00m p\u001b[38;5;241m.\u001b[39mexists():\n\u001b[1;32m--> 123\u001b[0m     \u001b[38;5;28;01mraise\u001b[39;00m \u001b[38;5;167;01mFileNotFoundError\u001b[39;00m(\u001b[38;5;124mf\u001b[39m\u001b[38;5;124m\"\u001b[39m\u001b[38;5;124mDirectory not found: \u001b[39m\u001b[38;5;124m'\u001b[39m\u001b[38;5;132;01m{\u001b[39;00m\u001b[38;5;28mself\u001b[39m\u001b[38;5;241m.\u001b[39mpath\u001b[38;5;132;01m}\u001b[39;00m\u001b[38;5;124m'\u001b[39m\u001b[38;5;124m\"\u001b[39m)\n\u001b[0;32m    124\u001b[0m \u001b[38;5;28;01mif\u001b[39;00m \u001b[38;5;129;01mnot\u001b[39;00m p\u001b[38;5;241m.\u001b[39mis_dir():\n\u001b[0;32m    125\u001b[0m     \u001b[38;5;28;01mraise\u001b[39;00m \u001b[38;5;167;01mValueError\u001b[39;00m(\u001b[38;5;124mf\u001b[39m\u001b[38;5;124m\"\u001b[39m\u001b[38;5;124mExpected directory, got file: \u001b[39m\u001b[38;5;124m'\u001b[39m\u001b[38;5;132;01m{\u001b[39;00m\u001b[38;5;28mself\u001b[39m\u001b[38;5;241m.\u001b[39mpath\u001b[38;5;132;01m}\u001b[39;00m\u001b[38;5;124m'\u001b[39m\u001b[38;5;124m\"\u001b[39m)\n",
      "\u001b[1;31mFileNotFoundError\u001b[0m: Directory not found: 'DATA/'"
     ]
    }
   ],
   "source": [
    "extracted_data=load_pdf_file(data='DATA/')"
   ]
  },
  {
   "cell_type": "code",
   "execution_count": 42,
   "id": "72c096c9",
   "metadata": {},
   "outputs": [
    {
     "ename": "FileNotFoundError",
     "evalue": "Directory not found: 'DATA/'",
     "output_type": "error",
     "traceback": [
      "\u001b[1;31m---------------------------------------------------------------------------\u001b[0m",
      "\u001b[1;31mFileNotFoundError\u001b[0m                         Traceback (most recent call last)",
      "Cell \u001b[1;32mIn[42], line 1\u001b[0m\n\u001b[1;32m----> 1\u001b[0m extracted_data \u001b[38;5;241m=\u001b[39m \u001b[43mload_pdf\u001b[49m\u001b[43m(\u001b[49m\u001b[38;5;124;43m\"\u001b[39;49m\u001b[38;5;124;43mDATA/\u001b[39;49m\u001b[38;5;124;43m\"\u001b[39;49m\u001b[43m)\u001b[49m\n",
      "Cell \u001b[1;32mIn[38], line 6\u001b[0m, in \u001b[0;36mload_pdf\u001b[1;34m(DATA)\u001b[0m\n\u001b[0;32m      1\u001b[0m \u001b[38;5;28;01mdef\u001b[39;00m\u001b[38;5;250m \u001b[39m\u001b[38;5;21mload_pdf\u001b[39m(DATA):\n\u001b[0;32m      2\u001b[0m     loader \u001b[38;5;241m=\u001b[39m DirectoryLoader(DATA,\n\u001b[0;32m      3\u001b[0m                     glob\u001b[38;5;241m=\u001b[39m\u001b[38;5;124m\"\u001b[39m\u001b[38;5;124m*.pdf\u001b[39m\u001b[38;5;124m\"\u001b[39m,\n\u001b[0;32m      4\u001b[0m                     loader_cls\u001b[38;5;241m=\u001b[39mPyPDFLoader)\n\u001b[1;32m----> 6\u001b[0m     documents \u001b[38;5;241m=\u001b[39m \u001b[43mloader\u001b[49m\u001b[38;5;241;43m.\u001b[39;49m\u001b[43mload\u001b[49m\u001b[43m(\u001b[49m\u001b[43m)\u001b[49m\n\u001b[0;32m      8\u001b[0m     \u001b[38;5;28;01mreturn\u001b[39;00m documents\n",
      "File \u001b[1;32mc:\\Users\\Admin\\miniconda3\\envs\\medibot\\lib\\site-packages\\langchain_community\\document_loaders\\directory.py:117\u001b[0m, in \u001b[0;36mDirectoryLoader.load\u001b[1;34m(self)\u001b[0m\n\u001b[0;32m    115\u001b[0m \u001b[38;5;28;01mdef\u001b[39;00m\u001b[38;5;250m \u001b[39m\u001b[38;5;21mload\u001b[39m(\u001b[38;5;28mself\u001b[39m) \u001b[38;5;241m-\u001b[39m\u001b[38;5;241m>\u001b[39m List[Document]:\n\u001b[0;32m    116\u001b[0m \u001b[38;5;250m    \u001b[39m\u001b[38;5;124;03m\"\"\"Load documents.\"\"\"\u001b[39;00m\n\u001b[1;32m--> 117\u001b[0m     \u001b[38;5;28;01mreturn\u001b[39;00m \u001b[38;5;28;43mlist\u001b[39;49m\u001b[43m(\u001b[49m\u001b[38;5;28;43mself\u001b[39;49m\u001b[38;5;241;43m.\u001b[39;49m\u001b[43mlazy_load\u001b[49m\u001b[43m(\u001b[49m\u001b[43m)\u001b[49m\u001b[43m)\u001b[49m\n",
      "File \u001b[1;32mc:\\Users\\Admin\\miniconda3\\envs\\medibot\\lib\\site-packages\\langchain_community\\document_loaders\\directory.py:123\u001b[0m, in \u001b[0;36mDirectoryLoader.lazy_load\u001b[1;34m(self)\u001b[0m\n\u001b[0;32m    121\u001b[0m p \u001b[38;5;241m=\u001b[39m Path(\u001b[38;5;28mself\u001b[39m\u001b[38;5;241m.\u001b[39mpath)\n\u001b[0;32m    122\u001b[0m \u001b[38;5;28;01mif\u001b[39;00m \u001b[38;5;129;01mnot\u001b[39;00m p\u001b[38;5;241m.\u001b[39mexists():\n\u001b[1;32m--> 123\u001b[0m     \u001b[38;5;28;01mraise\u001b[39;00m \u001b[38;5;167;01mFileNotFoundError\u001b[39;00m(\u001b[38;5;124mf\u001b[39m\u001b[38;5;124m\"\u001b[39m\u001b[38;5;124mDirectory not found: \u001b[39m\u001b[38;5;124m'\u001b[39m\u001b[38;5;132;01m{\u001b[39;00m\u001b[38;5;28mself\u001b[39m\u001b[38;5;241m.\u001b[39mpath\u001b[38;5;132;01m}\u001b[39;00m\u001b[38;5;124m'\u001b[39m\u001b[38;5;124m\"\u001b[39m)\n\u001b[0;32m    124\u001b[0m \u001b[38;5;28;01mif\u001b[39;00m \u001b[38;5;129;01mnot\u001b[39;00m p\u001b[38;5;241m.\u001b[39mis_dir():\n\u001b[0;32m    125\u001b[0m     \u001b[38;5;28;01mraise\u001b[39;00m \u001b[38;5;167;01mValueError\u001b[39;00m(\u001b[38;5;124mf\u001b[39m\u001b[38;5;124m\"\u001b[39m\u001b[38;5;124mExpected directory, got file: \u001b[39m\u001b[38;5;124m'\u001b[39m\u001b[38;5;132;01m{\u001b[39;00m\u001b[38;5;28mself\u001b[39m\u001b[38;5;241m.\u001b[39mpath\u001b[38;5;132;01m}\u001b[39;00m\u001b[38;5;124m'\u001b[39m\u001b[38;5;124m\"\u001b[39m)\n",
      "\u001b[1;31mFileNotFoundError\u001b[0m: Directory not found: 'DATA/'"
     ]
    }
   ],
   "source": [
    "extracted_data = load_pdf(\"DATA/\")"
   ]
  },
  {
   "cell_type": "code",
   "execution_count": 43,
   "id": "eaf3d613",
   "metadata": {},
   "outputs": [],
   "source": [
    "def load_pdf_file(data):\n",
    "    loader = DirectoryLoader(data,\n",
    "                    glob=\"*.pdf\",\n",
    "                    loader_cls=PyPDFLoader)\n",
    "    \n",
    "    documents = loader.load()\n",
    "\n",
    "    return documents"
   ]
  },
  {
   "cell_type": "code",
   "execution_count": 44,
   "id": "988fee24",
   "metadata": {},
   "outputs": [
    {
     "ename": "FileNotFoundError",
     "evalue": "Directory not found: 'DATA/'",
     "output_type": "error",
     "traceback": [
      "\u001b[1;31m---------------------------------------------------------------------------\u001b[0m",
      "\u001b[1;31mFileNotFoundError\u001b[0m                         Traceback (most recent call last)",
      "Cell \u001b[1;32mIn[44], line 1\u001b[0m\n\u001b[1;32m----> 1\u001b[0m extracted_data\u001b[38;5;241m=\u001b[39m\u001b[43mload_pdf_file\u001b[49m\u001b[43m(\u001b[49m\u001b[43mdata\u001b[49m\u001b[38;5;241;43m=\u001b[39;49m\u001b[38;5;124;43m'\u001b[39;49m\u001b[38;5;124;43mDATA/\u001b[39;49m\u001b[38;5;124;43m'\u001b[39;49m\u001b[43m)\u001b[49m\n",
      "Cell \u001b[1;32mIn[43], line 6\u001b[0m, in \u001b[0;36mload_pdf_file\u001b[1;34m(data)\u001b[0m\n\u001b[0;32m      1\u001b[0m \u001b[38;5;28;01mdef\u001b[39;00m\u001b[38;5;250m \u001b[39m\u001b[38;5;21mload_pdf_file\u001b[39m(data):\n\u001b[0;32m      2\u001b[0m     loader \u001b[38;5;241m=\u001b[39m DirectoryLoader(data,\n\u001b[0;32m      3\u001b[0m                     glob\u001b[38;5;241m=\u001b[39m\u001b[38;5;124m\"\u001b[39m\u001b[38;5;124m*.pdf\u001b[39m\u001b[38;5;124m\"\u001b[39m,\n\u001b[0;32m      4\u001b[0m                     loader_cls\u001b[38;5;241m=\u001b[39mPyPDFLoader)\n\u001b[1;32m----> 6\u001b[0m     documents \u001b[38;5;241m=\u001b[39m \u001b[43mloader\u001b[49m\u001b[38;5;241;43m.\u001b[39;49m\u001b[43mload\u001b[49m\u001b[43m(\u001b[49m\u001b[43m)\u001b[49m\n\u001b[0;32m      8\u001b[0m     \u001b[38;5;28;01mreturn\u001b[39;00m documents\n",
      "File \u001b[1;32mc:\\Users\\Admin\\miniconda3\\envs\\medibot\\lib\\site-packages\\langchain_community\\document_loaders\\directory.py:117\u001b[0m, in \u001b[0;36mDirectoryLoader.load\u001b[1;34m(self)\u001b[0m\n\u001b[0;32m    115\u001b[0m \u001b[38;5;28;01mdef\u001b[39;00m\u001b[38;5;250m \u001b[39m\u001b[38;5;21mload\u001b[39m(\u001b[38;5;28mself\u001b[39m) \u001b[38;5;241m-\u001b[39m\u001b[38;5;241m>\u001b[39m List[Document]:\n\u001b[0;32m    116\u001b[0m \u001b[38;5;250m    \u001b[39m\u001b[38;5;124;03m\"\"\"Load documents.\"\"\"\u001b[39;00m\n\u001b[1;32m--> 117\u001b[0m     \u001b[38;5;28;01mreturn\u001b[39;00m \u001b[38;5;28;43mlist\u001b[39;49m\u001b[43m(\u001b[49m\u001b[38;5;28;43mself\u001b[39;49m\u001b[38;5;241;43m.\u001b[39;49m\u001b[43mlazy_load\u001b[49m\u001b[43m(\u001b[49m\u001b[43m)\u001b[49m\u001b[43m)\u001b[49m\n",
      "File \u001b[1;32mc:\\Users\\Admin\\miniconda3\\envs\\medibot\\lib\\site-packages\\langchain_community\\document_loaders\\directory.py:123\u001b[0m, in \u001b[0;36mDirectoryLoader.lazy_load\u001b[1;34m(self)\u001b[0m\n\u001b[0;32m    121\u001b[0m p \u001b[38;5;241m=\u001b[39m Path(\u001b[38;5;28mself\u001b[39m\u001b[38;5;241m.\u001b[39mpath)\n\u001b[0;32m    122\u001b[0m \u001b[38;5;28;01mif\u001b[39;00m \u001b[38;5;129;01mnot\u001b[39;00m p\u001b[38;5;241m.\u001b[39mexists():\n\u001b[1;32m--> 123\u001b[0m     \u001b[38;5;28;01mraise\u001b[39;00m \u001b[38;5;167;01mFileNotFoundError\u001b[39;00m(\u001b[38;5;124mf\u001b[39m\u001b[38;5;124m\"\u001b[39m\u001b[38;5;124mDirectory not found: \u001b[39m\u001b[38;5;124m'\u001b[39m\u001b[38;5;132;01m{\u001b[39;00m\u001b[38;5;28mself\u001b[39m\u001b[38;5;241m.\u001b[39mpath\u001b[38;5;132;01m}\u001b[39;00m\u001b[38;5;124m'\u001b[39m\u001b[38;5;124m\"\u001b[39m)\n\u001b[0;32m    124\u001b[0m \u001b[38;5;28;01mif\u001b[39;00m \u001b[38;5;129;01mnot\u001b[39;00m p\u001b[38;5;241m.\u001b[39mis_dir():\n\u001b[0;32m    125\u001b[0m     \u001b[38;5;28;01mraise\u001b[39;00m \u001b[38;5;167;01mValueError\u001b[39;00m(\u001b[38;5;124mf\u001b[39m\u001b[38;5;124m\"\u001b[39m\u001b[38;5;124mExpected directory, got file: \u001b[39m\u001b[38;5;124m'\u001b[39m\u001b[38;5;132;01m{\u001b[39;00m\u001b[38;5;28mself\u001b[39m\u001b[38;5;241m.\u001b[39mpath\u001b[38;5;132;01m}\u001b[39;00m\u001b[38;5;124m'\u001b[39m\u001b[38;5;124m\"\u001b[39m)\n",
      "\u001b[1;31mFileNotFoundError\u001b[0m: Directory not found: 'DATA/'"
     ]
    }
   ],
   "source": [
    "extracted_data=load_pdf_file(data='DATA/')"
   ]
  },
  {
   "cell_type": "code",
   "execution_count": 45,
   "id": "91663118",
   "metadata": {},
   "outputs": [
    {
     "ename": "FileNotFoundError",
     "evalue": "Directory not found: '../DATA/'",
     "output_type": "error",
     "traceback": [
      "\u001b[1;31m---------------------------------------------------------------------------\u001b[0m",
      "\u001b[1;31mFileNotFoundError\u001b[0m                         Traceback (most recent call last)",
      "Cell \u001b[1;32mIn[45], line 1\u001b[0m\n\u001b[1;32m----> 1\u001b[0m extracted_data \u001b[38;5;241m=\u001b[39m \u001b[43mload_pdf_file\u001b[49m\u001b[43m(\u001b[49m\u001b[43mdata\u001b[49m\u001b[38;5;241;43m=\u001b[39;49m\u001b[38;5;124;43m'\u001b[39;49m\u001b[38;5;124;43m../DATA/\u001b[39;49m\u001b[38;5;124;43m'\u001b[39;49m\u001b[43m)\u001b[49m\n",
      "Cell \u001b[1;32mIn[43], line 6\u001b[0m, in \u001b[0;36mload_pdf_file\u001b[1;34m(data)\u001b[0m\n\u001b[0;32m      1\u001b[0m \u001b[38;5;28;01mdef\u001b[39;00m\u001b[38;5;250m \u001b[39m\u001b[38;5;21mload_pdf_file\u001b[39m(data):\n\u001b[0;32m      2\u001b[0m     loader \u001b[38;5;241m=\u001b[39m DirectoryLoader(data,\n\u001b[0;32m      3\u001b[0m                     glob\u001b[38;5;241m=\u001b[39m\u001b[38;5;124m\"\u001b[39m\u001b[38;5;124m*.pdf\u001b[39m\u001b[38;5;124m\"\u001b[39m,\n\u001b[0;32m      4\u001b[0m                     loader_cls\u001b[38;5;241m=\u001b[39mPyPDFLoader)\n\u001b[1;32m----> 6\u001b[0m     documents \u001b[38;5;241m=\u001b[39m \u001b[43mloader\u001b[49m\u001b[38;5;241;43m.\u001b[39;49m\u001b[43mload\u001b[49m\u001b[43m(\u001b[49m\u001b[43m)\u001b[49m\n\u001b[0;32m      8\u001b[0m     \u001b[38;5;28;01mreturn\u001b[39;00m documents\n",
      "File \u001b[1;32mc:\\Users\\Admin\\miniconda3\\envs\\medibot\\lib\\site-packages\\langchain_community\\document_loaders\\directory.py:117\u001b[0m, in \u001b[0;36mDirectoryLoader.load\u001b[1;34m(self)\u001b[0m\n\u001b[0;32m    115\u001b[0m \u001b[38;5;28;01mdef\u001b[39;00m\u001b[38;5;250m \u001b[39m\u001b[38;5;21mload\u001b[39m(\u001b[38;5;28mself\u001b[39m) \u001b[38;5;241m-\u001b[39m\u001b[38;5;241m>\u001b[39m List[Document]:\n\u001b[0;32m    116\u001b[0m \u001b[38;5;250m    \u001b[39m\u001b[38;5;124;03m\"\"\"Load documents.\"\"\"\u001b[39;00m\n\u001b[1;32m--> 117\u001b[0m     \u001b[38;5;28;01mreturn\u001b[39;00m \u001b[38;5;28;43mlist\u001b[39;49m\u001b[43m(\u001b[49m\u001b[38;5;28;43mself\u001b[39;49m\u001b[38;5;241;43m.\u001b[39;49m\u001b[43mlazy_load\u001b[49m\u001b[43m(\u001b[49m\u001b[43m)\u001b[49m\u001b[43m)\u001b[49m\n",
      "File \u001b[1;32mc:\\Users\\Admin\\miniconda3\\envs\\medibot\\lib\\site-packages\\langchain_community\\document_loaders\\directory.py:123\u001b[0m, in \u001b[0;36mDirectoryLoader.lazy_load\u001b[1;34m(self)\u001b[0m\n\u001b[0;32m    121\u001b[0m p \u001b[38;5;241m=\u001b[39m Path(\u001b[38;5;28mself\u001b[39m\u001b[38;5;241m.\u001b[39mpath)\n\u001b[0;32m    122\u001b[0m \u001b[38;5;28;01mif\u001b[39;00m \u001b[38;5;129;01mnot\u001b[39;00m p\u001b[38;5;241m.\u001b[39mexists():\n\u001b[1;32m--> 123\u001b[0m     \u001b[38;5;28;01mraise\u001b[39;00m \u001b[38;5;167;01mFileNotFoundError\u001b[39;00m(\u001b[38;5;124mf\u001b[39m\u001b[38;5;124m\"\u001b[39m\u001b[38;5;124mDirectory not found: \u001b[39m\u001b[38;5;124m'\u001b[39m\u001b[38;5;132;01m{\u001b[39;00m\u001b[38;5;28mself\u001b[39m\u001b[38;5;241m.\u001b[39mpath\u001b[38;5;132;01m}\u001b[39;00m\u001b[38;5;124m'\u001b[39m\u001b[38;5;124m\"\u001b[39m)\n\u001b[0;32m    124\u001b[0m \u001b[38;5;28;01mif\u001b[39;00m \u001b[38;5;129;01mnot\u001b[39;00m p\u001b[38;5;241m.\u001b[39mis_dir():\n\u001b[0;32m    125\u001b[0m     \u001b[38;5;28;01mraise\u001b[39;00m \u001b[38;5;167;01mValueError\u001b[39;00m(\u001b[38;5;124mf\u001b[39m\u001b[38;5;124m\"\u001b[39m\u001b[38;5;124mExpected directory, got file: \u001b[39m\u001b[38;5;124m'\u001b[39m\u001b[38;5;132;01m{\u001b[39;00m\u001b[38;5;28mself\u001b[39m\u001b[38;5;241m.\u001b[39mpath\u001b[38;5;132;01m}\u001b[39;00m\u001b[38;5;124m'\u001b[39m\u001b[38;5;124m\"\u001b[39m)\n",
      "\u001b[1;31mFileNotFoundError\u001b[0m: Directory not found: '../DATA/'"
     ]
    }
   ],
   "source": [
    "extracted_data = load_pdf_file(data='../DATA/')"
   ]
  },
  {
   "cell_type": "code",
   "execution_count": 46,
   "id": "6be52254",
   "metadata": {},
   "outputs": [
    {
     "ename": "SyntaxError",
     "evalue": "invalid character '├' (U+251C) (1498149523.py, line 2)",
     "output_type": "error",
     "traceback": [
      "\u001b[1;36m  Cell \u001b[1;32mIn[46], line 2\u001b[1;36m\u001b[0m\n\u001b[1;33m    ├── DATA/           <-- PDF files go here\u001b[0m\n\u001b[1;37m    ^\u001b[0m\n\u001b[1;31mSyntaxError\u001b[0m\u001b[1;31m:\u001b[0m invalid character '├' (U+251C)\n"
     ]
    }
   ],
   "source": [
    "your_project/  \n",
    "├── DATA/           <-- PDF files go here  \n",
    "├── research/  \n",
    "│   ├── trials.ipynb  \n",
    "│   └── ...  "
   ]
  },
  {
   "cell_type": "code",
   "execution_count": 47,
   "id": "3abaaf4d",
   "metadata": {},
   "outputs": [
    {
     "name": "stdout",
     "output_type": "stream",
     "text": [
      "Current Directory: c:\\matricare\\MatriCare\n"
     ]
    }
   ],
   "source": [
    "import os\n",
    "print(\"Current Directory:\", os.getcwd())  # Check this FIRST"
   ]
  },
  {
   "cell_type": "code",
   "execution_count": 48,
   "id": "8afcc047",
   "metadata": {},
   "outputs": [
    {
     "ename": "FileNotFoundError",
     "evalue": "Directory not found: 'c:\\matricare\\MatriCare/DATA/'",
     "output_type": "error",
     "traceback": [
      "\u001b[1;31m---------------------------------------------------------------------------\u001b[0m",
      "\u001b[1;31mFileNotFoundError\u001b[0m                         Traceback (most recent call last)",
      "Cell \u001b[1;32mIn[48], line 1\u001b[0m\n\u001b[1;32m----> 1\u001b[0m extracted_data \u001b[38;5;241m=\u001b[39m \u001b[43mload_pdf_file\u001b[49m\u001b[43m(\u001b[49m\u001b[43mdata\u001b[49m\u001b[38;5;241;43m=\u001b[39;49m\u001b[38;5;124;43m'\u001b[39;49m\u001b[38;5;124;43mc:\u001b[39;49m\u001b[38;5;124;43m\\\u001b[39;49m\u001b[38;5;124;43mmatricare\u001b[39;49m\u001b[38;5;124;43m\\\u001b[39;49m\u001b[38;5;124;43mMatriCare/DATA/\u001b[39;49m\u001b[38;5;124;43m'\u001b[39;49m\u001b[43m)\u001b[49m\n",
      "Cell \u001b[1;32mIn[43], line 6\u001b[0m, in \u001b[0;36mload_pdf_file\u001b[1;34m(data)\u001b[0m\n\u001b[0;32m      1\u001b[0m \u001b[38;5;28;01mdef\u001b[39;00m\u001b[38;5;250m \u001b[39m\u001b[38;5;21mload_pdf_file\u001b[39m(data):\n\u001b[0;32m      2\u001b[0m     loader \u001b[38;5;241m=\u001b[39m DirectoryLoader(data,\n\u001b[0;32m      3\u001b[0m                     glob\u001b[38;5;241m=\u001b[39m\u001b[38;5;124m\"\u001b[39m\u001b[38;5;124m*.pdf\u001b[39m\u001b[38;5;124m\"\u001b[39m,\n\u001b[0;32m      4\u001b[0m                     loader_cls\u001b[38;5;241m=\u001b[39mPyPDFLoader)\n\u001b[1;32m----> 6\u001b[0m     documents \u001b[38;5;241m=\u001b[39m \u001b[43mloader\u001b[49m\u001b[38;5;241;43m.\u001b[39;49m\u001b[43mload\u001b[49m\u001b[43m(\u001b[49m\u001b[43m)\u001b[49m\n\u001b[0;32m      8\u001b[0m     \u001b[38;5;28;01mreturn\u001b[39;00m documents\n",
      "File \u001b[1;32mc:\\Users\\Admin\\miniconda3\\envs\\medibot\\lib\\site-packages\\langchain_community\\document_loaders\\directory.py:117\u001b[0m, in \u001b[0;36mDirectoryLoader.load\u001b[1;34m(self)\u001b[0m\n\u001b[0;32m    115\u001b[0m \u001b[38;5;28;01mdef\u001b[39;00m\u001b[38;5;250m \u001b[39m\u001b[38;5;21mload\u001b[39m(\u001b[38;5;28mself\u001b[39m) \u001b[38;5;241m-\u001b[39m\u001b[38;5;241m>\u001b[39m List[Document]:\n\u001b[0;32m    116\u001b[0m \u001b[38;5;250m    \u001b[39m\u001b[38;5;124;03m\"\"\"Load documents.\"\"\"\u001b[39;00m\n\u001b[1;32m--> 117\u001b[0m     \u001b[38;5;28;01mreturn\u001b[39;00m \u001b[38;5;28;43mlist\u001b[39;49m\u001b[43m(\u001b[49m\u001b[38;5;28;43mself\u001b[39;49m\u001b[38;5;241;43m.\u001b[39;49m\u001b[43mlazy_load\u001b[49m\u001b[43m(\u001b[49m\u001b[43m)\u001b[49m\u001b[43m)\u001b[49m\n",
      "File \u001b[1;32mc:\\Users\\Admin\\miniconda3\\envs\\medibot\\lib\\site-packages\\langchain_community\\document_loaders\\directory.py:123\u001b[0m, in \u001b[0;36mDirectoryLoader.lazy_load\u001b[1;34m(self)\u001b[0m\n\u001b[0;32m    121\u001b[0m p \u001b[38;5;241m=\u001b[39m Path(\u001b[38;5;28mself\u001b[39m\u001b[38;5;241m.\u001b[39mpath)\n\u001b[0;32m    122\u001b[0m \u001b[38;5;28;01mif\u001b[39;00m \u001b[38;5;129;01mnot\u001b[39;00m p\u001b[38;5;241m.\u001b[39mexists():\n\u001b[1;32m--> 123\u001b[0m     \u001b[38;5;28;01mraise\u001b[39;00m \u001b[38;5;167;01mFileNotFoundError\u001b[39;00m(\u001b[38;5;124mf\u001b[39m\u001b[38;5;124m\"\u001b[39m\u001b[38;5;124mDirectory not found: \u001b[39m\u001b[38;5;124m'\u001b[39m\u001b[38;5;132;01m{\u001b[39;00m\u001b[38;5;28mself\u001b[39m\u001b[38;5;241m.\u001b[39mpath\u001b[38;5;132;01m}\u001b[39;00m\u001b[38;5;124m'\u001b[39m\u001b[38;5;124m\"\u001b[39m)\n\u001b[0;32m    124\u001b[0m \u001b[38;5;28;01mif\u001b[39;00m \u001b[38;5;129;01mnot\u001b[39;00m p\u001b[38;5;241m.\u001b[39mis_dir():\n\u001b[0;32m    125\u001b[0m     \u001b[38;5;28;01mraise\u001b[39;00m \u001b[38;5;167;01mValueError\u001b[39;00m(\u001b[38;5;124mf\u001b[39m\u001b[38;5;124m\"\u001b[39m\u001b[38;5;124mExpected directory, got file: \u001b[39m\u001b[38;5;124m'\u001b[39m\u001b[38;5;132;01m{\u001b[39;00m\u001b[38;5;28mself\u001b[39m\u001b[38;5;241m.\u001b[39mpath\u001b[38;5;132;01m}\u001b[39;00m\u001b[38;5;124m'\u001b[39m\u001b[38;5;124m\"\u001b[39m)\n",
      "\u001b[1;31mFileNotFoundError\u001b[0m: Directory not found: 'c:\\matricare\\MatriCare/DATA/'"
     ]
    }
   ],
   "source": [
    "\n",
    "extracted_data = load_pdf_file(data='c:\\matricare\\MatriCare/DATA/')\n"
   ]
  },
  {
   "cell_type": "code",
   "execution_count": 49,
   "id": "4fc2719a",
   "metadata": {},
   "outputs": [
    {
     "name": "stdout",
     "output_type": "stream",
     "text": [
      "c:\\matricare\\MatriCare\n"
     ]
    }
   ],
   "source": [
    "import os\n",
    "print(os.getcwd())\n"
   ]
  },
  {
   "cell_type": "code",
   "execution_count": 50,
   "id": "4b0b7ea2",
   "metadata": {},
   "outputs": [
    {
     "name": "stdout",
     "output_type": "stream",
     "text": [
      "Created 'DATA' folder.\n"
     ]
    }
   ],
   "source": [
    "import os\n",
    "\n",
    "# Create 'DATA' folder if it doesn't exist\n",
    "if not os.path.exists('DATA'):\n",
    "    os.makedirs('DATA')\n",
    "    print(\"Created 'DATA' folder.\")\n",
    "else:\n",
    "    print(\"'DATA' folder already exists.\")\n"
   ]
  },
  {
   "cell_type": "code",
   "execution_count": 51,
   "id": "f6834168",
   "metadata": {},
   "outputs": [],
   "source": [
    "extracted_data = load_pdf_file(data='DATA/')\n"
   ]
  },
  {
   "cell_type": "code",
   "execution_count": 52,
   "id": "3610ff76",
   "metadata": {},
   "outputs": [
    {
     "name": "stdout",
     "output_type": "stream",
     "text": [
      "c:\\matricare\\MatriCare\n"
     ]
    }
   ],
   "source": [
    "import os\n",
    "print(os.getcwd())"
   ]
  },
  {
   "cell_type": "code",
   "execution_count": 53,
   "id": "b2b2c374",
   "metadata": {},
   "outputs": [
    {
     "data": {
      "text/plain": [
       "'c:\\\\matricare\\\\MatriCare'"
      ]
     },
     "execution_count": 53,
     "metadata": {},
     "output_type": "execute_result"
    }
   ],
   "source": [
    "%pwd"
   ]
  },
  {
   "cell_type": "code",
   "execution_count": 54,
   "id": "8f61d1ac",
   "metadata": {},
   "outputs": [
    {
     "ename": "SyntaxError",
     "evalue": "unexpected character after line continuation character (2791165864.py, line 1)",
     "output_type": "error",
     "traceback": [
      "\u001b[1;36m  Cell \u001b[1;32mIn[54], line 1\u001b[1;36m\u001b[0m\n\u001b[1;33m    C:\\matricare\\MatriCare\\MatriCare\\Matricare1\\DATA\u001b[0m\n\u001b[1;37m       ^\u001b[0m\n\u001b[1;31mSyntaxError\u001b[0m\u001b[1;31m:\u001b[0m unexpected character after line continuation character\n"
     ]
    }
   ],
   "source": [
    "C:\\matricare\\MatriCare\\MatriCare\\Matricare1\\DATA"
   ]
  },
  {
   "cell_type": "code",
   "execution_count": null,
   "id": "bc9ca461",
   "metadata": {},
   "outputs": [
    {
     "name": "stderr",
     "output_type": "stream",
     "text": [
      "Advanced encoding /KSCms-UHC-H not implemented yet\n",
      "Advanced encoding /KSCms-UHC-H not implemented yet\n",
      "Advanced encoding /KSCms-UHC-H not implemented yet\n",
      "Advanced encoding /KSCms-UHC-H not implemented yet\n",
      "Advanced encoding /KSCms-UHC-H not implemented yet\n",
      "Advanced encoding /KSCms-UHC-H not implemented yet\n",
      "Advanced encoding /KSCms-UHC-H not implemented yet\n",
      "Advanced encoding /KSCms-UHC-H not implemented yet\n",
      "Advanced encoding /KSCms-UHC-H not implemented yet\n",
      "Advanced encoding /KSCms-UHC-H not implemented yet\n",
      "Advanced encoding /KSCms-UHC-H not implemented yet\n",
      "Advanced encoding /KSCms-UHC-H not implemented yet\n",
      "Advanced encoding /KSCms-UHC-H not implemented yet\n"
     ]
    }
   ],
   "source": [
    "extracted_data = load_pdf_file(data='')\n"
   ]
  },
  {
   "cell_type": "code",
   "execution_count": 56,
   "id": "639cdf64",
   "metadata": {},
   "outputs": [
    {
     "name": "stdout",
     "output_type": "stream",
     "text": [
      "c:\\matricare\\MatriCare\n"
     ]
    }
   ],
   "source": [
    "import os\n",
    "\n",
    "print(os.getcwd())  # This shows where Python is running from\n"
   ]
  },
  {
   "cell_type": "code",
   "execution_count": 57,
   "id": "eb95249d",
   "metadata": {},
   "outputs": [
    {
     "name": "stderr",
     "output_type": "stream",
     "text": [
      "Advanced encoding /KSCms-UHC-H not implemented yet\n",
      "Advanced encoding /KSCms-UHC-H not implemented yet\n",
      "Advanced encoding /KSCms-UHC-H not implemented yet\n",
      "Advanced encoding /KSCms-UHC-H not implemented yet\n",
      "Advanced encoding /KSCms-UHC-H not implemented yet\n",
      "Advanced encoding /KSCms-UHC-H not implemented yet\n",
      "Advanced encoding /KSCms-UHC-H not implemented yet\n",
      "Advanced encoding /KSCms-UHC-H not implemented yet\n",
      "Advanced encoding /KSCms-UHC-H not implemented yet\n",
      "Advanced encoding /KSCms-UHC-H not implemented yet\n",
      "Advanced encoding /KSCms-UHC-H not implemented yet\n",
      "Advanced encoding /KSCms-UHC-H not implemented yet\n",
      "Advanced encoding /KSCms-UHC-H not implemented yet\n"
     ]
    }
   ],
   "source": [
    "extracted_data = load_pdf_file(data='C:\\matricare\\MatriCare\\MatriCare\\Matricare1\\DATA')"
   ]
  },
  {
   "cell_type": "code",
   "execution_count": 58,
   "id": "1e86add5",
   "metadata": {},
   "outputs": [
    {
     "name": "stdout",
     "output_type": "stream",
     "text": [
      "[Document(metadata={'producer': 'Corel PDF Engine Version 3.0.0.576', 'creator': 'CorelDRAW', 'creationdate': 'D:20111109070950', 'moddate': 'D:20111109070950', 'author': 'desktop', 'title': 'Standard Treatment and Essential Medicine List', 'source': 'C:\\\\matricare\\\\MatriCare\\\\MatriCare\\\\Matricare1\\\\DATA\\\\Standard Treatment Guideline - Pregnancy & Sick newborn.pdf', 'total_pages': 141, 'page': 0, 'page_label': '1'}, page_content='JANA I SHISHU URAKSHA K RYAKRAM\\nN\\nS\\nA\\nHEALTH & FAMILY WELFARE DEPARTMENT\\nGOVERNMENT OF ODISHA\\nStandard Treatment Guideline  &\\nEssential Medicine List'), Document(metadata={'producer': 'Corel PDF Engine Version 3.0.0.576', 'creator': 'CorelDRAW', 'creationdate': 'D:20111109070950', 'moddate': 'D:20111109070950', 'author': 'desktop', 'title': 'Standard Treatment and Essential Medicine List', 'source': 'C:\\\\matricare\\\\MatriCare\\\\MatriCare\\\\Matricare1\\\\DATA\\\\Standard Treatment Guideline - Pregnancy & Sick newborn.pdf', 'total_pages': 141, 'page': 1, 'page_label': '2'}, page_content=''), Document(metadata={'producer': 'Corel PDF Engine Version 3.0.0.576', 'creator': 'CorelDRAW', 'creationdate': 'D:20111109070950', 'moddate': 'D:20111109070950', 'author': 'desktop', 'title': 'Standard Treatment and Essential Medicine List', 'source': 'C:\\\\matricare\\\\MatriCare\\\\MatriCare\\\\Matricare1\\\\DATA\\\\Standard Treatment Guideline - Pregnancy & Sick newborn.pdf', 'total_pages': 141, 'page': 2, 'page_label': '3'}, page_content=''), Document(metadata={'producer': 'Corel PDF Engine Version 3.0.0.576', 'creator': 'CorelDRAW', 'creationdate': 'D:20111109070950', 'moddate': 'D:20111109070950', 'author': 'desktop', 'title': 'Standard Treatment and Essential Medicine List', 'source': 'C:\\\\matricare\\\\MatriCare\\\\MatriCare\\\\Matricare1\\\\DATA\\\\Standard Treatment Guideline - Pregnancy & Sick newborn.pdf', 'total_pages': 141, 'page': 3, 'page_label': '4'}, page_content='Sl. No.   Chapter Page No.\\nI.  Pregnant Women\\nII.  Sick Newborn\\n1. Antenatal Care 03\\n2. Anaemia in Pregnancy 13\\n3. Hypertensive Disorders of Pregnancy 18\\n4. Normal Labour 29\\n5. Episiotomy 37\\n6. Preterm Labour 40\\n7. Premature Rupture of Membrane 42\\n8. Ante Partum Haemorrhage 46\\n9. Post Partum Haemorrhage 52\\n10. Caesarean Section 57\\n11. Puerperal Sepsis 63\\n12. Gestational Diabetes Mellitus 67\\n13. Essential Medicine List (Pregnant Women) 72\\n1. Care of the Normal Newborns 90\\n2. Neonatal Resuscitation 91\\n3. Hypothermia 93\\n4. Hypoglycemia 94\\n5. Neonatal Sepsis 95\\n6. Neonatal Seizure 98\\n7. Birth Asphyxia 99\\n8. Management of Neonatal Jaundice 100\\n9. Management of Shock in Neonate 105\\n10. Management of Neonatal Apnoea 107\\n11. Management of Low Birth Weight Baby 108\\n12. Assessment and Management of Respiratory Distress 113\\n13. Check List for assessment and Management of a New born requiring special Care 115\\n14. Criteria for Admission to SNCU, Step down unit and discharge 118\\n15. Indication of Admission to NBSU 119\\n16. House Keeping Protocol 120\\n17. List of Investigation for Sick Newborn 122\\n18. Essential Medicine List (Neonate) 123\\n19. Working Definitions 127\\n20. References 130\\nCONTENTS'), Document(metadata={'producer': 'Corel PDF Engine Version 3.0.0.576', 'creator': 'CorelDRAW', 'creationdate': 'D:20111109070950', 'moddate': 'D:20111109070950', 'author': 'desktop', 'title': 'Standard Treatment and Essential Medicine List', 'source': 'C:\\\\matricare\\\\MatriCare\\\\MatriCare\\\\Matricare1\\\\DATA\\\\Standard Treatment Guideline - Pregnancy & Sick newborn.pdf', 'total_pages': 141, 'page': 4, 'page_label': '5'}, page_content='Standard Treatment Guideline  &\\nEssential Medicine List\\n(For Pregnant Women)'), Document(metadata={'producer': 'Corel PDF Engine Version 3.0.0.576', 'creator': 'CorelDRAW', 'creationdate': 'D:20111109070950', 'moddate': 'D:20111109070950', 'author': 'desktop', 'title': 'Standard Treatment and Essential Medicine List', 'source': 'C:\\\\matricare\\\\MatriCare\\\\MatriCare\\\\Matricare1\\\\DATA\\\\Standard Treatment Guideline - Pregnancy & Sick newborn.pdf', 'total_pages': 141, 'page': 5, 'page_label': '6'}, page_content='ACKNOWLEDGEMENTS\\nThe National Rural Health Mission, Health & F.W. Department, Government of Odisha  acknowledge \\nthe contributions in preparation of the first Standard Treatment Guideline for pregnant women in \\nthe year 2011 – 2012.\\n1. Prof. Ashok Behera.\\nProf. & H.O.D. Dept of (O & G) S.C.B. Medical Hospital & College, Cuttack\\n2. Dr. K. B Biswal, \\nProf. HOD, O&G M.K.C.G. M.C.H. Berhampur.\\n3. Dr. S. K Behera,\\nProf. HOD, O&G, V.S.S. M.C.H. Burla\\n4. Prof. P. C. Mohapatra.\\nPresident, FOGSI\\nProf. Dept of (O & G) S.C.B. Medical Hospital & College, Cuttack.\\n5. Prof. Nibedita Pani,\\nProf. Dept of Anaesthesia S.C.B. Medical Hospital & College, Cuttack.\\n6. Prof. Ramesh Samantary,\\nProf. & H.O.D. S.C.B. Medical Hospital & College, Cuttack.\\n7. Dr. Subhra Ghosh.\\nAssoc. Prof. Dept of (O & G) S.C.B. Medical Hospital & College, Cuttack.\\n8. Dr. Sasmita Swain.\\nAssoc. Prof. Dept of (O & G) S.C.B. Medical Hospital & College, Cuttack.\\n9. Dr. K. R. Mohapatra.\\nAssoc. Prof. Dept of (O & G) S.C.B. Medical Hospital & College, Cuttack.\\n10. Dr. Ritanjali Behera,\\nAssoc. Prof. M.K.C.G. M. C. H., Berhampur\\n11. Dr. Sujata Swain.\\nAsst. Prof. Dept of (O & G) S.C.B. Medical Hospital & College, Cuttack.\\n12. Dr. Leesa Mishra.\\nAsst. Prof. Dept of (O & G) S.C.B. Medical Hospital & College, Cuttack.\\n13. Dr. Rajendra Kumar Paty\\nM.D (O&G) SDMU, DHS (O)\\n14. Mr. P. Dash\\nSenior Consultant (P & I) \\nNRHM.\\n15. Mr. Saroj Kumar Sahu\\nPharmacist, SDMU.\\n16. Dr. C.R. Patra,\\nO&G Specialist Capital Hospital, Bhubaneswar\\n17. Dr. Sudarson Dash,\\nO&G Specialist Capital Hospital, Bhubaneswar\\n18. Dr. J. K Biswal\\nAnaesthesia Specialist Capital Hospital, Bhubaneswar'), Document(metadata={'producer': 'Corel PDF Engine Version 3.0.0.576', 'creator': 'CorelDRAW', 'creationdate': 'D:20111109070950', 'moddate': 'D:20111109070950', 'author': 'desktop', 'title': 'Standard Treatment and Essential Medicine List', 'source': 'C:\\\\matricare\\\\MatriCare\\\\MatriCare\\\\Matricare1\\\\DATA\\\\Standard Treatment Guideline - Pregnancy & Sick newborn.pdf', 'total_pages': 141, 'page': 6, 'page_label': '7'}, page_content='Our nation has made progress in almost every field and we are marching ahead. In \\nmedical science we are no less developed than the developed world. All kinds of treatment \\ninvolving high technology and skill are available with us.\\nHowever, high maternal mortality is a blotch on the face of our nation in spite of the \\ndevelopment story. The MMR of our country is 254 and for our state is 303 (SRS-2009) at \\npresent as per the latest reports of September, 2010 Ministry of Health & Family Welfare, \\nGovernment of India. This recent improvement is because of innovative schemes and \\nprogrammes like JSY, which provides incentives for institutional delivery. Maternal mortality is \\nmainly due to haemorrhage (including APH, PPH and ruptured uterus), Hypertension (including \\npre-eclampsia and eclampsia), sepsis and anaemia. The social factors contributing to maternal \\nmortality include the delays as follows:\\nFirst delay: Delay in identifying a complication and in taking decision to seek care (at the \\nlevel of individual and family).\\nSecond delay: Delay in reaching care (at the level of community and system).\\nThird delay: Delay in getting care at the health facility.\\nHence to reduce MMR further, to below 100 we need to deal with the problem \\ncomprehensively medically as well as socially. Medical interventions include pre-conceptional \\nhealth care, proper antenatal care, institutional delivery and contraception to space \\npregnancies and limit family. To deal with the social factor the all-new JSSK (Janani Sishu \\nSurakhya Karyakram) is being launched to facilitate and provide incentives for the above so that \\nthere is no delay in seeking care.\\nOn this occasion this booklet has been released. This booklet includes topics mainly \\nkeeping maternal mortality in view. It is not meant to replace any ideas but only to refresh \\nknowledge and ideas. Hope this will be of great help to our colleagues dedicated to the service \\nof pregnant women.\\nA. K. Behera\\nPREFACE'), Document(metadata={'producer': 'Corel PDF Engine Version 3.0.0.576', 'creator': 'CorelDRAW', 'creationdate': 'D:20111109070950', 'moddate': 'D:20111109070950', 'author': 'desktop', 'title': 'Standard Treatment and Essential Medicine List', 'source': 'C:\\\\matricare\\\\MatriCare\\\\MatriCare\\\\Matricare1\\\\DATA\\\\Standard Treatment Guideline - Pregnancy & Sick newborn.pdf', 'total_pages': 141, 'page': 7, 'page_label': '8'}, page_content=''), Document(metadata={'producer': 'Corel PDF Engine Version 3.0.0.576', 'creator': 'CorelDRAW', 'creationdate': 'D:20111109070950', 'moddate': 'D:20111109070950', 'author': 'desktop', 'title': 'Standard Treatment and Essential Medicine List', 'source': 'C:\\\\matricare\\\\MatriCare\\\\MatriCare\\\\Matricare1\\\\DATA\\\\Standard Treatment Guideline - Pregnancy & Sick newborn.pdf', 'total_pages': 141, 'page': 8, 'page_label': '9'}, page_content=''), Document(metadata={'producer': 'Corel PDF Engine Version 3.0.0.576', 'creator': 'CorelDRAW', 'creationdate': 'D:20111109070950', 'moddate': 'D:20111109070950', 'author': 'desktop', 'title': 'Standard Treatment and Essential Medicine List', 'source': 'C:\\\\matricare\\\\MatriCare\\\\MatriCare\\\\Matricare1\\\\DATA\\\\Standard Treatment Guideline - Pregnancy & Sick newborn.pdf', 'total_pages': 141, 'page': 9, 'page_label': '10'}, page_content=''), Document(metadata={'producer': 'Corel PDF Engine Version 3.0.0.576', 'creator': 'CorelDRAW', 'creationdate': 'D:20111109070950', 'moddate': 'D:20111109070950', 'author': 'desktop', 'title': 'Standard Treatment and Essential Medicine List', 'source': 'C:\\\\matricare\\\\MatriCare\\\\MatriCare\\\\Matricare1\\\\DATA\\\\Standard Treatment Guideline - Pregnancy & Sick newborn.pdf', 'total_pages': 141, 'page': 10, 'page_label': '11'}, page_content='03\\nSystematic supervision of a woman during pregnancy is called antenatal care. It provides therapeutic \\ninterventions known to be effective; and education to the pregnant women about planning for safe birth, \\nemergencies during pregnancy and how to deal with them.\\nAll pregnant women must be counselled for regular antenatal visits in the following manner \\nvMinimum one visit in first trimester \\nvMonthly visits till 32 weeks \\nvEvery 2 weekly till 36 weeks and \\nvWeekly visits till delivery\\nHowever it must be ensured that every pregnant woman makes at least 4 visits for ANC including the visit for \\nregistration as soon as she suspects that she is pregnant. The second visit should be between 24 – 28 weeks. \\nThe third one should be planned at 32 weeks and fourth one at 36/37 weeks.   \\nAll pregnant women must have the following investigations done during pregnancy as a part of the \\nantenatal care\\nBlood :\\nrHaemoglobin at initial visit to be repeated at 28 weeks in normal cases but in anaemic cases, \\nit should be done every 30 days. \\nrGrouping and Rh Typing.\\nrVDRL (1:8 dilution)\\nrICTC (Integrated Counselling & Testing Centre)\\nrBlood sugar \\nrFBS at first visit and GCT (estimation of blood sugar after one hour of 50 gm. glucose \\nirrespective of fasting status) between 24 to 26 weeks.\\nUrine examination :\\nrRoutine & microscopy with albumin & sugar should be done.  \\nrA repeat urine examination to be done in third trimester.\\nStool examination\\nUltrasound Examination\\nrAt least one Ultrasound examination should be done between 16 - 20 weeks of pregnancy to \\nexclude congenital anomalies.  \\nBASIC ESSENTIAL CARE RECOMMENDED FOR ALL PREGNANT WOMEN\\nNumber of check-ups:\\nInvestigations :\\n1. ANTENATAL CARE'), Document(metadata={'producer': 'Corel PDF Engine Version 3.0.0.576', 'creator': 'CorelDRAW', 'creationdate': 'D:20111109070950', 'moddate': 'D:20111109070950', 'author': 'desktop', 'title': 'Standard Treatment and Essential Medicine List', 'source': 'C:\\\\matricare\\\\MatriCare\\\\MatriCare\\\\Matricare1\\\\DATA\\\\Standard Treatment Guideline - Pregnancy & Sick newborn.pdf', 'total_pages': 141, 'page': 11, 'page_label': '12'}, page_content='04\\nImmunization \\nIron and Folic Acid (IFA) and Calcium Supplementation \\nIEC\\nWoman is to be asked about \\nMenstrual History:   \\nObstetric History:  \\nPhysical Examination:\\nAs an integral part of antenatal care all pregnant women must be immunized with two doses of Tetanus \\nToxoid Inj. 0.5 ml/ dose deep I.M. in the upper arm. The first dose just after first trimester or as soon as the \\nwoman registers for ANC, which ever is later. The second dose one month after the first dose but at least one \\nmonth before EDD. \\nAll pregnant women need to be given iron folic acid tablets (100 mg elemental iron and 0.5 mg. folic acid) \\nevery day through out the pregnancy period & elemental calcium 1000 mg every day after first trimester.\\nAll pregnant women should ideally be provided with information, counselling and education on nutrition, \\ndiet, hygiene newborn care and contraception. She must also be counselled to undergo HIV testing. \\nFirst visit needs to be earlier in pregnancy (prior to 12 weeks). Woman is provided information, with an \\nopportunity to discuss issues and ask questions. She is offered information verbal and written on topics such \\nas nutrition, diet, lifestyle considerations, available pregnancy care services, maternity benefits and \\nsufficient information to enable informed decision making about screening tests.\\nrAge\\nrAny symptoms/discomfort\\n \\nrL. M. P from which E. D. D. is calculated.\\nrNature of previous menstrual cycles.\\nrWhat gravida and para she is. \\nrWhether she had any earlier abortions.\\nrHistory of previous pregnancies in detail with attention to any bad obstetric performance.\\nrBirth interval between pregnancies and duration since last childbirth. \\nrHistory of any systemic illness or history of reaction or allergy to any drug or any addiction.\\nThe methodology will be same in all subsequent visits. The purpose is to confirm the diagnosis of pregnancy \\nand to take base line readings to compare with subsequent findings.\\nFirst Visit'), Document(metadata={'producer': 'Corel PDF Engine Version 3.0.0.576', 'creator': 'CorelDRAW', 'creationdate': 'D:20111109070950', 'moddate': 'D:20111109070950', 'author': 'desktop', 'title': 'Standard Treatment and Essential Medicine List', 'source': 'C:\\\\matricare\\\\MatriCare\\\\MatriCare\\\\Matricare1\\\\DATA\\\\Standard Treatment Guideline - Pregnancy & Sick newborn.pdf', 'total_pages': 141, 'page': 12, 'page_label': '13'}, page_content='05\\nGeneral Examination:  \\nSystemic Examination:\\nAbdominal Examination: \\nPelvic Examination:\\nInvestigations:  \\nParticular importance is attached to  \\nvHeight.\\nvWeight.\\nvGait.\\nvPallor.\\nvOedema.\\nvIcterus.\\nvLymphadenopathy.\\nvPulse.\\nvBlood Pressure.\\nvThyroid examination.\\nvBreast examination.\\nvRespiratory System \\nvCardiovascular System and\\nvOther systems\\nDepending on the duration of gestation at the time of first visit abdominal examination will be done. If the \\nwoman has come before 12 weeks, there will be no finding, as the uterus becomes an abdominal organ only \\nafter 12 weeks of pregnancy.\\nPer speculum, vaginal and bimanual examination is done wearing sterile latex gloves in both hands to look \\nfor signs of pregnancy, which are: -      \\nvBluish colouration of vaginal walls and cervix, softening of cervix and the uterus \\nvEnlargement of the uterus size depending on the duration of pregnancy\\nAll pregnant must have the following investigations done during pregnancy as a part of the antenatal care\\nBlood:\\nvHaemoglobin at initial visit to be repeated at 28 weeks in normal cases but monthly in \\nanaemic cases.\\nvGrouping and Rh Typing.\\nvVDRL\\nvFBS at first visit\\nvGCT (estimation of blood sugar after one hour of 50 gm. glucose irrespective of fasting \\nstatus) between 24 to 26 weeks. Value > 140 mg/dl is taken as cut off for doing GTT.'), Document(metadata={'producer': 'Corel PDF Engine Version 3.0.0.576', 'creator': 'CorelDRAW', 'creationdate': 'D:20111109070950', 'moddate': 'D:20111109070950', 'author': 'desktop', 'title': 'Standard Treatment and Essential Medicine List', 'source': 'C:\\\\matricare\\\\MatriCare\\\\MatriCare\\\\Matricare1\\\\DATA\\\\Standard Treatment Guideline - Pregnancy & Sick newborn.pdf', 'total_pages': 141, 'page': 13, 'page_label': '14'}, page_content='06\\nUrine examination:\\nv\\nvRoutine& microscopy with albumin & sugar should be done.\\nvA repeat urine examination to be done in third trimester.\\nvCulture and sensitivity in selected cases\\nUltrasound Examination:\\nIf practicable it should be done around 8 weeks of pregnancy as it goes a long way in confirmation of \\ngestational age.\\nvAny symptoms or discomfort\\nvGeneral & Systemic Examination (as mentioned earlier)\\nvHeight of the fundus of the uterus (to be compared with gestational age)\\nvBlood Haemoglobin Urine for proteins and sugar if not already done. Ultrasound \\nexamination to exclude foetal anomaly.\\nr Any symptoms or discomfort\\n \\nr   General & Systemic Examination (as mentioned earlier)\\n \\nrHeight of the fundus of the uterus (to be compared with gestational age)      \\nrFoetal Heart is to be auscultated \\nrSymphysio-fundal height & abdominal girth is taken and recorded \\nrBlood Haemoglobin \\nrUrine for proteins and sugar if indicated\\nrBlood GCT (Glucose Challenge Test as described earlier) \\nUrinary pregnancy test, only in case of doubt, in very early pregnancy (< 6 weeks)\\n16 – 24 Weeks\\n24 -32 Weeks\\nWoman is to be asked about -  \\nPhysical Examination \\nAbdominal Examination\\nInvestigations\\nWoman is to be asked about \\nPhysical Examination\\nAbdominal Examination  \\nInvestigations'), Document(metadata={'producer': 'Corel PDF Engine Version 3.0.0.576', 'creator': 'CorelDRAW', 'creationdate': 'D:20111109070950', 'moddate': 'D:20111109070950', 'author': 'desktop', 'title': 'Standard Treatment and Essential Medicine List', 'source': 'C:\\\\matricare\\\\MatriCare\\\\MatriCare\\\\Matricare1\\\\DATA\\\\Standard Treatment Guideline - Pregnancy & Sick newborn.pdf', 'total_pages': 141, 'page': 14, 'page_label': '15'}, page_content='07\\n32 - 36 Weeks\\n36 - 40 Weeks\\n rAny symptoms or discomfort\\nrGeneral & Systemic Examination  (as mentioned earlier)     \\nrHeight of the fundus of the uterus (to be compared with gestational age)     \\nrLie, Presentation and Position of the foetus is to be noted         \\nrFoetal Heart is to be auscultated              \\nrSymphysio-fundal height & abdominal girth is taken and recorded\\nrBlood Haemoglobin             \\nrUrine for proteins and sugar if indicated                                   \\nrAny symptoms or discomfort\\n· rGeneral & Systemic Examination (as mentioned earlier)    \\nrHeight of the fundus of the uterus (to be compared with gestational age)   \\nrLie, Presentation and Position of the fetus is to be noted \\nrFoetal Heart is to be auscultated                                                                                                      \\nrSymphysio-fundal height & abdominal girth is taken and recorded                                                                             \\nrClinical assessment of amniotic fluid volume is done.\\n· rCervical condition  (whether it is ripe or not)  \\n· rPelvic assessment\\nrBlood Haemoglobin    \\nrUrine for proteins and sugar if indicated      \\nrUltrasound examination for Bio-physical profile    \\nWoman is to be asked about \\nPhysical Examination \\nAbdominal Examination     \\nInvestigations\\nWoman is to be asked about  \\nPhysical Examination \\n \\nAbdominal Examination\\nPelvic Examination:\\nInvestigations'), Document(metadata={'producer': 'Corel PDF Engine Version 3.0.0.576', 'creator': 'CorelDRAW', 'creationdate': 'D:20111109070950', 'moddate': 'D:20111109070950', 'author': 'desktop', 'title': 'Standard Treatment and Essential Medicine List', 'source': 'C:\\\\matricare\\\\MatriCare\\\\MatriCare\\\\Matricare1\\\\DATA\\\\Standard Treatment Guideline - Pregnancy & Sick newborn.pdf', 'total_pages': 141, 'page': 15, 'page_label': '16'}, page_content='08\\nAfter 40 weeks\\n rAny symptoms or discomfort\\nrGeneral & Systemic Examination (as mentioned earlier)       \\nrHeight of the fundus of the uterus (to be compared with gestational age)                                              \\nrLie, Presentation and Position of the fetus is to be noted                                  \\nrFoetal Heart is to be auscultated                                                                                                      \\nrSymphysio-fundal height & abdominal girth is taken and recorded                                                                             \\nrClinical assessment of amniotic fluid volume is done.\\nrCervical condition (whether it is ripe or not)                                                                                            \\nrPelvic assessment to rule out CPD.\\nrUrine for proteins and sugar if indicated    \\nrUltrasound examination for Bio-physical profile at least twice a week  \\nWoman is to be asked about  -\\nPhysical Examination \\nAbdominal Examination  \\nPelvic Examination:\\nInvestigation'), Document(metadata={'producer': 'Corel PDF Engine Version 3.0.0.576', 'creator': 'CorelDRAW', 'creationdate': 'D:20111109070950', 'moddate': 'D:20111109070950', 'author': 'desktop', 'title': 'Standard Treatment and Essential Medicine List', 'source': 'C:\\\\matricare\\\\MatriCare\\\\MatriCare\\\\Matricare1\\\\DATA\\\\Standard Treatment Guideline - Pregnancy & Sick newborn.pdf', 'total_pages': 141, 'page': 16, 'page_label': '17'}, page_content='09\\nPREGNANCY BEYOND 40 WEEKS\\nAdmission / Hospitalisation\\nReliability of gestational age confirmed\\nLook for other obstetrical risk factors\\nIf present If absent \\nTermination of pregnancy Classify \\n40 – 41 weeks > 41 weeks \\nMonitor with NST, \\nAFI twice weekly, \\nDFMC\\nTermination of \\npregnancy\\n* Mode of delivery \\nEvidence of foetal \\ncompromise, \\nOligohydramnios \\nDeliver \\nSatisfactory\\nBishop’s Scoring Foetal distress, \\nOligohydramnios\\n \\nCS'), Document(metadata={'producer': 'Corel PDF Engine Version 3.0.0.576', 'creator': 'CorelDRAW', 'creationdate': 'D:20111109070950', 'moddate': 'D:20111109070950', 'author': 'desktop', 'title': 'Standard Treatment and Essential Medicine List', 'source': 'C:\\\\matricare\\\\MatriCare\\\\MatriCare\\\\Matricare1\\\\DATA\\\\Standard Treatment Guideline - Pregnancy & Sick newborn.pdf', 'total_pages': 141, 'page': 17, 'page_label': '18'}, page_content='10\\n \\n \\n \\n \\n \\n \\n \\n \\n \\n \\n \\n \\n \\n \\n \\n \\n \\n \\n \\n \\n \\n \\n \\n \\n \\n \\n \\n \\n \\n \\n* BISHOP’S SCORE\\nCx unfavourable [<5] Cx favourable \\nRipening PG gel intracervically Introduction with \\namniotomy & oxytocin \\n2nd dose repeated after 6 hrs if \\nrequired \\nFailed induction \\nCx. \\nfavourable \\nInduction \\nwith \\noxytocin \\nCS No improvement of Bishop’s \\nScore \\nSenior obstetrician’s \\ndecision on mode of \\ndelivery \\n DRUGS USED IN ANC\\nUp to 12 weeks:\\n16 -40 weeks:\\nr\\nrIron and Folic Acid (Elemental Iron 100 mg + Folic Acid 0.5 mg./day)\\nrCalcium: 1000mg./ day\\nrInj. Tetanus Toxoid I.M.  2 doses at interval of one month\\nFolic acid: 5 mg /per day  × 90 days'), Document(metadata={'producer': 'Corel PDF Engine Version 3.0.0.576', 'creator': 'CorelDRAW', 'creationdate': 'D:20111109070950', 'moddate': 'D:20111109070950', 'author': 'desktop', 'title': 'Standard Treatment and Essential Medicine List', 'source': 'C:\\\\matricare\\\\MatriCare\\\\MatriCare\\\\Matricare1\\\\DATA\\\\Standard Treatment Guideline - Pregnancy & Sick newborn.pdf', 'total_pages': 141, 'page': 18, 'page_label': '19'}, page_content='11\\nPatient Education\\nHealthy Diet: \\nExercise: \\nRest: \\nSexual Intercourse: \\nAddiction: \\nMedication: \\nDanger Signals: \\nr\\nper day (more in summer). No extra salt to Hypertensive women.\\nrContinue Routine work, however light exercise can be done. No Heavy Exercise or Work in last few \\nweeks. \\nrSleep for 8 hours at night, 2 hours rest in the afternoon, Lie on left lateral after 20 wks.\\nrProhibited in normal Pregnancy during first trimester and late pregnancy and in all abnormal \\npregnancy conditions.\\nrTobacco or Alcohol intake should be stopped. \\nrNo drug should be used in the first 16 weeks unless absolutely necessary.  (Anti - T.B., Anti- epileptics \\nshould be continued)\\nImmediate Medical Attention must be sought in cases of any of the following i.e. Acute Abdominal Pain, \\nVaginal Bleeding, Persistent Vomiting, Fever, Oliguria, Swelling of face and fingers, Persistent severe swelling \\nof ankles, Severe continuous Headache, Dizziness and Blurred Vision, Loss of Foetal Movements and Watery \\nVaginal Discharge. \\nWomen who have experienced any of the following in previous pregnancies\\nØRecurrent pregnancy loss                  \\nØPreterm birth                            \\nØSevere pre-eclampsia                                                                                                                      \\nØHELLP syndrome or eclampsia                                                                                                                 \\nØRhesus isoimmunisation or other significant blood group antibodies                                                      \\nØUterine surgery including caesarean section                                                              \\nØMyomectomy or cone biopsy                                                                                              \\nØAntepartum or postpartum haemorrhage                                                                                    \\nØPrevious MROP                                                                                                                     \\nØPuerperal psychosis                                                                                                                          \\nØA baby with a congenital anomaly (structural or chromosomal)\\nGreen Leafy vegetables, Pulses, Soybean, Fruits and Salads, Milk, Egg, Fish, water and Juices 8 glasses \\nHIGH RISK PREGNANCIES [Women requiring additional care/referral]'), Document(metadata={'producer': 'Corel PDF Engine Version 3.0.0.576', 'creator': 'CorelDRAW', 'creationdate': 'D:20111109070950', 'moddate': 'D:20111109070950', 'author': 'desktop', 'title': 'Standard Treatment and Essential Medicine List', 'source': 'C:\\\\matricare\\\\MatriCare\\\\MatriCare\\\\Matricare1\\\\DATA\\\\Standard Treatment Guideline - Pregnancy & Sick newborn.pdf', 'total_pages': 141, 'page': 19, 'page_label': '20'}, page_content='12\\nWomen who have the following in present pregnancy\\nØUnderweight (BMI less than 18 at first contact)                                                                                   \\nØObesity (BMI 35 or more at first contact)                                                                                            \\nØGrand multiparity (more than five pregnancies)                                                                                   \\nØAnaemia                                                                                                                                           \\nØCardiac disease                                                                                                                      \\nØHypertension (Chronic as well as pregnancy induced)                                                                   \\nØRenal disease                                                                                                                                    \\nØThyroid disease                                                                                                                          \\nØDiabetes mellitus and other endocrine disorders                                                                        \\nØEpilepsy requiring anticonvulsant drugs                                                                                                  \\nØAsthma and other respiratory disorders                                                                                \\nØHematological disorder                                                                                                               \\nØHIV +ve                                                                                                                                              \\nØHBV infected                                                                                                                                    \\nØDrug use such as heroin, cocaine (including crack cocaine) and ecstasy \\nØAutoimmune disorders                                                                                                        \\nØPsychiatric disorders                                                                                                                                \\nØMalignant disease'), Document(metadata={'producer': 'Corel PDF Engine Version 3.0.0.576', 'creator': 'CorelDRAW', 'creationdate': 'D:20111109070950', 'moddate': 'D:20111109070950', 'author': 'desktop', 'title': 'Standard Treatment and Essential Medicine List', 'source': 'C:\\\\matricare\\\\MatriCare\\\\MatriCare\\\\Matricare1\\\\DATA\\\\Standard Treatment Guideline - Pregnancy & Sick newborn.pdf', 'total_pages': 141, 'page': 20, 'page_label': '21'}, page_content='13\\nHaemoglobin concentration below 11.0 gm% at any time during pregnancy is known as anemia in \\npregnancy. Iron deficiency anemia accounts for significant portion of cases in our state. Anemia is a \\ndirect as well as indirect cause of maternal mortality and morbidity. Iron deficiency state without \\nmanifesting as anemia is very common in females.\\nDegree Hb%  Haematocrit (%)\\nModerate 7-10.9 24-37%\\nSevere 4-6.9 13-23%\\nVery Severe <4 <13% \\nDeficiency anaemia\\n1. Iron deficiency\\n2. Folic acid deficiency\\n3. Vitamin B12 deficiency\\n4. Protein deficiency\\nHaemorrhagic\\n1.Acute: following bleeding in early months or APH\\n2. Chronic: hookworm infestations or bleeding piles etc.\\nHereditary\\n1. Thalassemia\\n2. Sickle cell haemoglobinopathies\\n3. Other haemoglobinopathies\\n4. Hereditary hemolytic anaemia\\nBone marrow insufficiency\\n1. Radiation\\n2. Drugs\\n Anemia of infection (malaria, TB)\\nChronic diseases (renal or malignancy)\\nIron deficiency anaemia is responsible for 80% of anaemias among all.\\nWHO Classification of Anaemia\\nCLASSIFICATION\\n2. ANAEMIA IN PREGNANCY'), Document(metadata={'producer': 'Corel PDF Engine Version 3.0.0.576', 'creator': 'CorelDRAW', 'creationdate': 'D:20111109070950', 'moddate': 'D:20111109070950', 'author': 'desktop', 'title': 'Standard Treatment and Essential Medicine List', 'source': 'C:\\\\matricare\\\\MatriCare\\\\MatriCare\\\\Matricare1\\\\DATA\\\\Standard Treatment Guideline - Pregnancy & Sick newborn.pdf', 'total_pages': 141, 'page': 21, 'page_label': '22'}, page_content='14\\nCLINICAL FEATURES\\nINVESTIGATIONS\\nSymptoms:\\n1. Weakness\\n2. Lassitude and fatigue\\n3. Anorexia and indigestion\\n4. Palpitation\\n5. Dyspnoea\\n6. Giddiness and swelling of legs\\nSigns: \\n1. Pallor\\n2. Glossitis and stomatitis\\n3. Edema of legs\\n4. A soft systolic murmur in the mitral area\\n5. Crepitation at the base of lungs in heart failure\\nThe patient having Hb level of 9gm% or less should be subjected to a full haematological \\ninvestigation to determine\\nrDegree of anaemia\\nrType of anaemia\\nrCause of anaemia\\nTo find out the degree of anaemia\\n1. Hb estimation\\n2. Haematocrit\\nTo ascertain the type of anaemia\\n1. Peripheral blood smear- microcytosis, anisocytosis, poikilocytosis, macrocytosis, target \\ncells, hypersegmented neutrophil, reticulocyte etc\\n2. Sickling test\\n3. Haematological indices- MCV, MCH, MCHC\\n4. Other blood values- serum iron, serum ferritin\\nTo find out the cause of anaemia\\n1. Examination of stool\\n2. Urine examination – routine, microscopic, culture and sensitivity\\n3. X ray chest with abdominal guard\\n4. Fractional test meal\\n5. Serum protein\\n6. Osmotic fragility test\\n7. Bone marrow study when indicated'), Document(metadata={'producer': 'Corel PDF Engine Version 3.0.0.576', 'creator': 'CorelDRAW', 'creationdate': 'D:20111109070950', 'moddate': 'D:20111109070950', 'author': 'desktop', 'title': 'Standard Treatment and Essential Medicine List', 'source': 'C:\\\\matricare\\\\MatriCare\\\\MatriCare\\\\Matricare1\\\\DATA\\\\Standard Treatment Guideline - Pregnancy & Sick newborn.pdf', 'total_pages': 141, 'page': 22, 'page_label': '23'}, page_content='15\\nCOMPLICATIONS\\nTREATMENT\\nDuring pregnancy\\nPre-eclampsia\\nrInfection\\nrHeart failure\\nrPreterm labour\\nDuring labour\\nrUterine inertia\\nrPostpartum haemorrhage\\nrCardiac failure\\nrShock\\nDuring puerperium\\nrPuerperal sepsis\\nrSubinvolution\\nrPoor lactation\\nrPuerperal venous thrombosis\\nrPulmonary embolism\\nRISK PERIODS: \\nWhen the patient may even die suddenly are\\nrAt about 30-32 wks of pregnancy\\nrDuring labour\\nrImmediately following delivery\\nrAt any time in puerperium. Specially 7-10 days following delivery.\\nEFFECTS ON BABY\\nrDiminished iron store\\nrLow birth weight\\nrPrematurity\\nrIntrauterine death\\nProphylactic\\nrOral Iron – Elemental iron 100mg with folic Acid 0.5mg/day for at least 180 days during \\npregnancy after first trimester.\\nrDe-worming with antihelminthics, Albendazole (400mg) single dose may be repeated after \\none week.\\nr'), Document(metadata={'producer': 'Corel PDF Engine Version 3.0.0.576', 'creator': 'CorelDRAW', 'creationdate': 'D:20111109070950', 'moddate': 'D:20111109070950', 'author': 'desktop', 'title': 'Standard Treatment and Essential Medicine List', 'source': 'C:\\\\matricare\\\\MatriCare\\\\MatriCare\\\\Matricare1\\\\DATA\\\\Standard Treatment Guideline - Pregnancy & Sick newborn.pdf', 'total_pages': 141, 'page': 23, 'page_label': '24'}, page_content='16\\nTherapeutic\\n1. Hospitalization: patients with Hb level <7gm% or moderately anaemic patients with \\nassociated obstetrical or medical complications should be hospitalized.\\n2. Oral iron: 200mg- 300mg of elemental iron along with FA is given in divided doses with or \\nafter meals and protein is supplemented. If there is no gastric intolerance it can be prescribed \\nbefore meals. The dose should be stepped up gradually in 3-4 days. The treatment should be \\ncontinued till the blood picture becomes normal, then 100mg of elemental iron with FA is to \\nbe continued for at least 100 days to replenish the iron store.\\nResponse of therapy is evidenced by\\nrSense of well-being\\nrIncreased appetite\\nrRise in Hb. After a lapse of 2wks Hb conc. is expected to rise at the rate of 1gm / 100ml \\nper week.\\nrReticulocytosis- within 7-10 days\\nIf no significant improvement is evident clinically and haematologically after 3wks diagnostic re-evaluation \\nis needed.\\nParenteral therapy\\nIndications: \\nrIntolerance to oral iron\\nrPatient not co-operative to take oral iron\\nrPoor responders to oral iron\\nrPresence of concurrent diseases like CRF\\nr Iron sucrose is ideal and safe.\\nCalculated dose is (2.4 × W × D +500mg), for storage iron\\nwhere W= weight in kg,\\nD = (target Hb in gm% - actual Hb in gm %)\\nTotal iron is given in divided doses. 200mg iron sucrose in at least 250ml NS is given over a period of 2hrs \\non alternate days. Oral iron is to be stopped before 24hrs. Patient is to be supplemented with protein \\nand multivitamins after parenteral therapy and oral iron should not be given.\\nBlood transfusion\\nIndications \\nrContinued bleeding\\nrSevere anaemia seen after 36wks of pregnancy\\nrHb < 4gm any time during pregnancy'), Document(metadata={'producer': 'Corel PDF Engine Version 3.0.0.576', 'creator': 'CorelDRAW', 'creationdate': 'D:20111109070950', 'moddate': 'D:20111109070950', 'author': 'desktop', 'title': 'Standard Treatment and Essential Medicine List', 'source': 'C:\\\\matricare\\\\MatriCare\\\\MatriCare\\\\Matricare1\\\\DATA\\\\Standard Treatment Guideline - Pregnancy & Sick newborn.pdf', 'total_pages': 141, 'page': 24, 'page_label': '25'}, page_content='17\\nRefractory anaemias\\nrPacked blood cells in heart failure\\nrPatients needing operative delivery\\nPrecautions: \\nrAntihistaminic given IM\\nrDiuretic (furosemide 20mg) is given IV 2hrs prior to BT.\\nrDrip rate should be about 10drops/ min.\\nrThe patient should be in bed\\nrOxygen inhalation\\nrStrict asepsis\\nrProphylactic low forceps or vacuum delivery.\\nrIV methergine (0.2mg) following delivery of anterior shoulder.\\nrd\\nrActive management of 3  stage of labour\\nrBlood transfusion if required\\nrPrecaution against post partum overloading of heart\\nrProphylactic antibiotics\\nrPre delivery anaemia therapy continued till 3months after normalization of Hb level.\\nrCorrect cooking habits\\nrIron rich diet (green leafy vegetables, drumsticks, jaggery) to be taken\\nrUse safety latrine\\nrPrecaution against malaria \\nrRegular ANC\\nrPlan for institutional delivery\\nrSevere anaemia\\nrHeart failure\\nrOther varieties of anaemia (other than IDA)\\nrAssociated obstetric complications\\nr\\nMANAGEMENT DURING LABOUR \\n1ST STAGE:\\n2ND STAGE:\\n3RD STAGE:\\nPUERPERIUM:\\nPATIENT EDUCATION\\nREFERRAL CRITERIA'), Document(metadata={'producer': 'Corel PDF Engine Version 3.0.0.576', 'creator': 'CorelDRAW', 'creationdate': 'D:20111109070950', 'moddate': 'D:20111109070950', 'author': 'desktop', 'title': 'Standard Treatment and Essential Medicine List', 'source': 'C:\\\\matricare\\\\MatriCare\\\\MatriCare\\\\Matricare1\\\\DATA\\\\Standard Treatment Guideline - Pregnancy & Sick newborn.pdf', 'total_pages': 141, 'page': 25, 'page_label': '26'}, page_content='18\\nHypertension is defined as systolic blood pressure of at least 140 mm of Hg and diastolic blood \\npressure of at least 90 mm of Hg (disappearance of Korotkoff sound).\\n1. Gestational hypertension\\n2. Preeclampsia\\n3. Eclampsia\\n4. Pre-eclmpsia superimposed on chronic hypertension\\n5. Chronic hypertension.\\nIdeally all cases should be admitted for few days for investigative work up to classify them into one of the \\nabove categories and to manage accordingly. \\nGestational hypertension: i) Hypertension ≥ 140/90 mm Hg on at least two occasions. \\n                                       ii) Proteinuria absent\\nPre eclampsia: i) Hypertension  ≥ 140/90 mm Hg on at least two occasions\\n                     ii) Proteinuria  ≥ 300mg/ lit in 24-hour urine sample or random  ≥ 1+ dipstik\\ni) Blood tests: Hb%, Grouping, Rh typing, TPC, Serum urea, Creatinine, Uric acid \\nii) LFT:  S. bilirubin, SGOT, SGPT, LDH\\niii) Coagulation profile: PT, aPTT, Plasma fibrinogen (in selected cases)\\niv) Urine: Routine and microscopic\\nv) Obstetric USG\\nCriteria for severe pre-eclampsia\\n1. Systolic BP ≥160 or Diastolic BP ≥ 110 mm Hg\\n2. Protein of 5 gm or higher in 24 hr urine or 3+ or greater\\n3. Oliguria – Urine volume, < 400 ml/ 24 hr\\n4. Features of imminent eclampsia- Epigasric pain, headache, blurring of vision\\n5. HELLP Syndrome.\\n6. Platelet count < 1 lakh / cmm. \\n7. Pulmonary oedema. \\n8. IUGR.\\nTypes:-\\nDiagnostic Criteria\\nLaboratory tests :\\nPre-eclampsia may be mild or severe\\nGESTATIONAL HYPERTENSION AND PRE ECLAMPSIA\\n3. HYPERTENSIVE DISORDERS \\nOF PREGNANCY'), Document(metadata={'producer': 'Corel PDF Engine Version 3.0.0.576', 'creator': 'CorelDRAW', 'creationdate': 'D:20111109070950', 'moddate': 'D:20111109070950', 'author': 'desktop', 'title': 'Standard Treatment and Essential Medicine List', 'source': 'C:\\\\matricare\\\\MatriCare\\\\MatriCare\\\\Matricare1\\\\DATA\\\\Standard Treatment Guideline - Pregnancy & Sick newborn.pdf', 'total_pages': 141, 'page': 26, 'page_label': '27'}, page_content=\"19\\nManagement of gestational hypertension and mild pre-eclampsia\\n      Usually these patients don't have any symptoms \\nGeastation less than 37 weeks: Out patient management\\ni) Twice weekly ANC, monitor blood pressure\\nii) Daily weight check up\\niii) Foetal surveillance- DFMC, USG (twice weekly)\\niv) Patient education\\nv) Don't give antihyperetensives\\ni) Encourage additional period of rest.\\nii) No salt restriction but no extra salt.\\niii) Patient undergoing ambulatory treatment should be warned of symptoms of worsening \\ndisease evidenced by \\n                a) Gross swelling of the body         \\nb) Oliguria, Anuria\\n                   c) Headache, visual disturbance, epigastric pain\\niv)  They should be hospitalized if these symptoms appear. \\nv)  They should also be warned that without any symptom severe pre-eclampsia can supervene. \\nHence, it is important to have regular ANC. \\ni) Bishop score\\nii) Pelvic assessment\\niii) Foetal status\\nIn unfavorable cervix cervical priming is done with prostaglandin (PGE2 gel) or intra cervical extra-amniotic \\nFoley's catheter with a balloon of 30ml Normal Saline. In favourable cervix labour induction is done by \\noxytocin and ARM.\\nIf there is no foetal compromise assess the cervix, pelvis and foetal presentation. If all are favorable, \\ninduction is to be done. If cervix is unfavorable but other factors are favorable then ripen the cervix and then \\ninduce.\\nCaesarean section is to be done for obstetric indications only.\\nPatient Education:\\nOnce 37 week is attained or any indication for termination appears, termination of pregnancy is done \\ndepending upon \\nGestational age more than 37 weeks:\"), Document(metadata={'producer': 'Corel PDF Engine Version 3.0.0.576', 'creator': 'CorelDRAW', 'creationdate': 'D:20111109070950', 'moddate': 'D:20111109070950', 'author': 'desktop', 'title': 'Standard Treatment and Essential Medicine List', 'source': 'C:\\\\matricare\\\\MatriCare\\\\MatriCare\\\\Matricare1\\\\DATA\\\\Standard Treatment Guideline - Pregnancy & Sick newborn.pdf', 'total_pages': 141, 'page': 27, 'page_label': '28'}, page_content='20\\nSEVERE PRE-ECLAMPSIA:\\nMANGEMENT OF SEVERE PRE-ECLAMPSIA\\nComplications of severe pre-eclampsia\\nAim:\\ni) HELLP syndrome\\nii) Eclampsia\\niii) Cerebrovascular haemorrhage\\niv) Pulmonary oedema\\nv) Renal failure\\nvi) Abruptio placentae\\nvii) IUGR and IUD\\ni) Prevention of eclampsia and other complications\\nii) Antihypertensive to control severe hypertension\\niii) Delivery of foetus with minimal trauma to both mother and foetus.\\ni) Prevention of eclampsia: \\nProphylactic Magnesium sulphate\\nPritchard regimen:\\nLoading dose: Magnesium sulphate, 4 gm slow IV over 5 minutes\\n             Magnesium sulphate, 5 gm deep IM on each buttock\\nMaintenance dose: Magnesium sulphate, 5 gm IM on alternate buttock 4 hourly\\nBefore repeat administration ensure   -    patellar reflex is present\\n- respiration rate is  ≥ 12/min\\n- urine output  ≥ 30 ml per hour in last 4 hours\\nContinue treatment for 24 hours after delivery or last convulsion whichever is later.  Withhold the \\ndose if the above criteria are not satisfied.\\nIn case of magnesium toxicity its antidote calcium gluconate, 10 ml of 10% solution is given slow IV.\\nii) Antihypertensives:\\nAntihypertensives are for maternal benefit. They are indicated in severe hypertension\\n (systolic  ≥ 160 mm Hg, diastolic  ≥ 110 mm Hg). Aim is to keep diastolic blood pressure between 90 \\nto 100 mm of Hg.   \\n Antihypertensives in common use are \\ni) Labetalol, 100 mg twice daily and can be increased to 1200 mg per day\\nii) Nifedepine, 10 mg 6 hourly maximum upto 120mg per day.\\nIn resistant cases parenteral labetalol or nifedipine (orally) in more frequent doses can be \\nadministered.'), Document(metadata={'producer': 'Corel PDF Engine Version 3.0.0.576', 'creator': 'CorelDRAW', 'creationdate': 'D:20111109070950', 'moddate': 'D:20111109070950', 'author': 'desktop', 'title': 'Standard Treatment and Essential Medicine List', 'source': 'C:\\\\matricare\\\\MatriCare\\\\MatriCare\\\\Matricare1\\\\DATA\\\\Standard Treatment Guideline - Pregnancy & Sick newborn.pdf', 'total_pages': 141, 'page': 28, 'page_label': '29'}, page_content='21\\niii) Termination of pregnancy:\\nSevere pre-eclmpsia mandates delivery within 24 hours. If there is no contraindication and \\ncervix is ripe, then induction of labor to be done with oxytocin I.V. drip. In case of unripe \\ncervix remote from term or with other complications caesarian section is a better option. \\nHowever in unripe cervix with other favorable conditions cervical priming should be done.  \\nUndue prolongation with unsuccessful attempt at priming and induction of labour only \\nincreases the complication rate.\\nCaesarian section is done for all obstetric indications.\\niv) Postpartum care \\nrAnti convulsant to be continued for 24 hours after delivery or last convulsion which ever is \\nlater.\\nrAntihyperetensives if blood pressure goes above 110 mm Hg diastolic\\nrMonitor urine output\\ni) All cases of severe pre-eclampsia are to be transferred to higher center if Caesarean section and \\nblood transfusion facilities are not there. But before transfer loading dose of Magnesium sulphate \\nand antihypertensive if needed are to be given.\\nii) HELLP syndrome\\niii) Acute renal failure or oliguria which persists for more than 48 hours after delivery.\\niv) In preterm or IUGR foetus when neonatal facilities are not adequate\\ni)  History of eclampsia or pre-eclampsia in previous pregnancy\\nii) Chronic hypertension\\niii) Chronic renal disease\\niv) Diabetes mellitus\\nv) Hypothyroidism\\nvi) Sickle cell disease\\nvii) SLE\\nHypertension before 20 weeks of gestation or beyond 12 weeks postpartum is called chronic hypertension. \\nThe cause of hypertension is to be established: \\nr90% are due to essential hypertension\\nrRest are secondary hypertension\\nReferral criteria:\\nPatients at risk for developing pre-eclampsia\\nCHRONIC HYPERTENSION'), Document(metadata={'producer': 'Corel PDF Engine Version 3.0.0.576', 'creator': 'CorelDRAW', 'creationdate': 'D:20111109070950', 'moddate': 'D:20111109070950', 'author': 'desktop', 'title': 'Standard Treatment and Essential Medicine List', 'source': 'C:\\\\matricare\\\\MatriCare\\\\MatriCare\\\\Matricare1\\\\DATA\\\\Standard Treatment Guideline - Pregnancy & Sick newborn.pdf', 'total_pages': 141, 'page': 29, 'page_label': '30'}, page_content='22\\nMANAGEMENT\\nECLAMPSIA\\ni) Adequate rest\\nii) Frequent ANC\\niii) Antihypertensives\\nAim is to keep diastolic blood pressure below 90 mm Hg., when there is end organ dysfunction like \\nprevious cerebrovascular event, myocardial infarction or present cardiac or renal dysfunction. \\nWithout these risk factors diastolic blood pressure should be kept below 100 mm Hg. Strict control of \\nhypertension decreases maternal complications but uteroplacental perfusion suffers. Safe \\nantihypertensives during pregnancy are alpha-methyl dopa, Nifedipine and labetalol. ARB group of \\nantihypertensives should not be prescribed during pregnancy.\\niv) Strict vigilance is to be maintained for complications, most common being superimposed pre- \\neclampsia and placental abruption.\\nv) Monitoring of foetal growth is to be done\\nvi) If proteinuria or other symptom or signs of pre-eclampsia appears then she has to be managed \\naccordingly.\\nvi) Plan for delivery:\\na) If no complication deliver at term\\nb) In case of multifoetal gestation delivery is to be planned before term.\\nNew onset grand mal seizure or coma on a patient with pre-eclampsia without any neurological cause is \\ntermed eclampsia.\\ni) Hypertension\\nii) Proteinuria\\niii) Convulsion or coma\\nHypertension and proteinuria may be absent in 15% of cases where biochemical parameters like elevated \\nliver enzymes may help in diagnosis. Eclampsia is usually preceded by symptoms of imminent eclampsia like \\nheadache, visual disturbance, hyperreflexia and epigastric pain.\\ni) Blood tests: Hb%, Grouping, Rh typing, TPC, Serum urea, Creatinine, Uric acid, Random \\nblood sugar \\nii) LFT:  S. bilirubin, SGOT, SGPT, LDH\\niii) Coagulation profile: PT, aPTT, Plasma fibrinogen (in selected cases)\\nDiagnostic criteria:\\nInvestigations'), Document(metadata={'producer': 'Corel PDF Engine Version 3.0.0.576', 'creator': 'CorelDRAW', 'creationdate': 'D:20111109070950', 'moddate': 'D:20111109070950', 'author': 'desktop', 'title': 'Standard Treatment and Essential Medicine List', 'source': 'C:\\\\matricare\\\\MatriCare\\\\MatriCare\\\\Matricare1\\\\DATA\\\\Standard Treatment Guideline - Pregnancy & Sick newborn.pdf', 'total_pages': 141, 'page': 30, 'page_label': '31'}, page_content=\"23\\niv) Urine: Routine and microscopic\\nv) Obstetric USG\\nvi) CT scan of brain in selected cases \\ni) Prevent injury\\nii) Don't refrain from convulsion\\niii) Maintain airway, place padded tongue blade\\niv) Place patient in left lateral position to prevent aspiration\\nv) Oxygen saturation should be monitored with pulse oxymeter (if practicable)\\nvi)  Oxygen inhalation to correct hypoxia and acidosis\\nvii) Give anticonvulsant drug\\nviii) After convulsion aspirate mouth and throat\\ni) Magnesium sulphate (Pritchard regimen) described in severe pre-eclampsia.\\nii) Inj. Phenytoin or Inj. Phosphenytoin, 100 mg 8 hourly when there is magnesium toxicity or it is \\ncontraindicated.\\niii) Inj. Lorazepam or Inj. Diazepam\\nIndication for antihypertensive:  BP≥160/90\\nDrugs used in hypertensive emergencies:\\nLabetalol: 20 mg IV bolus repeated after 10 minutes with the same dose. In case of unsatisfactory response \\nto be repeated every 10 minutes with double the previous dose maximum upto total dose of 220 mg.  Before \\neach dose blood pressure must be recorded till diastolic BP is < 100 mm Hg. Then followed up with oral \\nlabetalol.\\nNifedipine: 10 mg orally, to be repeated after 30 minutes if necessary. Once desired BP is achieved this \\ndosage is continued regular BP monitoring. Nifedipine is never to be used sub-lingually. \\n 1. Required fluid: 1 to 1.5 ml/Kg/hr or 80 ml/ hr of balanced salt solution. Ringer's lactate is the best.\\n2. Oliguria without risk factors like HELLP syndrome, sepsis and haemorrhage is dealt with expectant \\nmanagement, fluid challenge not to be done.\\nManagement during seizure \\nControlling seizure and preventing recurrence\\nTreatment of hypertension  \\nFluid & Electrolyte balance\"), Document(metadata={'producer': 'Corel PDF Engine Version 3.0.0.576', 'creator': 'CorelDRAW', 'creationdate': 'D:20111109070950', 'moddate': 'D:20111109070950', 'author': 'desktop', 'title': 'Standard Treatment and Essential Medicine List', 'source': 'C:\\\\matricare\\\\MatriCare\\\\MatriCare\\\\Matricare1\\\\DATA\\\\Standard Treatment Guideline - Pregnancy & Sick newborn.pdf', 'total_pages': 141, 'page': 31, 'page_label': '32'}, page_content='24\\n3. Oliguria and anuria with the above risk factors need \\nvInvasive monitoring,\\nvContinuous frusemide or renal dose dopamine 3 mcg/kg/min to promote diuresis\\nDelivery is the definitive treatment of eclampsia. Vaginal delivery is preferred when there is good prospect \\nof vaginal delivery within 24 hours.  Anticipation of vaginal delivery should not degenerate into prolonged \\nlabour. In case of unfavorable cervix not responding to priming or worsening maternal or foetal condition \\ncaesarean section is to be done without any hesitation. \\nLabour and delivery  \\nPre-eclampsia\\nMild\\nSevere\\n Mild:\\n SBP < 160 mm Hg & DBP < 110 mm Hg\\n Proteinuria 0.3gm to 5gm / day\\n The patient does not have any signs & symptoms associated with severe PET.\\nSevere Pre-eclampsia:\\nCriteria for diagnosis of severe pre-eclampsia\\nrSystolic blood pressure of 160 mmHg or higher of diastolic 110 mmHg or higher on two \\noccasions at least 6 hours apart while the patient is in bed rest.\\nrProteinuria of 5g or higher in a 24-hour urine specimen or 3+ or greater on two random \\nurine samples collected at least 4 hours apart.\\nrOliguria of less than 400 ml in 24 hours.\\nrPulmonary edema or cyanosis\\nrSevere headache, vomiting\\nrEpigastric or right upper quadrant pain\\nrCerebral or visual disturbances\\nrSigns of clonus, papilloedema\\nrImpaired liver function\\nrThrombocytopenia\\nrIUGR\\nrA DBP  100 on 2 occasions & significant proteinuria with at least 2 signs or symptoms.'), Document(metadata={'producer': 'Corel PDF Engine Version 3.0.0.576', 'creator': 'CorelDRAW', 'creationdate': 'D:20111109070950', 'moddate': 'D:20111109070950', 'author': 'desktop', 'title': 'Standard Treatment and Essential Medicine List', 'source': 'C:\\\\matricare\\\\MatriCare\\\\MatriCare\\\\Matricare1\\\\DATA\\\\Standard Treatment Guideline - Pregnancy & Sick newborn.pdf', 'total_pages': 141, 'page': 32, 'page_label': '33'}, page_content='25\\nMild Preeclampsia\\nGest. age\\n<32 wks ≥ 37 wks32-36 wks\\nContinuous assessment Daily \\nBP, Wt, urine dipstick, DFMC \\nQuestioning? serum uric acid \\nPlatelets, LFT, RFT wkly \\nGravidogram, USG for foetal \\ngrowth, Doppler study every wk, \\nFundoscopy \\nStable Uncontrolled\\n \\nBP> 160/110 \\nProteinuria>5gm/24 hrs \\nPlatelets<100,000/cmm \\nAST>70IU/L OR ALT>70IU/L \\nLDH>600 U/L \\nSr.uric acid ≥ 6mg% \\nMinimal or no fetal growth by USG \\nAbsent or reversed UA Doppler \\nOligohydramnious (AFI<5cm) \\nProgressive increase in serum \\ncreatinine\\nContinue \\nexpectancy \\nDeliver at 37 wks\\nDelivery'), Document(metadata={'producer': 'Corel PDF Engine Version 3.0.0.576', 'creator': 'CorelDRAW', 'creationdate': 'D:20111109070950', 'moddate': 'D:20111109070950', 'author': 'desktop', 'title': 'Standard Treatment and Essential Medicine List', 'source': 'C:\\\\matricare\\\\MatriCare\\\\MatriCare\\\\Matricare1\\\\DATA\\\\Standard Treatment Guideline - Pregnancy & Sick newborn.pdf', 'total_pages': 141, 'page': 33, 'page_label': '34'}, page_content='26\\nSevere Preeclampsia  \\n \\n \\n \\n \\n \\n \\n \\n \\n \\n \\n \\n \\n \\n \\n \\n \\n \\n \\n \\n \\n \\n \\n \\n \\n \\n \\n \\n \\n \\n \\n \\n \\n     \\nMgSO  4\\nBP control \\nimmediate \\ndelivery \\nBed rest, DFMC, BP 4 hrly, daily wt. & I/O,\\nDaily CBC, LFT, RFT if normal \\n12 hrly urinary protein, steroids \\nUA & MCA Doppler, Liquor status twice wkly \\nGravidogram, USG for fetal growth every 2 wks \\nMgSO  & 4\\nimmediate delivery \\nGest. Age\\n<24 wks 24-34 wks >34 wks \\nContinuous Assessment\\nBP ≥ 160/110 despite of treatment \\nUrine output<400ml/24hrs \\nCBC, Urine R/M, TPC<100,000 \\nElevated LFT, RFT, serum uric acid \\nSevere symptoms, HELLP, \\nAbsent or reversed diastolic flow UA D. \\nOligohydramnious, IUGR \\nNonreassuring FHR, fundoscopy \\nMgSO4\\nBP control \\nimmediate \\ndelivery \\nNO YES\\nMgSO4\\nBP control \\nSteroids? \\nImmediate \\ndelivery \\nUnstable Stable\\nContinue expectancy'), Document(metadata={'producer': 'Corel PDF Engine Version 3.0.0.576', 'creator': 'CorelDRAW', 'creationdate': 'D:20111109070950', 'moddate': 'D:20111109070950', 'author': 'desktop', 'title': 'Standard Treatment and Essential Medicine List', 'source': 'C:\\\\matricare\\\\MatriCare\\\\MatriCare\\\\Matricare1\\\\DATA\\\\Standard Treatment Guideline - Pregnancy & Sick newborn.pdf', 'total_pages': 141, 'page': 34, 'page_label': '35'}, page_content='27\\nEclampsia\\nABC\\nPlace the patient in lt. Lat. Position\\nInsert padded tongue blade, avoiding gag reflex.\\nSuction oral secretions.\\nGive O2 mask at 8 – 10 L/min.\\nElevate bed side rails and pad them to avoid injury.\\nUse physical restrains if necessary.\\nIVF (80ml/hr or 1ml/kg/hr)\\nLoading dose of MgSo  & them maintenance4\\n(if referred with MgSo  then only maintenance)4\\nAntihypertensive, if DBP > 110mm Hg after MgSo4\\nIndications for CS\\nv Unripe cervix.\\nv GA < 32 weeks\\nv Inadequate BP Control\\nv Obstetric indication for CS\\nv Fetal distress, status eclampticus\\nIntermittent I.M. Injections (Pritchard Regimen)\\nMonitoring of Magnesium Toxicity.\\nr 4g of 20% Magnesium sulphate I.V @ not exceeding 1g/min.\\nr Followed by 10g of 50% Magnesium sulphate 5g each in both the buttocks through a 3-inch long, \\n20G needle (1ml of 2% lidocaine minimizes discomfort).\\nrIf convulsion persists after 15 min. give upto 2g more in I.V 20% Magnesium sulphate @ not \\nexceeding 1g/min. if the women is large upto 4g may be given.\\nrThereafter give 5gm of 50% solution of Magnesium sulphate every 4hr in alternate buttock.\\nMagnesium sulphate is to be continued 24 hrs after delivery or if eclampsia develops post-\\npartum, 24 hrs after the last seizure.\\nr Urine output should be at least 30ml/hr or 100ml in last 4hr.\\nrDeep tendon reflexes should be present (disappearance of the pattlar reflex is the first sign of \\nimpending toxicity, in this case the drug must be discontinued until the patellar reflex is present.)\\nrRespiration rate should be greater than 14 breaths / min (if there is respiratory'), Document(metadata={'producer': 'Corel PDF Engine Version 3.0.0.576', 'creator': 'CorelDRAW', 'creationdate': 'D:20111109070950', 'moddate': 'D:20111109070950', 'author': 'desktop', 'title': 'Standard Treatment and Essential Medicine List', 'source': 'C:\\\\matricare\\\\MatriCare\\\\MatriCare\\\\Matricare1\\\\DATA\\\\Standard Treatment Guideline - Pregnancy & Sick newborn.pdf', 'total_pages': 141, 'page': 35, 'page_label': '36'}, page_content='28\\ndepression due to hyper-magnesemia O2, I.V. Calcium gluconate (1g) 10ml of a 10% \\nsolution to be given over 10 minutes withholding the magnesium sulphate.\\nr  = 96%\\n \\nNifedipine\\nShould be given orally not sublingually \\n5 – 10mg Cap. Start\\nBP monitored every 15 minutes\\nRepeat 10 mg every 30 to 60 minutes till adequate response.\\n Methyl Dopa (1st line antihypertensive)\\nOrally 250 mg bid may be increased to 1 g q.i.d.\\n Labetalol \\nIf > 160/110\\nIV bolus of 20 mg\\nIf not decrease to diastolic 80 – 110mm Hg in 10 mins\\n2nd dose of IV bolus of 40mg\\nif not controlled 3rd IV bolus of 80mg\\nwhen controlled oral labetalol 200 – 400mg of 12 Hrly\\nif we give by continuous IV then 20mg/hr, max. upto  200mg/hr\\nonce BP stabilized 100 – 400mg orally every 6 – 12 Hrs.\\nDiuretics\\nDiuretics contraindicated in preeclampsia and eclampsia before delivery except those with … \\nPulmonary edema, severe edema or renal failure.\\nFurosemide 20 – 40mg IV/6-12 hrly should be initiated shortly after delivery (VD / CS) then \\norally when patient able to.\\nPrinciples of Peri – Partum Care\\nMaintain vigilance as 44% eclampsia occurs postpartum\\nHigh dependency care should be provided as clinically indicated (minimum 24 hrs) consider \\nICU care.\\n Maintain close attention to fluid balance.\\n Reduce antihypertensive medication as indicated.\\n Inpatient care for 4 days or more.\\n Follow-up.\\nPulse oximetry\\nTreatment of Hypertension'), Document(metadata={'producer': 'Corel PDF Engine Version 3.0.0.576', 'creator': 'CorelDRAW', 'creationdate': 'D:20111109070950', 'moddate': 'D:20111109070950', 'author': 'desktop', 'title': 'Standard Treatment and Essential Medicine List', 'source': 'C:\\\\matricare\\\\MatriCare\\\\MatriCare\\\\Matricare1\\\\DATA\\\\Standard Treatment Guideline - Pregnancy & Sick newborn.pdf', 'total_pages': 141, 'page': 36, 'page_label': '37'}, page_content='29\\nDiagnosis\\nHistory and Physical Examination of a woman in labour\\nPhysical Examination \\nThe objective of diagnosis is to confirm diagnosis of labour, to find out if there is any high risk factors \\nassociated, which needs close and highly specialized management or referral. To answer the above \\nquestions it is required by the attending doctor to have a thorough history taking and detailed clinical \\nexamination similar to described in Ante-natal Care.\\nWoman is to be asked about        \\nrTime since beginning of abdominal pain or discomfort  \\nrAny other complains like bleeding or leaking\\nGeneral & Systemic Examination: Particular importance is attached to  \\nrHeight.\\nrWeight.\\nrGait.\\nrPallor.\\nrOedema.\\nrIcterus.\\nrLymphadenopathy.\\nrPulse.\\nrBlood Pressure.\\nrThyroid examination.\\nrBreast examination.\\nrRespiratory System \\nrCardiovascular System and\\nrOther systems\\nAbdominal Examination                                                                                                                   \\nrHeight of the fundus of the uterus                                                                                           \\nrFrequency of contraction (no./ 10 min.)                                                                                   \\nrDuration of each contraction (in seconds)                                                                                              \\nrLie, Presentation and Position of the fetus                                                                 \\nrFoetal Heart is to be auscultated                                                                                                                                                                                   \\nrClinical assessment of amniotic fluid volume\\n4. NORMAL LABOUR'), Document(metadata={'producer': 'Corel PDF Engine Version 3.0.0.576', 'creator': 'CorelDRAW', 'creationdate': 'D:20111109070950', 'moddate': 'D:20111109070950', 'author': 'desktop', 'title': 'Standard Treatment and Essential Medicine List', 'source': 'C:\\\\matricare\\\\MatriCare\\\\MatriCare\\\\Matricare1\\\\DATA\\\\Standard Treatment Guideline - Pregnancy & Sick newborn.pdf', 'total_pages': 141, 'page': 37, 'page_label': '38'}, page_content='30\\nPelvic Examination:\\nCervical condition                                                                                                                       \\nrEffacement\\nrDilatation\\nrConsistency\\nrDirection of os                                                                                                            \\nrCondition of the bag of waters\\nrPresenting part\\nrHead or any other\\nrStation of the PP\\nrPosition of the PP (in case of enough cervical dilatation)                                                                                          \\nPelvic assessment                                                                                                                           \\n.\\nrType of sacrum (curvature)\\nrSacral promontory \\nrShape of the brim\\nrSide walls\\nrIschial spines\\nrInterspinous diameter\\nrSacrosciatic notch\\nrSub-pubic arch and angle\\nrT. D. O (Transverse Diameter of the Outlet)\\nrHaemoglobin, Urine - Routine tests including ketone bodies and obstetric USG.\\nrAfter completion of above task one will be able to answer the questions asked at the \\nbeginning.\\nrIntermittent painful uterine contractions with gradually increasing frequency and intensity.\\nrShow (passage of blood stained thick mucous plug)\\nrProgressive effacement and dilatation of the cervix   (in Primigravidae first effacement then \\ndilatation and in multipara effacement and dilatation take place simultaneously)\\nrFormation of bag of waters \\nrOccasionally, particularly, in pre-labour and early part of latent phase of labour there may be \\ndoubt about diagnosis of labour. In these circumstances it is always advisable to examine the \\nwoman after a gap of 4 – 6 hours.\\nr\\nInvestigations \\nSigns of Labour'), Document(metadata={'producer': 'Corel PDF Engine Version 3.0.0.576', 'creator': 'CorelDRAW', 'creationdate': 'D:20111109070950', 'moddate': 'D:20111109070950', 'author': 'desktop', 'title': 'Standard Treatment and Essential Medicine List', 'source': 'C:\\\\matricare\\\\MatriCare\\\\MatriCare\\\\Matricare1\\\\DATA\\\\Standard Treatment Guideline - Pregnancy & Sick newborn.pdf', 'total_pages': 141, 'page': 38, 'page_label': '39'}, page_content=\"31\\nStages and phases of labour\\nThere are three stages of labour   \\nrFirst stage: From the onset of labour to full dilatation of cervix  \\nrSecond stage: From full dilatation of cervix to complete expulsion of the foetus.\\nrThird stage: From expulsion of the foetus to complete expulsion of the placenta cord and the \\nmembranes\\nThere are two phases of labour from the practical point of view.\\nrLatent phase: From onset of labour to 4 cms. dilatation of the cervix \\nrActive phase: From 4 cms. to full dilatation of the cervix. Once labour is diagnosed the \\nwoman is admitted and managed.\\nrThe woman should be ambulatory in the first stage as long as she feels comfortable.\\nrRoutine use of enema is no more recommended. \\nrShaving not recommended routinely. Only clipping of pubic hair is required.\\nrClear liquid reach in calorie and electrolytes. The liquid should be such that it can be aspirated by a \\nRyle's tube as and when required and it should not increase the gastric acidity.\\nrGeneral condition of the woman every 30 minutes.  \\nrMonitoring of uterine contractions every half an hour. \\nrFHR monitoring every 30 minutes and every 15 minutes in high risk cases. P/V examination to \\nmonitor cervical effacements and dilatation every 4 hours in Latent phase and more frequently in \\nactive phase. \\nrP/V examination must be done if the membranes rupture. Assessment of progress of labour must be \\ndone using a simplified PARTOGRAPH.\\nrAnalgesia during labour - Inj Tramadol 1mg/Kg IM can be repeated at intervals of 6 to 8 hours.\\nrAntibiotics, not required routinely \\nrBearing down by the woman\\nrContractions become more frequent lasting for more than 1 minute\\nrRupture of membranes\\nMANAGEMENT\\nFIRST STAGE OF LABOUR\\nMONITORING\\nSECOND STAGE OF LABOUR DIAGNOSIS\"), Document(metadata={'producer': 'Corel PDF Engine Version 3.0.0.576', 'creator': 'CorelDRAW', 'creationdate': 'D:20111109070950', 'moddate': 'D:20111109070950', 'author': 'desktop', 'title': 'Standard Treatment and Essential Medicine List', 'source': 'C:\\\\matricare\\\\MatriCare\\\\MatriCare\\\\Matricare1\\\\DATA\\\\Standard Treatment Guideline - Pregnancy & Sick newborn.pdf', 'total_pages': 141, 'page': 39, 'page_label': '40'}, page_content=\"32\\nMANAGEMENT\\nr\\nrP/V examination at 30-60 minutes interval in Primigravida or 15-30 minutes interval in a multipara to \\nassess progress of labour i.e. decent and rotation of head. Best guide for timing of the next \\nexamination is the findings of present examination.\\nrFHR monitoring – Every 5-15 minutes\\nrPosture - Current recommendation is assumption of whichever position, the patient likes. \\nrPrevention of Infection Practices must be the rule.\\nrPreparation for delivery – All required instruments and equipments to be carefully checked \\nrEpisiotomy - Restrictive use recommended only in cases where the perineum is at the risk of \\nrupture.(All aspects of episiotomy described later)\\nrDelivery of the head - Slow delivery of the head in between the contractions. Extension with resultant \\ndelivery of the head should not be allowed till the occiput is well under the pubic arch. Till this point of \\ntime flexion of the head is to be maintained by support.\\nrImmediate suction of mouth and pharynx as soon as the head is free.\\nrNeck examined for cord. Loose cord is slipped over and tight cord is divided in between two large artery \\nforceps. \\nrDelivery of the shoulders done after restitution and external rotation of the head. After moving slightly \\nto right side the head is held firmly but with care in between two hands, left above the right and head is \\ndepressed down wards to deliver the anterior shoulder. Carrying the head upwards towards the \\nmother's abdomen will effect delivery of the posterior shoulder and the trunk. Anterior shoulder \\nshould be delivered first.\\nrCare of the newborn - Baby to be kept on a clean tray covered with dry linen. Baby is to be covered with \\na clean and dry towel. Air passages are to be cleaned of mucus and liquor by gentle suction. Apgar \\nrating is recorded at 1 and 5 minutes. Cord is clamped with a disposable cord clamp or ligated with \\nsterilized silk tie keeping a stump of 2 - 3 cms. long  The baby is examined for any  structural anomaly. \\nBaby is immediately kept with the mother and should not be separated from mother. Bathing of the \\nbaby with either soap and water or cleaning with oil is to be strictly condemned.\\nAMTSL (Active Management of Third Stage of Labour) must be practiced in each and every case as follows\\nrOxytocin 10 units IM within 1 min\\nrLate Cord clamping – cord is clamped after ceasation of cord pulsation.\\nrControlled cord traction applied. Completeness of maternal surface of placenta is checked.\\nrAfter delivery of placenta - fundal massage every 15 mins by the patient herself for 2hrs. \\nOxytocin drip is continued for 1 hr\\nrVital signs are checked, immediately and then every 15 mins. for the first 2 hrs, then every 30 \\nmins for 1 hr and every 1 hr for 3 hrs.\\nrCondition of the uterus is examined to look for contraction and retraction of the uterus.\\nrInspection of vulva is done for any bleeding.\\nrRepair of perineal tear /episiotomy as described later\\nrEnsure breast-feeding immediately.\\nTo catheterise the bladder if full and woman is not able to void\\nCONDUCTION OF DELIVERY:\\nMANAGEMENT OF THIRD STAGE OF LABOUR\"), Document(metadata={'producer': 'Corel PDF Engine Version 3.0.0.576', 'creator': 'CorelDRAW', 'creationdate': 'D:20111109070950', 'moddate': 'D:20111109070950', 'author': 'desktop', 'title': 'Standard Treatment and Essential Medicine List', 'source': 'C:\\\\matricare\\\\MatriCare\\\\MatriCare\\\\Matricare1\\\\DATA\\\\Standard Treatment Guideline - Pregnancy & Sick newborn.pdf', 'total_pages': 141, 'page': 40, 'page_label': '41'}, page_content='33\\nPROTOCOL FOR MANAGEMENT OF LABOUR \\n \\n \\n \\n \\n \\n \\n \\n \\n \\n \\n \\n \\n \\n \\n \\nPatient with pain abdomen upto EDD \\nIdentify risk factors *\\nPainful uterine contractions (at least 1 in 10 mins lasting > 20 secs) \\nP/V\\nCx undilated <4 cm (latent) > 4cm\\nReexamine \\nafter 4 hrs \\nAnteroom Initiate partograph\\nManage as per protocol \\nNo \\nchange \\nProgressive change \\n(increase ut. Act. \\nEffacdil)\\n \\nFalse \\nlabour \\nANW \\nTrue labour \\nLatent (<4cm) Active (> 4cm)\\nManage as per protocol\\nReview \\nafter 4 hrs \\nNo change Progressive change\\nManage as per \\nprotocol \\nANW'), Document(metadata={'producer': 'Corel PDF Engine Version 3.0.0.576', 'creator': 'CorelDRAW', 'creationdate': 'D:20111109070950', 'moddate': 'D:20111109070950', 'author': 'desktop', 'title': 'Standard Treatment and Essential Medicine List', 'source': 'C:\\\\matricare\\\\MatriCare\\\\MatriCare\\\\Matricare1\\\\DATA\\\\Standard Treatment Guideline - Pregnancy & Sick newborn.pdf', 'total_pages': 141, 'page': 41, 'page_label': '42'}, page_content='34\\n* Checklist of risk factors \\nvPreterm\\nvPost term\\nvSignificant medical diseases – HTN, DM, heart disease, anaemia\\nvPost CS pregnancy.\\nvIUGR\\nvMalpresentation.\\nvAPH.\\nvPIH, Pre eclampsia, eclampsia\\nvMultiple pregnancy\\nvGrand multigravida.\\nvElderly primigravida\\nvPregnancy after infertility treatment.\\nvBOH\\nvPROM\\nvISO immunisation\\nvDecreased foetal movement\\nvCompromised BPP\\nvPregnancy after gynecological surgery like myomectomy, VVF repair\\n \\n \\n \\n \\nPatient in latent labour (<4 cm) \\nAnte room / ANW \\nEmotional support and counseling, ambulation, nutrition, \\ncare of bladder, DFMC, Invenstigation\\nProgress to active \\nlabour \\nLR \\nManage as per protocol \\nLeaking PV, bleeding PV, \\ndecreasing foetal \\nmovement\\nLR \\nProlonged latent \\nphase (Primi-20hrs, \\nMulti-14hrs) \\nReassurance, analgesics, \\nobservation \\n(USG)/Augmentation'), Document(metadata={'producer': 'Corel PDF Engine Version 3.0.0.576', 'creator': 'CorelDRAW', 'creationdate': 'D:20111109070950', 'moddate': 'D:20111109070950', 'author': 'desktop', 'title': 'Standard Treatment and Essential Medicine List', 'source': 'C:\\\\matricare\\\\MatriCare\\\\MatriCare\\\\Matricare1\\\\DATA\\\\Standard Treatment Guideline - Pregnancy & Sick newborn.pdf', 'total_pages': 141, 'page': 42, 'page_label': '43'}, page_content='35\\n \\n \\n \\n \\n \\n \\n \\n \\n \\n \\n \\n \\n \\n \\n \\n \\n \\n \\n \\n \\n \\n \\n \\n \\n \\n \\n \\n \\n \\n \\n \\n \\n \\n \\n \\n \\n \\n \\n \\n \\n \\n \\n \\n \\n \\n \\n \\n \\nPatient in active labour \\nNutrition, Analgesics, Partograph\\n \\nAssess progress very 2 to 4 hourly & at ROM\\n< 1CM/HR or Rt. of alert line ≥ 1cm/hr or Lt. of alert line\\nExclude CPD \\nAmniotomy (check liq., FHR) >1 cm/hr Continue monitoring\\n<1 cm/hr \\nOxytocin \\nSec. Arrest /Rt. of action line \\nCS/ operative VD\\nContinue monitoring 2nd stage \\nContinue monitoring & assessment of \\nprogress upto 1 Hr.\\nProtraction of descent/ malrotation Normal descent & rotation\\nReassess VD with restrictive use of \\nepisiotomy \\nCaput/moulding \\nPresent\\n Absent \\nOperative \\nVD/CS \\nOxytocin \\nArrest of descent Normal descent & rotation\\nAMTSL \\n• Oxytocin 10 units IM in 1 min \\n• CCT \\n• Late cord clamping if baby vigorous \\n• Uterine massage \\n4th stage \\n (chk vitals, ut. Tone., \\nbleeding for 1 hr) \\nReassess after 1 hr'), Document(metadata={'producer': 'Corel PDF Engine Version 3.0.0.576', 'creator': 'CorelDRAW', 'creationdate': 'D:20111109070950', 'moddate': 'D:20111109070950', 'author': 'desktop', 'title': 'Standard Treatment and Essential Medicine List', 'source': 'C:\\\\matricare\\\\MatriCare\\\\MatriCare\\\\Matricare1\\\\DATA\\\\Standard Treatment Guideline - Pregnancy & Sick newborn.pdf', 'total_pages': 141, 'page': 43, 'page_label': '44'}, page_content=\"36\\nREFERRAL CRITERIA\\nrHistory of any adverse event during previous pregnancy and or child birth\\nrAny complication associated with present pregnancy. \\nrProlonged Labour (Stage I>12 hrs., Stage II > 2 hrs.)\\nrCervical graph on the partograph remaining to the right of 'Alert Line' in spite of good uterine \\ncontractions.\\nrFoetal Distress in Stage I.\\nrAbnormal Presentation.\\nrFeatures of obstructed labour. \\nrPost-partum Haemorrhage, (when primary interventions fail to control)\\nrMorbidly adherent Placenta. \\nrInversion of Uterus. \\nrSuspected Rupture of Uterus. \\n[During the Referral Process On-going Measures like I.V. Fluids, Indwelling Catheter, Uterine \\nMassage. Escalating Doses of Oxytocin (till 100 units is reached, in cases of Atonic P.P.H and Retained \\nPlacenta). Vaginal Pack in traumatic P.P.H, must be instituted simultaneously.]\"), Document(metadata={'producer': 'Corel PDF Engine Version 3.0.0.576', 'creator': 'CorelDRAW', 'creationdate': 'D:20111109070950', 'moddate': 'D:20111109070950', 'author': 'desktop', 'title': 'Standard Treatment and Essential Medicine List', 'source': 'C:\\\\matricare\\\\MatriCare\\\\MatriCare\\\\Matricare1\\\\DATA\\\\Standard Treatment Guideline - Pregnancy & Sick newborn.pdf', 'total_pages': 141, 'page': 44, 'page_label': '45'}, page_content=\"37\\nA surgically planned incision on the perineum and the posterior vaginal wall  during the   second  \\nstage of labour is called episiotomy.\\nrTo enlarge the vaginal introitus so as to facilitate easy and safe delivery of the foetus spontaneous or \\nmanipulative.\\nrTo minimize overstretching and rupture of perineal muscles and fascia and to reduce pressure on the \\nfoetal   head.\\nIt is recommended in selective cases, and should not be performed routinely.\\n1. In rigid perineum causing arrest or delay in descend of the presenting part.\\n2. Complicated vaginal delivery (big baby, premature baby, breech, face anterior, face to pubis and \\nshoulder dystocia)  \\n3. Operative delivery forceps and ventouse.  \\n4. Previous perineal surgery (pelvic floor repair and pelvic reconstructive surgery).\\nThere are three types episiotomy depending on location of the incision.\\ni. Mediolateral\\nii. Median\\niii. Lateral\\nOf all the above medio-lateral episiotomy is most commonly practiced.\\n1. The patient is put in lithotomy position         \\n2. The perineum is thoroughly cleaned with antiseptic lotion.\\n3. It is made sure that there are no known allergies to lignocaine or related drugs. \\n4. 10 ml of 1% lignocaine solution is taken and infiltration is done beneath the vaginal mucosa, the skin \\nof the perineum and deep into perineal muscles, taking care not to inject intravascularly by \\naspirating before pushing. \\n5. Local anaesthesia is given 2- 5 minutes before incision to provide sufficient time for effect.\\n6. Episiotomy is performed only after the perineum becomes thin but before it is over stretched and\\n3-4 cm. of the baby's head is visible during a contraction just before crowning. Performing an \\nepisiotomy will cause bleeding, so it should not be done too early.\\nOBJECTIVES:     \\nINDICATIONS:   \\nTYPES OF EPISIOTOMY:\\nSTEPS OF MEDIOLATERAL EPISIOTOMY\\n5. EPISIOTOMY\"), Document(metadata={'producer': 'Corel PDF Engine Version 3.0.0.576', 'creator': 'CorelDRAW', 'creationdate': 'D:20111109070950', 'moddate': 'D:20111109070950', 'author': 'desktop', 'title': 'Standard Treatment and Essential Medicine List', 'source': 'C:\\\\matricare\\\\MatriCare\\\\MatriCare\\\\Matricare1\\\\DATA\\\\Standard Treatment Guideline - Pregnancy & Sick newborn.pdf', 'total_pages': 141, 'page': 45, 'page_label': '46'}, page_content=\"38\\nINCISION: \\nTwo fingers are placed in the vagina between the presenting part and the posterior vaginal \\nwall. The incision is made by a curved or straight blunt pointed scissors, one blade of which is \\nplaced inside in between the finger and the posterior vaginal wall and the other on the skin.\\nrThe incision  should be made at   the  height of uterine  contraction.\\nrDeliberate cut should be made from the centre of the fourchette extending mediolaterally \\neither to right or left about 2.5 cm away from anus.\\nrIt should cut about 3-4 cm of posterior vaginal wall and perineum.\\nrThe baby's head and shoulders are controlled as they deliver, ensuring that the shoulders \\nhave rotated to the midline to prevent extension of episiotomy.\\nr\\nREPAIR :                                                                                                                \\na. Repair is done soon after expulsion of placenta. Carefully the extensions and other tears are \\nexamined if any.\\nb. The perineum and wound area is again swabbed with antiseptic lotion.\\nc. The vaginal mucosa is closed by continuous sutures with  (1-0) chromic catgut mounted on curved \\natraumatic needle.\\nd. The repair is started about 1 cm, above the apex and continued up to the level of vaginal opening. \\nThe suture should include deep tissue to obliterate the dead space.\\ne. The perineal muscles are closed by interrupted stitches with  (1-0) chromic catgut mounted on \\ncurved atraumatic needle.    \\nf. The skin is closed by interrupted vertical   mattress stitches with (1-0) chromic catgut mounted on \\ncurved atraumatic needle.\"), Document(metadata={'producer': 'Corel PDF Engine Version 3.0.0.576', 'creator': 'CorelDRAW', 'creationdate': 'D:20111109070950', 'moddate': 'D:20111109070950', 'author': 'desktop', 'title': 'Standard Treatment and Essential Medicine List', 'source': 'C:\\\\matricare\\\\MatriCare\\\\MatriCare\\\\Matricare1\\\\DATA\\\\Standard Treatment Guideline - Pregnancy & Sick newborn.pdf', 'total_pages': 141, 'page': 46, 'page_label': '47'}, page_content='39\\nPOST OPERATIVE CARE: \\nCOMPLICATIONS:\\nrThe wound is to be dressed by the patient with antiseptic lotion followed by any antiseptic ointment \\napplication, each time following urination and defecation for 7- 10 days.\\nrCap Ampicillin 500 mg. 6 hrly / Cap. Amoxycillin 500mg 8hrly / Tab. Cefadroxil 500mg BD orally for 5 \\ndays.\\nrTab. Ibuprofen (400mg) and Paracetamol (500mg) orally after food three times a day for 5 days to \\nrelieve pain. \\nrHematoma formation:  Opened and drained and reclosed after giving a drain. \\nrSEPSIS: If mild   continue antibiotics.   If severe Tab. metronidazole (400mg) orally three times a day \\nand Tab. cefixime (200mg) two-time a day to be added.  \\nrIf necrotizing fasciitis involving deep tissue occurs, debridement is done, antibiotics given parenterally \\nand secondary closure performed after 6 week.'), Document(metadata={'producer': 'Corel PDF Engine Version 3.0.0.576', 'creator': 'CorelDRAW', 'creationdate': 'D:20111109070950', 'moddate': 'D:20111109070950', 'author': 'desktop', 'title': 'Standard Treatment and Essential Medicine List', 'source': 'C:\\\\matricare\\\\MatriCare\\\\MatriCare\\\\Matricare1\\\\DATA\\\\Standard Treatment Guideline - Pregnancy & Sick newborn.pdf', 'total_pages': 141, 'page': 47, 'page_label': '48'}, page_content='40\\nDefinition :- \\nTHREATENED PRETERM LABOUR –  \\nAIMS & OBJECTIVES OF MANAGEMENT\\nrGestational age of < 37 completed weeks\\nrRegular & painful uterine contractions (  4 in 20mins. or  8 in 1 hr)\\nrCervical changes – effacement ≥ 80% & dilatation ≥ 1 cm \\n  Documented uterine contractions but no evidence of cervical change.\\n1. Until effective strategies are found, efforts should be aimed at prolonging pregnancy as \\nmuch as possible.\\n2. Intra-partum management\\n3. Neonatal care\\n≥ ≥\\n \\n  \\n \\n \\n \\n \\n \\n \\n \\n \\n \\n \\n \\n \\n \\n \\n \\nPRETERM LABOUR\\n \\n \\nThreatened Preterm Labour Established Preterm Labour\\n \\n• Foetal surveillance \\n• Mode of delivery \\n• Place of caesarean \\no Abnormal FHR \\no Mal-presentation \\no Delayed progress \\no Any other obstetric \\n   Complication \\n• Vaginal delivery \\n• Routine episiotomy \\n• Forceps preferable to \\nvacuum \\n• Immediate neonatal care\\nExpectant Management \\n \\n• Steroid \\n• Tocolysis \\n• Foetal surveillance \\n• Referral \\n6. PRETERM LABOUR'), Document(metadata={'producer': 'Corel PDF Engine Version 3.0.0.576', 'creator': 'CorelDRAW', 'creationdate': 'D:20111109070950', 'moddate': 'D:20111109070950', 'author': 'desktop', 'title': 'Standard Treatment and Essential Medicine List', 'source': 'C:\\\\matricare\\\\MatriCare\\\\MatriCare\\\\Matricare1\\\\DATA\\\\Standard Treatment Guideline - Pregnancy & Sick newborn.pdf', 'total_pages': 141, 'page': 48, 'page_label': '49'}, page_content='41\\nRule out PPROM\\n< 2.5 cm\\n \\nYes No\\n \\n        \\n \\n \\n   \\n   \\n \\n  \\n                    \\n   \\n \\n \\n \\n \\n \\n \\n           \\n  \\n   \\n \\n \\n \\n \\n \\n  \\nAssess for following conditions\\n• Chorioamnionitis \\n• Severe placental insufficiency \\n• Gross congenital anomaly \\n• IUFD \\nYes\\nCS \\nNo\\nVaginal Delivery \\nConservative Management\\nWith tocolytics, steroids \\nContinue conservative \\nManagement \\n \\nManage depending on obstetric \\ncondition & plan for delivery if \\nnecessary  \\nUSG for FBPP, AFI, fetal presentation, placental site\\nCBC, culture of vaginal & cervical secretions, urine \\nAbnormalNormal\\nFoetal distress, either foetus of twin in \\nnon-vertex, VLBW in breech & other \\nobstetric indication\\nAbsent\\n \\nPatient < 37 weeks gestation with uterine contractions\\n Cervical changes\\n \\n< 80% effaced\\n \\n< 1cm dilated\\n≥ 80% effaced \\n> 1cm dilated\\n \\nThreatened PTL\\n \\nAdvanced PTL\\n \\nTVS\\n \\nCx length\\n \\n≥ 2.5 cm\\nFalse\\nANW\\n Allow Labour to\\n \\nContinue Conservative Management'), Document(metadata={'producer': 'Corel PDF Engine Version 3.0.0.576', 'creator': 'CorelDRAW', 'creationdate': 'D:20111109070950', 'moddate': 'D:20111109070950', 'author': 'desktop', 'title': 'Standard Treatment and Essential Medicine List', 'source': 'C:\\\\matricare\\\\MatriCare\\\\MatriCare\\\\Matricare1\\\\DATA\\\\Standard Treatment Guideline - Pregnancy & Sick newborn.pdf', 'total_pages': 141, 'page': 49, 'page_label': '50'}, page_content=\"42\\nPre labour rupture of membrane:\\nINITIAL ASSESMENT\\nDiagnostic criteria of PROM:\\nSterile speculum examination:\\nDigital examination : \\nSpecialized test:\\nSonography:  \\nDefined as rupture of foetal membranes before the onset of labour.\\nrTerm PROM\\nrPreterm PROM [prior to 37 wks]\\nrTo confirm the diagnosis of PROM\\nrTo assess the gestational age of foetus / disposition of foetus in utero / liquor status \\n/ estimated birth weight\\nrExclusion of overt chorioamnionitis \\nrTo assess the cervical status (Bishop's scoring)\\nHistory: sudden gush/continued leakage of fluid\\nrPresence / absence of pooling of amniotic fluid in posterior fornix, spontaneously / after \\nfundal pressure / straining\\nrPresence of meconium \\nrCervical length & dilatation\\nrRepeated digital examination to be avoided unless active labour / imminent delivery\\n (if practicable)\\nrNitrazine test\\nrFern test \\nrFoetal fibronectin \\nrIGFBP1 \\nUseful in some cases to help confirm the diagnosis \\nObstetric sonography with special reference to \\nrLiquor status\\nrFoetal examination\\nvNumber\\nvPresentation & position\\nvViability\\nvWeight\\nvMalformation\\nrPlacental grading\\nColour Doppler is indicated in certain selected cases of foetal compromise\\n7. PREMATURE RUPTURE OF MEMBRANE\"), Document(metadata={'producer': 'Corel PDF Engine Version 3.0.0.576', 'creator': 'CorelDRAW', 'creationdate': 'D:20111109070950', 'moddate': 'D:20111109070950', 'author': 'desktop', 'title': 'Standard Treatment and Essential Medicine List', 'source': 'C:\\\\matricare\\\\MatriCare\\\\MatriCare\\\\Matricare1\\\\DATA\\\\Standard Treatment Guideline - Pregnancy & Sick newborn.pdf', 'total_pages': 141, 'page': 50, 'page_label': '51'}, page_content='43\\nMANAGEMENT\\nComponents:\\nr\\nvMandatory after confirmation of diagnosis\\nvNo place for domiciliary treatment in proved case\\nrBed rest with sterile pad\\nrProphylactic antibiotics \\nvPrevents maternal chorioamnionitis and neonatal infection\\nvChoice of antibiotics\\nlIV Ampicillin 500mg 6 hrly / IV Amoxycillin 500mg 8 hrly + Tab. Erythromycin 250mg – \\n500mg 6 hrly orally for 48 hrs \\nlCap. Amoxycillin 500mg 8hrly + Tab. Erythromycin 250mg – 500mg 6 hrly orally for 5 \\ndays     or\\nlTab. Erythromycin 250mg orally 6hrly for 10 days (only Erythromycin base to be used in \\npregnancy)\\nrCorticosteroids\\nvBetamethasone 12 mg IM repeated after 24 hrs. (24mg total in 2 doses) prevents RDS\\nvTo be routinely given between 32 - 34 weeks of gestation\\nrTocolysis \\nvShort term tocolysis is beneficial as delay in delivery helps prevent RDS / useful for transit to \\nreferral\\nvCalcium channel blocker (Nifedipine) / Isoxsuprine is preferable\\nrMonitoring for infection\\nvPulse rate, temperature, uterine tenderness, foul smelling discharge, blood count (DC, TLC)\\nrFoetal surveillance  \\nvClinical (FHR, DFMC)\\nvSonography \\nvElectronic foetal monitoring (if available)\\nrMode of delivery\\nvIndications of caesarean section\\nvFoetal compromise\\nvMal presentation\\nvUnfavourable cervix\\nvFailed induction of labour\\nrNeonatal care\\nvIdeally in NICU \\nrPost natal care  \\nvAntibiotics for prevention of genital tract infection\\nHospitalisation'), Document(metadata={'producer': 'Corel PDF Engine Version 3.0.0.576', 'creator': 'CorelDRAW', 'creationdate': 'D:20111109070950', 'moddate': 'D:20111109070950', 'author': 'desktop', 'title': 'Standard Treatment and Essential Medicine List', 'source': 'C:\\\\matricare\\\\MatriCare\\\\MatriCare\\\\Matricare1\\\\DATA\\\\Standard Treatment Guideline - Pregnancy & Sick newborn.pdf', 'total_pages': 141, 'page': 51, 'page_label': '52'}, page_content='44\\n \\n \\n \\n \\n \\n \\n \\n \\n \\n \\n \\n \\n \\n \\n \\n \\n \\n \\n \\n \\nHistory suggesting of PROM\\nIf every thing normal & \\npatient no in labour \\nManage as per \\ngestational age \\nActive labour\\n Evidence of intramniotic infection \\nAbruptio Placentae \\nCord prolapse \\nNon reassuring fetal heart tracing \\nLethal anomalies \\nPatients informed consent \\n< 24wks & > 34 wks\\nDeliver \\nPROM\\n>= 37 weeks\\nNot in labour \\nà Prophylactic antibiotics \\nà Wait for spontaneous \\nonset of labour for 12 Hrs.\\nInduction with Oxytocin \\n(CS for Obst. Indication) \\nIn labour\\nàProphylactic antibiotics \\nà Augmentation with \\nOxytocin'), Document(metadata={'producer': 'Corel PDF Engine Version 3.0.0.576', 'creator': 'CorelDRAW', 'creationdate': 'D:20111109070950', 'moddate': 'D:20111109070950', 'author': 'desktop', 'title': 'Standard Treatment and Essential Medicine List', 'source': 'C:\\\\matricare\\\\MatriCare\\\\MatriCare\\\\Matricare1\\\\DATA\\\\Standard Treatment Guideline - Pregnancy & Sick newborn.pdf', 'total_pages': 141, 'page': 52, 'page_label': '53'}, page_content='45\\nPROM\\n34-36 WKS\\n(Same as for 37 weeks or more)\\nPROM\\n28 - 33 WKS\\nAntibiotics\\nSteroid\\nTocolysis\\nMonitor for infection\\nFoetal surveillance\\nActive labour\\nChorioemnionitis\\nAbruptio placentae\\nCord prolape\\nNon-reassuring foetal testing\\nLethal abnormalities        Patient Counselling\\nExpectant / Induction\\nDeliverExpectant Management\\nLeaking Membranes\\n< 28 weeks'), Document(metadata={'producer': 'Corel PDF Engine Version 3.0.0.576', 'creator': 'CorelDRAW', 'creationdate': 'D:20111109070950', 'moddate': 'D:20111109070950', 'author': 'desktop', 'title': 'Standard Treatment and Essential Medicine List', 'source': 'C:\\\\matricare\\\\MatriCare\\\\MatriCare\\\\Matricare1\\\\DATA\\\\Standard Treatment Guideline - Pregnancy & Sick newborn.pdf', 'total_pages': 141, 'page': 53, 'page_label': '54'}, page_content='46\\nWhat is Antepartum haemorrhage [APH]:\\nVaginal Bleeding after 28 wks of Pregnancy before birth of baby is called APH. \\nrPlacenta previa\\nrAbruptio placentae\\nrLocal causes (cervical or vaginal)\\nThe first two are the most common life threatening causes of APH.\\nPLACENTA PRAEVIA\\nMore common among multiparous woman. Higher the order of pregnancy more the chance of \\nPlacenta Previa.\\nGeneral condition:\\nrUsually good\\nrRarely in shock incase of massive haemorrhage. Shock is directly proportional to the amount \\nof bleeding\\nBleeding:  \\nrUsually recurrent\\nrApparently causeless (occasional history of prior intercourse)\\nrNot associated with pain abdomen unless woman is in labour\\nCondition of the uterus: \\nrUsually relaxed unless the woman is in labour\\nrLower pole may be difficult to palpate in anterior placenta\\nrOften associated with Breech or Shoulder presentation\\nrFHR is usually normal\\nMore common among primigravida woman however may be seen in multipara also. Usually \\nassociated with hypertensive disorders in pregnancy.\\nGeneral condition:\\nrTachycardia\\nrDistressed look of the woman\\nrShock is more common than in placenta previa and is not directly proportional to the amount \\nof bleeding.\\nBleeding:  \\nrUsually continuous\\nCAUSES\\nDIAGNOSIS\\nABRUPTIO PLACENTAE\\n8. ANTEPARTUM HAEMORRHAGE'), Document(metadata={'producer': 'Corel PDF Engine Version 3.0.0.576', 'creator': 'CorelDRAW', 'creationdate': 'D:20111109070950', 'moddate': 'D:20111109070950', 'author': 'desktop', 'title': 'Standard Treatment and Essential Medicine List', 'source': 'C:\\\\matricare\\\\MatriCare\\\\MatriCare\\\\Matricare1\\\\DATA\\\\Standard Treatment Guideline - Pregnancy & Sick newborn.pdf', 'total_pages': 141, 'page': 54, 'page_label': '55'}, page_content=\"47\\nMay be associated with a cause i.e. Preclampsia / Eclampsia, hydramnios, \\nanaemia and poor nutritional status.\\nrAlways associated with pain abdomen.\\nCondition of the uterus: \\n- Usually tonically contracted, rigid and tender\\n- Very difficult to palpate foetal parts\\n- Usually associated with features of Foetal Distress or IUD \\nvHelp and assistance is sought\\nvRapid assessment of general condition is done\\nvIV infusion with large bore cannula or needle is started and infused rapidly\\nvCrystalloids IV fluids like Ringers's Lactate/ DNS/NS are superior to colloids in \\nresuscitation\\nvBlood transfusion\\nvO  inhalation at a rate of 6-8L/min by mask or nasal cannula2\\nvLorazepam or Diazepam is given to reduce anxiety and distress if the woman is not in \\nshock\\nvBladder is catheterised and Intake/0utput is monitored using a chart\\nvHb%, Grouping Rh Typing and cross matching\\nvBedside coagulation profile. \\nvUrine for protein and sugar\\nvUltrasonography  \\nvMonitor vital signs \\nvFurther obstetric management as per establishment of diagnosis\\nr\\nMANAGEMENT\\nInvestigations\"), Document(metadata={'producer': 'Corel PDF Engine Version 3.0.0.576', 'creator': 'CorelDRAW', 'creationdate': 'D:20111109070950', 'moddate': 'D:20111109070950', 'author': 'desktop', 'title': 'Standard Treatment and Essential Medicine List', 'source': 'C:\\\\matricare\\\\MatriCare\\\\MatriCare\\\\Matricare1\\\\DATA\\\\Standard Treatment Guideline - Pregnancy & Sick newborn.pdf', 'total_pages': 141, 'page': 55, 'page_label': '56'}, page_content='48\\n \\n \\n \\n \\n \\n \\n \\n \\n \\n \\n \\n \\n \\n \\n \\n \\n \\n \\n \\n \\n \\n \\n \\n \\n \\n \\n \\n \\n \\n \\n \\n \\n \\n \\n \\n \\n \\n \\n \\n \\n \\n \\n \\n \\n \\nBleeding P/V after 28 wks GA\\n• History \\n-- Trauma/coitus \\n-- Recurrent / Non recurrent \\n-- Painful / Painless \\n• Vital Signs (P R, RR, EP) \\n• P/A \\n• P/S \\n• Two IV line\\n • O2  by mask\\n • Rapid IVF (NS / RL)\\n • Foley’s catheterization\\n • Collect Blood (Hb%, Blood gr and \\nRh typing, Cross matching)\\n • Monitor vital signs\\n • Monitor I/O chart\\n \\n• One IV line\\n • Collect Blood\\n• Foley’s catheterisation\\nIn Shock Not in Shock\\nPatient Stable\\n• Painful bleeding \\n• Associated HTN \\n• Uterus tender, ri gid \\n• FHS absent / distress\\n \\nTrans Abdominal USG\\n+ \\n• All above features \\nPresent\\n \\n• USG rules out\\n \\nPlacenta praevia\\n \\nAbove features \\nabsent \\n \\nPlacenta in lower \\nsegment \\nABRUPTIO \\nPLACENTAE\\nPLACENTA \\nPRAEVIA \\nMANAGEMENT PROTOCOL FOR ANTEPARTUM HAEMORRHAGE'), Document(metadata={'producer': 'Corel PDF Engine Version 3.0.0.576', 'creator': 'CorelDRAW', 'creationdate': 'D:20111109070950', 'moddate': 'D:20111109070950', 'author': 'desktop', 'title': 'Standard Treatment and Essential Medicine List', 'source': 'C:\\\\matricare\\\\MatriCare\\\\MatriCare\\\\Matricare1\\\\DATA\\\\Standard Treatment Guideline - Pregnancy & Sick newborn.pdf', 'total_pages': 141, 'page': 56, 'page_label': '57'}, page_content='49\\n \\n \\n \\n \\n \\n \\n \\n \\n \\n \\n \\n \\n \\n \\n \\n \\nGA < 34 wks\\n \\nGA 34-37 wks\\n \\n> 37 wks*\\n \\nBleeding \\nstopped\\n \\nBleeding \\nstopped\\n \\nExpectant \\nManagement\\n \\nReview\\n \\n¡è In Crade \\nLabour starts\\nFoetus dead or Alive\\n \\nLSCS\\n \\nABRUPTIO PLACENTAE\\nRule out DIC\\nPatient in Labour Patient not in Labour \\nFoetus\\n \\ndead\\n \\n/\\n \\nalive\\n \\nARM + Oxytocin \\nGood progress \\nVD\\nIncreasing pallor \\nIncreasing height of uterus \\nDeterioration of haemodynamic \\nstability \\nDevelopment of foetal distress\\nCS\\nGr. 1 Gr. 2'), Document(metadata={'producer': 'Corel PDF Engine Version 3.0.0.576', 'creator': 'CorelDRAW', 'creationdate': 'D:20111109070950', 'moddate': 'D:20111109070950', 'author': 'desktop', 'title': 'Standard Treatment and Essential Medicine List', 'source': 'C:\\\\matricare\\\\MatriCare\\\\MatriCare\\\\Matricare1\\\\DATA\\\\Standard Treatment Guideline - Pregnancy & Sick newborn.pdf', 'total_pages': 141, 'page': 57, 'page_label': '58'}, page_content='50\\n \\n* GA > 37 Wks\\n(foetus alive or dead) \\nCx Unfavourable\\n \\nCx favourable\\n \\nOxytocin \\nARM ARM + Oxytocin\\nGood Progress Foetal distress  \\nNon progressed labour and or \\nDeterioration of Haemodynamic \\nstability even in foetal death \\nVD LSCS'), Document(metadata={'producer': 'Corel PDF Engine Version 3.0.0.576', 'creator': 'CorelDRAW', 'creationdate': 'D:20111109070950', 'moddate': 'D:20111109070950', 'author': 'desktop', 'title': 'Standard Treatment and Essential Medicine List', 'source': 'C:\\\\matricare\\\\MatriCare\\\\MatriCare\\\\Matricare1\\\\DATA\\\\Standard Treatment Guideline - Pregnancy & Sick newborn.pdf', 'total_pages': 141, 'page': 58, 'page_label': '59'}, page_content='51\\n \\n \\n    \\n \\n    \\n  \\n                                                            \\n    \\n                                     \\n \\n \\n \\n \\n                 \\n                          \\n                                \\n         \\n \\n           \\n      \\n    \\n \\n \\n \\n                                                                                                     \\nPLACENTA PREVIA \\nPatient Stable \\nBleeding Stopped \\nPatient Unstable  \\nWith/ Without Bleeding \\nResuscitation \\nBleeding Stops \\nPatient Stable \\nPatient Stable\\n \\nBleeding stops\\n \\nBleeding Continuing\\n \\n< 37 wks\\n \\n> 37 wks\\n \\nExpectant \\nManagement\\n \\nUpto 37 wks\\n \\nCs\\n \\nCs\\n \\n[Expectant management to be discontinued in case bleeding recurs or foetal death]\\nWith any amount of bleeding medical help should be sought immediately.\\nAll patients with A.P.H. should be referred to a well-equipped hospital having facility for Blood Transfusion, \\nEmergency C.S., Neonatal Care Unit.\\nPatient Education : \\nReferral Criteria :'), Document(metadata={'producer': 'Corel PDF Engine Version 3.0.0.576', 'creator': 'CorelDRAW', 'creationdate': 'D:20111109070950', 'moddate': 'D:20111109070950', 'author': 'desktop', 'title': 'Standard Treatment and Essential Medicine List', 'source': 'C:\\\\matricare\\\\MatriCare\\\\MatriCare\\\\Matricare1\\\\DATA\\\\Standard Treatment Guideline - Pregnancy & Sick newborn.pdf', 'total_pages': 141, 'page': 59, 'page_label': '60'}, page_content='52\\nPost partum haemorrhage is one major cause of maternal mortality. Blood loss more than 500ml \\nfrom the genital tract following childbirth is the quantitative definition of PPH. In C. S. this amount is \\ntaken to be 1000mL. But more practical clinical definition states “any amount of bleeding from or into \\nthe genital tract following birth of the baby upto the end of the puerperium which adversely affects the \\ngeneral condition of the patient evidenced by rise of pulse rate and falling blood pressure is called \\npostpartum haemorrhage.\\na. PRIMARY - PPH which occurs within 24hrs following delivery, majority bleed within \\n2hrs.  It is again of two types.\\ni. Third stage haemorrhage: Bleeding occurs before expulsion of placenta. \\nii. True post partum haemorrhage : Bleeding occurs following  expulsion of \\nplacenta (majority).\\nb. SECONDARY - Haemorrhage occurs after 24hrs and within 6  weeks of delivery.\\n1. Atonic (80 %)    \\n2. Traumatic.\\n3. Mixed   \\n4. Blood coagulopathy.\\n Prevention of PPH is the best form of management true to the philosophy of, \"prevention is better \\nthan cure.” And if not all, in the majority of cases PPH is preventable. For an anaemic patient small volume of \\nblood loss will be detrimental and will be called PPH for her.\\nANAEMIA SHOULD BE TREATED RELIGIOUSLY DURING PREGNANCY.\\nvEVERY DOCTOR SHOULD BE AWARE OF PPH.\\nvPrevention of uterine atony is key to reduce PPH.\\nvThe cases at increased risk of uterine atony leading to PPH must be identified. These include \\nGrandmultiparae, Case with over distended uterus commonly due to Multifoetal pregnancy, \\nPolyhydramnios and Large baby; Preeclampsia, Eclampsia, Anaemia, APH, Obstructed labour, \\nProlonged labour, Pregnancy with fibroid, Prior induction/augmentation with oxytocin, Malformed \\nuterus, Precipitate labour. IUD, H/O previous third stage complications and Jaundice in pregnancy.\\nvThese patients should be delivered in a hospital with facilities for blood transfusion, under skillful \\nsupervision or referred to a tertiary care hospital.\\nrd\\nvRoutine practice of active management of 3  stage of labour (AMTSL) which includes early oxytocic \\ntherapy (10 unit Oxytocin IM), late cord clamping and placental delivery by controlled cord traction \\nfollowing signs of placental separation and uterine massage, must be followed in all cases. \\nTYPES\\nCAUSES : \\nPREVENTION OF PPH\\n9. POST PARTUM HAEMORRHAGE (PPH)'), Document(metadata={'producer': 'Corel PDF Engine Version 3.0.0.576', 'creator': 'CorelDRAW', 'creationdate': 'D:20111109070950', 'moddate': 'D:20111109070950', 'author': 'desktop', 'title': 'Standard Treatment and Essential Medicine List', 'source': 'C:\\\\matricare\\\\MatriCare\\\\MatriCare\\\\Matricare1\\\\DATA\\\\Standard Treatment Guideline - Pregnancy & Sick newborn.pdf', 'total_pages': 141, 'page': 60, 'page_label': '61'}, page_content=\"53\\nDIAGNOSIS\\nMANAGEMENT \\nv\\nrapid and brisk and death may occur within a few minutes. State of the uterus with the type of \\nbleeding gives very important and reliable clue to the cause of PPH\\nvIn traumatic PPH the uterus is contracted and the type of bleeding is variable in amount, continuous \\nand bright red in colour.\\nvIn atonic PPH Uterus is soft and flabby. The bleeding is usually dark coloured, large in amount coming \\nout in intermittent gushes coinciding with uterine relaxation.  \\nvOne should always keep in mind that sometimes both atonic and traumatic cause may co-exist \\nparticularly following instrumental vaginal deliveries.                                  \\nvUterus is not felt per abdomen with a protruding vaginal mass and patient in shock is usually due to \\ninversion of uterus.\\nvShout for help.\\nvUrgently mobilize and involve all available medical personnel.\\nvQuick evaluation of general condition of the woman is made (Pulse, BP, Respiration and Air way).\\nvIf in shock, treatment started immediately. Even if signs of shock are not present it should be kept in \\nmind that the patient's condition may worsen any time. \\nvThe uterus massaged carefully to stimulate contraction and retraction to reduce blood loss as well as \\nto expel blood and blood clots. Blood clots trapped in uterus inhibit effective uterine contraction.\\nvA wide bore I.V. canula (No – 18G) is fixed to a large vein and IV fluids with Oxytocin started. Blood is \\nsent for Grouping and Rh typing (if not already done) and for cross matching of requisition of blood.\\nvBladder is catheterized as full bladder inhibits uterine contraction.\\nvCheck placenta and see if it is complete or there are missed cotyledons.\\nvExamination of the cervix, vagina, perineum (episiotomy wound and lacerations), para-urethral \\nregion is to be done and repaired as and when required.\\nvIf uterus is atonic and fails to contract uterine massage is to be continued.\\nvUse of oxytocic drugs can be given together or sequentially.\\nvNeed for blood must be assessed early and transfused as early as necessary.\\nvIf bleeding continues placenta is again thoroughly examined. If there are signs of retained placental \\nfragments, it must be removed.\\nvStatus of coagulation is assessed using a bedside clotting test. Failure of a clot to form after 7minutes \\nor a soft clot that breaks down easily suggests – coagulopathy. Coagulopathy may occur in abruptio \\nplacentae, jaundice in pregnancy, Thrombocytopenic purura, HELLP syndrome or in IUD. \\nvStill bleeding continues, bimanual compression of the uterus is to be performed by placing the right \\nhand fist in anterior fornix and pressure is given against anterior wall of uterus. Left hand is pressed \\ndeeply into the abdomen behind the uterus and pressure is applied to the posterior wall of uterus so \\nas to keep the uterus pressed in between both hands. \\nIn majority of cases vaginal bleeding is visible outside, as a slow trickle. On occasion, blood loss is very\"), Document(metadata={'producer': 'Corel PDF Engine Version 3.0.0.576', 'creator': 'CorelDRAW', 'creationdate': 'D:20111109070950', 'moddate': 'D:20111109070950', 'author': 'desktop', 'title': 'Standard Treatment and Essential Medicine List', 'source': 'C:\\\\matricare\\\\MatriCare\\\\MatriCare\\\\Matricare1\\\\DATA\\\\Standard Treatment Guideline - Pregnancy & Sick newborn.pdf', 'total_pages': 141, 'page': 61, 'page_label': '62'}, page_content='54\\nUse of Oxytocic Drugs \\n \\n \\nOxytocin \\nErgometrine / \\nMethyl-\\nergometrine \\n15-methyl \\nprostaglandin F2α \\n(Carboprost) \\n \\nMisoprost\\nol \\nDose and \\nroute \\nIV infusion 40 \\nunits in 1L IV \\nfluids at 60drops \\nper minute  \\nIM: 10units \\n \\nIM or or IV \\n(slowly): 0.2mg \\nIM: 0.25mg 1000 \\nµgm per \\nrectally \\nContinuing \\ndose \\nIV: Infusion 40 \\nunits in 1L IV \\nfluids at 40 drops \\nper minute \\nRepeat 0.2mg IM \\nafter 15minutes, \\nif required give \\n0.2mg IM or IV \\n(slowly) every \\n4hours \\n \\n0.25mg every \\n15minutes \\n \\nMaximum \\ndose \\nNot more than 3 \\nL of IV fluids \\ncontaining \\noxytocin \\n \\n5 doses \\n(Total 1.0mg) \\n8 doses \\n(Total 2mg) \\n \\nPrecautions\\n/ \\ncontraindic-\\nations \\nNot to be given as \\nan I.V. bolus \\nPre-eclampsia, \\nhypertension, \\nheart disease \\n \\nNever to be used \\nI.V. \\nC/I Asthma, \\nheart disease  \\n \\nInitial dose of Oxytocin can be increased by increments of 10 units/L depending on \\nresponse. Prostaglandins should not be given intravenously.  They may be fatal. \\nv\\nslightly to left. If pressure is adequate femoral pulse will not be palpable.\\nvIf bleeding continues in spite of all this, the patient is taken to the OT.\\nvUterine and ovarian artery ligation is performed and compression sutures may also be given (B Lynch \\nor Cho).\\nvIf life-threatening bleeding continues subtotal hysterectomy must be performed. \\nThe assistant is asked to compress the aorta by giving downward pressure just above the umbilicus'), Document(metadata={'producer': 'Corel PDF Engine Version 3.0.0.576', 'creator': 'CorelDRAW', 'creationdate': 'D:20111109070950', 'moddate': 'D:20111109070950', 'author': 'desktop', 'title': 'Standard Treatment and Essential Medicine List', 'source': 'C:\\\\matricare\\\\MatriCare\\\\MatriCare\\\\Matricare1\\\\DATA\\\\Standard Treatment Guideline - Pregnancy & Sick newborn.pdf', 'total_pages': 141, 'page': 62, 'page_label': '63'}, page_content='55\\nPROTOCOLS   FOR PPH   MANAGEMENT \\n \\n \\n  \\nPPH \\nShout for help \\nAssessment       of Vitals – BP, PR, RR, temp, Urine Output \\nIV – Lines – 2 x, 18G, IV Fluid \\nBlood loss. \\n     Establish     Availability of blood / blood product \\n \\n \\n \\nEtiology   Trauma / laceration   repair   \\n \\nATONIC \\n* uterine massage \\n*Oxytocics    Oxytocin 40 u in 1 litre of Ringers lactate, 60d/m, \\nmax 100u in 24 hr, methyl Ergometrine 0.2 mg IV [C/I \\nhypertension]  \\n \\nIf uterus not contracted   \\n \\n* Inj carboprost 0.25mg IM [first choice], may be repeated after 15 min, \\nmax upto 8 doses [C/I Bronchial asthma, heart disease]   \\nor \\n* Tab. Misoprost 1000 microgm PER RECTAL [second choice] \\n \\nIf uterus is not contracted \\n \\nShift to OT    exclude retain tissue /trauma under anesthesia \\n  \\nFoley, Condom, Ballon Temponade, uterine packing \\n \\nDevascularisation suture – uterine A, ovarian A \\n \\nCompression / Brace suture – B Lynch, cho / square. \\n \\nSubtotal / total hysterectomy [as life saving] \\nEtiology'), Document(metadata={'producer': 'Corel PDF Engine Version 3.0.0.576', 'creator': 'CorelDRAW', 'creationdate': 'D:20111109070950', 'moddate': 'D:20111109070950', 'author': 'desktop', 'title': 'Standard Treatment and Essential Medicine List', 'source': 'C:\\\\matricare\\\\MatriCare\\\\MatriCare\\\\Matricare1\\\\DATA\\\\Standard Treatment Guideline - Pregnancy & Sick newborn.pdf', 'total_pages': 141, 'page': 63, 'page_label': '64'}, page_content='56\\nRETAINED PLACENTA\\nMANAGEMENT \\nvIf placenta is not expelled out even after 30 minutes of the birth of the baby, it is defined to be a case of \\nretained placenta.\\n       \\nvThe bladder is catheterized.\\nvOxytocin I.V. Infusion is started with 40 units/L at 40-60 drops/minute. Alternatively Oxytocin 10 units \\nis given I.M., if not already given. \\nvPosition of placenta is looked  \\nvIf it is in vagina it is removed.\\nvErgometrine may not be given because it is thought to cause tonic uterine contraction, which may \\ndelay expulsion.\\nvIf placenta is undelivered after oxytocin stimulation and uterus is contracted, then controlled cord \\ntraction is tried.\\nvForceful cord traction and application of fundal pressure is avoided as they may cause uterine \\ninversion.\\nvIf controlled cord traction is unsuccessful manual removal of placenta (MROP) must be done under \\nanaesthesia in OT.'), Document(metadata={'producer': 'Corel PDF Engine Version 3.0.0.576', 'creator': 'CorelDRAW', 'creationdate': 'D:20111109070950', 'moddate': 'D:20111109070950', 'author': 'desktop', 'title': 'Standard Treatment and Essential Medicine List', 'source': 'C:\\\\matricare\\\\MatriCare\\\\MatriCare\\\\Matricare1\\\\DATA\\\\Standard Treatment Guideline - Pregnancy & Sick newborn.pdf', 'total_pages': 141, 'page': 64, 'page_label': '65'}, page_content=\"57\\nLOWER SEGMENT CAESAREAN SECTION\\nth\\nIt is an operative procedure whereby the foetuses after the end of the 28  week are delivered through \\nan incision on the abdominal and uterine walls. When incision is made in the lower segment of uterus it is \\ncalled as lower segment caesarean section.\\nvPrevious more than one CS\\nvPrevious one CS with recurrent indication like CPD\\nvPrevious one CS with breech presentation\\nvPrevious one CS with any complication during pregnancy\\nvCentral placenta previa (Type II posterior. Type III and Type IV)\\nvMalpresentations\\nvMultiple pregnancy with first foetus in non-vertex presentation\\nvCPD\\nvFoetal distress in first stage oh labour\\nvDeep Transverse Arrest\\nvSome cases of Eclampsia\\nvThese are some of the common indications. However there are some more less common indications.\\nvInformed written consent for the procedure, anaesthesia and blood transfusion should be obtained\\nvPre-medicative sedation is withheld\\nvAbdomen should be scrubbed with soap\\nvAbdomen and perineum should be shaved\\nv30ml of antacid is given orally\\nvRanitidine 50mg IV is given 1hour before surgery\\nvMetoclopromide 10mg IV is given in the theatre\\nvThe stomach should be emptied, if necessary by a stomach tube\\nvFoley's catheter is given\\nvReview of indication and ensuring that vaginal delivery is neither safe nor possible\\nvFoetal heart sounds should be re-checked\\nvAn IV infusion to be started\\nvNeonatologist should be made available\\nIndications:\\nPre-operative preparation:\\n10. CAESAREAN SECTION\"), Document(metadata={'producer': 'Corel PDF Engine Version 3.0.0.576', 'creator': 'CorelDRAW', 'creationdate': 'D:20111109070950', 'moddate': 'D:20111109070950', 'author': 'desktop', 'title': 'Standard Treatment and Essential Medicine List', 'source': 'C:\\\\matricare\\\\MatriCare\\\\MatriCare\\\\Matricare1\\\\DATA\\\\Standard Treatment Guideline - Pregnancy & Sick newborn.pdf', 'total_pages': 141, 'page': 65, 'page_label': '66'}, page_content=\"58\\nAnaesthesia:\\nProcedure: \\nMay be spinal, epidural, or general anaesthesia.\\nPositon of the patient\\nPatient should be placed in the dorsal position. The operating table should be tilted to the left or a \\npillow is placed under the woman's right lower back to decrease supine hypotension syndrome.\\nAntiseptic painting\\nAbdomen should be painted with antiseptic lotion from xiphisternum to mid-thigh and laterally upto \\nboth anterior axillary lines. The abdomen should then be draped with sterile towels.\\nIncision on the abdomen\\nrA transverse incision of at least 15 cms. long should be given about 2 cm above the symphysis \\npubis. A vertical incision is preferred in obstructed labour and ante-partum haemorrhage. Skin \\nand subcutaneous tissue should be cut transversely. Then the rectus sheath should also be cut \\ntransversely and separated from the rectus muscle. The rectus muscle is separated in the \\nmidline and then the parietal peritoneum becomes visible.\\nrAn opening is made in the peritoneum after lifting it to prevent bowel injury. It should then be \\nlengthened vertically and bladder injury is to be prevented at the lower end.\\nrA Doyen retractor should be placed over the pubic bone to retract the bladder.\\nrForceps is used to pick up the loose peritoneum covering the lower segment and it is cut \\ntransversely with scissors.\\nrThe incision is extended by placing the scissors between the uterus and visceral peritoneum and \\nit is cut about 3-4cm on each side of the midline in a transverse fashion\\nrThe bladder is pushed down the lower uterine segment using 2 fingers. The Doyen's retractor is \\nreplaced over the bladder and the pubic bone.\\nOpening the uterus\\nrA scalpel is used to make a 3 cms. transverse incision on the lower segment of the uterus. It \\nshould be about 1 cm below the level where the utero-vesical fold of peritoneum was incised\\nrThe incision is widened by placing a finger at each edge and gently pulling upwards and laterally \\nat the same time\\nrIf the lower segment is thick and narrow, the incision is extended in a crescent shape, using \\nscissors instead of fingers to avoid extension up to uterine vessels\\nrIt is important to make the uterine incision big enough to deliver the head and body of the baby \\nwithout extension of the incision\\nrLower segment vertical incision may be given when lower segment is not formed as in a case of \\ntransverse lie or premature delivery.\"), Document(metadata={'producer': 'Corel PDF Engine Version 3.0.0.576', 'creator': 'CorelDRAW', 'creationdate': 'D:20111109070950', 'moddate': 'D:20111109070950', 'author': 'desktop', 'title': 'Standard Treatment and Essential Medicine List', 'source': 'C:\\\\matricare\\\\MatriCare\\\\MatriCare\\\\Matricare1\\\\DATA\\\\Standard Treatment Guideline - Pregnancy & Sick newborn.pdf', 'total_pages': 141, 'page': 66, 'page_label': '67'}, page_content=\"59\\nDelivery of the baby and the placenta\\nvThe Doyen's retractor is removed. \\nvOne hand is placed between the baby's head and the uterus.\\nvWith the fingers the head is grasped and it is flexed.\\nvThe baby's head is lifted gently through the incision. \\nvWith the other hand the abdomen is gently pressed over the top of the uterus to help the delivery of \\nthe head.\\nvIf the baby's head is deep down in the pelvis or vagina, an assistant should be asked to push the head \\nthrough the vagina wearing a sterile glove, then the head is lifted and delivered.\\nvThe baby's mouth and nose is sucked when delivered.\\nvThe shoulders and body is now delivered.\\nvInj. Oxytocin 20 u in 500ml of IV fluid is started at 60 drops per min for 2 hours.\\nvThe umbilical cord should be clamped and cut.\\nvThe baby is handed over to the assistant for initial care.\\nvOne dose of prophylactic antibiotic is given after the cord is clamped and cut.\\nvBy this time the placenta is likely to be separated. Keep gentle traction on the cord with simultaneous \\npushing of the uterus towards the umbilicus using the left hand.\\nvThe membranes should be carefully removed and even a small piece, if attached to deciduas should \\nbe removed using a dry gauge.\"), Document(metadata={'producer': 'Corel PDF Engine Version 3.0.0.576', 'creator': 'CorelDRAW', 'creationdate': 'D:20111109070950', 'moddate': 'D:20111109070950', 'author': 'desktop', 'title': 'Standard Treatment and Essential Medicine List', 'source': 'C:\\\\matricare\\\\MatriCare\\\\MatriCare\\\\Matricare1\\\\DATA\\\\Standard Treatment Guideline - Pregnancy & Sick newborn.pdf', 'total_pages': 141, 'page': 67, 'page_label': '68'}, page_content='60\\nClosing the uterine incision\\nvThe corners of the uterine incision are grasped with green armytage or sponge holding forceps.\\nvThe lower segment margins should be grasped and made sure that it is separated from the bladder.\\nvThorough examination is done to look carefully for any extension of the uterine incision.\\nvIf extension is present, it should be repaired first.\\nvUterus is closed in 3 layers. First layer, consisting of deeper layers of myometrium is closed by \\ncontinuous sutures with no. 1 chromic catgut mounted on curved atraumatic needle, the second \\nlayer, consisting of rest of the myometrium is closed by continuous sutures using the same suture \\nmaterial burying the first layer beneath it. The third layer is the visceral layer of peritoneum, which is \\nclosed by continuous sutures with no. (1-0) chromic catgut mounted on curved atraumatic needle \\ntaking care only to appose the margins and not to make it tight.\\nvIf there is any further bleeding from the incision site it should be dealt with reinforcement of figure of \\neight sutures.'), Document(metadata={'producer': 'Corel PDF Engine Version 3.0.0.576', 'creator': 'CorelDRAW', 'creationdate': 'D:20111109070950', 'moddate': 'D:20111109070950', 'author': 'desktop', 'title': 'Standard Treatment and Essential Medicine List', 'source': 'C:\\\\matricare\\\\MatriCare\\\\MatriCare\\\\Matricare1\\\\DATA\\\\Standard Treatment Guideline - Pregnancy & Sick newborn.pdf', 'total_pages': 141, 'page': 68, 'page_label': '69'}, page_content='61\\nClosing the abdomen\\nrLook carefully at the uterine incision before closing the abdomen, it should be made sure that there \\nis no bleeding and the uterus is firm.\\nrThe abdomen should be cleaned by suction or a sponge and instrument and mop count is verified.\\nrParietal peritoneum is closed by continuous sutures with no. (1-0) chromic catgut mounted on \\ncurved atraumatic needle.\\nrThe rectus sheath is closed by continuous sutures with no.  (1) Polyglactin sutures.\\nrThe skin is closed by vertical mattress with no.  (2-0) braided silk or no.  (2-0) polyamide.\\nrSterile dressing is applied over the wound.\\nrThe clots from the vagina should be removed and it should be cleaned with antiseptic lotion.\\nrIf bleeding is not controlled and it is not due to tears then follow the steps of management of atonic \\nPPH as described earlier.\\nrThe patient should be observed meticulously for at least 6-8hrs\\nrPeriodic check up of pulse, BP, and vaginal bleeding is mandatory \\nr2.5-3 litres of IV fluid should be given in the form of RL, 5% dextrose, 0.9% NS over 24 hrs. \\nrInj. Oxytocin 20 units per litre should continue for at least 6 – 8 hrs following CS.\\nrProphylactic antibiotics, analgesics, ranitidine are to be given parenterally for 72hrs then orally for 5 \\ndays.\\nrOral fluids should be given on 2nd day and light solid diet should be started from 3rd day\\nPROBLEMS DURING SURGERY\\nPost-op care'), Document(metadata={'producer': 'Corel PDF Engine Version 3.0.0.576', 'creator': 'CorelDRAW', 'creationdate': 'D:20111109070950', 'moddate': 'D:20111109070950', 'author': 'desktop', 'title': 'Standard Treatment and Essential Medicine List', 'source': 'C:\\\\matricare\\\\MatriCare\\\\MatriCare\\\\Matricare1\\\\DATA\\\\Standard Treatment Guideline - Pregnancy & Sick newborn.pdf', 'total_pages': 141, 'page': 69, 'page_label': '70'}, page_content='62\\nr\\nrThe patient should be discharged following the removal of stitches if otherwise fit. She should be \\nasked for postnatal check-up after 6weeks\\nrThe baby should be put to breast within 1hr of delivery and exclusive breast feeding is to be \\ncontinued upto 6 months\\nIntra-operative\\nrExtension of uterine incision\\nrUterine lacerations\\nrBladder injury\\nrUreteral injury\\nrBowel injury\\nrUterine atony and primary PPH\\nrMorbid adherent placenta\\nImmediate post-operative\\nrPPH\\nrShock \\nrAnaesthetic hazards\\nrInfection\\nrIntestinal obstruction\\nrThromboembolic disorders\\nrWound complications \\nrIncisional hernia\\nrIntestinal obstruction\\nrRisk of scar rupture in future pregnancy and labour\\nThe stitches should be removed on 6th day\\nComplications\\nRemote'), Document(metadata={'producer': 'Corel PDF Engine Version 3.0.0.576', 'creator': 'CorelDRAW', 'creationdate': 'D:20111109070950', 'moddate': 'D:20111109070950', 'author': 'desktop', 'title': 'Standard Treatment and Essential Medicine List', 'source': 'C:\\\\matricare\\\\MatriCare\\\\MatriCare\\\\Matricare1\\\\DATA\\\\Standard Treatment Guideline - Pregnancy & Sick newborn.pdf', 'total_pages': 141, 'page': 70, 'page_label': '71'}, page_content='63\\nWHAT IS PUERPERAL SEPSIS?\\nPREDISPOSING FACTORS\\nMICRO- ORGANISMS RESPONSIBLE\\nCLINICAL MANIFESTATIONS\\nIt is infection of the genital tract, which occurs during six weeks following delivery, but it is more \\ncommonly encountered during the first two weeks.\\nqMalnutrition and anemia\\nqChronic debilitating illness\\nqProlonged rupture of membranes > 18 hrs\\nqRepeated vaginal examinations\\nqDehydration and ketoacidosis during delivery\\nqTraumatic operative delivery\\nqAPH and PPH\\nqRetained bits of placenta and membranes\\nqCaesarean Section\\nqDomicilliary delivery\\nAerobes: Streptococcus hemolyticus group A and B \\nStaphylococcus aureus, staph epidermidis\\nE.coli\\nKlelbsiella\\nPseudomonas\\nAnaerobes: Anaerobic streptococcus\\nBacteroides\\nClostridia \\nLocal infection\\ntThere is slight rise of temperature, generalized malaise or headache.\\ntThe local wound becomes red and swollen.\\ntThere may be purulent discharge and disruption of wound.\\ntWhen severe, there is high-rise of temp with chills and rigor.\\nUterine infection - Mild\\ntThere is fever and tachycardia.\\ntLochial discharge is offensive and copious.\\ntUterus is subinvoluted and tender.\\n11. PUERPERAL SEPSIS'), Document(metadata={'producer': 'Corel PDF Engine Version 3.0.0.576', 'creator': 'CorelDRAW', 'creationdate': 'D:20111109070950', 'moddate': 'D:20111109070950', 'author': 'desktop', 'title': 'Standard Treatment and Essential Medicine List', 'source': 'C:\\\\matricare\\\\MatriCare\\\\MatriCare\\\\Matricare1\\\\DATA\\\\Standard Treatment Guideline - Pregnancy & Sick newborn.pdf', 'total_pages': 141, 'page': 71, 'page_label': '72'}, page_content='64\\nSevere \\nThere is high-rise of temp with chills and rigor.\\ntTachycardia is out of proportion to temperature.\\ntLochia may be scanty but foul smelling.\\ntUterus is subinvoluted, tender, and soft.\\ntThere may be associated wound infection.\\nSpreading infection\\nParametritis\\ntThe onset is usually on 7- 10th day of puerperium.\\ntConstant pelvic pain\\ntTenderness on either side of hypogastrium.\\ntVaginal examination reveals an unilateral tender indurated mass pushing the uterus to \\nopposite side.\\ntRectal examination confirms the induration, specially extending along the uterosacral \\nligament.\\ntIt takes a few weeks to resolve completely.\\nPelvic peritonitis\\ntFever with tachycardia  \\ntMucos diarrhoea\\ntLower abdominal pain and tenderness.\\ntVaginal examination reveals tenderness in the fornices and with movement of cervix.\\ntCollection of pus in the pouch of Douglas is evident by swinging temperature, diarrhea and a \\nbulging fluctuant mass felt through posterior fornix.\\nGeneralized peritonitis\\ntHigh fever with tachycardia\\ntVomiting\\ntGeneralized abdominal pain\\ntPatient looks very ill and dehydrated\\ntAbdomen is tender and distended\\ntClinical signs of pus (fluid) inside abdomen present\\nPelvic thrombophlebitis\\ntThere may be swinging temp with chills and rigor\\ntLower abdominal pain\\ntSwelling of legs\\ntPyrexia continues for more than a week inspite of antibiotic therapy\\ntMay be retrograde extension to iliofemoral veins.\\nt'), Document(metadata={'producer': 'Corel PDF Engine Version 3.0.0.576', 'creator': 'CorelDRAW', 'creationdate': 'D:20111109070950', 'moddate': 'D:20111109070950', 'author': 'desktop', 'title': 'Standard Treatment and Essential Medicine List', 'source': 'C:\\\\matricare\\\\MatriCare\\\\MatriCare\\\\Matricare1\\\\DATA\\\\Standard Treatment Guideline - Pregnancy & Sick newborn.pdf', 'total_pages': 141, 'page': 72, 'page_label': '73'}, page_content='65\\nSepticemia\\nHigh fever, rigor, tachycardia and hypotension\\ntBlood culture is positive\\ntSymptoms and signs of metastatic infection in the lungs, meninges or joints may appear. \\nSeptic shock\\nIt is due to bacterial endotoxin causing circulatory inadequacy, decreased tissue perfusion, oliguria \\nand adult respiratory distress syndrome.\\n1. Hb%, DC, TLC, total platelet count, thick blood smear for MP.\\n2. Blood urea and creatinine\\n3. High vaginal and endocervical swab for culture and sensitivity\\n4. Urine for culture and sensitivity\\n5. Blood culture \\n6. Pelvic ultrasound\\n7. X ray chest\\ntIsolation is preferred especially when group B hemolytic streptococcus infection is \\nsuspected.\\ntAdequate fluid and calories is supplied if needed by IV infusion\\ntAnemia is corrected by oral or injectable iron and if needed by blood transfusion\\ntPain is relieved by adequate analgesia\\ntAn indwelling catheter is given\\ntA chart is maintained by recording pulse, temp, respiration, Lochial discharge, fluid intake \\nand output\\n \\nIdeal antibiotic regime should depend on the culture and sensitivity report. \\nAmpicillin (1g IV 6hrly) + Gentamicin (80mg IM BD) + Metronidazole (500mg IV 8hrly) \\n OR\\nCefotaxime (1g IV BD)+ Gentamicin(80mg IM BD)  + Metronidazole is given for 7-10 days.\\nt\\nINVESTIGATIONS\\nTREATMENT\\nPending the report \\nGENERAL CARE\\nANTIBIOTICS'), Document(metadata={'producer': 'Corel PDF Engine Version 3.0.0.576', 'creator': 'CorelDRAW', 'creationdate': 'D:20111109070950', 'moddate': 'D:20111109070950', 'author': 'desktop', 'title': 'Standard Treatment and Essential Medicine List', 'source': 'C:\\\\matricare\\\\MatriCare\\\\MatriCare\\\\Matricare1\\\\DATA\\\\Standard Treatment Guideline - Pregnancy & Sick newborn.pdf', 'total_pages': 141, 'page': 73, 'page_label': '74'}, page_content='66\\nSURGICAL TRAETMENT\\nPerineal wound\\nRetained placental bits\\nPelvic thrombophlebitis\\nPelvic abscess \\nPelvic or generalized peritonitis \\nSeptic Shock \\nSurgery has a minor role in the treatment of puerperal sepsis.\\nIf sepsis is present, stitches are to be removed to drain pus. The wound is to be dressed with hot compress \\nand mild antiseptic lotion followed by application of antiseptic ointment.\\nWith a diameter of more than 3cm are to be removed. Surgical evacuation after antibiotic coverage for \\n24hrs is to be done.\\nTreated with IV Heparin for 7-10 days alongwith antibiotics.\\nShould be drained by colpotomy.\\nMaintenance of electrolyte balance by IV fluids along with appropriate antibiotic therapy usually controls \\nthe peritonitis. But in unresponsive cases, laparotomy is indicated. If no pathology is found, drainage of pus \\nmay be effective. Hysterectomy is indicated in cases with rupture, perforation, multiple abscess, \\ngangrenous uterus or gas gangrene infection. Ruptured tubo ovarian abscess should be removed.\\nManagement includes fluid and electrolyte balance, respiratory supports, circulatory support with \\ndopamine or dobutamine, infection control with intensive antibiotic therapy, surgical removal of septic foci \\nand specific treatment like dialysis for renal failure etc.'), Document(metadata={'producer': 'Corel PDF Engine Version 3.0.0.576', 'creator': 'CorelDRAW', 'creationdate': 'D:20111109070950', 'moddate': 'D:20111109070950', 'author': 'desktop', 'title': 'Standard Treatment and Essential Medicine List', 'source': 'C:\\\\matricare\\\\MatriCare\\\\MatriCare\\\\Matricare1\\\\DATA\\\\Standard Treatment Guideline - Pregnancy & Sick newborn.pdf', 'total_pages': 141, 'page': 74, 'page_label': '75'}, page_content='67\\nIntroduction\\nScreening for GDM\\nMethods for screening and diagnosis\\nrMost common medical complication during pregnancy, responsible for high perinatal morbidity and \\nmortality.\\nrIncidence varies according to ethnicity and selection criteria. Overall incidence is 1-14% (5-8% among \\nAsians).\\nrGestational Diabetes Mellitus (GDM) constitutes approximately 87.5% of all diabetic cases during \\npregnancy. Type 1 DM is 7.5% and type 2 is responsible for 5% of cases. But due to lifestyle factors and \\ndietary habits, incidence of type 2 DM is increasing these days. Of all GDM patients, >50% develop type \\n2 DM in later life.\\nACOG and WHO recommend universal screening at 24-28 weeks. Patients with risk factors should be \\nscreened as early as possible.\\nIn our country also it is recommended that all pregnant women should be screened.\\nTwo step method (Glucose Challenge Test followed by Glucose Tolerance Test) (Recommended by ADA)\\nrGlucose Challenge Test: Irrespective of previous meal, patient is given 50 gm glucose load and blood \\nglucose levels are tested after 1 hour value  140mg/dl is taken as cut-off for doing GTT. \\nrGlucose Tolerance Test\\n Glucose \\nload \\nThresholds (mg/dl) (venous plasma) \\n  Fa sting 1-hour 2-hour 3-hour \\nWHO* 75g (WHO) ≥126 \\n(7.0 mmol/1) \\n ≥126 \\n(7.0 mmol/1) \\n \\n \\n* One or more glucose value must meet threshold. \\nOne step diagnosis of GDM\\nWHO recommends one-step approach of diagnosis of GDM to avoid inconvenience to patients due to \\nrepeated blood testing. Patient is given 75g glucose load after overnight fasting. Glucose challenge test is \\nnot required for this method.\\n12. GESTATIONAL DIABETES MELLITUS'), Document(metadata={'producer': 'Corel PDF Engine Version 3.0.0.576', 'creator': 'CorelDRAW', 'creationdate': 'D:20111109070950', 'moddate': 'D:20111109070950', 'author': 'desktop', 'title': 'Standard Treatment and Essential Medicine List', 'source': 'C:\\\\matricare\\\\MatriCare\\\\MatriCare\\\\Matricare1\\\\DATA\\\\Standard Treatment Guideline - Pregnancy & Sick newborn.pdf', 'total_pages': 141, 'page': 75, 'page_label': '76'}, page_content='68\\nMANAGEMENT OF DIABETES IN PREGNANCY\\nMedical management\\n1. Medical nutrition therapy: Primary therapy for 30-90% of women diagnosed with GDM. Blood \\nsugar monitoring should be done after 1-2 weeks of starting diabetic diet till 36 weeks, then \\nweekly.\\nCalorie calculation – 24-hour calories recommended\\nvBMI – 19-27.5 kg/sq.m : 30-35 kcal/ kg of ideal body weight\\nvUnderweight women (BMI <19 kg/sq.m): 35-40 kcl/kg/day\\nvOverweight women (BMI <35 kg/sq.m): 25-30 kcl/kg/day \\nComposition of diet – It should include carbohydrates (50-55%), proteins (20-30%) and fats 20-\\n30%) with saturated fat <10%\\n2. Exercise:  3- 4 times weekly for 20-30 min / session.\\nRecommended glycemic goals in patients on diet:\\nVenous plasma (mg/dl) 2-hour \\npostprandial \\nFasting <95 \\n1- hour postprandial <140 \\n2- hour postprandial <120 \\nIf  50% values are deranged, then insulin should be started along with diabetic diet.\\nINDICATIONS TO START INSULIN THERAPY\\nr MNT therapy fails to achieve glycemic goals within two weeks.\\nrFoetal abdominal circumference (AC) at 29-33 weeks is more than 75 percentile.\\nTarget glucose levels in patients on insulin\\nTime \\nVenous plasma glucose levels \\n(mg/dl) \\nFasting (BBF) 60-90 \\nBefore lunch, dinner, bedtime snack 60-105 \\nAfter meals (2-hour) <120 \\n2:00 – 6:00 am >60'), Document(metadata={'producer': 'Corel PDF Engine Version 3.0.0.576', 'creator': 'CorelDRAW', 'creationdate': 'D:20111109070950', 'moddate': 'D:20111109070950', 'author': 'desktop', 'title': 'Standard Treatment and Essential Medicine List', 'source': 'C:\\\\matricare\\\\MatriCare\\\\MatriCare\\\\Matricare1\\\\DATA\\\\Standard Treatment Guideline - Pregnancy & Sick newborn.pdf', 'total_pages': 141, 'page': 76, 'page_label': '77'}, page_content='69\\nInsulin therapy\\nCalculate total dose = (2/3 in morning + 1/3 in evening) \\n     (e.g., 90U = 60 U + 30U).\\n Short-acting insulin Intermediate – acting insulin\\nMorning (60U) 1/3 (20U) 2/3 (40U) \\nEvening (30U) ½ (15U, before dinner) ½ (15U, HS) \\nWith intermediate-acting insulin, there is more chance of delayed hypoglycemia. So, rapid insulin \\n(short-acting) is preferred nowadays and is used more frequently during pregnancy. It provides better \\ncontrol over blood sugar and thus improved maternal and foetal outcome.\\nGDM on diet\\nrInduction at 38-40 weeks depending upon monitoring.\\nrHistory of stillbirth, hypertension, uncontrolled blood sugars – biweekly nonstress test (NST) \\nis stated at 32 weeks onwards.\\nAntepartum foetal surveillance is done as in patients with pregestational diabetes. Elective induction is \\ndone at 38 completed weeks.\\nSpecial investigations during pregnancy (Optional, if practicable)\\nFirst trimester: HbA1C levels, biochemical screening (10 weeks) – PAPP – A, -hCG, USG (11-12 weeks) \\nfor nuchal translucency.\\nSecond trimester:  Triple screen (16-18 weeks), level II scan (18-22 weeks) foetal echocardiography (20-\\n22 weeks), growth and liquor volume (26-28 weeks)\\nThird trimester: USG for growth parameters \\nAntepartum foetal monitoring to prevent IUD and plan delivery.\\nTiming of delivery\\nvPlan for induction at 38 weeks.\\nvElective LSCS if foetal weight  4 kg.\\nElective LSCS of a diabetic patient is planned early morning.\\nvUsual night-time dose of insulin is given and morning dose is omitted.\\nvPatient is kept NPO.\\nvFasting blood sugar and urine testing (sugar and ketones) is done. If FBS is <70 mg/dl, 5% \\ndextrose is started. If FBS is >100mg/dl, insulin infusion with DNS is started.\\nvRegular RBS monitoring is continued.\\nObstetrical management\\nGDM on Insulin\\nManagement of pregestational diabetes mellitus in pregnancy'), Document(metadata={'producer': 'Corel PDF Engine Version 3.0.0.576', 'creator': 'CorelDRAW', 'creationdate': 'D:20111109070950', 'moddate': 'D:20111109070950', 'author': 'desktop', 'title': 'Standard Treatment and Essential Medicine List', 'source': 'C:\\\\matricare\\\\MatriCare\\\\MatriCare\\\\Matricare1\\\\DATA\\\\Standard Treatment Guideline - Pregnancy & Sick newborn.pdf', 'total_pages': 141, 'page': 77, 'page_label': '78'}, page_content='70\\nIntrapartum Management\\nPostpartum management\\nv\\nvRegular glucose monitoring is done ever 2-3 hourly is latent phase and every 1-2 hourly in active \\nphase of labor.\\nvUrine testing for sugar and ketones is also done.\\nvPatient is kept well-hydrated.\\nvRegular insulin is given to meet the maternal requirement during labor.\\nvInsulin is given in form of low-dose infusion from depending upon blood sugar levels.\\nvProphylactic antibiotics.\\nGDM patients on diet do not need any monitoring. Those who are on insulin, blood sugar (fasting and post-\\nprandial) should be done before discharge.\\nPregestational diabetes: Patient is started on diabetic diet. Insulin is decreased to half of prepregnancy dose \\nor 1/3 – ½ of pregnancy dose (if prepregnancy dose is not known).\\nBlood sugar monitoring is done 4-6 hourly. Regular insulin is given if RBS is > 140-150 mg% in first 24-48 \\nhours. Once patient starts taking regular diet, insulin dose is adjusted.\\nPatients who are diagnosed to have GDM during pregnancy are subjected to oral glucose tolerance test with \\n75g glucose.\\nInsulin dose is omitted on day of induction.\\nVaginal delivery\\nCeasarean section\\nPostpartum glucose testing\\nNormal  \\nDiabetes mellitus \\nImpaired glucose \\ntolerance \\nFBG  \\n(<110 mg/dl) \\n≥ 7.0 mmol/l \\n(126 mg/dl) \\n6.1 - 7.0 mmol/l \\n(110 – 125 mg/dl) \\n2 - hour \\n(<140 mg/dl) \\n≥ 11.1 mmol/l \\n(200 mg/dl) \\n≥ 7.8 mmol/l \\n(140 – 199 mg/dl) \\nDepending upon where the patient has impaired glucose tolerance or frank diabetes, she is advised \\nfor diabetic diet, oral hypoglycemics, insulin, benefits of weight control, exercise and regular \\nphysician evaluation to control and prevent the long-term complications of diabetes mellitus.'), Document(metadata={'producer': 'Corel PDF Engine Version 3.0.0.576', 'creator': 'CorelDRAW', 'creationdate': 'D:20111109070950', 'moddate': 'D:20111109070950', 'author': 'desktop', 'title': 'Standard Treatment and Essential Medicine List', 'source': 'C:\\\\matricare\\\\MatriCare\\\\MatriCare\\\\Matricare1\\\\DATA\\\\Standard Treatment Guideline - Pregnancy & Sick newborn.pdf', 'total_pages': 141, 'page': 78, 'page_label': '79'}, page_content='71\\nBiguanides (Metformin)\\nContraception \\nvStudies have shown that it reduces the incidence of first trimester spontaneous \\nabortions in these patients and is not associated with any major congenital \\nmalformations.\\nvDose is usually started with 500mg HS, and is slowly increased upto 2,250 mg/day.\\nvContraindicated in presence of renal disease.\\nvInsulin is added if glycemic control is not achieved.\\nvBarrier methods have high failure rates.\\nvIntrauterine devices (copper containing and LNG containing) – considered ideal for \\ndiabetic women. These do not affect glucose metabolism.\\nvProgesterone Only Pills (POPs): Avoid in lactating women because of risk of \\ndecrease in glucose tolerance and insulin sensitivity. These should be used only \\nwhen estrogen in contraindicated that too in non-lactating women.\\nvWomen who have completed their family should be offered ligation when possible.'), Document(metadata={'producer': 'Corel PDF Engine Version 3.0.0.576', 'creator': 'CorelDRAW', 'creationdate': 'D:20111109070950', 'moddate': 'D:20111109070950', 'author': 'desktop', 'title': 'Standard Treatment and Essential Medicine List', 'source': 'C:\\\\matricare\\\\MatriCare\\\\MatriCare\\\\Matricare1\\\\DATA\\\\Standard Treatment Guideline - Pregnancy & Sick newborn.pdf', 'total_pages': 141, 'page': 79, 'page_label': '80'}, page_content='72\\nESSENTIAL MEDICINE LIST (PREGNANT WOMEN) 2011 - 2012 \\nJANANI-SHISHU SURAKSHA KARYAKRAM (JSSK) \\nHealth & FW Department, Government of Orissa. \\nTotal \\nSl. \\nNo. \\nSl \\nNo. \\nDrug \\nCode \\nName of the drug / \\nitem \\nPharma \\nStandard.\\nStrength / \\nSpecification \\nUnit \\nPack \\nQuantity \\nRequired/\\npatient \\n(absolute)\\nAntenatal Period \\n1 1 D16002 Tab. Folic Acid \\n(Aluminium foil/Blister \\npack) \\nIP 5 mg/Tab 10 Tabs/Strip \\n10 \\nStrips/Box \\n90 \\n2 2 D16009 Tab. Ferrous Sulphate + \\nFolic Acid  \\n(Sugar Coated)(Aluminium \\nfoil/Blister pack) \\nIP Equivalent to \\n100 mg of \\nElemental Iron \\n+ Folic Acid \\n0.5mg \\n10 Tabs/Strip \\n10 \\nStrips/Box \\n180 \\n3 3 D16017 Tab. Doxylamine Succinate \\n+ Pyridoxine \\n (Aluminium foil/Blister \\npack) \\nIP Doxylamine \\nSuccinate 10 \\nmg + \\nPyridoxine 10 \\nmg / Tab. \\n10 Tabs/Strip \\n10 \\nStrips/Box \\n30 \\n4 4 D30001 Tab. Calcium (Film coated) \\n(Aluminium foil/Blister \\npack) \\nIP 500mg \\nElemental \\nCalcium per \\nTab \\n10 Tabs/Strip \\n10 \\nStrips/Box \\n180 \\n5 5 D23005 Inj. Tetanus Toxoid \\n(adsorbed) \\nIP 0.5 ml/Amp 0.5 ml/Amp \\n20 Amps/Box \\n2 \\nPre-Eclampsia and Eclampsia \\n6 1 D17020 Tab. Methyl Dopa (coated) \\n(Aluminium foil/Blister \\npack) \\nIP 250 mg of \\nanhydrous \\nMethyldopa/Tab \\n10 Tabs/Strip \\n10 \\nStrips/Box \\n120 \\n7 2 D17044 Cap. Nifedipine (Soft \\ngelatin capsule) \\n(Aluminium foil/Blister \\npack) \\nIP 10 mg/Cap 10 \\nCaps/Strip \\n10 \\nStrips/Box \\n120 \\n8 3 D17045 Tab. Nifedipine Sustained \\nRelease (SR) \\n(Aluminium foil/Blister \\npack) \\nIP 10mg/Tab. 10 Tabs/Strip \\n10 \\nStrips/Box \\n120 \\n9 4 D17042 Tab. Labetalol \\n(Aluminium foil/Blister \\npack) \\n  100mg/Tab. 10 Tabs/Strip \\n10 \\nStrips/Box \\n120 \\n10 5 D17043 Inj. Labetalol   20mg/4ml \\nAmp. \\n4 ml/Amp \\n20 Amps/Box \\n10 \\n11 6 D26006 Inj. Magnesium Sulphate   500 mg/ml 2 ml/Amp \\n20 Amps/Box \\n70 \\n12 7 D07004 Tab. Phenytoin Sodium \\n(Aluminium foil/Blister \\npack) \\nIP 100 mg/Tab 10 Tabs/Strip \\n10 \\nStrips/Box \\n  \\n13 8 D07010 Inj. Lorazepam IP 1 mg/ml 2 ml/Amp \\n20 Amps/Box \\n  \\n14 9 D07006  Inj. Diazepam IP 5mg/ml 2ml/Amp \\n20 Amps/Box \\n  \\n15 10 D26010 Inj. Magnesium Sulphate   250 mg/ml 2 ml/Amp20 \\nAmps/Box \\n8 \\nPre-term labour & PROM \\n16 1 D17044 Cap. Nifedipine (Soft \\ngelatin capsule) \\n(Aluminium foil/Blister \\npack) \\nIP 10 mg/Cap 10 \\nCaps/Strip \\n10 \\nStrips/Box \\n240 \\n17 2 D26011 Inj. Isoxsuprine HCl   5mg / ml 2 ml/Amp \\n20 Amps/Box \\n15 \\n18 3 D26004 Tab. Isoxsuprine \\n(Aluminium foil/Blister \\npack) \\nIP 10 mg/Tab 10 Tabs/Strip \\n10 Strip/Box \\n84'), Document(metadata={'producer': 'Corel PDF Engine Version 3.0.0.576', 'creator': 'CorelDRAW', 'creationdate': 'D:20111109070950', 'moddate': 'D:20111109070950', 'author': 'desktop', 'title': 'Standard Treatment and Essential Medicine List', 'source': 'C:\\\\matricare\\\\MatriCare\\\\MatriCare\\\\Matricare1\\\\DATA\\\\Standard Treatment Guideline - Pregnancy & Sick newborn.pdf', 'total_pages': 141, 'page': 80, 'page_label': '81'}, page_content='73\\nTotal \\nSl. \\nNo. \\nSl \\nNo. \\nDrug \\nCode \\nName of the drug / \\nitem \\nPharma \\nStandard.\\nStrength / \\nSpecification \\nUnit \\nPack \\nQuantity \\nRequired/\\npatient \\n(absolute)\\n19 4 D05017 Inj. Betamethasone \\nSod. Phosphate \\nIP 4mg/ml 1 ml/Amp \\n20 Amps/Box \\n6 \\n20 5 D09004 Inj. Ampicillin Sodium \\n(with diluents in plastic \\ncontainer) \\nIP Equivalent to 500 \\nmg of anhydrous \\nAmpicillin/Vial \\n500mg / Vial \\n20 Vials / \\nBox \\n8 \\n21 6 D09055 Cap. Ampicillin \\n(Aluminium foil/Blister \\npack) \\nIP 500mg/Cap. 10 \\nCaps/Strip \\n10 Strips/Box \\n15 \\n22 7 D09102 Inj. Ampicillin Sodium  \\n(with diluents in plastic \\ncontainer) \\nIP Equivalent to 1gm \\nof anhydrous \\nAmpicillin/Vial \\n1gm / Vial \\n20 Vials / \\nBox \\n15 \\n23 8 D09009 Inj. Gentamycin \\nSulphate \\nIP 40 mg/ml 2 ml/Vial \\n20 Vials/Box \\n10 \\n24 9 D09098 Inj \\nCefotaxime+Sulbactam \\n(with diluents in plastic \\ncontainer) \\n  Cefotaxime 1gm + \\nSulbactam 0.5 gm \\n/ vial \\n1.5gm / Vial \\n20 Vials/Box \\n4 \\n25 10 D09050 Cap. Amoxycillin \\nTrihydrate \\n(Aluminium foil/Blister \\npack) \\nIP 500 mg/Cap 10 \\nCaps/Strip \\n10 Strips/Box \\n15 \\n26 11 D09101 Inj. Amoxycillin \\nTrihydrate  \\n(with diluents in plastic \\ncontainer) \\n  500mg / vial 500mg / Vial \\n20 Vials / \\nBox \\n  \\n27 12 D13005 Tab. Metronidazole \\n(Coated) \\n(Aluminium foil/Blister \\npack) \\nIP 400 mg/Tab 10 Tabs/Strip \\n10 Strips/Box \\n10 \\n28 13 D09016 Tab. Erythromycin \\nStearate (Equiv.to \\nErythromycin 250 mg) \\nIP 250 mg/Tab 10 Tabs/Strip  \\n10 Strips/Box \\n  \\n29 14 D09074 Tab. Erythromycin \\nEsteolate \\n(Equiv.to Erythromycin \\n500 mg) \\nIP 500 mg/Tab 10 Tabs/Strip  \\n10 Strips/Box \\n  \\n30 15 D09100 Tab. Nitrofurantoin \\n(Aluminium foil/Blister \\npack) \\nIP 100 mg/Tab 10 Tabs/Strip \\n10 Strips/Box \\n45 \\nPregnancy with heart disease \\n31 1 D17027 Tab. Digoxin \\n(Aluminium foil/Blister \\npack) \\nIP 0.25 mg/Tab 10 Tabs/Strip \\n10 Strips/Box \\n280 \\n32 2 D20001 Tab. Frusemide  \\n(Aluminium foil/Blister \\npack) \\nIP 40 mg/Tab 10 Tabs/Strip \\n10 Strips/Box \\n200 \\n33 3 D20002 Inj. Frusemide IP 10 mg/1 ml 2 ml/Amp \\n20 Amps/Box \\n10 \\nPregnancy with severe anaemia \\n34 1 D16018 Inj Iron Sucrose IP 50 mg/ 2.5 ml 5 ml/Amp \\n20 Amps/Box \\n12 \\n35 2 D16009 Tab. Ferrous Sulphate + \\nFolic Acid, (Sugar \\nCoated) (Aluminium \\nfoil/Blister pack) \\nIP Equivalent to 100 \\nmg of Elemental \\nIron + Folic Acid \\n0.5mg \\n10 Tabs/Strip \\n10 Strips/Box \\n180 \\n36 3 D08004 Tab. Albendazole \\n(Chewable) (Aluminium \\nfoil/Blister pack) \\nIP 400mg/Tab. 1 Tab/Strip \\n10 Strips/Box \\n1'), Document(metadata={'producer': 'Corel PDF Engine Version 3.0.0.576', 'creator': 'CorelDRAW', 'creationdate': 'D:20111109070950', 'moddate': 'D:20111109070950', 'author': 'desktop', 'title': 'Standard Treatment and Essential Medicine List', 'source': 'C:\\\\matricare\\\\MatriCare\\\\MatriCare\\\\Matricare1\\\\DATA\\\\Standard Treatment Guideline - Pregnancy & Sick newborn.pdf', 'total_pages': 141, 'page': 81, 'page_label': '82'}, page_content=\"74\\nTotal \\nSl. \\nNo. \\nSl \\nNo. \\nDrug \\nCode \\nName of the drug / \\nitem \\nPharma \\nStandard.\\nStrength / \\nSpecification \\nUnit \\nPack \\nQuantity \\nRequired/\\npatient \\n(absolute)\\nIntra Partum/Normal delivery \\n37 1 D29003 I.V Compound Sodium \\nLactate (Ringer's \\nLactate) RL \\nIP Lactic Acid-\\n0.24w/v \\nequivalent to \\n0.32% w/v of \\nsodium lactate \\nsodium chloride-\\n0.6% w/v, \\npotassium \\nchloride-0.04% \\nw/v, calcium \\nchloride-0.027% \\nw/v  \\n(FFS / BFS Plastic \\nContainer) \\n500 ml/Bottle \\n20 \\nBottles/Box \\n2 \\n38 2 D29001 I.V Sodium Chloride \\n(Normal Saline) \\nIP 0.9% w/v  \\n(FFS / BFS Plastic \\nContainer) \\n500 ml/Bottle \\n20 \\nBottles/Box \\n1 \\n39 3 D29004 I.V Dextrose 5% (5D) IP 5% w/v  \\n(FFS / BFS Plastic \\nContainer) \\n500 ml/Bottle \\n20 \\nBottles/Box \\n1 \\n40 4 D29002 I.V Dextrose and \\nSodium Chloride (DNS) \\nIP 5% w/v Dextrose, \\n0.9% w/v Sodium \\nChloride (FFS, \\nPlastic Container \\nAutomatic \\nContinuous, Single \\nUnit) \\n500 ml/Bottle \\n20 \\nBottles/Box \\n1 \\n41 5 D29005 I.V Dextrose 10%(10D) IP 10% w/v(FFS \\nPlastic Container \\nAutomatic \\nContinuous, Single \\nUnit) \\n500 ml/Bottle \\n20 \\nBottles/Box \\n1 \\n42 6 D29008 Inj. Sodium Bi-\\nCarbonate \\nIP 7.5% w/v 10 ml/Amp \\n20 Amps/Box \\n2 \\n43 7 D31001 Sterile Water For \\nInjection  \\n(Plastic Container as per \\nIP) \\nIP 5ml/Amp,(FFS \\nPlastic Container \\nAutomatic \\nContinuous Single \\nUnit) \\n5 ml/Amp \\n20 Amps/Box \\n5 \\n44 8 D04021 Inj. Tramadol HCl BP 50 mg/ml 2 ml/Amp \\n20 Amps/Box \\n1 \\n45 9 D26001 Inj. Methylergometrine \\nMaleate \\nIP 0.2 mg/ml  1 ml/Amp \\n20 Amps/Box \\n1 \\n46 10 D26007 Tab. Misoprostol \\n(Aluminium Foil/Blister \\npack) \\n  200mcg/Tab 10 Tabs/Strip \\n10 Strips/Box \\n4 \\n47 11 D26002 Inj. Oxytocin IP 5 IU/1ml 1ml/Amp \\n20 Amps/Box \\n6 \\n48 12 D02001 Inj. Lignocaine HCl IP 2% w/v 30 ml/Vial \\n20 Vials/Box \\n1 \\n49 13 D26005 Inj. Carboprost \\nTromethamine \\nIP 250 mcg/ml 1 ml/Amp \\n20 Amp/Box \\n  \\n50 14 D22009 Inj. Human Premixed \\nInsulin \\n(50/50, 30/70) \\nIP Inj. 40 units/ml \\n(Biphasic) \\n10 ml/Vial \\n20 Vials/Box \\n  \\n51 15 D22002 Inj. Human Soluble \\nInsulin \\n  40 I.U/ml 10 ml/Vial \\n20 Vials/Box \\n  \\n52 16 D22003 Tab. Metformin HCl \\n(coated) \\n(Aluminium foil/Blister \\npack) \\nIP 500 mg/Tab 10 Tabs/Strip \\n10 Strips/Box\"), Document(metadata={'producer': 'Corel PDF Engine Version 3.0.0.576', 'creator': 'CorelDRAW', 'creationdate': 'D:20111109070950', 'moddate': 'D:20111109070950', 'author': 'desktop', 'title': 'Standard Treatment and Essential Medicine List', 'source': 'C:\\\\matricare\\\\MatriCare\\\\MatriCare\\\\Matricare1\\\\DATA\\\\Standard Treatment Guideline - Pregnancy & Sick newborn.pdf', 'total_pages': 141, 'page': 82, 'page_label': '83'}, page_content='75\\nTotal \\nSl. \\nNo. \\nSl \\nNo. \\nDrug \\nCode \\nName of the drug / \\nitem \\nPharma \\nStandard.\\nStrength / \\nSpecification \\nUnit \\nPack \\nQuantity \\nRequired/\\npatient \\n(absolute)\\nConsumables \\n53 1 D34004 Absorbent Cotton IP Net Weight \\n500gms, \\nAbsorbency not \\nmore than 10 \\nSeconds \\n500 \\ngm/Packet \\n(Net) \\n10 \\npackets/Box  \\n1 \\n54 2 D18023 Povidone Iodine Lotion  \\n(Plastic container as per \\nI.P) \\nIP 5% w/v 100 ml/Bottle \\n20 \\nBottles/Box \\n1 \\n55 3 D34007 Microporus Adhesive \\nPaper Tape \\n- 2.5cm. x 10 yds \\n(9.1 mtr) per roll \\nwith CE \\ncertification \\n10 Rolls / \\npacket \\n1 \\n56 4 S02002 Disposable Syringes  BIS 5 CC, with colour \\ncoded (as per BIS) \\nneedle Sterilised, \\nLuer Mount, Non - \\ntoxic CGS 5CC  as \\nper Drugs & \\nCosmetics Act 1940, \\nIS No. 12655  \\n50 pieces in \\none box \\n4 \\n57 5 S02 04D3i sposable Syringes BIS 10 CC, with colour \\ncoded (as per BIS) \\nneedle Sterilised, \\nLuer Mount, Non - \\ntoxic CGS 10CC  as \\nper Drugs & \\nCosmetics Act 1940, \\nIS No. 12655  \\n50 pieces in \\none box \\n4 \\n58 6 S02003 Disposable sterilised \\nNeedles in blister pack \\n  20 G - 24 G, IS No: \\n10654: 2002, ISO: \\n7864.1993 As Per \\nDrugs & Cosmetics \\nAct 1940  \\n50 pieces in \\none box \\n4 \\n59 7 S02011 Intravenous Set    Adult, With built in \\nAirway moulded \\nchamber and Needle, \\nSterile, Disposable, \\nNon - Toxic, Non \\nPyrogenic, sterilised \\nby ETO, 2.7 to 3.00 \\nmm tube with fluid \\nfilter, non-kinkable \\ntube, Length not less \\nthan 150 cms / I.S \\nNo. 12655 (part-4 of \\n2003), as per Drugs \\n& Cosmetics Act-\\n1940  \\n50 pieces in \\none box \\n1 \\n60 8 S02008 Intra Cath    Adult, (two way) with \\nclosing Cover Type II \\nSterilised Size 18, \\n20,22 (Adult) with \\nCE certification  \\n50 pieces in \\none box \\n1 \\n61 9 S01014 Catgut Chromic \\nAtraumatic \\n  Size:- 1-0, 1/ 2 \\nCircle Round Bodied \\n(40mm needle) \\nU.S.P, with CE \\ncertification \\n12 Foils / Box 2 \\n62 10 S02051 Umbilical cord clamp / \\nVascular clamp \\n  Sterilised Each 1 \\n63 11 S02063 Infant mucous extractor   PVC, Non-Toxic, \\nSterilised, Pyrogen \\nfree, Disposable \\nEach 1'), Document(metadata={'producer': 'Corel PDF Engine Version 3.0.0.576', 'creator': 'CorelDRAW', 'creationdate': 'D:20111109070950', 'moddate': 'D:20111109070950', 'author': 'desktop', 'title': 'Standard Treatment and Essential Medicine List', 'source': 'C:\\\\matricare\\\\MatriCare\\\\MatriCare\\\\Matricare1\\\\DATA\\\\Standard Treatment Guideline - Pregnancy & Sick newborn.pdf', 'total_pages': 141, 'page': 83, 'page_label': '84'}, page_content='76\\nTotal \\nSl. \\nNo. \\nSl \\nNo. \\nDrug \\nCode \\nName of the drug / \\nitem \\nPharma \\nStandard.\\nStrength / \\nSpecification \\nUnit \\nPack \\nQuantity \\nRequired/\\npatient \\n(absolute)\\n64 12 D34020 Medicated Soap (Dettol \\n/ Lifebuoy) \\n  35 - 40 gm / soap Each 1 \\n65 13 S02106 K-90 plain Catheter       1 \\n66 14 S02 04O7 peration Gloves BIS 6\", 61/2\", 7\", 71/2\", \\nSterilised, Pre-\\npowdered, BIS \\nspecifications gloves, \\nsurgical rubber made \\nof Hypoallergic latex. \\n100% electronically \\ntested, sterilised by \\nGamma Radiation / \\nETO, ISI Marked, IS \\nNo. 13422-92 with \\nCE certification  \\nPair 5 \\n67 15 S02049 Disposable Examination \\nGloves \\nBIS 6\", 61/2\", 7\", 71/2\", \\nSterilised, small, \\nmedium & large, pre-\\npowdered, with CE \\ncertified, surgical \\nrubber made of \\nHypoallergic latex. \\n100% electronically \\ntested, sterilised by \\nGamma Radiation / \\nETO, White coloured. \\nMin. length-240mm \\nPair 4 \\n68 16 D34008 Roller Bandage BIS 4 mt. x 6 cm, IS-\\n863-1988, Ends \\n(column)-150,  \\nPicks (Row)-85/10 \\nSq. c.m \\n10 Rolls / \\npacket \\n1 \\nPostnatal Period \\n69 1 D09026 Tab. Cefadroxil \\n(Aluminium foil/Blister \\npack) \\nIP 500 mg/Tab 10 Tabs/Strip \\n10 Strips/Box \\n10 \\n70 2 D09050 Cap. Amoxycillin \\nTrihydrate \\n(Aluminium foil/Blister \\npack) \\nIP 500 mg/Cap 10 Caps/Strip \\n10 Strips/Box \\n30 \\n71 3 D16009 Tab. Ferrous Sulphate + \\nFolic Acid (Sugar \\nCoated) (Aluminium \\nfoil/Blister pack) \\nIP Equivalent to 100 \\nmg of Elemental \\nIron + Folic Acid \\n0.5mg \\n10 Tabs/Strip \\n10 Strips/Box \\n90 \\n72 4 D04002 Tab. Paracetamol \\n(Aluminium foil/Blister \\npack) \\nIP 500 mg/Tab 10 Tabs/Strip \\n10 Strips/Box \\n10 \\n73 5 D04006 Tab. Ibuprofen (Coated)\\n(Aluminium foil/Blister \\npack) \\nIP 400 mg/Tab 10 Tabs/Strip \\n10 Strips/Box \\n10 \\n74 6 D21010 Tab. Domperidone \\n(Aluminium foil/Blister \\npack) \\nBP 10 mg/Tab 10 Tabs/Strip \\n10 Strips/Box \\n10 \\n75 7 D23011 Inj. Human Anti-D \\nImmunoglobulin * \\n  300mcg/1.5ml 1.5 ml/Amp \\n20 Amps/Box 1 * \\n76 8 S02090 Sanitary Napkins     10 Nos. / Pkt. 2 \\n77 9 D18024 Povidone Iodine Oint. USP 5% w/v 15 gm/Tube \\n20 Tubes/Box \\n1 \\n78 10 D21011 Tab. Dicyclomine HCL IP 20 mg/Tab 10 Tabs/Strip \\n10 Strips/Box \\n10 \\n79 11 D21013 Inj. Dicyclomine HCl USP 10 mg/ml 2 ml/Amp \\n20 Amps/Box \\n2 \\n* Rh -ve is around 5% of the total deliveries.'), Document(metadata={'producer': 'Corel PDF Engine Version 3.0.0.576', 'creator': 'CorelDRAW', 'creationdate': 'D:20111109070950', 'moddate': 'D:20111109070950', 'author': 'desktop', 'title': 'Standard Treatment and Essential Medicine List', 'source': 'C:\\\\matricare\\\\MatriCare\\\\MatriCare\\\\Matricare1\\\\DATA\\\\Standard Treatment Guideline - Pregnancy & Sick newborn.pdf', 'total_pages': 141, 'page': 84, 'page_label': '85'}, page_content=\"77\\nTotal \\nSl. \\nNo. \\nSl \\nNo. \\nDrug \\nCode \\nName of the drug / \\nitem \\nPharma \\nStandard.\\nStrength / \\nSpecification \\nUnit \\nPack \\nQuantity \\nRequired/\\npatient \\n(absolute)\\nIntra-partum- C- Section \\n80 1 D13003 Inj. Metronidazole I.V IP 500 mg/100 ml \\nBottle  \\n(FFS / BFS Plastic \\nContainer) \\n100 ml/Bottle \\n20 \\nBottles/Box \\n9 \\n81 2 D09054 Inj. Cefotaxime Sodium \\n(with diluents in plastic \\ncontainer) \\nIP 1gm/Vial 1gm/Vial \\n20 Vials/Box \\n6 \\n82 3 D26002 Inj. Oxytocin IP 5 IU/1ml 1ml/Amp \\n20 Amps/Box \\n14 \\n83 4 D02008 Inj. Bupivacaine \\n(Heavy) \\nIP 0.5% w/v 4 ml/Amp \\n20 Amps/Box \\n1 \\n84 5 D02006 Inj. Bupivacaine IP 5mg/ml 20 ml/Vial \\n20 Vials/Box \\n1 \\n85 6 D02005 Inj. Lignocaine HCl and \\nDextrose \\n(Heavy) \\nIP Lignocaine HCl - \\n53.3 mg / ml +  \\nDextrose 75mg / \\nml \\n2 ml/Amp \\n20 Amps/Box \\n1 \\n86 7 D02003 Inj. Lignocaine HCl and  \\nAdrenaline Bitartrate \\nIP Lignocaine HCl - \\n21.3 mg / ml +  \\nAdrenaline 0.5 mg \\n/ ml \\n30 ml/Vial \\n20 Vials/Box \\n1 \\n87 8 D02001 Inj. Lignocaine HCl IP 2% w/v 30 ml/Vial \\n20 Vials/Box \\n1 \\n88 9 D21005 Inj. Promethazine HCl IP 25 mg/ml 2 ml/Amp \\n20 Amps/Box \\n4 \\n89 10 D04010 Inj. Diclofenac Sodium IP 25 mg/ml 3 ml/Amp \\n20 Amps/Box \\n3 \\n90 11 D04033 Inj. Paracetamol I.V   1000mg/100ml 100 ml/Bottle \\n20 \\nBottles/Box \\n3 - 4 \\n91 12 D04021 Inj. Tramadol HCl BP 50 mg/ml 2 ml/Amp \\n20 Amps/Box \\n3 \\n92 13 D21030 Inj. Pantoprazole   40mg/vial 40mg/Vial \\n20 Vials/Box \\n1 \\n93 14 D29003 I.V Compound Sodium \\nLactate (Ringer's \\nLactate) RL \\nIP Lactic Acid-0.24w/v \\nequivalent to 0.32% \\nw/v of sodium lactate \\nsodium chloride-\\n0.6% w/v, potassium \\nchloride-0.04% w/v, \\ncalcium chloride-\\n0.027% w/v  \\n(FFS / BFS Plastic \\nContainer) \\n500 ml/Bottle \\n20 \\nBottles/Box \\n4 \\n94 15 D29001 I.V Sodium Chloride \\n(Normal Saline) \\nIP 0.9% w/v  \\n(FFS / BFS Plastic \\nContainer) \\n500 ml/Bottle \\n20 \\nBottles/Box \\n2 \\n95 16 D29004 I.V Dextrose 5% (5D) IP 5% w/v  \\n(FFS / BFS Plastic \\nContainer) \\n500 ml/Bottle \\n20 \\nBottles/Box \\n4 \\n96 17 D29010 Plasmaexpander \\nInfusion Polygeline \\nIP Polymer from \\ndegraded gelatin \\n3.5gm colloidal \\n(polygeline) (Na 145, \\nK 5.1, Cal 12.5, Cl \\n145, mmol) in 100ml \\n(FFS / BFS Plastic \\nContainer) \\n500 ml/Bottle \\n20 \\nBottles/Box \\n1 \\n97 18 D04008 Inj. Pentazocine Lactate IP 30 mg/ml  \\n(equivalent of 30 \\nmg of \\npentazocine) /ml \\n1ml/Amp \\n20 Amps/Box \\n4 \\n98 19 D21023 Inj. Ondensatron   2 mg/ml 2ml/Amp \\n20 Amps/Box \\n1 \\n99 20 D26005 Inj. Carboprost \\nTromethamine \\nIP 250 mcg/ml 1 ml/Amp \\n20 Amp/Box \\n1\"), Document(metadata={'producer': 'Corel PDF Engine Version 3.0.0.576', 'creator': 'CorelDRAW', 'creationdate': 'D:20111109070950', 'moddate': 'D:20111109070950', 'author': 'desktop', 'title': 'Standard Treatment and Essential Medicine List', 'source': 'C:\\\\matricare\\\\MatriCare\\\\MatriCare\\\\Matricare1\\\\DATA\\\\Standard Treatment Guideline - Pregnancy & Sick newborn.pdf', 'total_pages': 141, 'page': 85, 'page_label': '86'}, page_content=\"78\\nTotal \\nSl. \\nNo. \\nSl \\nNo. \\nDrug \\nCode \\nName of the drug \\n/ item \\nPharma \\nStandard \\nStrength / \\nSpecification Unit Pack \\nQuantity \\nRequired/\\npatient \\n(absolute)\\nConsumables \\n100 1 D34004 Absorbent Cotton IP Net Weight \\n500gms, \\nAbsorbency not \\nmore than 10 \\nSeconds \\n500 gm/Packet \\n(Net) \\n10 packets/Box  \\n1 \\n101 2 D18023 Povidone Iodine \\nLotion (Plastic \\ncontainer as per I.P) \\nIP 5% w/v 100 ml/Bottle \\n20 Bottles/Box \\n1 \\n102 3 D34007 Microporus Adhesive \\nPaper Tape \\n- 2.5cm. x 10 yds \\n(9.1 mtr) per roll \\nwith CE \\ncertification \\n10 Rolls / \\npacket \\n1 \\n103 4 S02002 Disposable Syringes  BIS 5 CC, with colour \\ncoded (as per BIS) \\nneedle Sterilised, \\nLuer Mount, Non - \\ntoxic CGS 5CC  as \\nper Drugs & \\nCosmetics Act \\n1940, IS No. 12655 \\nwith CE certification \\n50 pieces in \\none box \\n10 \\n104 5 S02001 Disposable Syringes    2 CC, With colour \\ncoded (as per BIS) \\nneedle Sterilised, \\nLuer Mount, Non - \\ntoxic CGS 2CC  as \\nper Drugs & \\nCosmetics Act \\n1940, IS No. 12655 \\nwith CE certification \\n50 pieces in \\none box \\n5 \\n105 6 S02043  Disposable Syringes BIS 10 CC, with colour \\ncoded (as per BIS) \\nneedle Sterilised, \\nLuer Mount, Non - \\ntoxic CGS 10CC  as \\nper Drugs & \\nCosmetics Act \\n1940, IS No. 12655 \\nwith CE certification \\n50 pieces in \\none box \\n5 \\n106 7 S02094 Disposable Syringes BIS 20 CC, with colour \\ncoded (as per BIS) \\nneedle Sterilised, \\nLuer Mount, Non - \\ntoxic CGS 10CC  as \\nper Drugs & \\nCosmetics Act \\n1940, IS No. 12655  \\nwith CE certification \\n50 pieces in \\none box \\n1 \\n107 8 S02003 Disposable sterilised \\nNeedles in blister \\npack \\n  20 G - 24 G, IS No: \\n10654: 2002, ISO: \\n7864.1993 As Per \\nDrugs & Cosmetics \\nAct 1940  \\n50 pieces in \\none box \\n10 \\n108 9 S02024 Foley's Urinary \\nCatheter  \\n  Size: 16F, \\nSilkolatex (Pre - \\nsterile) 2 way \\nsterile, Non - toxic  \\nEach 1\"), Document(metadata={'producer': 'Corel PDF Engine Version 3.0.0.576', 'creator': 'CorelDRAW', 'creationdate': 'D:20111109070950', 'moddate': 'D:20111109070950', 'author': 'desktop', 'title': 'Standard Treatment and Essential Medicine List', 'source': 'C:\\\\matricare\\\\MatriCare\\\\MatriCare\\\\Matricare1\\\\DATA\\\\Standard Treatment Guideline - Pregnancy & Sick newborn.pdf', 'total_pages': 141, 'page': 86, 'page_label': '87'}, page_content='79\\nTotal \\nSl. \\nNo. \\nSl \\nNo. \\nDrug \\nCode \\nName of the drug \\n/ item \\nPharma \\nStandard \\nStrength / \\nSpecification Unit Pack \\nQuantity \\nRequired/\\npatient \\n(absolute)\\n109 10 S02011 Intravenous Set    Adult, With built in \\nAirway moulded \\nchamber and \\nNeedle, Sterile, \\nDisposable, Non - \\nToxic, Non \\nPyrogenic, \\nsterilised by ETO, \\n2.7 to 3.00 mm \\ntube with fluid \\nfilter, non-kinkable \\ntube, Length not \\nless than 150 cms / \\nI.S No. 12655 \\n(part-4 of 2003), \\nas per Drugs & \\nCosmetics Act-\\n1940 with CE \\ncertification  \\n50 pieces in \\none box \\n1 \\n110 11 S02008 Intra Cath   Adult, (two way) \\nwith closing Cover \\nType II Sterilised \\nSize 18, 20 (Adult) \\nwith CE certification \\n50 pieces in \\none box \\n1 \\n111 12 S01014 Catgut Chromic \\nAtraumatic \\nUSP Size:- 1-0, 1/ 2 \\nCircle Round \\nBodied (40mm \\nneedle) with CE \\ncertification  \\n12 Foils / Box 2 \\n112 13 S01013 Catgut Chromic \\nAtraumatic \\nUSP Size:- 1, 1/ 2 Circle \\nRound Bodied \\n(40mm needle) \\n(Heavy) with CE \\ncertification  \\n12 Foils / Box 2 \\n113 14 S01018 Polyglactin (Braided \\nCoated) - 910 \\nUSP Size:- 1, 1/2 Circle \\nRound Bodied \\n40mm (Heavy \\nneedle) with CE \\ncertification  \\n12 Foils / Box 1 \\n114 15 S01083 Monofilament \\nPolyamide Black \\nBreaded Silk \\nUSP Size:- 2-0, 3/8 \\nCircle Bodied \\n45mm  needle, \\nreverse cutting \\nwith CE certification \\n12 Foils / Box 1 \\n115 16 S02051 Umbilical cord clamp \\n/ Vascular clamp \\n  Sterilised Each 1 \\n116 17 S02091 Suction Tube     Each 1 \\n117 18 S02092 Spinal Needle \\nDisposable Adult as \\nper BIS \\n  23 / 25G (70 - \\n90mm) without \\nhub \\nEach 1 \\n118 19 D34020 Medicated Soap \\n(Dettol / Lifebuoy) \\n  35 - 40 gm / \\nsoap \\nEach 1 \\n119 20 S02026 Urinary Drainage Bag   Sterilised with non \\nreturn valve and \\nDrainage outlet \\nwith a capacity of \\n2000ml , with \\nmarking non toxic \\npyrogen free, \\ndouble seek , \\nclinical grade PVC \\nwill be preferred \\nEach 1 \\n120 21 D34008 Roller Bandage BIS 4 mt. x 6 cm, IS-\\n863-1988, Ends \\n(column)-150,  \\nPicks (Row)-85/10 \\nSq. c.m \\n10 Rolls / \\npacket \\n1'), Document(metadata={'producer': 'Corel PDF Engine Version 3.0.0.576', 'creator': 'CorelDRAW', 'creationdate': 'D:20111109070950', 'moddate': 'D:20111109070950', 'author': 'desktop', 'title': 'Standard Treatment and Essential Medicine List', 'source': 'C:\\\\matricare\\\\MatriCare\\\\MatriCare\\\\Matricare1\\\\DATA\\\\Standard Treatment Guideline - Pregnancy & Sick newborn.pdf', 'total_pages': 141, 'page': 87, 'page_label': '88'}, page_content='80\\nTotal \\nSl. \\nNo. \\nSl \\nNo. \\nDrug \\nCode \\nName of the drug \\n/ item \\nPharma \\nStandard \\nStrength / \\nSpecification Unit Pack \\nQuantity \\nRequired/\\npatient \\n(absolute)\\n121 22 D34021 Absorbent Gauze Sch.F(II) \\nof D&C Act \\nMin. Mass: \\n30±5gm /sq.mtr \\nConfirming to \\nIS:758/1988 \\nEnds(Column)-75, \\nPicks(Row)-55 / \\n10Sq.cm, \\nAbsorbency not \\nmore than \\n10seconds \\n1 mtr x 60 cm \\nper than \\n10 \\nThans/Packet \\n1 \\n122 23 D19014 Surgical Spirit \\n(Plastic Container as \\nper IP) \\n B1P0  0 ml/Bottle \\n20 \\nBottles/Box \\n1 \\n123 24 S02063 Infant mucous \\nextractor \\n  PVC, Non-Toxic, \\nSterilised, \\nPyrogen free, \\nDisposable \\nEach 1 \\n124 25 S02018 Surgicals Blades \\n(Sterilised) \\n  Pre - sterile with \\nGamma radiation \\nfor handle no. 4 \\nsizes, 22, 24 \\nISI : 3319:1995 \\n50 pieces in \\none box \\n1 \\n125 26 S02093 Surgiwear     Each 1 \\nMiscellaneous Drugs (may be required in some cases of C- Section) \\n126 1 S02107 Epidural Set   Epidurarl Syringe \\n- 1, Epidural \\nNeedle - 18G - \\n1, Epidural \\nCatheter - 1 \\nEach 1 \\n127 2 D09078 Inj. Cefoperazone & \\nSulbactam (with \\ndiluents in plastic \\ncontainer) \\n  500mg \\nCefoperazone + \\n500mg \\nSulbactam \\n1gm/Vial \\n20 Vials/Box \\n6 \\n128 3 D09054 Inj. Cefotaxime \\nSodium \\n(with diluents in \\nplastic container) \\nIP 1gm/Vial 1gm/Vial \\n20 Vials/Box \\n6 \\n129 4 D05005 Inj. Adrenaline \\nBitartrate \\nIP 1mg/ml \\n(1:1000) \\n1ml/Amp \\n20 Amps/Box \\n1 \\n130 5 D20002 Inj. Frusemide IP 10 mg/1 ml 2 ml/Amp \\n20 Amps/Box \\n10 \\n131 6 D05018 Inj. Noradrenaline   2mg/ml 2ml/Amp \\n20 Amps/Box \\n1 \\n132 7 D03001 Inj. Atropine \\nSulphate \\nIP 0.6 mg/ml 1 ml/Amp \\n20 Amps/Box \\n4 \\n133 8 D17013 Inj. Dopamine HCl       \\n(Intravenous \\nInfusion) \\nBP 40 mg/ml 5 ml/Amp \\n20 Amps/Box \\n1 \\n134 9 D17040 Inj Dobutamine   50 mg/ml 5ml / Vial  \\n20 Vials/Box \\n1 \\n135 10 D05002 Inj. Hydrocortisone \\nSodium Succinate \\n(with diluents in \\nplastic container) \\nIP 100 mg of \\nhydrocortisone/V\\nial \\n2 ml/Vial \\n20 Vials/Box \\n  \\n136 11 D01005 Halothane BP 30 ml/Bottle 30 ml/Bottle    \\n20 \\nBottles/Box \\n1 \\n137 12 D01002 Inj. Thiopentone \\nSodium \\nIP 500 mg/Vial 500 mg/Vial    \\n20 Vials/Box \\n1'), Document(metadata={'producer': 'Corel PDF Engine Version 3.0.0.576', 'creator': 'CorelDRAW', 'creationdate': 'D:20111109070950', 'moddate': 'D:20111109070950', 'author': 'desktop', 'title': 'Standard Treatment and Essential Medicine List', 'source': 'C:\\\\matricare\\\\MatriCare\\\\MatriCare\\\\Matricare1\\\\DATA\\\\Standard Treatment Guideline - Pregnancy & Sick newborn.pdf', 'total_pages': 141, 'page': 88, 'page_label': '89'}, page_content='81\\nTotal \\nSl. \\nNo. \\nSl \\nNo. \\nDrug \\nCode \\nName of the drug \\n/ item \\nPharma \\nStandard \\nStrength / \\nSpecification Unit Pack \\nQuantity \\nRequired/\\npatient \\n(absolute)\\n138 13 D24005 Inj. Vecuronium \\nBromide \\nBP 4mg/2ml 2 ml/Vial \\n20 Vials/Box \\n2 \\n139 14 D24006 Inj. Neostigmine \\nMethylsulphate \\nIP 0.5 mg/ml 1ml/Amp \\n20 Amps/Box \\n5 \\n140 15 D24003 Inj. Succinyl Choline \\nChloride \\nIP 50 mg/ml 2 ml/Vial \\n20 Vials/Box \\n1 \\n141 16 D03002 Inj. Glycopyrrolate USP 0.2 mg/ml 1 ml/Amp \\n20 Amps/Box \\n4 \\n142 17 D01008 Inj. Atracurium \\nBesylate \\nEP 10 mg/ml 2.5 ml/Amp \\n20 Amps/Box \\n2 \\n143 18 D01001 Inj. Ketamine HCl IP 57.7 mg of \\nKetamine HCl \\nEquivalent to 50 \\nmg of Ketamine \\n10 ml/Vial \\n20 Vials/Box \\n1 \\n144 19 D17047 Inj. Ephedrine HCl   30 mg/ml 1ml/Amp \\n20 Amps/Box \\n2 \\n145 20 D07006 Inj. Diazepam IP 5mg/ml 2ml/Amp \\n20 Amps/Box \\n1 \\n146 21 D01007 Inj. Midazolam BP 1 mg/ml 10 ml/Vial \\n20 Amps/Box \\n1 \\n147 22 D05001 Inj. Dexamethasone \\nSodium Phosphate \\nIP 4 mg/ml (4.4 mg  \\nof \\nDexamethasone \\nsodium phospate \\nis equivalent to 4 \\nmg. of \\nDexamethasone \\nPhosphate) \\n2 ml/Vial \\n20 Vials/Box \\n1 \\n148 23 D28001 Inj. Theophylline & \\nEtophylline \\nIP Theophylline \\n50.6 mg + \\nEtophylline \\n169.4 mg/2ml \\n2 ml/Amp \\n20 Amps/Box \\n2 \\nPostnatal Period C- section \\n149 1 D09077 Tab. Azithromycin \\n(Aluminium Foil/Blister \\npack) \\nIP 500 mg/Tab 3 Tabs/Strip \\n10 Strips/Box \\n6 \\n150 2 D09091 Tab. Cefixime \\n(Aluminium Foil/Blister \\npack) \\nIP 200mg/Tab 10 Tabs/Strip \\n10 Strips/Box \\n10 \\n151 3 D09050 Cap. Amoxycillin \\nTrihydrate \\n(Aluminium foil/Blister \\npack) \\nIP 500 mg/Cap 10 Caps/Strip \\n10 Strips/Box \\n15 \\n152 4 D16009 Tab. Ferrous Sulphate \\n+ Folic Acid  \\n(Sugar \\nCoated)(Aluminium \\nfoil/Blister pack) \\nIP Equivalent to \\n100 mg of \\nElemental Iron + \\nFolic Acid 0.5mg \\n10 Tabs/Strip \\n10 Strips/Box \\n90 \\n153 5 D04002 Tab. Paracetamol \\n(Aluminium foil/Blister \\npack) \\nIP 500 mg/Tab 10 Tabs/Strip \\n10 Strips/Box \\n10 \\n154 6 D04006 Tab. Ibuprofen \\n(Coated) \\n(Aluminium foil/Blister \\npack) \\nIP 400 mg/Tab 10 Tabs/Strip \\n10 Strips/Box \\n10 \\n155 7 D21010 Tab. Domperidone \\n(Aluminium foil/Blister \\npack) \\nBP 10 mg/Tab 10 Tabs/Strip \\n10 Strips/Box \\n10 \\n156 8 D23011 Inj. Human Anti-D \\nImmunoglobulin * \\n  300mcg/1.5ml 1.5 ml/Amp \\n20 Amps/Box \\n1* \\n* Rh -ve is around 5% of the total deliveries.'), Document(metadata={'producer': 'Corel PDF Engine Version 3.0.0.576', 'creator': 'CorelDRAW', 'creationdate': 'D:20111109070950', 'moddate': 'D:20111109070950', 'author': 'desktop', 'title': 'Standard Treatment and Essential Medicine List', 'source': 'C:\\\\matricare\\\\MatriCare\\\\MatriCare\\\\Matricare1\\\\DATA\\\\Standard Treatment Guideline - Pregnancy & Sick newborn.pdf', 'total_pages': 141, 'page': 89, 'page_label': '90'}, page_content=\"82\\nTotal \\nSl. \\nNo. \\nSl \\nNo. \\nDrug \\nCode \\nName of the drug \\n/ item \\nPharma \\nStandard \\nStrength / \\nSpecification Unit Pack \\nQuantity \\nRequired/\\npatient \\n(absolute)\\n157 9 S02090 Sanitary Napkins     10 Nos. / Pkt 2 \\n158 10 D18024 Povidone Iodine Oint. USP 5% w/v 15 gm/Tube \\n20 Tubes/Box \\n1 \\nIntra Partum eclampsia \\n159 1 D29003 I.V Compound Sodium \\nLactate (Ringer's \\nLactate) RL \\nIP Lactic Acid-\\n0.24w/v \\nequivalent to \\n0.32% w/v of \\nsodium lactate \\nsodium chloride-\\n0.6% w/v, \\npotassium \\nchloride-0.04% \\nw/v, calcium \\nchloride-0.027% \\nw/v  \\n(FFS / BFS \\nPlastic \\nContainer) \\n500 ml/Bottle \\n20 \\nBottles/Box \\n2 \\n160 2 D29004 I.V Dextrose 5% (5D) IP 5% w/v  \\n(FFS / BFS \\nPlastic \\nContainer) \\n500 ml/Bottle \\n20 \\nBottles/Box \\n10 \\n161 3 D29005 I.V Dextrose \\n10%(10D) \\nIP 10% w/v(FFS \\nPlastic Container \\nAutomatic \\nContinuous, \\nSingle Unit) \\n500 ml/Bottle \\n20 \\nBottles/Box \\n  \\n162 4 D29008 Inj. Sodium Bi-\\nCarbonate \\nIP 7.5% w/v 10 ml/Amp \\n20 Amps/Box \\n2 \\n163 5 D31001 Sterile Water For \\nInjection  \\n(Plastic Container as \\nper IP) \\nIP 5ml/Amp,(FFS \\nPlastic Container \\nAutomatic \\nContinuous \\nSingle Unit) \\n5 ml/Amp \\n20 Amps/Box \\n10 \\n164 6 D04021 Inj. Tramadol HCl BP 50 mg/ml 2 ml/Amp \\n20 Amps/Box \\n1 \\n165 7 D26006 Inj. Magnesium \\nSulphate \\n  500 mg/ml 2 ml/Amp \\n20 Amps/Box \\n70 \\n166 8 D26010 Inj. Magnesium \\nSulphate \\n  250 mg/ml 2 ml/Amp \\n20 Amps/Box \\n8 \\n167 9 D07007 Inj. Phenytoin Sodium IP 50 mg/ml 2 ml/Amp \\n20 Amps/Box \\n1 \\n168 10 D07002 Inj. Phenobarbitone \\nSodium \\nIP  200 mg/ml 1ml/Amp  \\n20 Amps/Box \\n1 \\n169 11 D29013 Inj. Calcium Gluconate   10% w/v 10ml/Amp  \\n20 Amps/Box \\n2 \\n170 12 D26002 Inj. Oxytocin IP 5 IU/1ml 1ml/Amp \\n20 Amps/Box \\n10 \\n171 13 D02001 Inj. Lignocaine HCl IP 2% w/v 30 ml/Vial \\n20 Vials/Box \\n1 \\nConsumables \\n172 1 D34004 Absorbent Cotton IP Net Weight \\n500gms, \\nAbsorbency not \\nmore than 10 \\nSeconds \\n500 gm/Packet \\n(Net) \\n10 packets/Box  \\n1 \\n173 2 D18023 Povidone Iodine Lotion \\n(Plastic container as \\nper I.P) \\nIP 5% w/v 100 ml/Bottle \\n20 \\nBottles/Box \\n1\"), Document(metadata={'producer': 'Corel PDF Engine Version 3.0.0.576', 'creator': 'CorelDRAW', 'creationdate': 'D:20111109070950', 'moddate': 'D:20111109070950', 'author': 'desktop', 'title': 'Standard Treatment and Essential Medicine List', 'source': 'C:\\\\matricare\\\\MatriCare\\\\MatriCare\\\\Matricare1\\\\DATA\\\\Standard Treatment Guideline - Pregnancy & Sick newborn.pdf', 'total_pages': 141, 'page': 90, 'page_label': '91'}, page_content='83\\nTotal \\nSl. \\nNo. \\nSl \\nNo. \\nDrug \\nCode \\nName of the drug \\n/ item \\nPharma \\nStandard \\nStrength / \\nSpecification Unit Pack \\nQuantity \\nRequired/\\npatient \\n(absolute)\\n174 3 D34007 Microporus Adhesive \\nPaper Tape \\n- 2.5cm. x 10 yds \\n(9.1 mtr) per roll \\nwith CE \\ncertification \\n10 Rolls / \\npacket \\n1 \\n175 4 S02002 Disposable Syringes  BIS 5 CC, with colour \\ncoded (as per BIS) \\nneedle Sterilised, \\nLuer Mount, Non - \\ntoxic CGS 5CC  as \\nper Drugs & \\nCosmetics Act \\n1940, IS No. 12655 \\nwith CE certification \\n50 pieces in \\none box \\n10 \\n176 5 S02043\\n  \\nDisposable Syringes BIS 10 CC, with colour \\ncoded (as per BIS) \\nneedle Sterilised, \\nLuer Mount, Non - \\ntoxic CGS 10CC  as \\nper Drugs & \\nCosmetics Act \\n1940, IS No. 12655 \\nwith CE certification \\n50 pieces in \\none box \\n16 \\n177 6 S02094 Disposable Syringes BIS 20 CC, with colour \\ncoded (as per BIS) \\nneedle Sterilised, \\nLuer Mount, Non - \\ntoxic CGS 10CC  as \\nper Drugs & \\nCosmetics Act \\n1940, IS No. 12655  \\nwith CE certification \\n50 pieces in \\none box \\n1 \\n178 7 S02003 Disposable sterilised \\nNeedles in blister pack \\n  22 / 23 G , IS No: \\n10654: 2002, ISO: \\n7864.1993 As Per \\nDrugs & Cosmetics \\nAct 1940  \\n50 pieces in \\none box \\n22 G - 17 \\n23 G - 10 \\n179 8 S02011 Intravenous Set    Adult, With built in \\nAirway moulded \\nchamber and \\nNeedle, Sterile, \\nDisposable, Non - \\nToxic, Non \\nPyrogenic, \\nsterilised by ETO, \\n2.7 to 3.00 mm \\ntube with fluid \\nfilter, non-kinkable \\ntube, Length not \\nless than 150 cms / \\nI.S No. 12655 \\n(part-4 of 2003), \\nas per Drugs & \\nCosmetics Act-\\n1940 with CE \\ncertification  \\n50 pieces in \\none box \\n2 \\n180 9 S02009 Intra Cath    Adult, (two way) \\nwith closing Cover \\nType II Sterilised \\nSize 18, 20,22 \\n(Adult) with CE \\ncertification  \\n50 pieces in \\none box \\n2 \\n181 10 S01014 Catgut Chromic \\nAtraumatic \\n  Size:- 1-0, 1/ 2 \\nCircle Round \\nBodied (40mm \\nneedle) U.S.P, with \\nCE certification \\n12 Foils / Box 4'), Document(metadata={'producer': 'Corel PDF Engine Version 3.0.0.576', 'creator': 'CorelDRAW', 'creationdate': 'D:20111109070950', 'moddate': 'D:20111109070950', 'author': 'desktop', 'title': 'Standard Treatment and Essential Medicine List', 'source': 'C:\\\\matricare\\\\MatriCare\\\\MatriCare\\\\Matricare1\\\\DATA\\\\Standard Treatment Guideline - Pregnancy & Sick newborn.pdf', 'total_pages': 141, 'page': 91, 'page_label': '92'}, page_content='84\\nTotal \\nSl. \\nNo. \\nSl \\nNo. \\nDrug \\nCode \\nName of the drug \\n/ item \\nPharma \\nStandard \\nStrength / \\nSpecification Unit Pack \\nQuantity \\nRequired/\\npatient \\n(absolute)\\n182 11 S02051 Umbilical cord clamp / \\nVascular clamp \\n  Sterilised Each 1 \\n183 12 S02091 Suction Tube       1 \\n184 13 D34020 Medicated Soap \\n(Dettol / Lifebuoy) \\n  35 - 40 gm / \\nsoap \\nEach 1 \\n185 14 S02106 K-90 plain Catheter       1 \\n186 15 S02047\\n  \\nOperation Gloves BIS 6\", 61/2\", 7\", \\n71/2\", Sterilised, \\nPre-powdered, BIS \\nspecifications \\ngloves, surgical \\nrubber made of \\nHypoallergic latex. \\n100% electronically \\ntested, sterilised by \\nGamma Radiation / \\nETO, ISI Marked, \\nIS No. 13422-92 \\nwith CE certification \\nDozen Pair 5 \\n187 16 S02049 Disposable \\nExamination Gloves \\nBIS 6\", 61/2\", 7\", \\n71/2\", Sterilised, \\nsmall, medium & \\nlarge, pre-\\npowdered, with CE \\ncertified, surgical \\nrubber made of \\nHypoallergic latex. \\n100% electronically \\ntested, sterilised by \\nGamma Radiation / \\nETO, White \\ncoloured. Min. \\nlength-240mm \\nDozen Pair 8 \\n188 17 D34008 Roller Bandage BIS 4 mt. x 6 cm, IS-\\n863-1988, Ends \\n(column)-150,  \\nPicks (Row)-\\n85/10 Sq. c.m \\n10 Rolls / \\npacket \\n1 \\n189 18 S02063 Infant mucous \\nextractor \\n  PVC, Non-Toxic, \\nSterilised, \\nPyrogen free, \\nDisposable \\nEach 1 \\nPostnatal Period / Eclampsia \\n190 1 D09026 Tab. Cefadroxil \\n(Aluminium foil/Blister \\npack) \\nIP 500 mg/Tab 10 Tabs/Strip \\n10 Strips/Box \\n10 \\n191 2 D09050 Cap. Amoxycillin \\nTrihydrate \\n(Aluminium foil/Blister \\npack) \\nIP 500 mg/Cap 10 Caps/Strip \\n10 Strips/Box \\n30 \\n192 3 D16009 Tab. Ferrous Sulphate \\n+ Folic Acid  \\n(Sugar \\nCoated)(Aluminium \\nfoil/Blister pack) \\nIP Equivalent to \\n100 mg of \\nElemental Iron + \\nFolic Acid 0.5mg \\n10 Tabs/Strip \\n10 Strips/Box \\n90 \\n193 4 D04002 Tab. Paracetamol \\n(Aluminium foil/Blister \\npack) \\nIP 500 mg/Tab 10 Tabs/Strip \\n10 Strips/Box \\n10 \\n194 5 D04006 Tab. Ibuprofen \\n(Coated) \\n(Aluminium foil/Blister \\npack) \\nIP 400 mg/Tab 10 Tabs/Strip \\n10 Strips/Box \\n10'), Document(metadata={'producer': 'Corel PDF Engine Version 3.0.0.576', 'creator': 'CorelDRAW', 'creationdate': 'D:20111109070950', 'moddate': 'D:20111109070950', 'author': 'desktop', 'title': 'Standard Treatment and Essential Medicine List', 'source': 'C:\\\\matricare\\\\MatriCare\\\\MatriCare\\\\Matricare1\\\\DATA\\\\Standard Treatment Guideline - Pregnancy & Sick newborn.pdf', 'total_pages': 141, 'page': 92, 'page_label': '93'}, page_content='85\\nTotal \\nSl. \\nNo. \\nSl \\nNo. \\nDrug \\nCode \\nName of the drug \\n/ item \\nPharma \\nStandard \\nStrength / \\nSpecification Unit Pack \\nQuantity \\nRequired/\\npatient \\n(absolute)\\n195 6 D21010 Tab. Domperidone \\n(Aluminium foil/Blister \\npack) \\nBP 10 mg/Tab 10 Tabs/Strip \\n10 Strips/Box \\n10 \\n196 7 S02090 Sanitary Napkins     10 Nos. / Pkt 2 \\n197 8 D18024 Povidone Iodine Oint. USP 5% w/v 15 gm/Tube \\n20 Tubes/Box \\n1 \\n198 9 D27001 Tab. Diazepam  \\n(Aluminium foil/Blister \\npack) \\nIP 5 mg/Tab 10 Tabs/Strip \\n10 Strips/Box \\n10 \\n199 10 D17045 Tab. Nifedipine SR \\n(Aluminium foil/Blister \\npack) \\nIP 10mg/Tab. 10 Tabs/Strip \\n10 Strips/Box \\n20 \\n200 11 D17042 Tab. Labetalol \\n(Aluminium foil/Blister \\npack) \\n  100mg/Tab. 10 Tabs/Strip \\n10 Strips/Box \\n40 \\n201 12 D17004 Tab. Nifedipine \\n(Aluminium foil/Blister \\npack) \\nIP 10mg/Tab. 10 Tabs/Strip \\n10 Strips/Box \\n20 \\nPuerperal Sepsis \\n202 1 D09102 Inj. Ampicillin Sodium \\n(with diluents in plastic \\ncontainer) \\nIP Equivalent to \\n1gm of \\nanhydrous \\nAmpicillin/Vial \\n1gm / Vial \\n20 Vials / Box \\n21 \\n203 2 D09009 Inj. Gentamycin \\nSulphate \\nIP 40 mg/ml 2 ml/Vial \\n20 Vials/Box \\n14 \\n204 3 D13003 Inj. Metronidazole I.V IP 500 mg/100 ml \\nBottle  \\n(FFS / BFS \\nPlastic \\nContainer) \\n100 ml/Bottle \\n20 \\nBottles/Box \\n21 \\nN.B: The requirements mentioned are approximate and commonly practised but may \\nbecome more or less depending on individual cases.'), Document(metadata={'producer': 'Corel PDF Engine Version 3.0.0.576', 'creator': 'CorelDRAW', 'creationdate': 'D:20111109070950', 'moddate': 'D:20111109070950', 'author': 'desktop', 'title': 'Standard Treatment and Essential Medicine List', 'source': 'C:\\\\matricare\\\\MatriCare\\\\MatriCare\\\\Matricare1\\\\DATA\\\\Standard Treatment Guideline - Pregnancy & Sick newborn.pdf', 'total_pages': 141, 'page': 93, 'page_label': '94'}, page_content=''), Document(metadata={'producer': 'Corel PDF Engine Version 3.0.0.576', 'creator': 'CorelDRAW', 'creationdate': 'D:20111109070950', 'moddate': 'D:20111109070950', 'author': 'desktop', 'title': 'Standard Treatment and Essential Medicine List', 'source': 'C:\\\\matricare\\\\MatriCare\\\\MatriCare\\\\Matricare1\\\\DATA\\\\Standard Treatment Guideline - Pregnancy & Sick newborn.pdf', 'total_pages': 141, 'page': 94, 'page_label': '95'}, page_content='Standard Treatment Guideline  &\\nEssential Medicine List\\n(For Sick Newborn)'), Document(metadata={'producer': 'Corel PDF Engine Version 3.0.0.576', 'creator': 'CorelDRAW', 'creationdate': 'D:20111109070950', 'moddate': 'D:20111109070950', 'author': 'desktop', 'title': 'Standard Treatment and Essential Medicine List', 'source': 'C:\\\\matricare\\\\MatriCare\\\\MatriCare\\\\Matricare1\\\\DATA\\\\Standard Treatment Guideline - Pregnancy & Sick newborn.pdf', 'total_pages': 141, 'page': 95, 'page_label': '96'}, page_content=''), Document(metadata={'producer': 'Corel PDF Engine Version 3.0.0.576', 'creator': 'CorelDRAW', 'creationdate': 'D:20111109070950', 'moddate': 'D:20111109070950', 'author': 'desktop', 'title': 'Standard Treatment and Essential Medicine List', 'source': 'C:\\\\matricare\\\\MatriCare\\\\MatriCare\\\\Matricare1\\\\DATA\\\\Standard Treatment Guideline - Pregnancy & Sick newborn.pdf', 'total_pages': 141, 'page': 96, 'page_label': '97'}, page_content='ACKNOWLEDGEMENTS\\nThe National Rural Health Mission, Health & F.W. Department, Government of Odisha  acknowledge \\nthe contributions in preparation of the first Standard Treatment Guideline for Sick Newborn in the \\nyear 2011 – 2012.\\n1. Prof. N. Mohanty Prof. HOD Deptt. Of Pediatrics, SCB MCH, Cuttack, President \\nIAP Orissa State Branch\\n2. Prof. Dr. S. K. Murmu Prof. HOD Deptt. Of Pediatrics VSS  MCH, Burla Sambalpur\\n3. Dr. N. Behera I/C HOD Paediatrics,  MKCG MCH, Berhampur, Ganjam\\n4. Dr. S. K. Mishra Senior Specialist, Pediatrics Capital Hospital, Bhubaneswar\\n5. Dr. L. Pradhan Pediatrics Spl. Capital Hospital, Bhubaneswar\\n6. Dr. Ashutosh Mohapatra Pediatrics Spl. BMC Hospital, Bhubaneswar, Secretary \\nNNF,  Orissa State Branch\\n7. Dr. R.N. Panda Consultant Child Health, NRHM, Orissa\\n8. Dr. Aditya Mohapatra Consultant Pediatrics, NRHM, Orissa\\n9. Dr. Samarendra Mohapatra  Programme Co-coordinator, SNCU, Orissa\\n10. Dr. Biswajit Mishra, Secretary  IAP State Branch Orissa'), Document(metadata={'producer': 'Corel PDF Engine Version 3.0.0.576', 'creator': 'CorelDRAW', 'creationdate': 'D:20111109070950', 'moddate': 'D:20111109070950', 'author': 'desktop', 'title': 'Standard Treatment and Essential Medicine List', 'source': 'C:\\\\matricare\\\\MatriCare\\\\MatriCare\\\\Matricare1\\\\DATA\\\\Standard Treatment Guideline - Pregnancy & Sick newborn.pdf', 'total_pages': 141, 'page': 97, 'page_label': '98'}, page_content='INTRODUCTION\\nNeonatal Mortality Rate (NMR) in India is 37 per 1000 live births which is 64% of infant deaths (SRS-2009). \\nOrissa is having 47 NMR securing 2nd highest position in the country.  Most of the neonates are dying due to \\nBirth asphyxia, Prematurity and Sepsis. It is well known that majority of neonatal deaths can be prevented \\nwith low cost and low technology intervention. For that all the pillars of the health care system have to be \\nstrengthened. These are care at home and care at Facility. Proper care at home is possible by counseling on \\nKMC, Breast Feeding, Maintenance of personal hygiene and identification of danger signs. ANM, AWW and \\nASHA are playing key role for community care.\\nFacility based care encompasses care at peripheral health posts such as Sub centre, PHC, CHC, FRU \\nand DHH. It has been estimated that optimal treatment of neonatal illnesses can avert up to half of all \\npreventable neonatal deaths. Now with help of NRHM these facilities are being strengthened with \\ninfrastructure, logistics and manpower. But there is variation in treatment of sick newborns from one facility \\nto another. Keeping this in view a standard treatment guideline for common neonatal conditions has been \\nprepared.  This module will help the medical and paramedical personnel working in different health \\ninstitutions of Orissa in managing sick newborns.'), Document(metadata={'producer': 'Corel PDF Engine Version 3.0.0.576', 'creator': 'CorelDRAW', 'creationdate': 'D:20111109070950', 'moddate': 'D:20111109070950', 'author': 'desktop', 'title': 'Standard Treatment and Essential Medicine List', 'source': 'C:\\\\matricare\\\\MatriCare\\\\MatriCare\\\\Matricare1\\\\DATA\\\\Standard Treatment Guideline - Pregnancy & Sick newborn.pdf', 'total_pages': 141, 'page': 98, 'page_label': '99'}, page_content='90\\nAssessment –\\nRoutine Care- \\nNormal Physiological Condition of Newborn\\nMajor Congenital Anomalies\\n \\nAssess the baby for respiration, heart rate, colour and muscle tone.\\nIf there is no abnormality take following care\\nvDry the baby\\nvCut the cord within 1-3 minutes\\nvWipe the eyes with clean cotton swab soaked with normal saline.\\nvInitiate breast-feeding as soon as possible.\\nvWeigh the baby and keep the baby warm.\\nvAdminister injection vitamin K 1 mg (> 1000 mcg) or 0.5 mg (< 1000 mcg)\\nvEye drop if required\\nvMastistis Neonatorom-Engorgement of breasts occurs in term babies on 3rd and 4th day and \\ndisappears by end of 1st week.\\nvVaginal Bleeding-Occurs on 3rd and 4th days of life in female babies. No additional Vit. K required. \\nDisappears by end of 1st week.\\nvPeeling of Skin – Dry skin with peeling of skin.\\nvNon retractable Prepuce \\nvErythema Neonatorum – Rash with central Pallor appears on 2nd -3rd day on face trunk and \\nextremities and disappears spontaneously after 2 to 3 days.\\nvEpstein Pearls:- These are white spots usually on either side of the median raphe of the hard palate. \\nSimilar lesion may be seen on prepuce. These are of no significance.\\nvImperforate anus \\nvTracheo oesephageal fistula \\nvCleft lip and palate \\nvDiaphragmatic hernia \\nvAny midline Swelling \\nvSingle umbilical artery \\n1. CARE OF THE NORMAL NEWBORN'), Document(metadata={'producer': 'Corel PDF Engine Version 3.0.0.576', 'creator': 'CorelDRAW', 'creationdate': 'D:20111109070950', 'moddate': 'D:20111109070950', 'author': 'desktop', 'title': 'Standard Treatment and Essential Medicine List', 'source': 'C:\\\\matricare\\\\MatriCare\\\\MatriCare\\\\Matricare1\\\\DATA\\\\Standard Treatment Guideline - Pregnancy & Sick newborn.pdf', 'total_pages': 141, 'page': 99, 'page_label': '100'}, page_content='91\\nRequired for:\\nManagement:\\nvApnoea or Gasping\\nvPreterm\\nvMeconium stained non vigorous baby\\nvPoor Muscle tone\\n Follow the flow chart in annexure \\n (A) Non – Drugs:-\\nvKeep room warm 26°C - 28°C\\nvKeep baby under radiant warmer (36.5°C – 37.4°C)\\nvSuctioning of mouth followed by nose (if necessary)\\nvDry the baby\\nvStimulation by gently rubbing the back or flicking the sole.\\nvBag & Mask ventilation (if necessary)\\n. (B) Drugs:-\\nvOxygen inhalation\\nvInj. drenaline 0.1 – 0.3 ml /kg (1: 10000) IV\\nvNormal saline 10ml / kg IV over 5-10 minutes may be repeated if no improvement within 30 \\nminutes.\\n2. NEONATAL RESUSCITATION'), Document(metadata={'producer': 'Corel PDF Engine Version 3.0.0.576', 'creator': 'CorelDRAW', 'creationdate': 'D:20111109070950', 'moddate': 'D:20111109070950', 'author': 'desktop', 'title': 'Standard Treatment and Essential Medicine List', 'source': 'C:\\\\matricare\\\\MatriCare\\\\MatriCare\\\\Matricare1\\\\DATA\\\\Standard Treatment Guideline - Pregnancy & Sick newborn.pdf', 'total_pages': 141, 'page': 100, 'page_label': '101'}, page_content='92\\n \\n  \\n• Term gestation?  \\n• Clear amniotic fluid? \\n• Breathing or crying? \\n• Good muscle tone? \\n• Provide Warmth\\n• Position: clear airway (as necessary)  \\n• Dry, stimulate, reposition \\n• Evaluate respirations, \\nHeart rate, and Color \\nProvide positive \\nPressure ventilation * \\n• Give supplemental \\noxygen \\nBreathing, HR>100 but cyanotic\\nPersistently Cyanotic\\n30 Sec\\n• Provide positive-pressure ventilation * \\n• Administer chest comprehensions* \\nHR<60 HR>60 \\n• Administer epinephrine* \\nHR<6\\n30 Sec \\n30 Sec\\nA\\nB\\nC\\nD\\n*Endotracheal intubation may be considered at several steps.\\nBirth Resuscitation Algorithm'), Document(metadata={'producer': 'Corel PDF Engine Version 3.0.0.576', 'creator': 'CorelDRAW', 'creationdate': 'D:20111109070950', 'moddate': 'D:20111109070950', 'author': 'desktop', 'title': 'Standard Treatment and Essential Medicine List', 'source': 'C:\\\\matricare\\\\MatriCare\\\\MatriCare\\\\Matricare1\\\\DATA\\\\Standard Treatment Guideline - Pregnancy & Sick newborn.pdf', 'total_pages': 141, 'page': 101, 'page_label': '102'}, page_content='93\\nHeat loss occurs by 4 methods (evaporation, convection, conduction & radiation)\\nvLethargy\\nvGrading of hypothermia \\n       Normal temp : 36.5 – 37.4°C\\n      Cold stress : 36.4 – 36 °C\\n      Moderate hypothermia : 35.9 – 32 °C\\n       Severe hypothermia : < 32°C\\nvBlood glucose\\nvSeptic screen\\nvRecord the actual body temperature.\\nvRe-warm a hypothermic baby as quickly as possible:\\nvSevere hypothermia – Radiant warmer \\nvMild to Moderate hypothermia- Kangaroo Mother Care or Radiant Warmer\\nInfection should be suspected, if despite taking above measure hypothermia \\nStill persists.\\n1. Keep under radiant warmer\\n2. Reduce further heat loss\\n3. Infuse IV 10% Dextrose @ 2ml / kg followed by maintenance\\n4. Inject vitamin K 1.0 mg Intra Muscular\\n5. Provide Oxygen\\n6. Consider and access for sepsis\\nBaby must kept warm at all times right from birth. The “ warm chain” is a set of ten interlinked \\nprocedures Carried out at birth and later.\\n1. Warm delivery room (25°C – 28° C)\\n2. Warm resuscitation \\n3. Immediate drying\\n4. Skin- to-skin contact between baby and the mother\\n5. Breastfeeding\\n6. Bathing to be postponed\\n7. Appropriate clothing and bedding\\n8. Mother and baby together\\n9. Warm transportation \\n10. Training / awareness of healthcare provider.\\nClinical Features:- \\nInvestigation:-\\nManagement of Hypothermia\\nManagement of severe Hypothermia \\nPrevent Hypothermia : Warm chain\\n3. HYPOTHERMIA'), Document(metadata={'producer': 'Corel PDF Engine Version 3.0.0.576', 'creator': 'CorelDRAW', 'creationdate': 'D:20111109070950', 'moddate': 'D:20111109070950', 'author': 'desktop', 'title': 'Standard Treatment and Essential Medicine List', 'source': 'C:\\\\matricare\\\\MatriCare\\\\MatriCare\\\\Matricare1\\\\DATA\\\\Standard Treatment Guideline - Pregnancy & Sick newborn.pdf', 'total_pages': 141, 'page': 102, 'page_label': '103'}, page_content=\"94\\nDefinition: \\nClinical Feature:\\nInvestigation:\\nManagement of Hypoglycemia\\n Hypoglycemia in newborn is defined as blood glucose < 45 mg / dl Commonly seen in premature, \\nIMCGR, Infants of diabetic mother and babies resuscitated in labour room.\\n· Lethergy, poor cry, poor suck, hypothermia, apnoea, cyanosis, jitteriness, convulsion, hypotonia\\nvRBS (Random Blood Sugar)\\nHypoglycemia in newborn is defined as blood glucose levels less than 45 mg/dl\\nManagement of Hypoglycemia\\nvEstablishment an IV line, infuse a bolus of 2 ml/ kg body weight of 10% glucose slowly over 5 minutes.\\nrIf baby has convulsion, give bolus of 4-5ml/ kg of 10% glucose.\\nrIf IV line not available, administer 2 ml/ kg of 10% glucose by gastric tube.\\nvStart infusion of dextrose at the daily maintenance volume to provide at the rate of 6 mg / kg/ min.\\nvMeasure blood glucose after 30 minutes and then every four to six hours.\\nvIf blood glucose <25 mg / dl:\\nrRepeat bolus of glucose as above\\nrIncrease to infusion rate of 8 mg / kg/ min.\\nvIf the blood glucose > 25 mg / dl / but <45 mg /dl:\\nrIncrease infusion rate by 2 mg / kg / min.\\nrMeasure blood glucose after 30 minutes.\\nrContinue the infusion at this rate until 2 consecutive values 6 hrs apart are above 45 mg/ dl.\\nvBegin breastfeeding as soon as baby is able to breastfeed.\\nrIf cannot be breastfeed, give EBM by Spoon or paladai.\\nrAs feeling improves, slowly decrease (over 1-2 days) IV glucose and increase oral feeds.\\nDon't discontinue the glucose infusion abruptly to prevent rebound hypoglycemia.\\nAchieving appropriate glucose infusion rates using a mixture of D10 & D25.\\n4. HYPOGLYCEMIA\"), Document(metadata={'producer': 'Corel PDF Engine Version 3.0.0.576', 'creator': 'CorelDRAW', 'creationdate': 'D:20111109070950', 'moddate': 'D:20111109070950', 'author': 'desktop', 'title': 'Standard Treatment and Essential Medicine List', 'source': 'C:\\\\matricare\\\\MatriCare\\\\MatriCare\\\\Matricare1\\\\DATA\\\\Standard Treatment Guideline - Pregnancy & Sick newborn.pdf', 'total_pages': 141, 'page': 103, 'page_label': '104'}, page_content='95\\nNeonatal Sepsis is one of the major causes of neonatal mortality. Sepsis is largely preventable.\\nvLethargy\\nvPoor feeding / refusal to suck\\nvPoor cry \\nvComatose \\nvAbdominal distension\\nvDiarrhea / vomiting\\nvHypothermia\\nvPoor perfusion\\nvShock\\nvBleeding \\nvSclerama\\nvPneumonia – Fast breathing, Nasal flaring, Grunting, Chest in drawing \\nvMeningitis – Fever, High pitch cry, Vacant look, Seizure, Irritability, Bulging fontanelle, Neck retraction  \\nSepsis Screening \\nAny two tests that come positive out of the following five tests strongly indicate presence of Sepsis:\\n1.  Leukopenia (TLC <5000/cmm) \\n2. Neutropenia (ANC <1800/cmm) \\n3. Immature neutrophil to total neutrophil (I/T) ratio (> 0.2)  \\n4. Micro ESR (> 15mm 1st hour)  \\n5. Positive CRP \\na. Blood culture  \\nb. Pus culture \\nc. Urine culture  \\nd. CSF study \\na. Non Drug:- \\nrProvision of warmth\\nrMaintain airway \\nrOxygen inhalation if required \\nrAvoid enteral feeding if baby is hemo-dynamically compromised \\nb. Drug:-\\nrAntibiotic as per annex \\nr10% DS 2 ml / kg as bolus if hypoglycemia suspected \\nrInj vitamin K 1mg IM\\nrNormal Saline 10ml / kg over 20-30 minutes if CFT more than 3sec. (repeat 2nd dose after 30 \\nmin if no improvement) \\nrInj. Dopamine if no improvement after two doses of Normal Saline (For Dopamine Dose \\nRefer to Management of Sock)\\nClinical Features:-\\nInvestigation:-  \\nManagement:-\\n5. NEONATAL SEPSIS\\nIn clinically Suspected cases of sepsis, send blood culture prior to starting antibiotics. .'), Document(metadata={'producer': 'Corel PDF Engine Version 3.0.0.576', 'creator': 'CorelDRAW', 'creationdate': 'D:20111109070950', 'moddate': 'D:20111109070950', 'author': 'desktop', 'title': 'Standard Treatment and Essential Medicine List', 'source': 'C:\\\\matricare\\\\MatriCare\\\\MatriCare\\\\Matricare1\\\\DATA\\\\Standard Treatment Guideline - Pregnancy & Sick newborn.pdf', 'total_pages': 141, 'page': 104, 'page_label': '105'}, page_content='96\\nvStart oxygen by hood or mask, if cyanosed or grunting.\\nvProvide gentle physical stimulation, if apnoeic. Provide bag and mask ventilation with oxygen \\nif breathing is inadequate. \\nvAvoid enteral feed if hemodynamically compromised give maintenance IV fluids.\\nvConsider use of dopamine if perfusion is presently poor.\\nvConsider exchange transfusion if there is sclerama.\\nDo lumbar puncture if meningitis suspected clinically, if positive then treat for 21 days,\\nAntibiotics therapy for a newborn with sepsis:\\nvAntibiotics therapy should cover the common causative bacteria, namely Escherichia coli, \\nStaphylocous aureus and Klebsiella pneumonia.\\nvA combination of ampicillin and gentamicin is recommended for treatment of sepsis and \\npneumonia.\\nvIn suspected or confirmed meningitis, add cefotaxime with an aminoglycoside.\\n· Following table provides the antibiotics and dosages of antibiotics for newborn sepsis.\\nChoice of antibiotics:\\nAntibiotics therapy of neonatal sepsis\\nI. Septicemia or pneumonia'), Document(metadata={'producer': 'Corel PDF Engine Version 3.0.0.576', 'creator': 'CorelDRAW', 'creationdate': 'D:20111109070950', 'moddate': 'D:20111109070950', 'author': 'desktop', 'title': 'Standard Treatment and Essential Medicine List', 'source': 'C:\\\\matricare\\\\MatriCare\\\\MatriCare\\\\Matricare1\\\\DATA\\\\Standard Treatment Guideline - Pregnancy & Sick newborn.pdf', 'total_pages': 141, 'page': 105, 'page_label': '106'}, page_content='97\\nSupportive care of a septic neonate  \\n1. Provide warmth, ensure consistently normal temperature.  \\n2. Start intravenous line.  \\n3. Infuse normal saline 10 ml/kg over 20-30 minutes, if perfusion is poor as evidenced by Capillary Refill \\nTime (CRT) of more than 3 seconds. Repeat the same dose 1-2 times over the next 30-45 minutes, if \\nperfusion continues to be poor.  \\n4. Infuse glucose (10 percent) 2ml/kg start.  \\n5. Inject Vitamin K 1mg intramuscularly.'), Document(metadata={'producer': 'Corel PDF Engine Version 3.0.0.576', 'creator': 'CorelDRAW', 'creationdate': 'D:20111109070950', 'moddate': 'D:20111109070950', 'author': 'desktop', 'title': 'Standard Treatment and Essential Medicine List', 'source': 'C:\\\\matricare\\\\MatriCare\\\\MatriCare\\\\Matricare1\\\\DATA\\\\Standard Treatment Guideline - Pregnancy & Sick newborn.pdf', 'total_pages': 141, 'page': 106, 'page_label': '107'}, page_content='98\\nClinical Feature:-\\nInvestigations-\\n1. Generalised or Focal, Tonic or Chronic  \\n· Repetitive jerking movements of limbs or face\\n· Continuous extension or flexion of arms and legs\\n2. Subtle convulsions \\n· Repetitive blinking, eye deviation or staring \\n· Repetitive movements of mouth or tongue\\n· Purposeless movement of the limbs, as if bicycling or  swimming \\nvBlood sugar Serum Electrolytes\\nvCBC, RDK, MP vCSF study, EEG\\nvUSG brain vCT/MRI\\nv\\n6. NEONATAL SEIZURE'), Document(metadata={'producer': 'Corel PDF Engine Version 3.0.0.576', 'creator': 'CorelDRAW', 'creationdate': 'D:20111109070950', 'moddate': 'D:20111109070950', 'author': 'desktop', 'title': 'Standard Treatment and Essential Medicine List', 'source': 'C:\\\\matricare\\\\MatriCare\\\\MatriCare\\\\Matricare1\\\\DATA\\\\Standard Treatment Guideline - Pregnancy & Sick newborn.pdf', 'total_pages': 141, 'page': 107, 'page_label': '108'}, page_content='99\\nClinical Features:\\nInvestigation:-\\nMANAGEMENT\\nvDelayed/Absent cry after birth\\nvConvulsion \\nvApnoea /Irregular breathing\\nvHypotonia\\nvLoss of Reflexes\\nvComa\\nvSerum Electrolytes/glucose\\nvSepsis Screening\\nvCBC\\nvSerum Urea Creatinine\\nvUSG/CT of Brain\\nNon Drug:\\nrWarmth,\\nrO  inhalation, 2\\nrSuction \\nDrug-\\nrTreat Hypoglycemia\\nrInj Calcium Gluconate\\nrAnti Convulsant drugs-\\ntInj Phenobarbitone 20mg/kg loading dose IV after diluting with Normal Saline over 15-\\n20 minutes followed by maintenance dose of 5 mg/kg /day in two divided doses.\\ntIf not controlled repeat the dose 10mg /kg at interval of 20-30 minutes till a total dose of \\n40 mg/kg.\\ntIf still not controlled Phenytoin can be added (loading 20mg/kg to be diluted with \\nNormal Saline) given over 15-20 minutes followed by maintenance dose of 5-8 mg/kg \\n/day in two divided doses.\\ntFluid and Nutrition to be maintained.\\n7. BIRTH ASPHYXIA'), Document(metadata={'producer': 'Corel PDF Engine Version 3.0.0.576', 'creator': 'CorelDRAW', 'creationdate': 'D:20111109070950', 'moddate': 'D:20111109070950', 'author': 'desktop', 'title': 'Standard Treatment and Essential Medicine List', 'source': 'C:\\\\matricare\\\\MatriCare\\\\MatriCare\\\\Matricare1\\\\DATA\\\\Standard Treatment Guideline - Pregnancy & Sick newborn.pdf', 'total_pages': 141, 'page': 108, 'page_label': '109'}, page_content='100\\n8. MANAGEMENT OF NEONATAL JAUNDICE'), Document(metadata={'producer': 'Corel PDF Engine Version 3.0.0.576', 'creator': 'CorelDRAW', 'creationdate': 'D:20111109070950', 'moddate': 'D:20111109070950', 'author': 'desktop', 'title': 'Standard Treatment and Essential Medicine List', 'source': 'C:\\\\matricare\\\\MatriCare\\\\MatriCare\\\\Matricare1\\\\DATA\\\\Standard Treatment Guideline - Pregnancy & Sick newborn.pdf', 'total_pages': 141, 'page': 109, 'page_label': '110'}, page_content=\"101\\nClinical assessment of severity of jaundice in a newborn\\nIn a newborn who has not been treated earlier, Kramer's criteria are used to clinically estimate severity \\nl Jaundice limited to face: Serum Bilirubin of  about 6 mg/ dl\\nlJaundice extended to trunk: Serum Bilirubin of  about 9 mg/ dl \\nlJaundice extended to abdomen: Serum Bilirubin of  about 12 mg/ dl\\nlJaundice extended to legs: Serum Bilirubin of  about 15 mg/ dl\\nlJaundice extended to feet & hands: Serum Bilirubin of about 18-20 mg/dl\\n \\nAlert Signs in neonatal jaundice (Pathological Jaundice):\\n(Any of the following)\\nlClinical jaundice in first 24 hrs of life\\nlTotal Serum Bilirubin (TSB) increasing by > 5mg/dl/day or 0.5 mg/dl/hr\\nlTSB >15 mg/dl\\nlConjugated serum bilirubin > 2 mg/dl\\nlClinical jaundice persisting for > 2 week in full term and > 3 weeks in preterm neonates\\nAssessment  and Management of  jaundice in the newborns\"), Document(metadata={'producer': 'Corel PDF Engine Version 3.0.0.576', 'creator': 'CorelDRAW', 'creationdate': 'D:20111109070950', 'moddate': 'D:20111109070950', 'author': 'desktop', 'title': 'Standard Treatment and Essential Medicine List', 'source': 'C:\\\\matricare\\\\MatriCare\\\\MatriCare\\\\Matricare1\\\\DATA\\\\Standard Treatment Guideline - Pregnancy & Sick newborn.pdf', 'total_pages': 141, 'page': 110, 'page_label': '111'}, page_content='102\\nMANAGEMENT OF HYPERBILIRUBINEMIA\\nEstimates total serum bilirubin in a bay with clinical jaundice for hyperbilirubinemia. Decide for \\nphototherapy / exchange transfusion based on \\nrGestation \\nrPostnatal age in hours\\nrPresence or absence of risk factors\\nFor newborns > 35 weeks\\nrConsult normgram to identify requirement for phototherapy\\nrConsult normgram to identify requirement for Exchange transfusion\\nFor newborns <=35 weeks of gestation, consult \\n· rTable for identifying requirement for phototherapy or exchange transfusion.'), Document(metadata={'producer': 'Corel PDF Engine Version 3.0.0.576', 'creator': 'CorelDRAW', 'creationdate': 'D:20111109070950', 'moddate': 'D:20111109070950', 'author': 'desktop', 'title': 'Standard Treatment and Essential Medicine List', 'source': 'C:\\\\matricare\\\\MatriCare\\\\MatriCare\\\\Matricare1\\\\DATA\\\\Standard Treatment Guideline - Pregnancy & Sick newborn.pdf', 'total_pages': 141, 'page': 111, 'page_label': '112'}, page_content='103\\nNormgram for instituting Exchange Transfusion'), Document(metadata={'producer': 'Corel PDF Engine Version 3.0.0.576', 'creator': 'CorelDRAW', 'creationdate': 'D:20111109070950', 'moddate': 'D:20111109070950', 'author': 'desktop', 'title': 'Standard Treatment and Essential Medicine List', 'source': 'C:\\\\matricare\\\\MatriCare\\\\MatriCare\\\\Matricare1\\\\DATA\\\\Standard Treatment Guideline - Pregnancy & Sick newborn.pdf', 'total_pages': 141, 'page': 112, 'page_label': '113'}, page_content='104\\nPrecaution for phototherapy\\nSide effect of phototherapy\\n1. Baby should be necked.\\n2. Eyes and genitals should be covered.\\n3. Newborn should be kept a distance of not more than 45 cms below the light source.\\n4. They can be kept as close to the phototherapy units as possible.\\n5. Frequent feeding every 2 hourly and change of posture should be promoted.\\n6. Once under phototherapy, clinical assessment is not reliable. Serum Bilirubin must be monitored.\\n7. Stop phototherapy once Bilirubin levels are below the phototherapy level by 2-3 mg%.\\n8. In case of hemolytic jaundice, check Bilirubin levels after 12 hours of stopping phototherapy to check \\nfor rebound increase.\\nvIncreased insensible water loss: breast feed more frequent and for longer duration \\nvLoose green stools: weight often and compensate with breast milk.\\nvSkin rashes: Harmless, no need to discontinue phototherapy;\\nvBronze baby syndrome: Occurs if baby has conjugated hyperbilirubinemia. If so, discontinue \\nphototherapy;\\nvHypo or hyperthermia: Monitor temperature frequently.'), Document(metadata={'producer': 'Corel PDF Engine Version 3.0.0.576', 'creator': 'CorelDRAW', 'creationdate': 'D:20111109070950', 'moddate': 'D:20111109070950', 'author': 'desktop', 'title': 'Standard Treatment and Essential Medicine List', 'source': 'C:\\\\matricare\\\\MatriCare\\\\MatriCare\\\\Matricare1\\\\DATA\\\\Standard Treatment Guideline - Pregnancy & Sick newborn.pdf', 'total_pages': 141, 'page': 113, 'page_label': '114'}, page_content='105\\n9. MANAGEMENT OF SHOCK IN NEONATES'), Document(metadata={'producer': 'Corel PDF Engine Version 3.0.0.576', 'creator': 'CorelDRAW', 'creationdate': 'D:20111109070950', 'moddate': 'D:20111109070950', 'author': 'desktop', 'title': 'Standard Treatment and Essential Medicine List', 'source': 'C:\\\\matricare\\\\MatriCare\\\\MatriCare\\\\Matricare1\\\\DATA\\\\Standard Treatment Guideline - Pregnancy & Sick newborn.pdf', 'total_pages': 141, 'page': 114, 'page_label': '115'}, page_content='106\\nAdministration of Dopamine in a newborn with hemodynamic compromise\\n1 ml of commercially available contains 40 mg of dopamine. In a baby weighting 2.5 kg if we want to \\nstart dopamine at a rate of 10 mcg / kg/ min:\\n= 10 x2.5=25 mcg / min =25x60=1500 mcg / hour=1500 x 24= 36,000mcg/day.\\n=36 mg(0.9 ml) of dopamine in 24 hours=12mg(0.3 ml) of Dopamine in 8 hrs.\\nIt means if we add 0.9 ml of dopamine in 24 ml of fluid and give @ rate of 1 ml / hr with syringe pump \\nor 1 micro drop per min (which is virtually impossible) with the micro drip set, we will give dopamine \\n@ 10 mcg / kg/ min.\\nIf we want to increase dopamine to 15 mcg/ kg/ min then give the same fluid @ 1.5 ml / hr\\nThe above method is to give a separate infusion of Dopamine, however it could also be added to \\n24 hours fluids as explained below:\\ne.g 2.5 kg neonate in shock with a fluid requirement of 100 ml /kg/ day, has receive 2 fluid boluses of \\n10 ml/ kg of normal saline, without any improvement. Plan is:\\nTotal Fluid needed for this baby in 24 hours = 100 x 2.5 = 250 ml / day\\nFluid to be every 8 hours= 85 ml.\\nLet us learn how much dopamine to be added in 8 hours fluid i.e 85 ml to be given at a rate of 10mcg/ \\nkg/ min.\\nAmount of dopamine required in one minutes= 10 x 2.5 = 25 mcg\\nAmount of dopamine required in one hour= 25 x 60 = 1500 mcg\\nAmount of dopamine required in 8 hours = 1500 x 8 = 12000 mcg = 12.0 mg\\n1 ml of available dopamine preparation = 40 mg of dopamine \\nTo make 12 mg of dopamine we need 0.3 ml, add this volume to 85ml of fluid and give over 8 hours at \\na rate of 10 ml / hour or at a rate of 10 micro drops / min with a burette set, which will deliver \\ndopamine at a rate of 10 mcg / kg/ min.\\nHow to give Dopamine \\nIncrement'), Document(metadata={'producer': 'Corel PDF Engine Version 3.0.0.576', 'creator': 'CorelDRAW', 'creationdate': 'D:20111109070950', 'moddate': 'D:20111109070950', 'author': 'desktop', 'title': 'Standard Treatment and Essential Medicine List', 'source': 'C:\\\\matricare\\\\MatriCare\\\\MatriCare\\\\Matricare1\\\\DATA\\\\Standard Treatment Guideline - Pregnancy & Sick newborn.pdf', 'total_pages': 141, 'page': 115, 'page_label': '116'}, page_content='107\\n10. MANAGEMENT OF NEONATAL APNOEA'), Document(metadata={'producer': 'Corel PDF Engine Version 3.0.0.576', 'creator': 'CorelDRAW', 'creationdate': 'D:20111109070950', 'moddate': 'D:20111109070950', 'author': 'desktop', 'title': 'Standard Treatment and Essential Medicine List', 'source': 'C:\\\\matricare\\\\MatriCare\\\\MatriCare\\\\Matricare1\\\\DATA\\\\Standard Treatment Guideline - Pregnancy & Sick newborn.pdf', 'total_pages': 141, 'page': 116, 'page_label': '117'}, page_content='108\\nClinical Features:- \\nInvestigation:-\\nMANAGEMENT\\nvWt < 2500 gms\\nvGestational age <34 wks\\nvAssociated problems – \\nrHypothermia & feeding problem\\nrRDS\\nrIVH\\nrHypoglycemia\\nrHyper billrubinimia,\\nrInfection \\nrROP\\nrCong. malformation \\nvBlood sugar\\nvSerum Bilirubin \\nvSepsis  screen \\nvUSG brain\\nvChest X-ray\\nvSerum Electrolytes\\na.  Non drugs:- \\nrPrevention of hypothermia, hypoxia, hypoglycemia \\nrJudicious use of oxygen\\nrFeeding according to the need (refer to annex)\\nb.  Drugs:- \\nrIV fluid 10% DS on 1st two days followed by Isolite P (refer to fluid management chart)\\nrInj Vitamin K \\nrInj Aminophylline / Cafine \\nrInj Calcium Gluconate\\nrSurfectant\\nrAntibiotics (as per necessity)\\nrPhoto therapy if required \\nrOral Calcium\\nrVitamin A, D, E drops\\nrIron drops\\n11. LOW BIRTH WEIGHT BABY'), Document(metadata={'producer': 'Corel PDF Engine Version 3.0.0.576', 'creator': 'CorelDRAW', 'creationdate': 'D:20111109070950', 'moddate': 'D:20111109070950', 'author': 'desktop', 'title': 'Standard Treatment and Essential Medicine List', 'source': 'C:\\\\matricare\\\\MatriCare\\\\MatriCare\\\\Matricare1\\\\DATA\\\\Standard Treatment Guideline - Pregnancy & Sick newborn.pdf', 'total_pages': 141, 'page': 117, 'page_label': '118'}, page_content='109\\nAssisted Feeding of Low Birth Weight Neonates\\nNewborns that require assisted feeding:\\nPreterm < 34 weeks or birth <1.8 kg\\nvBabies having mild respiratory distress \\nvBabies with inability to feed at breast or by katori spoon / paladi\\nvOro- facial defects / malformation (Cleft lip or palate)\\nvGuidelines for the modes of providing fluids of feeding\\nv\\nMode for providing fluids and feeds \\nBreast milk is the ideal feed for low birth weight babies. \\nThose unable to feed directly on the breast can be feed expressed breast milk. (EBM) by \\nGavage \\nKatori-Spoon or paladai'), Document(metadata={'producer': 'Corel PDF Engine Version 3.0.0.576', 'creator': 'CorelDRAW', 'creationdate': 'D:20111109070950', 'moddate': 'D:20111109070950', 'author': 'desktop', 'title': 'Standard Treatment and Essential Medicine List', 'source': 'C:\\\\matricare\\\\MatriCare\\\\MatriCare\\\\Matricare1\\\\DATA\\\\Standard Treatment Guideline - Pregnancy & Sick newborn.pdf', 'total_pages': 141, 'page': 118, 'page_label': '119'}, page_content=\"110\\nTechnique of assisted feeding \\nGavage feeds\\nvPlace an oro-gastric feeding cather of size  5-6 fr. After measuring the correct insertion length \\nfrom ala of nose to tragus and from tragus to midway between xiphisternum and umbilicus.\\nvCheck correct placement by pushing in air, with 10 ml syringe and listening with stethoscope \\nover upper abdormen.\\nvAttach 10 ml syringe (without plunger) at the outer end of the tube, pour amount of milk and \\nallow milk to tickle by gravity. Close outer end of tube after feeding.\\nvPlace baby in left lateral position for 15 to 20 min to avid regurgitation, \\nvLeave oro-gastric tube in situ.\\nvPinch the oro gastric tube during with withdrawal.\\nvMeasure pre-feed abdominal girth just above the umbilical strump. Do not attempt pre-feed \\naspirates.\\nvEvaluate baby for the cause of ileus, if abdorminal girth increases by > 2 cm from baseline.   \\nROUTINE PRE-FEED GASTRIC ASPIRATES ARE NOT RECOMMENDED.\\nKatori- spoon feeds\\nplace the baby in a semi-upright posture\\nvPlace the milk filled spoon at the corner of mouth.\\nvAllow milk flow into baby's mouth slowly, allowing him to actively swallow, avoiding the spill.\\nvRepeat process till required amount has been feed.\\nvTry gentle stimulation if baby does not actively accept and swallow the feed.\\nvIf unsuccessful, switch to gavage feeds.\\nCriteria for starting intravenous fluids among newborns\\nvNeonates with lethargy and refusal to feed\\nvModerate to severe breathing difficulty\\nvBabies with shock \\nvBabies with severe asphyxia \\nvAbdominal distension with bilious or blood stained vomiting.\\nChoice of Intravenous fluids\\nvDetermine required volume of fluid a pee birth weight and age. (table 2)\\nvUse 10% Dextrose initial 48 hours of life.\\nvAfter 48 hours if baby is passing urine, use commercially available IV fluid, such as Isolyte P.\\nrTake normal saline (NS) 20ml/ kg body weight.\\nrAdd remaining fluid volume as 10% dextrose.\\nrAdd 1 ml KCI / 100 ml of prepared fluid.\\nv\\nIntravenous Fluid therapy for Newborns\"), Document(metadata={'producer': 'Corel PDF Engine Version 3.0.0.576', 'creator': 'CorelDRAW', 'creationdate': 'D:20111109070950', 'moddate': 'D:20111109070950', 'author': 'desktop', 'title': 'Standard Treatment and Essential Medicine List', 'source': 'C:\\\\matricare\\\\MatriCare\\\\MatriCare\\\\Matricare1\\\\DATA\\\\Standard Treatment Guideline - Pregnancy & Sick newborn.pdf', 'total_pages': 141, 'page': 119, 'page_label': '120'}, page_content='111\\nFLUID MANAGEMENT IN NEONATES\\nFluid requirement according to birth weight in ml / kg/ day\\nOn Day 1 & Day 2, for infant < 1 kg -> 5% dextrose\\nfor infant >1 kg -> 10% dextrose\\nFrom Day 3 onwards,  fluid of choice-> Isolyte-P for all infants\\n1. Perinatal asphyxia with oliguria / anuria due to SIADH \\n2. Patent Ductus Arterious \\n3. Respiratory Distress Syndrome\\nvUse micro-drip infusion set (where 1 ml= 60 micro drops)\\nvIn this device ml of fluid per hour is equal to number of micro-drop per minutes e.g 6 ml= 6 \\nmicro –drop / minutes.\\nvCalculate rate of administration, monitor to ensure that micro- dropper delivers required \\narte.\\nvChange the IV infusion set and fluid bag every 24 hours.\\nrd\\nCONDITIONS REQUIRING FLUID RESTRICTION TO 2/3\\nAdministration of  IV fluid\\nBefore infusion IV fluid, carefully Check:\\nExpiry date of fluid \\nvSeal of the infusion bottle or bag\\nvFluid is clear free from any visible particles.\\nv'), Document(metadata={'producer': 'Corel PDF Engine Version 3.0.0.576', 'creator': 'CorelDRAW', 'creationdate': 'D:20111109070950', 'moddate': 'D:20111109070950', 'author': 'desktop', 'title': 'Standard Treatment and Essential Medicine List', 'source': 'C:\\\\matricare\\\\MatriCare\\\\MatriCare\\\\Matricare1\\\\DATA\\\\Standard Treatment Guideline - Pregnancy & Sick newborn.pdf', 'total_pages': 141, 'page': 120, 'page_label': '121'}, page_content='112\\nMonitoring of babies receiving IV fluid\\nvInspect infusion site for redness and swelling\\nvIf present, stop infusion, remove cannula, and establish a new IV line in a different vein.\\nvCheck the volume of fluid infused, compare to the prescribed volume and record all findings.\\nvMeasures blood glucose every nursing shift i.e 6-8 hours.\\nvIf the blood glucose is less than 45 mg / dl , treat for low blood glucose.\\nvIf the blood glucose is more than 150 mg / dl, in two consecutive readings, change to 5% Dextrose \\nsolution – measure blood glucose again in three hours.\\nvWeight the baby daily. If the daily weight loss is more than 5% increase the total volume of fluid by \\n10 ml / kg body weight for one day.\\nvIf there is no weight loss in the initial 3 days of life do not give the daily increment.\\nvIf there is excess weight gain, (3-5%) decrease the fluid intake by 15-20 ml / kg / day.\\nvCheck urine output: normally a baby passes urine 5-6- times every day.'), Document(metadata={'producer': 'Corel PDF Engine Version 3.0.0.576', 'creator': 'CorelDRAW', 'creationdate': 'D:20111109070950', 'moddate': 'D:20111109070950', 'author': 'desktop', 'title': 'Standard Treatment and Essential Medicine List', 'source': 'C:\\\\matricare\\\\MatriCare\\\\MatriCare\\\\Matricare1\\\\DATA\\\\Standard Treatment Guideline - Pregnancy & Sick newborn.pdf', 'total_pages': 141, 'page': 121, 'page_label': '122'}, page_content=\"113 \\nRespiratory distress in a newborn is defined as Respiratory Rate > 60 and / or any of the following signs:\\nrGrunting \\nrRetractions\\nrCyanosis\\nAssessment of severity of respiratory distress\\nSilverman Anderson score and its interpretation \\n12. RESPIRATORY DISTRESS\\nINTERPRETATION\\nScore 0-3 = Mild respiratory distress – O  by hood2\\nScore 4-6 = Moderate respiratory distress - CPAP\\nScore > 6 = Impending respiratory failure\\nDowne's score\"), Document(metadata={'producer': 'Corel PDF Engine Version 3.0.0.576', 'creator': 'CorelDRAW', 'creationdate': 'D:20111109070950', 'moddate': 'D:20111109070950', 'author': 'desktop', 'title': 'Standard Treatment and Essential Medicine List', 'source': 'C:\\\\matricare\\\\MatriCare\\\\MatriCare\\\\Matricare1\\\\DATA\\\\Standard Treatment Guideline - Pregnancy & Sick newborn.pdf', 'total_pages': 141, 'page': 122, 'page_label': '123'}, page_content='114\\nInterpretation \\nScore <6= Respiratory Distress \\nScore > 6= Impending respiratory failure \\nDiagnosis based on the X-Ray finding and the Sepsis screen.\\nvClinical assessment with respiratory distress charting \\nvContinuous pulse- oximetry is desirable. Change probe site regularly to avoid pressure sores.\\nvMaintain saturations between 88-92 % in pre term and 90-93 % in term neonates.\\nvTitrate oxygen flow as per SpO , reduce and omit oxygen, ensure adequate SpO  in room air,2 2\\nvGive oxygen at a high rates(5-10 liters / min)\\nvIn case of severe respiratory distress not prompting on even on high flow oxygen, organize \\ntransfer to a tertiary hospital for assisted ventilation and further diagnostic evaluation.\\nMonitoring of a newborn with respiratory distress\\nIf the baby breathing difficulty worsen or the baby has central cyanosis:'), Document(metadata={'producer': 'Corel PDF Engine Version 3.0.0.576', 'creator': 'CorelDRAW', 'creationdate': 'D:20111109070950', 'moddate': 'D:20111109070950', 'author': 'desktop', 'title': 'Standard Treatment and Essential Medicine List', 'source': 'C:\\\\matricare\\\\MatriCare\\\\MatriCare\\\\Matricare1\\\\DATA\\\\Standard Treatment Guideline - Pregnancy & Sick newborn.pdf', 'total_pages': 141, 'page': 123, 'page_label': '124'}, page_content='115\\n13. CHECK LIST FOR ASSESSMENT AND \\nMANAGEMENT OF A NEWBORN\\nREQUIRING SPECIAL CARE\\nA simple Mnemonic is TABCFMFMCF'), Document(metadata={'producer': 'Corel PDF Engine Version 3.0.0.576', 'creator': 'CorelDRAW', 'creationdate': 'D:20111109070950', 'moddate': 'D:20111109070950', 'author': 'desktop', 'title': 'Standard Treatment and Essential Medicine List', 'source': 'C:\\\\matricare\\\\MatriCare\\\\MatriCare\\\\Matricare1\\\\DATA\\\\Standard Treatment Guideline - Pregnancy & Sick newborn.pdf', 'total_pages': 141, 'page': 124, 'page_label': '125'}, page_content='116\\n5. Fluids - If CFT > 3 sec – IV RL / Ns 10 ml / kg\\nIf stress baby     IV 10% Dextrose 2 ml/ kg\\nIf circulation not compromised – normal requirement \\n6. Medications  \\nPneumonia -  IV antibiotics – Ampicillin, Gentamycin \\nApnoea - IV Aminophylline\\nMeningitis -  IV Antibiotics \\nBleeding -  Inj. Vitamin K 1 mg IM\\nConvulsion - Inj. Phenobarbitone, Inj. Phenytoin \\n7. Feeds   - weight < 1200 gm – Gavage feeds\\n weight 1200-1800gms –katori feeding\\nweight > 1800gms – breast feeding \\n8. Monitoring \\ni) Temperature -  touch method\\nii) Respiration - Temperature record 2 hrs\\n- Apnoeic \\n- Gasping\\n- Tachyprieic –RR\\n- Retraction +/-\\n- Grunts + /-\\niii)  Colour - Pink\\n- Pink with peripheral cyanosis\\n- Pale \\n- Cyanosis\\niv)  Heart rate - normal\\n- Tachycardia \\n- Bradycardia\\n- Normal \\n- > 3 sec\\nv) SpO2\\n- 90-93\\n- < 90 \\n- > 93'), Document(metadata={'producer': 'Corel PDF Engine Version 3.0.0.576', 'creator': 'CorelDRAW', 'creationdate': 'D:20111109070950', 'moddate': 'D:20111109070950', 'author': 'desktop', 'title': 'Standard Treatment and Essential Medicine List', 'source': 'C:\\\\matricare\\\\MatriCare\\\\MatriCare\\\\Matricare1\\\\DATA\\\\Standard Treatment Guideline - Pregnancy & Sick newborn.pdf', 'total_pages': 141, 'page': 125, 'page_label': '126'}, page_content=\"117\\nvi)  *Danger signs – Bleeding – Inj. Vit K 1 mg start  \\n- Apnoea-     Tactile stimulation & PPV\\n- Grunting - Oxygen\\n- Severe retractions – Oxygen \\n- Abdominal distension – NPO\\n-\\n9. Communication \\na) For referral  \\ni. Inform parents/ relatives about referral\\nii. Inform need for referral\\niii. Communicate place of referral\\niv. Communicate with the higher centre if possible\\nv. Send a written note about details of birth & care\\nvi. Send a health worker with family if possible\\nvii. Mother to accompany as fast possible\\nb) For hospitalized neonates in SNCU\\ni) Inform neonate's status to family at least twice daily\\nii)  Report on temperature, colour, perfusion and general activity\\niii) Report on progress in terms of resolution of RD\\nrequirement of O , IVF, IV Antibiotics, Feeding2\\nc) For home care \\ni. Exclusive breast feeding\\nii. Maintain temperature teach tactile assessment \\niii. Prevent infection cord & eye care\\niv. Danger signs – Early care seeking\\nv. Maternal nutrition, rest supplements ^ spacing\\nd) Follow up \\ni. After 48 hrs of discharge, then  weekly initially for 2-3 visits\\nii. Check weight, mode of feeding, enquire problems during each visit \\niii. Immunization advice\\niv. Complementary feeding advice\\nRefer immediately without delay\"), Document(metadata={'producer': 'Corel PDF Engine Version 3.0.0.576', 'creator': 'CorelDRAW', 'creationdate': 'D:20111109070950', 'moddate': 'D:20111109070950', 'author': 'desktop', 'title': 'Standard Treatment and Essential Medicine List', 'source': 'C:\\\\matricare\\\\MatriCare\\\\MatriCare\\\\Matricare1\\\\DATA\\\\Standard Treatment Guideline - Pregnancy & Sick newborn.pdf', 'total_pages': 141, 'page': 126, 'page_label': '127'}, page_content='118\\nAny newborn with following criteria should be immediately admitted to the SNCU:\\nCriteria for transfer from SNCU to the step down\\nCriteria for discharge from SNCU\\nqBirth weight < 1800 gm gestation < 34 wks\\nqLarge baby\\nqPeri natal asphyxia\\nqApnoea or gasping\\nqRefusal to feed\\nqRespiratory distress (rates > 60 or grunt/ retractions)\\nqSevere jaundice (Appears < 24 hrs / stains palms & soles Lasts > 2 weeks)\\nqCentral Cyanosis \\nqShock (Cold periphery with CFT > 3 seconds and weak fast pulse)\\nqComa, convulsion or encephalopathy\\nqBleeding\\nqMajor malformation \\nqBabies whose respiratory distress is improving and do not require oxygen supplementation to \\nmaintain saturation \\nqBabies on antibiotics for completion of duration of therapy\\n· Low  birth weight babies ( less than 1800 grams) , who are other wise stable ( for adequate weight \\ngain)\\nqBabies with jaundice requiring phototherapy but otherwise stable\\nqBabies admitted for any condition but now thermodynamically and hemodynamic ally stable\\nqBaby is able maintain temperature without radiant warmers\\nqBaby is hemo- dynamically stable (normal CFT, strong peripheral pulses)\\nqBaby accepting breast feeds well\\nqBaby has documentated weight gain 3 consecutive days; and the weight is more than 1.5 kg \\nqPrimary illness has resolved\\nIn addition to the above, mother should be confident of taking care of the baby at home.\\n14. CRITERIA FOR ADMISSION TO SPECIAL \\n   NEWBORN CARE UNIT &  CRITERIA \\n       FOR TRANSFER TO  STEP –  DOWN UNIT \\n       AND DISCHARGE'), Document(metadata={'producer': 'Corel PDF Engine Version 3.0.0.576', 'creator': 'CorelDRAW', 'creationdate': 'D:20111109070950', 'moddate': 'D:20111109070950', 'author': 'desktop', 'title': 'Standard Treatment and Essential Medicine List', 'source': 'C:\\\\matricare\\\\MatriCare\\\\MatriCare\\\\Matricare1\\\\DATA\\\\Standard Treatment Guideline - Pregnancy & Sick newborn.pdf', 'total_pages': 141, 'page': 127, 'page_label': '128'}, page_content='119\\nNewborn presenting with any of the following signs to a facility with neonatal stabilization unit \\nrequires admission:\\nq\\nqRespiratory distress (Rate > 70 with severe retraction / grunt)\\nqHypotherrmia \\nqHyperthermia \\nqCentral cyanosis\\nqShock (Cold periphery, CFT > 3 seconds, weak & fast pulse)\\nqSignificant bleeding that requires blood or component transfusion \\nqNewborns, who after assessment and stabilization, can be managed at stabilization unit*\\nqNewborns with respiratory distress, having Respiratory Rate  60-70 / minutes without grunting or \\nretractions ( for observation and oxygen therapy)\\nqNewborn with gestation less than 34 weeks or weight < 1.8 kg (for observation and assisted feeding.\\nqNewborn with Hypothermia and hyperthermia who are hemodynamically stable after initial \\nstabilization \\nqNewborn with jaundice requiring phototherapy\\nqNeonates with sepsis who are hemodynamically stable for observation and antibiotic therapy\\nOthers would require referral to an SNCU after stabilization, if an SNCU and appropriate referral is \\navailable in the district.\\nApnoea or Gasping \\n15. INDICATION OF ADMISSION \\n      TO NEONATAL STABILIZATION \\n      UNIT (NBSU) FOR INITIAL STABILIZATION \\n      & TRANSFER TO SNCU.'), Document(metadata={'producer': 'Corel PDF Engine Version 3.0.0.576', 'creator': 'CorelDRAW', 'creationdate': 'D:20111109070950', 'moddate': 'D:20111109070950', 'author': 'desktop', 'title': 'Standard Treatment and Essential Medicine List', 'source': 'C:\\\\matricare\\\\MatriCare\\\\MatriCare\\\\Matricare1\\\\DATA\\\\Standard Treatment Guideline - Pregnancy & Sick newborn.pdf', 'total_pages': 141, 'page': 128, 'page_label': '129'}, page_content='120\\nDisinfection of Equipments\\n1. Radiant warmers:\\nvDaily: Canopy and mattress should be cleaned with detergent solution and dried.\\nvWeekly: Thorough cleaning after dismantling weekly and after shift of the baby\\n2. Cots and mattress\\nvClean everything with 3% phenol or 5% Lysol\\nvReplace mattress whenever surface covering is broken\\n3. Suction apparatus\\nvSuction bottle should contain 3% phenol or 5% Lysol\\nvSuction bottle should be cleaned with detergent and changed daily\\nvChange tube connected to bottle daily. Flush with water and dry. Soak for disinfection in 2% \\ngluteraldehyde.\\nvUse disposable suction catheter.\\n4. Oxygen hood \\nvClean everyday and after each use with detergent\\n5. Resuscitation bag & mask\\nFace mask: Disinfection daily and sterilize weekly\\nvClean with detergent daily and after each use.\\nvImmerse in 2% gluteraldehyde \\nv  Rinse with clean water and dry with sterile linen ( washed and sun dried)\\nResuscitation bag: Disinfection daily and sterilize weekly\\nvClean with detergent \\nvImmerse in 2% gluteraldehyde \\nv Rinse with clean water and dry with sterile linen \\n6. Laryngoscope\\nWipe blade with 70% isopropyl alcohol\\n7. IV equipment\\nDisposal needles and infusion sets should be changed every 24 hours\\n16. HOUSEKEEPING PROTOCOLS'), Document(metadata={'producer': 'Corel PDF Engine Version 3.0.0.576', 'creator': 'CorelDRAW', 'creationdate': 'D:20111109070950', 'moddate': 'D:20111109070950', 'author': 'desktop', 'title': 'Standard Treatment and Essential Medicine List', 'source': 'C:\\\\matricare\\\\MatriCare\\\\MatriCare\\\\Matricare1\\\\DATA\\\\Standard Treatment Guideline - Pregnancy & Sick newborn.pdf', 'total_pages': 141, 'page': 129, 'page_label': '130'}, page_content='121\\n8. Feeding utensils\\nClean with soap and water and boil in water for ten minutes.\\n9. Thermometer \\nWipe with alcohol after use\\nStore in bottle containing dry cotton \\n1. Floor & walls\\nWalls and sinks must be cleaned with 3% phenol or 5% Lysol at least once a day.\\nWet mopping of the room should be done at least 3 times a day.\\nAvoid sweeping and dry dusting.\\n2. Disposal of waste and solid.\\nClosed bins should be available.\\nThe bin must be kept closed and emptied at regular intervals\\nPlastic bag can be used in dustbin and these bags should be scaled before they are removed\\nThe dustbin should be cleaned and washed properly in running water every day.\\n3. Cleaning of spills and splashed with suitable disinfectants\\nUse 10 gm of bleach in 1 ltr. of  water. Cover the area with solution for at least 20 minutes and mop \\nwith newspaper or cloth.\\n4. Needles and sharp objects\\nDiscard in polar bleach in a needle proof container Cup, spoon and paladai should be boiled for at \\nleast 15 min before use \\nUse disposable feeding tubes.\\nAll individual items like stethoscope, measuring tapes and probe tips should be cleaned with 70% \\nisopropyl alcohol daily or whenever being used for another baby \\nvDisinfection is killing of the live micro-organism and this can be achieved by 20 minutes \\ncontact period with 2% gluteraldehyde.\\nvSterilization is killing of live micro-organism along with spore. This can be done by 4 hour \\ncontact period with 2% glutraldehyde.\\nvEnsure that fumes of gluteraldehyde are aired out or rinsed completely with water from \\nobjects before sing on infants because these can be damaging to the baby.\\nv2% gluterlhehyde once prepared is active for 12 days.\\nHousekeeping Routines'), Document(metadata={'producer': 'Corel PDF Engine Version 3.0.0.576', 'creator': 'CorelDRAW', 'creationdate': 'D:20111109070950', 'moddate': 'D:20111109070950', 'author': 'desktop', 'title': 'Standard Treatment and Essential Medicine List', 'source': 'C:\\\\matricare\\\\MatriCare\\\\MatriCare\\\\Matricare1\\\\DATA\\\\Standard Treatment Guideline - Pregnancy & Sick newborn.pdf', 'total_pages': 141, 'page': 130, 'page_label': '131'}, page_content='122\\n17. INVESTIGATIONS FOR SICK NEWBORN'), Document(metadata={'producer': 'Corel PDF Engine Version 3.0.0.576', 'creator': 'CorelDRAW', 'creationdate': 'D:20111109070950', 'moddate': 'D:20111109070950', 'author': 'desktop', 'title': 'Standard Treatment and Essential Medicine List', 'source': 'C:\\\\matricare\\\\MatriCare\\\\MatriCare\\\\Matricare1\\\\DATA\\\\Standard Treatment Guideline - Pregnancy & Sick newborn.pdf', 'total_pages': 141, 'page': 131, 'page_label': '132'}, page_content='123\\n18. ESSENTIAL MEDICINE LIST \\n(SICK NEWBORN) 2011-2012\\nOdisha'), Document(metadata={'producer': 'Corel PDF Engine Version 3.0.0.576', 'creator': 'CorelDRAW', 'creationdate': 'D:20111109070950', 'moddate': 'D:20111109070950', 'author': 'desktop', 'title': 'Standard Treatment and Essential Medicine List', 'source': 'C:\\\\matricare\\\\MatriCare\\\\MatriCare\\\\Matricare1\\\\DATA\\\\Standard Treatment Guideline - Pregnancy & Sick newborn.pdf', 'total_pages': 141, 'page': 132, 'page_label': '133'}, page_content='124'), Document(metadata={'producer': 'Corel PDF Engine Version 3.0.0.576', 'creator': 'CorelDRAW', 'creationdate': 'D:20111109070950', 'moddate': 'D:20111109070950', 'author': 'desktop', 'title': 'Standard Treatment and Essential Medicine List', 'source': 'C:\\\\matricare\\\\MatriCare\\\\MatriCare\\\\Matricare1\\\\DATA\\\\Standard Treatment Guideline - Pregnancy & Sick newborn.pdf', 'total_pages': 141, 'page': 133, 'page_label': '134'}, page_content='125'), Document(metadata={'producer': 'Corel PDF Engine Version 3.0.0.576', 'creator': 'CorelDRAW', 'creationdate': 'D:20111109070950', 'moddate': 'D:20111109070950', 'author': 'desktop', 'title': 'Standard Treatment and Essential Medicine List', 'source': 'C:\\\\matricare\\\\MatriCare\\\\MatriCare\\\\Matricare1\\\\DATA\\\\Standard Treatment Guideline - Pregnancy & Sick newborn.pdf', 'total_pages': 141, 'page': 134, 'page_label': '135'}, page_content='126'), Document(metadata={'producer': 'Corel PDF Engine Version 3.0.0.576', 'creator': 'CorelDRAW', 'creationdate': 'D:20111109070950', 'moddate': 'D:20111109070950', 'author': 'desktop', 'title': 'Standard Treatment and Essential Medicine List', 'source': 'C:\\\\matricare\\\\MatriCare\\\\MatriCare\\\\Matricare1\\\\DATA\\\\Standard Treatment Guideline - Pregnancy & Sick newborn.pdf', 'total_pages': 141, 'page': 135, 'page_label': '136'}, page_content='127\\n1. Live birth \\n.\\n2. Still birth \\n3. Birth weight\\n4. Gestation Age (Best estimate)\\n5. Neonatal period \\n6. In-born – A baby born in your centre\\n7. Out-born- A baby not born in your centre.\\nA live birth is complete expulsion or extraction from mother of a product of conception, irrespective \\nof duration of pregnancy, which after separation breaths or shows any other evidence of life, such as \\nbeating of heart, pulsation of the umbilical cord or definite movement of voluntary muscles. This is \\nirrespective of whether the umbilical cord has been cut or the placenta is attached. [Include all live \\nbirth >500 grams birth weight or 22 weeks of gestation or a crown heel length of 25 cm]\\nDeath of fetus having birth weight> 500 g (or gestation 22 weeks or crown heel length 25 cm) or \\nmore.\\nBirth weight is the first weight of a live or dead product of conception, taken after complete \\nexpulsion or extraction from its mother. This weight should be measured within 24 hours of birth, \\npreferably within its first of life itself before significant postnatal weight loss has occurred. \\na) Low birth weight (LBW)- Birth weight of loss than 2500g.\\nb) Very low birth weight (VLBW)- Birth weight of less than 1500 g.\\nc) Extremely Low birth weight (ELBW)- Birth weight of less than 1000g.\\nThe duration of gestation is measured from the first of the last normal menstrual period. Gestational \\nage is expressed is completed days or completed weeks. Please provide the best estimate of \\ngestation. It means that, in your judgment, based on all the historical, ultrasound and baby \\nexamination date, the estimate as entered in the database is most accurate. as entered in the \\ndatabase is most accurate.\\na) Preterm Gestation age of less than 37 completed weeks (i.e less than 259 days)\\nb) Term- Gestation age of 37 to less than 42 completed weeks (i.e 259 to 293 days)\\nc) Post Term- Gestation age of 42 completed weeks or more (i.e 294 days or more)\\nIt refers to the period of less than 28 days after birth.\\na) Early neonatal period refers to the period before 7 days of age.\\nb) Late neonatal period refers to the period from completion of 7 days upto 28 days of life.\\nNeonatal Details\\n1. Respiratory Distress-Presence of any one of the following criteria:\\nRespiratory rate more and => 60/ minutes\\n19. WORKING DEFINITIONS'), Document(metadata={'producer': 'Corel PDF Engine Version 3.0.0.576', 'creator': 'CorelDRAW', 'creationdate': 'D:20111109070950', 'moddate': 'D:20111109070950', 'author': 'desktop', 'title': 'Standard Treatment and Essential Medicine List', 'source': 'C:\\\\matricare\\\\MatriCare\\\\MatriCare\\\\Matricare1\\\\DATA\\\\Standard Treatment Guideline - Pregnancy & Sick newborn.pdf', 'total_pages': 141, 'page': 136, 'page_label': '137'}, page_content='128\\nvSubcostal / intercostals recessions\\nvExpiratory grunt / groaning \\nNote: the baby should be evaluated in between the feeds and in a quite state. Respiratory rate \\nshould be recorded for at least 1 minute.\\n2. Hyaline Membrane Disease / RDS\\nA. Presence of the following criteria.\\nvPre-term neonates\\nvRespiratory distress having onset within 6 hours of birth\\nB.  Supportive evidence (Desirable)\\nvSkiagram of chest showing poor expansion with air bronchogram / \\nreticulogranular pattern / ground glass opacity.\\n3. Meconium Aspiration Syndrome\\nA.  Presence of the following \\nvRespiratory distress within one hour of birth in a term baby with Meconium \\nstaining of liquor, staining of nails, umbilical cord or skin.\\nB.  Supportive evidence (Desirable)\\nvRadiological evidence of aspiration pneumonitis (atelectasis and or \\nhyperinflation)\\n4. Transient Tachpnoea / Delayed adaptation\\nRespiratory distress in a term or borderline term or preterm neonate starting within 6 hours \\nafter birth, often requiring supplemental oxygen, but recovering spontaneously within 3-4 \\ndays and showing characteristic x-ray changes (Linear streaking at hila and interlobar fluid).\\n5. Birth Asphyxia: Presence of anyone of the following\\nvDelayed cry\\nvNeed for assisted ventilation at birth or\\nvApgar < 3 at 1 minutes\\nvApgar < 5 at 5 minutes\\n6. Moderate – Severe Perinatal Asphyxia / Hypoxia ischemic encephalopathy\\nvBaby with Birth asphyxia has encephalopathy if one more of the following are \\npresent Altered sensorium\\nvInability to feed\\nvConvulsion\\n7. Pneumonia\\nIn a neonates with respiratory distress, Pneumonia is diagnosed if positive blood culture or \\nany one of the following present'), Document(metadata={'producer': 'Corel PDF Engine Version 3.0.0.576', 'creator': 'CorelDRAW', 'creationdate': 'D:20111109070950', 'moddate': 'D:20111109070950', 'author': 'desktop', 'title': 'Standard Treatment and Essential Medicine List', 'source': 'C:\\\\matricare\\\\MatriCare\\\\MatriCare\\\\Matricare1\\\\DATA\\\\Standard Treatment Guideline - Pregnancy & Sick newborn.pdf', 'total_pages': 141, 'page': 137, 'page_label': '138'}, page_content='129\\nExisting or pre-disposing factors: maternal fever, foul, smelling liquor, prolonged \\nrupture of membranes.\\nvClinical picture of septicemia (Poor feeding, lethargy, poor reflexes, hypo or \\nhypothermia, abdominal distension etc.)\\nvX-ray picture suggestive of Pneumonia \\nvPositive septic screen (see septicemia)\\n8. Sepsis (systemic Infection)\\nIn a newborn having clinical picture suggestive of septicemia (poor feeding, lethargy, poor \\nreflexes, hypo or hypothermia, abdominal distention etc.) and the presence of any one of the \\nfollowing criteria is enough for assigning probable diagnosis of infection:\\nvExistence of predisposing factors: maternal fever or foul smelling liquor or prolonged \\nrupture of membranes (>24 hrs) or gastric polymorphs (>5 per high power field).\\nvPositive septic screen (two or four parameters (namely, TLC  < 5000 / mm, band to \\ntotal polymorph ratio of  > 0.2, absolute neutrophil count less than 1800 / cmm, C \\nreactive protein > 1 mg / dl and micro ESR > 10 mm 1st hour).\\nvRadiological evidences of pneumonia.\\nvPositive blood culture\\n9. Meningitis\\nIn a baby with sepsis, if there is any one of the following\\nvAltered Sensorium\\nvConvulsions\\nvBulging fontanelle\\nvCSF culture is positive, or CSF microscopy and biochemistry are suggestive.\\n10. Hyper-bilirubinemia\\nvJaundice requiring phototherapy as per charts\\n11. Hypothermia\\nvSkin temperature <35.50 C\\n12. Hypoglycemia\\nvWhole blood glucose of less than 45 mg/ dl\\n13. Major congenital Malformation \\nvA malformation that is life threatening or requires surgical correction.\\nv'), Document(metadata={'producer': 'Corel PDF Engine Version 3.0.0.576', 'creator': 'CorelDRAW', 'creationdate': 'D:20111109070950', 'moddate': 'D:20111109070950', 'author': 'desktop', 'title': 'Standard Treatment and Essential Medicine List', 'source': 'C:\\\\matricare\\\\MatriCare\\\\MatriCare\\\\Matricare1\\\\DATA\\\\Standard Treatment Guideline - Pregnancy & Sick newborn.pdf', 'total_pages': 141, 'page': 138, 'page_label': '139'}, page_content='130\\nCauses of Neonatal Deaths\\nImportant note:\\nYou should first assign the cause(s) of death and you must choose from the causes of death \\nmentioned below. You may assign more than one cause of death at this stage. You will then be \\nassigning the single most important cause of death. Here you should choose only one cause. This is \\nthe primary or underlying cause of death, which is defined as disease or injury, which initiated the \\ntrain of morbid events leading directly to death. You will exercise your judgment to assign this cause \\nkeeping in mind this definition change as above\\n1. Respiratory distress syndrome: Death in a neonate attributes to respiratory distress \\nsyndrome.\\n2. Meconium aspiration syndrome: Death in a neonates attributable to meconium aspiration \\n3. Perinatal asphyxia: Death of neonates in the sitting of and with features of perinatal hypoxia \\nand / or both asphyxia followed by manifestation of or hypoxic ischemic injury of brain \\n(hypoxic ischemic encephalopathy) or other organs.\\n4. Septicemia: Death in a neonate attributable to septicemia or meningitis\\n5. Pneumonia: Death in a neonate attributable to Pneumonia\\n6. Meningitis: Death in a neonate attributable to Meningitis\\n7. Congenital Malformation: Death due to lethal to congenital Malformation\\n8. Prematurity: prematurity as a cause of death is assigned to infants having birth weight of less \\nthan 1000g or < 28 weeks of gestation with no asphyxia, sepsis RDS or major malformations.\\n9. Others: Mention the cause not classified by above such as \\na) Birth trauma: Death due to birth trauma.\\nb) Tetanus neonatorum: Death due to tetanus neonatorum\\n10. Not established: Cause of death not established.\\n1. Facility Based Newborn Care Training Manual by NNF & UNICEF\\n2. Neonatal Resuscitation Manual by NNF & UNICEF\\n3. AIIMS Protocols in Neonatology \\n4. Essential Pediatrics by O. P. Ghai 7th Edition  \\n5. F-IMNCI Training Manual\\n20. References'), Document(metadata={'producer': 'Corel PDF Engine Version 3.0.0.576', 'creator': 'CorelDRAW', 'creationdate': 'D:20111109070950', 'moddate': 'D:20111109070950', 'author': 'desktop', 'title': 'Standard Treatment and Essential Medicine List', 'source': 'C:\\\\matricare\\\\MatriCare\\\\MatriCare\\\\Matricare1\\\\DATA\\\\Standard Treatment Guideline - Pregnancy & Sick newborn.pdf', 'total_pages': 141, 'page': 139, 'page_label': '140'}, page_content=''), Document(metadata={'producer': 'Corel PDF Engine Version 3.0.0.576', 'creator': 'CorelDRAW', 'creationdate': 'D:20111109070950', 'moddate': 'D:20111109070950', 'author': 'desktop', 'title': 'Standard Treatment and Essential Medicine List', 'source': 'C:\\\\matricare\\\\MatriCare\\\\MatriCare\\\\Matricare1\\\\DATA\\\\Standard Treatment Guideline - Pregnancy & Sick newborn.pdf', 'total_pages': 141, 'page': 140, 'page_label': '141'}, page_content='Cash less Delivery & Sick Newborn Services')]\n"
     ]
    }
   ],
   "source": [
    "print(extracted_data)\n"
   ]
  },
  {
   "cell_type": "code",
   "execution_count": 60,
   "id": "952d71e3",
   "metadata": {},
   "outputs": [],
   "source": [
    "#extracted_data\n"
   ]
  },
  {
   "cell_type": "code",
   "execution_count": 61,
   "id": "65b8bb0f",
   "metadata": {},
   "outputs": [],
   "source": [
    "def text_split(extracted_data):\n",
    "    text_splitter = RecursiveCharacterTextSplitter(chunk_size = 500, chunk_overlap = 20)\n",
    "    text_chunks = text_splitter.split_documents(extracted_data)\n",
    "\n",
    "    return text_chunks"
   ]
  },
  {
   "cell_type": "code",
   "execution_count": 62,
   "id": "463ca36f",
   "metadata": {},
   "outputs": [
    {
     "name": "stdout",
     "output_type": "stream",
     "text": [
      "length of my chunk: 415\n"
     ]
    }
   ],
   "source": [
    "text_chunks = text_split(extracted_data)\n",
    "print(\"length of my chunk:\", len(text_chunks))"
   ]
  },
  {
   "cell_type": "code",
   "execution_count": 63,
   "id": "469732ed",
   "metadata": {},
   "outputs": [],
   "source": [
    "def download_hugging_face_embeddings():\n",
    "    embeddings = HuggingFaceEmbeddings(model_name=\"sentence-transformers/all-MiniLM-L6-v2\")\n",
    "    return embeddings"
   ]
  },
  {
   "cell_type": "code",
   "execution_count": 64,
   "id": "ede913da",
   "metadata": {},
   "outputs": [],
   "source": [
    "from langchain.embeddings import HuggingFaceEmbeddings"
   ]
  },
  {
   "cell_type": "code",
   "execution_count": 65,
   "id": "ed1e2088",
   "metadata": {},
   "outputs": [],
   "source": [
    "def download_hugging_face_embeddings():\n",
    "    embeddings = HuggingFaceEmbeddings(model_name=\"sentence-transformers/all-MiniLM-L6-v2\")\n",
    "    return embeddings"
   ]
  },
  {
   "cell_type": "code",
   "execution_count": 66,
   "id": "6ea0d18d",
   "metadata": {},
   "outputs": [
    {
     "name": "stderr",
     "output_type": "stream",
     "text": [
      "C:\\Users\\Admin\\AppData\\Local\\Temp\\ipykernel_16824\\4238859041.py:2: LangChainDeprecationWarning: The class `HuggingFaceEmbeddings` was deprecated in LangChain 0.2.2 and will be removed in 1.0. An updated version of the class exists in the :class:`~langchain-huggingface package and should be used instead. To use it run `pip install -U :class:`~langchain-huggingface` and import as `from :class:`~langchain_huggingface import HuggingFaceEmbeddings``.\n",
      "  embeddings = HuggingFaceEmbeddings(model_name=\"sentence-transformers/all-MiniLM-L6-v2\")\n"
     ]
    },
    {
     "ename": "ImportError",
     "evalue": "Could not import sentence_transformers python package. Please install it with `pip install sentence-transformers`.",
     "output_type": "error",
     "traceback": [
      "\u001b[1;31m---------------------------------------------------------------------------\u001b[0m",
      "\u001b[1;31mModuleNotFoundError\u001b[0m                       Traceback (most recent call last)",
      "File \u001b[1;32mc:\\Users\\Admin\\miniconda3\\envs\\medibot\\lib\\site-packages\\langchain_community\\embeddings\\huggingface.py:84\u001b[0m, in \u001b[0;36mHuggingFaceEmbeddings.__init__\u001b[1;34m(self, **kwargs)\u001b[0m\n\u001b[0;32m     83\u001b[0m \u001b[38;5;28;01mtry\u001b[39;00m:\n\u001b[1;32m---> 84\u001b[0m     \u001b[38;5;28;01mimport\u001b[39;00m\u001b[38;5;250m \u001b[39m\u001b[38;5;21;01msentence_transformers\u001b[39;00m\n\u001b[0;32m     86\u001b[0m \u001b[38;5;28;01mexcept\u001b[39;00m \u001b[38;5;167;01mImportError\u001b[39;00m \u001b[38;5;28;01mas\u001b[39;00m exc:\n",
      "\u001b[1;31mModuleNotFoundError\u001b[0m: No module named 'sentence_transformers'",
      "\nThe above exception was the direct cause of the following exception:\n",
      "\u001b[1;31mImportError\u001b[0m                               Traceback (most recent call last)",
      "Cell \u001b[1;32mIn[66], line 1\u001b[0m\n\u001b[1;32m----> 1\u001b[0m embeddings \u001b[38;5;241m=\u001b[39m \u001b[43mdownload_hugging_face_embeddings\u001b[49m\u001b[43m(\u001b[49m\u001b[43m)\u001b[49m\n",
      "Cell \u001b[1;32mIn[65], line 2\u001b[0m, in \u001b[0;36mdownload_hugging_face_embeddings\u001b[1;34m()\u001b[0m\n\u001b[0;32m      1\u001b[0m \u001b[38;5;28;01mdef\u001b[39;00m\u001b[38;5;250m \u001b[39m\u001b[38;5;21mdownload_hugging_face_embeddings\u001b[39m():\n\u001b[1;32m----> 2\u001b[0m     embeddings \u001b[38;5;241m=\u001b[39m \u001b[43mHuggingFaceEmbeddings\u001b[49m\u001b[43m(\u001b[49m\u001b[43mmodel_name\u001b[49m\u001b[38;5;241;43m=\u001b[39;49m\u001b[38;5;124;43m\"\u001b[39;49m\u001b[38;5;124;43msentence-transformers/all-MiniLM-L6-v2\u001b[39;49m\u001b[38;5;124;43m\"\u001b[39;49m\u001b[43m)\u001b[49m\n\u001b[0;32m      3\u001b[0m     \u001b[38;5;28;01mreturn\u001b[39;00m embeddings\n",
      "File \u001b[1;32mc:\\Users\\Admin\\miniconda3\\envs\\medibot\\lib\\site-packages\\langchain_core\\_api\\deprecation.py:224\u001b[0m, in \u001b[0;36mdeprecated.<locals>.deprecate.<locals>.finalize.<locals>.warn_if_direct_instance\u001b[1;34m(self, *args, **kwargs)\u001b[0m\n\u001b[0;32m    222\u001b[0m     warned \u001b[38;5;241m=\u001b[39m \u001b[38;5;28;01mTrue\u001b[39;00m\n\u001b[0;32m    223\u001b[0m     emit_warning()\n\u001b[1;32m--> 224\u001b[0m \u001b[38;5;28;01mreturn\u001b[39;00m wrapped(\u001b[38;5;28mself\u001b[39m, \u001b[38;5;241m*\u001b[39margs, \u001b[38;5;241m*\u001b[39m\u001b[38;5;241m*\u001b[39mkwargs)\n",
      "File \u001b[1;32mc:\\Users\\Admin\\miniconda3\\envs\\medibot\\lib\\site-packages\\langchain_community\\embeddings\\huggingface.py:87\u001b[0m, in \u001b[0;36mHuggingFaceEmbeddings.__init__\u001b[1;34m(self, **kwargs)\u001b[0m\n\u001b[0;32m     84\u001b[0m     \u001b[38;5;28;01mimport\u001b[39;00m\u001b[38;5;250m \u001b[39m\u001b[38;5;21;01msentence_transformers\u001b[39;00m\n\u001b[0;32m     86\u001b[0m \u001b[38;5;28;01mexcept\u001b[39;00m \u001b[38;5;167;01mImportError\u001b[39;00m \u001b[38;5;28;01mas\u001b[39;00m exc:\n\u001b[1;32m---> 87\u001b[0m     \u001b[38;5;28;01mraise\u001b[39;00m \u001b[38;5;167;01mImportError\u001b[39;00m(\n\u001b[0;32m     88\u001b[0m         \u001b[38;5;124m\"\u001b[39m\u001b[38;5;124mCould not import sentence_transformers python package. \u001b[39m\u001b[38;5;124m\"\u001b[39m\n\u001b[0;32m     89\u001b[0m         \u001b[38;5;124m\"\u001b[39m\u001b[38;5;124mPlease install it with `pip install sentence-transformers`.\u001b[39m\u001b[38;5;124m\"\u001b[39m\n\u001b[0;32m     90\u001b[0m     ) \u001b[38;5;28;01mfrom\u001b[39;00m\u001b[38;5;250m \u001b[39m\u001b[38;5;21;01mexc\u001b[39;00m\n\u001b[0;32m     92\u001b[0m \u001b[38;5;28mself\u001b[39m\u001b[38;5;241m.\u001b[39mclient \u001b[38;5;241m=\u001b[39m sentence_transformers\u001b[38;5;241m.\u001b[39mSentenceTransformer(\n\u001b[0;32m     93\u001b[0m     \u001b[38;5;28mself\u001b[39m\u001b[38;5;241m.\u001b[39mmodel_name, cache_folder\u001b[38;5;241m=\u001b[39m\u001b[38;5;28mself\u001b[39m\u001b[38;5;241m.\u001b[39mcache_folder, \u001b[38;5;241m*\u001b[39m\u001b[38;5;241m*\u001b[39m\u001b[38;5;28mself\u001b[39m\u001b[38;5;241m.\u001b[39mmodel_kwargs\n\u001b[0;32m     94\u001b[0m )\n",
      "\u001b[1;31mImportError\u001b[0m: Could not import sentence_transformers python package. Please install it with `pip install sentence-transformers`."
     ]
    }
   ],
   "source": [
    "embeddings = download_hugging_face_embeddings()"
   ]
  },
  {
   "cell_type": "code",
   "execution_count": null,
   "id": "07a5cf14",
   "metadata": {},
   "outputs": [
    {
     "name": "stdout",
     "output_type": "stream",
     "text": [
      "Requirement already satisfied: sentence-transformers in c:\\users\\admin\\miniconda3\\envs\\medibot\\lib\\site-packages (4.1.0)\n",
      "Requirement already satisfied: transformers<5.0.0,>=4.41.0 in c:\\users\\admin\\miniconda3\\envs\\medibot\\lib\\site-packages (from sentence-transformers) (4.51.3)\n",
      "Requirement already satisfied: tqdm in c:\\users\\admin\\miniconda3\\envs\\medibot\\lib\\site-packages (from sentence-transformers) (4.67.1)\n",
      "Requirement already satisfied: torch>=1.11.0 in c:\\users\\admin\\miniconda3\\envs\\medibot\\lib\\site-packages (from sentence-transformers) (2.7.0)\n",
      "Requirement already satisfied: scikit-learn in c:\\users\\admin\\miniconda3\\envs\\medibot\\lib\\site-packages (from sentence-transformers) (1.6.1)\n",
      "Requirement already satisfied: scipy in c:\\users\\admin\\miniconda3\\envs\\medibot\\lib\\site-packages (from sentence-transformers) (1.15.2)\n",
      "Requirement already satisfied: huggingface-hub>=0.20.0 in c:\\users\\admin\\miniconda3\\envs\\medibot\\lib\\site-packages (from sentence-transformers) (0.30.2)\n",
      "Requirement already satisfied: Pillow in c:\\users\\admin\\miniconda3\\envs\\medibot\\lib\\site-packages (from sentence-transformers) (11.2.1)\n",
      "Requirement already satisfied: typing_extensions>=4.5.0 in c:\\users\\admin\\miniconda3\\envs\\medibot\\lib\\site-packages (from sentence-transformers) (4.13.2)\n",
      "Requirement already satisfied: filelock in c:\\users\\admin\\miniconda3\\envs\\medibot\\lib\\site-packages (from huggingface-hub>=0.20.0->sentence-transformers) (3.18.0)\n",
      "Requirement already satisfied: fsspec>=2023.5.0 in c:\\users\\admin\\miniconda3\\envs\\medibot\\lib\\site-packages (from huggingface-hub>=0.20.0->sentence-transformers) (2025.3.2)\n",
      "Requirement already satisfied: packaging>=20.9 in c:\\users\\admin\\miniconda3\\envs\\medibot\\lib\\site-packages (from huggingface-hub>=0.20.0->sentence-transformers) (24.2)\n",
      "Requirement already satisfied: pyyaml>=5.1 in c:\\users\\admin\\miniconda3\\envs\\medibot\\lib\\site-packages (from huggingface-hub>=0.20.0->sentence-transformers) (6.0.2)\n",
      "Requirement already satisfied: requests in c:\\users\\admin\\miniconda3\\envs\\medibot\\lib\\site-packages (from huggingface-hub>=0.20.0->sentence-transformers) (2.32.3)\n",
      "Requirement already satisfied: sympy>=1.13.3 in c:\\users\\admin\\miniconda3\\envs\\medibot\\lib\\site-packages (from torch>=1.11.0->sentence-transformers) (1.14.0)\n",
      "Requirement already satisfied: networkx in c:\\users\\admin\\miniconda3\\envs\\medibot\\lib\\site-packages (from torch>=1.11.0->sentence-transformers) (3.4.2)\n",
      "Requirement already satisfied: jinja2 in c:\\users\\admin\\miniconda3\\envs\\medibot\\lib\\site-packages (from torch>=1.11.0->sentence-transformers) (3.1.6)\n",
      "Requirement already satisfied: colorama in c:\\users\\admin\\miniconda3\\envs\\medibot\\lib\\site-packages (from tqdm->sentence-transformers) (0.4.6)\n",
      "Requirement already satisfied: numpy>=1.17 in c:\\users\\admin\\miniconda3\\envs\\medibot\\lib\\site-packages (from transformers<5.0.0,>=4.41.0->sentence-transformers) (2.2.5)\n",
      "Requirement already satisfied: regex!=2019.12.17 in c:\\users\\admin\\miniconda3\\envs\\medibot\\lib\\site-packages (from transformers<5.0.0,>=4.41.0->sentence-transformers) (2024.11.6)\n",
      "Requirement already satisfied: tokenizers<0.22,>=0.21 in c:\\users\\admin\\miniconda3\\envs\\medibot\\lib\\site-packages (from transformers<5.0.0,>=4.41.0->sentence-transformers) (0.21.1)\n",
      "Requirement already satisfied: safetensors>=0.4.3 in c:\\users\\admin\\miniconda3\\envs\\medibot\\lib\\site-packages (from transformers<5.0.0,>=4.41.0->sentence-transformers) (0.5.3)\n",
      "Requirement already satisfied: joblib>=1.2.0 in c:\\users\\admin\\miniconda3\\envs\\medibot\\lib\\site-packages (from scikit-learn->sentence-transformers) (1.4.2)\n",
      "Requirement already satisfied: threadpoolctl>=3.1.0 in c:\\users\\admin\\miniconda3\\envs\\medibot\\lib\\site-packages (from scikit-learn->sentence-transformers) (3.6.0)\n",
      "Requirement already satisfied: mpmath<1.4,>=1.1.0 in c:\\users\\admin\\miniconda3\\envs\\medibot\\lib\\site-packages (from sympy>=1.13.3->torch>=1.11.0->sentence-transformers) (1.3.0)\n",
      "Requirement already satisfied: MarkupSafe>=2.0 in c:\\users\\admin\\miniconda3\\envs\\medibot\\lib\\site-packages (from jinja2->torch>=1.11.0->sentence-transformers) (3.0.2)\n",
      "Requirement already satisfied: charset-normalizer<4,>=2 in c:\\users\\admin\\miniconda3\\envs\\medibot\\lib\\site-packages (from requests->huggingface-hub>=0.20.0->sentence-transformers) (3.4.1)\n",
      "Requirement already satisfied: idna<4,>=2.5 in c:\\users\\admin\\miniconda3\\envs\\medibot\\lib\\site-packages (from requests->huggingface-hub>=0.20.0->sentence-transformers) (3.10)\n",
      "Requirement already satisfied: urllib3<3,>=1.21.1 in c:\\users\\admin\\miniconda3\\envs\\medibot\\lib\\site-packages (from requests->huggingface-hub>=0.20.0->sentence-transformers) (2.4.0)\n",
      "Requirement already satisfied: certifi>=2017.4.17 in c:\\users\\admin\\miniconda3\\envs\\medibot\\lib\\site-packages (from requests->huggingface-hub>=0.20.0->sentence-transformers) (2025.4.26)\n",
      "Note: you may need to restart the kernel to use updated packages.\n"
     ]
    }
   ],
   "source": [
    "pip install sentence-transformers"
   ]
  },
  {
   "cell_type": "code",
   "execution_count": null,
   "id": "b9a935a3",
   "metadata": {},
   "outputs": [
    {
     "name": "stderr",
     "output_type": "stream",
     "text": [
      "c:\\Users\\Admin\\miniconda3\\envs\\medibot\\lib\\site-packages\\tqdm\\auto.py:21: TqdmWarning: IProgress not found. Please update jupyter and ipywidgets. See https://ipywidgets.readthedocs.io/en/stable/user_install.html\n",
      "  from .autonotebook import tqdm as notebook_tqdm\n",
      "c:\\Users\\Admin\\miniconda3\\envs\\medibot\\lib\\site-packages\\huggingface_hub\\file_download.py:144: UserWarning: `huggingface_hub` cache-system uses symlinks by default to efficiently store duplicated files but your machine does not support them in C:\\Users\\Admin\\.cache\\huggingface\\hub\\models--sentence-transformers--all-MiniLM-L6-v2. Caching files will still work but in a degraded version that might require more space on your disk. This warning can be disabled by setting the `HF_HUB_DISABLE_SYMLINKS_WARNING` environment variable. For more details, see https://huggingface.co/docs/huggingface_hub/how-to-cache#limitations.\n",
      "To support symlinks on Windows, you either need to activate Developer Mode or to run Python as an administrator. In order to activate developer mode, see this article: https://docs.microsoft.com/en-us/windows/apps/get-started/enable-your-device-for-development\n",
      "  warnings.warn(message)\n",
      "Xet Storage is enabled for this repo, but the 'hf_xet' package is not installed. Falling back to regular HTTP download. For better performance, install the package with: `pip install huggingface_hub[hf_xet]` or `pip install hf_xet`\n"
     ]
    }
   ],
   "source": [
    "embeddings = download_hugging_face_embeddings()"
   ]
  },
  {
   "cell_type": "code",
   "execution_count": 69,
   "id": "d6813d10",
   "metadata": {},
   "outputs": [
    {
     "name": "stdout",
     "output_type": "stream",
     "text": [
      "Length 384\n"
     ]
    }
   ],
   "source": [
    "query_result = embeddings.embed_query(\"Hello world\")\n",
    "print(\"Length\", len(query_result))"
   ]
  },
  {
   "cell_type": "code",
   "execution_count": null,
   "id": "d927a40c",
   "metadata": {},
   "outputs": [],
   "source": [
    "# from pinecone import Pinecone, ServerlessSpec\n",
    "\n",
    "# pc = Pinecone(api_key=\"********-****-****-****-************\")\n",
    "\n",
    "# index_name = \"quickstart\"\n",
    "\n",
    "# pc.create_index(\n",
    "#     name=index_name,\n",
    "#     dimension=2, # Replace with your model dimensions\n",
    "#     metric=\"cosine\", # Replace with your model metric\n",
    "#     spec=ServerlessSpec(\n",
    "#         cloud=\"aws\",\n",
    "#         region=\"us-east-1\"\n",
    "#     ) \n",
    "# )"
   ]
  },
  {
   "cell_type": "code",
   "execution_count": null,
   "id": "48543442",
   "metadata": {},
   "outputs": [
    {
     "name": "stdout",
     "output_type": "stream",
     "text": [
      "Requirement already satisfied: pinecone in c:\\users\\admin\\miniconda3\\envs\\medibot\\lib\\site-packages (6.0.2)\n",
      "Requirement already satisfied: certifi>=2019.11.17 in c:\\users\\admin\\miniconda3\\envs\\medibot\\lib\\site-packages (from pinecone) (2025.4.26)\n",
      "Requirement already satisfied: pinecone-plugin-interface<0.0.8,>=0.0.7 in c:\\users\\admin\\miniconda3\\envs\\medibot\\lib\\site-packages (from pinecone) (0.0.7)\n",
      "Requirement already satisfied: python-dateutil>=2.5.3 in c:\\users\\admin\\miniconda3\\envs\\medibot\\lib\\site-packages (from pinecone) (2.9.0.post0)\n",
      "Requirement already satisfied: typing-extensions>=3.7.4 in c:\\users\\admin\\miniconda3\\envs\\medibot\\lib\\site-packages (from pinecone) (4.13.2)\n",
      "Requirement already satisfied: urllib3>=1.26.0 in c:\\users\\admin\\miniconda3\\envs\\medibot\\lib\\site-packages (from pinecone) (2.4.0)\n",
      "Requirement already satisfied: six>=1.5 in c:\\users\\admin\\miniconda3\\envs\\medibot\\lib\\site-packages (from python-dateutil>=2.5.3->pinecone) (1.17.0)\n",
      "Note: you may need to restart the kernel to use updated packages.\n"
     ]
    }
   ],
   "source": [
    "# pip install pinecone\n"
   ]
  },
  {
   "cell_type": "code",
   "execution_count": null,
   "id": "9d78eeee",
   "metadata": {},
   "outputs": [
    {
     "ename": "Exception",
     "evalue": "The official Pinecone python package has been renamed from `pinecone-client` to `pinecone`. Please remove `pinecone-client` from your project dependencies and add `pinecone` instead. See the README at https://github.com/pinecone-io/pinecone-python-client for more information on using the python SDK.",
     "output_type": "error",
     "traceback": [
      "\u001b[1;31m---------------------------------------------------------------------------\u001b[0m",
      "\u001b[1;31mException\u001b[0m                                 Traceback (most recent call last)",
      "Cell \u001b[1;32mIn[7], line 1\u001b[0m\n\u001b[1;32m----> 1\u001b[0m \u001b[38;5;28;01mfrom\u001b[39;00m\u001b[38;5;250m \u001b[39m\u001b[38;5;21;01mpinecone\u001b[39;00m\u001b[38;5;250m \u001b[39m\u001b[38;5;28;01mimport\u001b[39;00m Pinecone, ServerlessSpec\n\u001b[0;32m      3\u001b[0m pc \u001b[38;5;241m=\u001b[39m Pinecone(api_key\u001b[38;5;241m=\u001b[39m\u001b[38;5;124m\"\u001b[39m\u001b[38;5;124mpcsk_4GEtY5_3SpouDjoxsjHc17apP6FsWZcNXdBJT89U3Us4J8pnkBQTpY7w6Za9WTZZZduE2Y\u001b[39m\u001b[38;5;124m\"\u001b[39m)\n",
      "File \u001b[1;32mc:\\Users\\Admin\\miniconda3\\envs\\medibot\\lib\\site-packages\\pinecone\\__init__.py:5\u001b[0m\n\u001b[0;32m      1\u001b[0m \u001b[38;5;124;03m\"\"\"\u001b[39;00m\n\u001b[0;32m      2\u001b[0m \u001b[38;5;124;03m.. include:: ../README.md\u001b[39;00m\n\u001b[0;32m      3\u001b[0m \u001b[38;5;124;03m\"\"\"\u001b[39;00m\n\u001b[1;32m----> 5\u001b[0m \u001b[38;5;28;01mraise\u001b[39;00m \u001b[38;5;167;01mException\u001b[39;00m(\n\u001b[0;32m      6\u001b[0m     \u001b[38;5;124m\"\u001b[39m\u001b[38;5;124mThe official Pinecone python package has been renamed from `pinecone-client` to `pinecone`. Please remove `pinecone-client` from your project dependencies and add `pinecone` instead. See the README at https://github.com/pinecone-io/pinecone-python-client for more information on using the python SDK.\u001b[39m\u001b[38;5;124m\"\u001b[39m\n\u001b[0;32m      7\u001b[0m )\n",
      "\u001b[1;31mException\u001b[0m: The official Pinecone python package has been renamed from `pinecone-client` to `pinecone`. Please remove `pinecone-client` from your project dependencies and add `pinecone` instead. See the README at https://github.com/pinecone-io/pinecone-python-client for more information on using the python SDK."
     ]
    }
   ],
   "source": [
    "# from pinecone import Pinecone, ServerlessSpec\n",
    "\n",
    "# pc = Pinecone(api_key=\"pcsk_4GEtY5_3SpouDjoxsjHc17apP6FsWZcNXdBJT89U3Us4J8pnkBQTpY7w6Za9WTZZZduE2Y\")"
   ]
  },
  {
   "cell_type": "code",
   "execution_count": null,
   "id": "4de0cf05",
   "metadata": {},
   "outputs": [
    {
     "ename": "NameError",
     "evalue": "name 'pc' is not defined",
     "output_type": "error",
     "traceback": [
      "\u001b[1;31m---------------------------------------------------------------------------\u001b[0m",
      "\u001b[1;31mNameError\u001b[0m                                 Traceback (most recent call last)",
      "Cell \u001b[1;32mIn[3], line 3\u001b[0m\n\u001b[0;32m      1\u001b[0m index_name \u001b[38;5;241m=\u001b[39m \u001b[38;5;124m\"\u001b[39m\u001b[38;5;124mquickstart\u001b[39m\u001b[38;5;124m\"\u001b[39m\n\u001b[1;32m----> 3\u001b[0m \u001b[43mpc\u001b[49m\u001b[38;5;241m.\u001b[39mcreate_index(\n\u001b[0;32m      4\u001b[0m     name\u001b[38;5;241m=\u001b[39mindex_name,\n\u001b[0;32m      5\u001b[0m     dimension\u001b[38;5;241m=\u001b[39m\u001b[38;5;241m2\u001b[39m, \u001b[38;5;66;03m# Replace with your model dimensions\u001b[39;00m\n\u001b[0;32m      6\u001b[0m     metric\u001b[38;5;241m=\u001b[39m\u001b[38;5;124m\"\u001b[39m\u001b[38;5;124mcosine\u001b[39m\u001b[38;5;124m\"\u001b[39m, \u001b[38;5;66;03m# Replace with your model metric\u001b[39;00m\n\u001b[0;32m      7\u001b[0m     spec\u001b[38;5;241m=\u001b[39mServerlessSpec(\n\u001b[0;32m      8\u001b[0m         cloud\u001b[38;5;241m=\u001b[39m\u001b[38;5;124m\"\u001b[39m\u001b[38;5;124maws\u001b[39m\u001b[38;5;124m\"\u001b[39m,\n\u001b[0;32m      9\u001b[0m         region\u001b[38;5;241m=\u001b[39m\u001b[38;5;124m\"\u001b[39m\u001b[38;5;124mus-east-1\u001b[39m\u001b[38;5;124m\"\u001b[39m\n\u001b[0;32m     10\u001b[0m     ) \n\u001b[0;32m     11\u001b[0m )\n",
      "\u001b[1;31mNameError\u001b[0m: name 'pc' is not defined"
     ]
    }
   ],
   "source": [
    "# index_name = \"quickstart\"\n",
    "\n",
    "# pc.create_index(\n",
    "#     name=index_name,\n",
    "#     dimension=2, # Replace with your model dimensions\n",
    "#     metric=\"cosine\", # Replace with your model metric\n",
    "#     spec=ServerlessSpec(\n",
    "#         cloud=\"aws\",\n",
    "#         region=\"us-east-1\"\n",
    "#     ) \n",
    "# )"
   ]
  },
  {
   "cell_type": "code",
   "execution_count": null,
   "id": "15a15627",
   "metadata": {},
   "outputs": [
    {
     "ename": "PineconeApiException",
     "evalue": "(400)\nReason: Bad Request\nHTTP response headers: HTTPHeaderDict({'content-type': 'text/plain; charset=utf-8', 'access-control-allow-origin': '*', 'vary': 'origin,access-control-request-method,access-control-request-headers', 'access-control-expose-headers': '*', 'x-pinecone-api-version': '2025-01', 'x-cloud-trace-context': 'b218a2b0e8c47316d87c276d64af8701', 'date': 'Mon, 28 Apr 2025 19:16:34 GMT', 'server': 'Google Frontend', 'Content-Length': '125', 'Via': '1.1 google', 'Alt-Svc': 'h3=\":443\"; ma=2592000,h3-29=\":443\"; ma=2592000'})\nHTTP response body: {\"error\":{\"code\":\"INVALID_ARGUMENT\",\"message\":\"Name must consist of lower case alphanumeric characters or '-'\"},\"status\":400}\n",
     "output_type": "error",
     "traceback": [
      "\u001b[1;31m---------------------------------------------------------------------------\u001b[0m",
      "\u001b[1;31mPineconeApiException\u001b[0m                      Traceback (most recent call last)",
      "Cell \u001b[1;32mIn[73], line 3\u001b[0m\n\u001b[0;32m      1\u001b[0m index_name \u001b[38;5;241m=\u001b[39m \u001b[38;5;124m\"\u001b[39m\u001b[38;5;124mMatriBot\u001b[39m\u001b[38;5;124m\"\u001b[39m\n\u001b[1;32m----> 3\u001b[0m \u001b[43mpc\u001b[49m\u001b[38;5;241;43m.\u001b[39;49m\u001b[43mcreate_index\u001b[49m\u001b[43m(\u001b[49m\n\u001b[0;32m      4\u001b[0m \u001b[43m    \u001b[49m\u001b[43mname\u001b[49m\u001b[38;5;241;43m=\u001b[39;49m\u001b[43mindex_name\u001b[49m\u001b[43m,\u001b[49m\n\u001b[0;32m      5\u001b[0m \u001b[43m    \u001b[49m\u001b[43mdimension\u001b[49m\u001b[38;5;241;43m=\u001b[39;49m\u001b[38;5;241;43m384\u001b[39;49m\u001b[43m,\u001b[49m\u001b[43m \u001b[49m\u001b[38;5;66;43;03m# Replace with your model dimensions\u001b[39;49;00m\n\u001b[0;32m      6\u001b[0m \u001b[43m    \u001b[49m\u001b[43mmetric\u001b[49m\u001b[38;5;241;43m=\u001b[39;49m\u001b[38;5;124;43m\"\u001b[39;49m\u001b[38;5;124;43mcosine\u001b[39;49m\u001b[38;5;124;43m\"\u001b[39;49m\u001b[43m,\u001b[49m\u001b[43m \u001b[49m\u001b[38;5;66;43;03m# Replace with your model metric\u001b[39;49;00m\n\u001b[0;32m      7\u001b[0m \u001b[43m    \u001b[49m\u001b[43mspec\u001b[49m\u001b[38;5;241;43m=\u001b[39;49m\u001b[43mServerlessSpec\u001b[49m\u001b[43m(\u001b[49m\n\u001b[0;32m      8\u001b[0m \u001b[43m        \u001b[49m\u001b[43mcloud\u001b[49m\u001b[38;5;241;43m=\u001b[39;49m\u001b[38;5;124;43m\"\u001b[39;49m\u001b[38;5;124;43maws\u001b[39;49m\u001b[38;5;124;43m\"\u001b[39;49m\u001b[43m,\u001b[49m\n\u001b[0;32m      9\u001b[0m \u001b[43m        \u001b[49m\u001b[43mregion\u001b[49m\u001b[38;5;241;43m=\u001b[39;49m\u001b[38;5;124;43m\"\u001b[39;49m\u001b[38;5;124;43mus-east-1\u001b[39;49m\u001b[38;5;124;43m\"\u001b[39;49m\n\u001b[0;32m     10\u001b[0m \u001b[43m    \u001b[49m\u001b[43m)\u001b[49m\u001b[43m \u001b[49m\n\u001b[0;32m     11\u001b[0m \u001b[43m)\u001b[49m\n",
      "File \u001b[1;32mc:\\Users\\Admin\\miniconda3\\envs\\medibot\\lib\\site-packages\\pinecone\\control\\pinecone.py:143\u001b[0m, in \u001b[0;36mPinecone.create_index\u001b[1;34m(self, name, spec, dimension, metric, timeout, deletion_protection, vector_type, tags)\u001b[0m\n\u001b[0;32m    123\u001b[0m \u001b[38;5;28;01mdef\u001b[39;00m\u001b[38;5;250m \u001b[39m\u001b[38;5;21mcreate_index\u001b[39m(\n\u001b[0;32m    124\u001b[0m     \u001b[38;5;28mself\u001b[39m,\n\u001b[0;32m    125\u001b[0m     name: \u001b[38;5;28mstr\u001b[39m,\n\u001b[1;32m   (...)\u001b[0m\n\u001b[0;32m    132\u001b[0m     tags: Optional[Dict[\u001b[38;5;28mstr\u001b[39m, \u001b[38;5;28mstr\u001b[39m]] \u001b[38;5;241m=\u001b[39m \u001b[38;5;28;01mNone\u001b[39;00m,\n\u001b[0;32m    133\u001b[0m ) \u001b[38;5;241m-\u001b[39m\u001b[38;5;241m>\u001b[39m IndexModel:\n\u001b[0;32m    134\u001b[0m     req \u001b[38;5;241m=\u001b[39m PineconeDBControlRequestFactory\u001b[38;5;241m.\u001b[39mcreate_index_request(\n\u001b[0;32m    135\u001b[0m         name\u001b[38;5;241m=\u001b[39mname,\n\u001b[0;32m    136\u001b[0m         spec\u001b[38;5;241m=\u001b[39mspec,\n\u001b[1;32m   (...)\u001b[0m\n\u001b[0;32m    141\u001b[0m         tags\u001b[38;5;241m=\u001b[39mtags,\n\u001b[0;32m    142\u001b[0m     )\n\u001b[1;32m--> 143\u001b[0m     resp \u001b[38;5;241m=\u001b[39m \u001b[38;5;28;43mself\u001b[39;49m\u001b[38;5;241;43m.\u001b[39;49m\u001b[43mindex_api\u001b[49m\u001b[38;5;241;43m.\u001b[39;49m\u001b[43mcreate_index\u001b[49m\u001b[43m(\u001b[49m\u001b[43mcreate_index_request\u001b[49m\u001b[38;5;241;43m=\u001b[39;49m\u001b[43mreq\u001b[49m\u001b[43m)\u001b[49m\n\u001b[0;32m    145\u001b[0m     \u001b[38;5;28;01mif\u001b[39;00m timeout \u001b[38;5;241m==\u001b[39m \u001b[38;5;241m-\u001b[39m\u001b[38;5;241m1\u001b[39m:\n\u001b[0;32m    146\u001b[0m         \u001b[38;5;28;01mreturn\u001b[39;00m IndexModel(resp)\n",
      "File \u001b[1;32mc:\\Users\\Admin\\miniconda3\\envs\\medibot\\lib\\site-packages\\pinecone\\openapi_support\\endpoint.py:102\u001b[0m, in \u001b[0;36mEndpoint.__call__\u001b[1;34m(self, *args, **kwargs)\u001b[0m\n\u001b[0;32m     91\u001b[0m \u001b[38;5;28;01mdef\u001b[39;00m\u001b[38;5;250m \u001b[39m\u001b[38;5;21m__call__\u001b[39m(\u001b[38;5;28mself\u001b[39m, \u001b[38;5;241m*\u001b[39margs, \u001b[38;5;241m*\u001b[39m\u001b[38;5;241m*\u001b[39mkwargs):\n\u001b[0;32m     92\u001b[0m \u001b[38;5;250m    \u001b[39m\u001b[38;5;124;03m\"\"\"This method is invoked when endpoints are called\u001b[39;00m\n\u001b[0;32m     93\u001b[0m \u001b[38;5;124;03m    Example:\u001b[39;00m\n\u001b[0;32m     94\u001b[0m \n\u001b[1;32m   (...)\u001b[0m\n\u001b[0;32m    100\u001b[0m \n\u001b[0;32m    101\u001b[0m \u001b[38;5;124;03m    \"\"\"\u001b[39;00m\n\u001b[1;32m--> 102\u001b[0m     \u001b[38;5;28;01mreturn\u001b[39;00m \u001b[38;5;28mself\u001b[39m\u001b[38;5;241m.\u001b[39mcallable(\u001b[38;5;28mself\u001b[39m, \u001b[38;5;241m*\u001b[39margs, \u001b[38;5;241m*\u001b[39m\u001b[38;5;241m*\u001b[39mkwargs)\n",
      "File \u001b[1;32mc:\\Users\\Admin\\miniconda3\\envs\\medibot\\lib\\site-packages\\pinecone\\core\\openapi\\db_control\\api\\manage_indexes_api.py:235\u001b[0m, in \u001b[0;36mManageIndexesApi.__init__.<locals>.__create_index\u001b[1;34m(self, create_index_request, **kwargs)\u001b[0m\n\u001b[0;32m    233\u001b[0m kwargs \u001b[38;5;241m=\u001b[39m \u001b[38;5;28mself\u001b[39m\u001b[38;5;241m.\u001b[39m_process_openapi_kwargs(kwargs)\n\u001b[0;32m    234\u001b[0m kwargs[\u001b[38;5;124m\"\u001b[39m\u001b[38;5;124mcreate_index_request\u001b[39m\u001b[38;5;124m\"\u001b[39m] \u001b[38;5;241m=\u001b[39m create_index_request\n\u001b[1;32m--> 235\u001b[0m \u001b[38;5;28;01mreturn\u001b[39;00m \u001b[38;5;28mself\u001b[39m\u001b[38;5;241m.\u001b[39mcall_with_http_info(\u001b[38;5;241m*\u001b[39m\u001b[38;5;241m*\u001b[39mkwargs)\n",
      "File \u001b[1;32mc:\\Users\\Admin\\miniconda3\\envs\\medibot\\lib\\site-packages\\pinecone\\openapi_support\\endpoint.py:134\u001b[0m, in \u001b[0;36mEndpoint.call_with_http_info\u001b[1;34m(self, **kwargs)\u001b[0m\n\u001b[0;32m    124\u001b[0m params \u001b[38;5;241m=\u001b[39m EndpointUtils\u001b[38;5;241m.\u001b[39mgather_params(\n\u001b[0;32m    125\u001b[0m     attribute_map\u001b[38;5;241m=\u001b[39m\u001b[38;5;28mself\u001b[39m\u001b[38;5;241m.\u001b[39mattribute_map,\n\u001b[0;32m    126\u001b[0m     location_map\u001b[38;5;241m=\u001b[39m\u001b[38;5;28mself\u001b[39m\u001b[38;5;241m.\u001b[39mlocation_map,\n\u001b[1;32m   (...)\u001b[0m\n\u001b[0;32m    129\u001b[0m     kwargs\u001b[38;5;241m=\u001b[39mkwargs,\n\u001b[0;32m    130\u001b[0m )\n\u001b[0;32m    132\u001b[0m HeaderUtil\u001b[38;5;241m.\u001b[39mprepare_headers(headers_map\u001b[38;5;241m=\u001b[39m\u001b[38;5;28mself\u001b[39m\u001b[38;5;241m.\u001b[39mheaders_map, params\u001b[38;5;241m=\u001b[39mparams)\n\u001b[1;32m--> 134\u001b[0m \u001b[38;5;28;01mreturn\u001b[39;00m \u001b[38;5;28;43mself\u001b[39;49m\u001b[38;5;241;43m.\u001b[39;49m\u001b[43mapi_client\u001b[49m\u001b[38;5;241;43m.\u001b[39;49m\u001b[43mcall_api\u001b[49m\u001b[43m(\u001b[49m\n\u001b[0;32m    135\u001b[0m \u001b[43m    \u001b[49m\u001b[38;5;28;43mself\u001b[39;49m\u001b[38;5;241;43m.\u001b[39;49m\u001b[43msettings\u001b[49m\u001b[43m[\u001b[49m\u001b[38;5;124;43m\"\u001b[39;49m\u001b[38;5;124;43mendpoint_path\u001b[39;49m\u001b[38;5;124;43m\"\u001b[39;49m\u001b[43m]\u001b[49m\u001b[43m,\u001b[49m\n\u001b[0;32m    136\u001b[0m \u001b[43m    \u001b[49m\u001b[38;5;28;43mself\u001b[39;49m\u001b[38;5;241;43m.\u001b[39;49m\u001b[43msettings\u001b[49m\u001b[43m[\u001b[49m\u001b[38;5;124;43m\"\u001b[39;49m\u001b[38;5;124;43mhttp_method\u001b[39;49m\u001b[38;5;124;43m\"\u001b[39;49m\u001b[43m]\u001b[49m\u001b[43m,\u001b[49m\n\u001b[0;32m    137\u001b[0m \u001b[43m    \u001b[49m\u001b[43mpath_params\u001b[49m\u001b[38;5;241;43m=\u001b[39;49m\u001b[43mparams\u001b[49m\u001b[43m[\u001b[49m\u001b[38;5;124;43m\"\u001b[39;49m\u001b[38;5;124;43mpath\u001b[39;49m\u001b[38;5;124;43m\"\u001b[39;49m\u001b[43m]\u001b[49m\u001b[43m,\u001b[49m\n\u001b[0;32m    138\u001b[0m \u001b[43m    \u001b[49m\u001b[43mquery_params\u001b[49m\u001b[38;5;241;43m=\u001b[39;49m\u001b[43mparams\u001b[49m\u001b[43m[\u001b[49m\u001b[38;5;124;43m\"\u001b[39;49m\u001b[38;5;124;43mquery\u001b[39;49m\u001b[38;5;124;43m\"\u001b[39;49m\u001b[43m]\u001b[49m\u001b[43m,\u001b[49m\n\u001b[0;32m    139\u001b[0m \u001b[43m    \u001b[49m\u001b[43mheader_params\u001b[49m\u001b[38;5;241;43m=\u001b[39;49m\u001b[43mparams\u001b[49m\u001b[43m[\u001b[49m\u001b[38;5;124;43m\"\u001b[39;49m\u001b[38;5;124;43mheader\u001b[39;49m\u001b[38;5;124;43m\"\u001b[39;49m\u001b[43m]\u001b[49m\u001b[43m,\u001b[49m\n\u001b[0;32m    140\u001b[0m \u001b[43m    \u001b[49m\u001b[43mbody\u001b[49m\u001b[38;5;241;43m=\u001b[39;49m\u001b[43mparams\u001b[49m\u001b[43m[\u001b[49m\u001b[38;5;124;43m\"\u001b[39;49m\u001b[38;5;124;43mbody\u001b[39;49m\u001b[38;5;124;43m\"\u001b[39;49m\u001b[43m]\u001b[49m\u001b[43m,\u001b[49m\n\u001b[0;32m    141\u001b[0m \u001b[43m    \u001b[49m\u001b[43mpost_params\u001b[49m\u001b[38;5;241;43m=\u001b[39;49m\u001b[43mparams\u001b[49m\u001b[43m[\u001b[49m\u001b[38;5;124;43m\"\u001b[39;49m\u001b[38;5;124;43mform\u001b[39;49m\u001b[38;5;124;43m\"\u001b[39;49m\u001b[43m]\u001b[49m\u001b[43m,\u001b[49m\n\u001b[0;32m    142\u001b[0m \u001b[43m    \u001b[49m\u001b[43mfiles\u001b[49m\u001b[38;5;241;43m=\u001b[39;49m\u001b[43mparams\u001b[49m\u001b[43m[\u001b[49m\u001b[38;5;124;43m\"\u001b[39;49m\u001b[38;5;124;43mfile\u001b[39;49m\u001b[38;5;124;43m\"\u001b[39;49m\u001b[43m]\u001b[49m\u001b[43m,\u001b[49m\n\u001b[0;32m    143\u001b[0m \u001b[43m    \u001b[49m\u001b[43mresponse_type\u001b[49m\u001b[38;5;241;43m=\u001b[39;49m\u001b[38;5;28;43mself\u001b[39;49m\u001b[38;5;241;43m.\u001b[39;49m\u001b[43msettings\u001b[49m\u001b[43m[\u001b[49m\u001b[38;5;124;43m\"\u001b[39;49m\u001b[38;5;124;43mresponse_type\u001b[39;49m\u001b[38;5;124;43m\"\u001b[39;49m\u001b[43m]\u001b[49m\u001b[43m,\u001b[49m\n\u001b[0;32m    144\u001b[0m \u001b[43m    \u001b[49m\u001b[43mauth_settings\u001b[49m\u001b[38;5;241;43m=\u001b[39;49m\u001b[38;5;28;43mself\u001b[39;49m\u001b[38;5;241;43m.\u001b[39;49m\u001b[43msettings\u001b[49m\u001b[43m[\u001b[49m\u001b[38;5;124;43m\"\u001b[39;49m\u001b[38;5;124;43mauth\u001b[39;49m\u001b[38;5;124;43m\"\u001b[39;49m\u001b[43m]\u001b[49m\u001b[43m,\u001b[49m\n\u001b[0;32m    145\u001b[0m \u001b[43m    \u001b[49m\u001b[43masync_req\u001b[49m\u001b[38;5;241;43m=\u001b[39;49m\u001b[43mkwargs\u001b[49m\u001b[43m[\u001b[49m\u001b[38;5;124;43m\"\u001b[39;49m\u001b[38;5;124;43masync_req\u001b[39;49m\u001b[38;5;124;43m\"\u001b[39;49m\u001b[43m]\u001b[49m\u001b[43m,\u001b[49m\n\u001b[0;32m    146\u001b[0m \u001b[43m    \u001b[49m\u001b[43masync_threadpool_executor\u001b[49m\u001b[38;5;241;43m=\u001b[39;49m\u001b[43mkwargs\u001b[49m\u001b[38;5;241;43m.\u001b[39;49m\u001b[43mget\u001b[49m\u001b[43m(\u001b[49m\u001b[38;5;124;43m\"\u001b[39;49m\u001b[38;5;124;43masync_threadpool_executor\u001b[39;49m\u001b[38;5;124;43m\"\u001b[39;49m\u001b[43m,\u001b[49m\u001b[43m \u001b[49m\u001b[38;5;28;43;01mNone\u001b[39;49;00m\u001b[43m)\u001b[49m\u001b[43m,\u001b[49m\n\u001b[0;32m    147\u001b[0m \u001b[43m    \u001b[49m\u001b[43m_check_type\u001b[49m\u001b[38;5;241;43m=\u001b[39;49m\u001b[43mkwargs\u001b[49m\u001b[43m[\u001b[49m\u001b[38;5;124;43m\"\u001b[39;49m\u001b[38;5;124;43m_check_return_type\u001b[39;49m\u001b[38;5;124;43m\"\u001b[39;49m\u001b[43m]\u001b[49m\u001b[43m,\u001b[49m\n\u001b[0;32m    148\u001b[0m \u001b[43m    \u001b[49m\u001b[43m_return_http_data_only\u001b[49m\u001b[38;5;241;43m=\u001b[39;49m\u001b[43mkwargs\u001b[49m\u001b[43m[\u001b[49m\u001b[38;5;124;43m\"\u001b[39;49m\u001b[38;5;124;43m_return_http_data_only\u001b[39;49m\u001b[38;5;124;43m\"\u001b[39;49m\u001b[43m]\u001b[49m\u001b[43m,\u001b[49m\n\u001b[0;32m    149\u001b[0m \u001b[43m    \u001b[49m\u001b[43m_preload_content\u001b[49m\u001b[38;5;241;43m=\u001b[39;49m\u001b[43mkwargs\u001b[49m\u001b[43m[\u001b[49m\u001b[38;5;124;43m\"\u001b[39;49m\u001b[38;5;124;43m_preload_content\u001b[39;49m\u001b[38;5;124;43m\"\u001b[39;49m\u001b[43m]\u001b[49m\u001b[43m,\u001b[49m\n\u001b[0;32m    150\u001b[0m \u001b[43m    \u001b[49m\u001b[43m_request_timeout\u001b[49m\u001b[38;5;241;43m=\u001b[39;49m\u001b[43mkwargs\u001b[49m\u001b[43m[\u001b[49m\u001b[38;5;124;43m\"\u001b[39;49m\u001b[38;5;124;43m_request_timeout\u001b[39;49m\u001b[38;5;124;43m\"\u001b[39;49m\u001b[43m]\u001b[49m\u001b[43m,\u001b[49m\n\u001b[0;32m    151\u001b[0m \u001b[43m    \u001b[49m\u001b[43m_host\u001b[49m\u001b[38;5;241;43m=\u001b[39;49m\u001b[43m_host\u001b[49m\u001b[43m,\u001b[49m\n\u001b[0;32m    152\u001b[0m \u001b[43m    \u001b[49m\u001b[43mcollection_formats\u001b[49m\u001b[38;5;241;43m=\u001b[39;49m\u001b[43mparams\u001b[49m\u001b[43m[\u001b[49m\u001b[38;5;124;43m\"\u001b[39;49m\u001b[38;5;124;43mcollection_format\u001b[39;49m\u001b[38;5;124;43m\"\u001b[39;49m\u001b[43m]\u001b[49m\u001b[43m,\u001b[49m\n\u001b[0;32m    153\u001b[0m \u001b[43m\u001b[49m\u001b[43m)\u001b[49m\n",
      "File \u001b[1;32mc:\\Users\\Admin\\miniconda3\\envs\\medibot\\lib\\site-packages\\pinecone\\openapi_support\\api_client.py:300\u001b[0m, in \u001b[0;36mApiClient.call_api\u001b[1;34m(self, resource_path, method, path_params, query_params, header_params, body, post_params, files, response_type, auth_settings, async_req, async_threadpool_executor, _return_http_data_only, collection_formats, _preload_content, _request_timeout, _host, _check_type)\u001b[0m\n\u001b[0;32m    279\u001b[0m     \u001b[38;5;28;01mreturn\u001b[39;00m \u001b[38;5;28mself\u001b[39m\u001b[38;5;241m.\u001b[39mthreadpool_executor\u001b[38;5;241m.\u001b[39msubmit(\n\u001b[0;32m    280\u001b[0m         \u001b[38;5;28mself\u001b[39m\u001b[38;5;241m.\u001b[39m__call_api,\n\u001b[0;32m    281\u001b[0m         resource_path,\n\u001b[1;32m   (...)\u001b[0m\n\u001b[0;32m    296\u001b[0m         _check_type,\n\u001b[0;32m    297\u001b[0m     )\n\u001b[0;32m    299\u001b[0m \u001b[38;5;28;01mif\u001b[39;00m \u001b[38;5;129;01mnot\u001b[39;00m async_req:\n\u001b[1;32m--> 300\u001b[0m     \u001b[38;5;28;01mreturn\u001b[39;00m \u001b[38;5;28;43mself\u001b[39;49m\u001b[38;5;241;43m.\u001b[39;49m\u001b[43m__call_api\u001b[49m\u001b[43m(\u001b[49m\n\u001b[0;32m    301\u001b[0m \u001b[43m        \u001b[49m\u001b[43mresource_path\u001b[49m\u001b[43m,\u001b[49m\n\u001b[0;32m    302\u001b[0m \u001b[43m        \u001b[49m\u001b[43mmethod\u001b[49m\u001b[43m,\u001b[49m\n\u001b[0;32m    303\u001b[0m \u001b[43m        \u001b[49m\u001b[43mpath_params\u001b[49m\u001b[43m,\u001b[49m\n\u001b[0;32m    304\u001b[0m \u001b[43m        \u001b[49m\u001b[43mquery_params\u001b[49m\u001b[43m,\u001b[49m\n\u001b[0;32m    305\u001b[0m \u001b[43m        \u001b[49m\u001b[43mheader_params\u001b[49m\u001b[43m,\u001b[49m\n\u001b[0;32m    306\u001b[0m \u001b[43m        \u001b[49m\u001b[43mbody\u001b[49m\u001b[43m,\u001b[49m\n\u001b[0;32m    307\u001b[0m \u001b[43m        \u001b[49m\u001b[43mpost_params\u001b[49m\u001b[43m,\u001b[49m\n\u001b[0;32m    308\u001b[0m \u001b[43m        \u001b[49m\u001b[43mfiles\u001b[49m\u001b[43m,\u001b[49m\n\u001b[0;32m    309\u001b[0m \u001b[43m        \u001b[49m\u001b[43mresponse_type\u001b[49m\u001b[43m,\u001b[49m\n\u001b[0;32m    310\u001b[0m \u001b[43m        \u001b[49m\u001b[43mauth_settings\u001b[49m\u001b[43m,\u001b[49m\n\u001b[0;32m    311\u001b[0m \u001b[43m        \u001b[49m\u001b[43m_return_http_data_only\u001b[49m\u001b[43m,\u001b[49m\n\u001b[0;32m    312\u001b[0m \u001b[43m        \u001b[49m\u001b[43mcollection_formats\u001b[49m\u001b[43m,\u001b[49m\n\u001b[0;32m    313\u001b[0m \u001b[43m        \u001b[49m\u001b[43m_preload_content\u001b[49m\u001b[43m,\u001b[49m\n\u001b[0;32m    314\u001b[0m \u001b[43m        \u001b[49m\u001b[43m_request_timeout\u001b[49m\u001b[43m,\u001b[49m\n\u001b[0;32m    315\u001b[0m \u001b[43m        \u001b[49m\u001b[43m_host\u001b[49m\u001b[43m,\u001b[49m\n\u001b[0;32m    316\u001b[0m \u001b[43m        \u001b[49m\u001b[43m_check_type\u001b[49m\u001b[43m,\u001b[49m\n\u001b[0;32m    317\u001b[0m \u001b[43m    \u001b[49m\u001b[43m)\u001b[49m\n\u001b[0;32m    319\u001b[0m \u001b[38;5;28;01mreturn\u001b[39;00m \u001b[38;5;28mself\u001b[39m\u001b[38;5;241m.\u001b[39mpool\u001b[38;5;241m.\u001b[39mapply_async(\n\u001b[0;32m    320\u001b[0m     \u001b[38;5;28mself\u001b[39m\u001b[38;5;241m.\u001b[39m__call_api,\n\u001b[0;32m    321\u001b[0m     (\n\u001b[1;32m   (...)\u001b[0m\n\u001b[0;32m    338\u001b[0m     ),\n\u001b[0;32m    339\u001b[0m )\n",
      "File \u001b[1;32mc:\\Users\\Admin\\miniconda3\\envs\\medibot\\lib\\site-packages\\pinecone\\openapi_support\\api_client.py:178\u001b[0m, in \u001b[0;36mApiClient.__call_api\u001b[1;34m(self, resource_path, method, path_params, query_params, header_params, body, post_params, files, response_type, auth_settings, _return_http_data_only, collection_formats, _preload_content, _request_timeout, _host, _check_type)\u001b[0m\n\u001b[0;32m    176\u001b[0m \u001b[38;5;28;01mexcept\u001b[39;00m PineconeApiException \u001b[38;5;28;01mas\u001b[39;00m e:\n\u001b[0;32m    177\u001b[0m     e\u001b[38;5;241m.\u001b[39mbody \u001b[38;5;241m=\u001b[39m e\u001b[38;5;241m.\u001b[39mbody\u001b[38;5;241m.\u001b[39mdecode(\u001b[38;5;124m\"\u001b[39m\u001b[38;5;124mutf-8\u001b[39m\u001b[38;5;124m\"\u001b[39m)\n\u001b[1;32m--> 178\u001b[0m     \u001b[38;5;28;01mraise\u001b[39;00m e\n\u001b[0;32m    180\u001b[0m \u001b[38;5;28mself\u001b[39m\u001b[38;5;241m.\u001b[39mlast_response \u001b[38;5;241m=\u001b[39m response_data\n\u001b[0;32m    182\u001b[0m return_data \u001b[38;5;241m=\u001b[39m response_data\n",
      "File \u001b[1;32mc:\\Users\\Admin\\miniconda3\\envs\\medibot\\lib\\site-packages\\pinecone\\openapi_support\\api_client.py:166\u001b[0m, in \u001b[0;36mApiClient.__call_api\u001b[1;34m(self, resource_path, method, path_params, query_params, header_params, body, post_params, files, response_type, auth_settings, _return_http_data_only, collection_formats, _preload_content, _request_timeout, _host, _check_type)\u001b[0m\n\u001b[0;32m    157\u001b[0m url \u001b[38;5;241m=\u001b[39m build_request_url(\n\u001b[0;32m    158\u001b[0m     config\u001b[38;5;241m=\u001b[39mconfig,\n\u001b[0;32m    159\u001b[0m     processed_path_params\u001b[38;5;241m=\u001b[39mpath_params_tuple,\n\u001b[0;32m    160\u001b[0m     resource_path\u001b[38;5;241m=\u001b[39mresource_path,\n\u001b[0;32m    161\u001b[0m     _host\u001b[38;5;241m=\u001b[39m_host,\n\u001b[0;32m    162\u001b[0m )\n\u001b[0;32m    164\u001b[0m \u001b[38;5;28;01mtry\u001b[39;00m:\n\u001b[0;32m    165\u001b[0m     \u001b[38;5;66;03m# perform request and return response\u001b[39;00m\n\u001b[1;32m--> 166\u001b[0m     response_data \u001b[38;5;241m=\u001b[39m \u001b[38;5;28;43mself\u001b[39;49m\u001b[38;5;241;43m.\u001b[39;49m\u001b[43mrequest\u001b[49m\u001b[43m(\u001b[49m\n\u001b[0;32m    167\u001b[0m \u001b[43m        \u001b[49m\u001b[43mmethod\u001b[49m\u001b[43m,\u001b[49m\n\u001b[0;32m    168\u001b[0m \u001b[43m        \u001b[49m\u001b[43murl\u001b[49m\u001b[43m,\u001b[49m\n\u001b[0;32m    169\u001b[0m \u001b[43m        \u001b[49m\u001b[43mquery_params\u001b[49m\u001b[38;5;241;43m=\u001b[39;49m\u001b[43mprocessed_query_params\u001b[49m\u001b[43m,\u001b[49m\n\u001b[0;32m    170\u001b[0m \u001b[43m        \u001b[49m\u001b[43mheaders\u001b[49m\u001b[38;5;241;43m=\u001b[39;49m\u001b[43mheaders_tuple\u001b[49m\u001b[43m,\u001b[49m\n\u001b[0;32m    171\u001b[0m \u001b[43m        \u001b[49m\u001b[43mpost_params\u001b[49m\u001b[38;5;241;43m=\u001b[39;49m\u001b[43mprocessed_post_params\u001b[49m\u001b[43m,\u001b[49m\n\u001b[0;32m    172\u001b[0m \u001b[43m        \u001b[49m\u001b[43mbody\u001b[49m\u001b[38;5;241;43m=\u001b[39;49m\u001b[43mbody\u001b[49m\u001b[43m,\u001b[49m\n\u001b[0;32m    173\u001b[0m \u001b[43m        \u001b[49m\u001b[43m_preload_content\u001b[49m\u001b[38;5;241;43m=\u001b[39;49m\u001b[43m_preload_content\u001b[49m\u001b[43m,\u001b[49m\n\u001b[0;32m    174\u001b[0m \u001b[43m        \u001b[49m\u001b[43m_request_timeout\u001b[49m\u001b[38;5;241;43m=\u001b[39;49m\u001b[43m_request_timeout\u001b[49m\u001b[43m,\u001b[49m\n\u001b[0;32m    175\u001b[0m \u001b[43m    \u001b[49m\u001b[43m)\u001b[49m\n\u001b[0;32m    176\u001b[0m \u001b[38;5;28;01mexcept\u001b[39;00m PineconeApiException \u001b[38;5;28;01mas\u001b[39;00m e:\n\u001b[0;32m    177\u001b[0m     e\u001b[38;5;241m.\u001b[39mbody \u001b[38;5;241m=\u001b[39m e\u001b[38;5;241m.\u001b[39mbody\u001b[38;5;241m.\u001b[39mdecode(\u001b[38;5;124m\"\u001b[39m\u001b[38;5;124mutf-8\u001b[39m\u001b[38;5;124m\"\u001b[39m)\n",
      "File \u001b[1;32mc:\\Users\\Admin\\miniconda3\\envs\\medibot\\lib\\site-packages\\pinecone\\openapi_support\\api_client.py:380\u001b[0m, in \u001b[0;36mApiClient.request\u001b[1;34m(self, method, url, query_params, headers, post_params, body, _preload_content, _request_timeout)\u001b[0m\n\u001b[0;32m    370\u001b[0m     \u001b[38;5;28;01mreturn\u001b[39;00m \u001b[38;5;28mself\u001b[39m\u001b[38;5;241m.\u001b[39mrest_client\u001b[38;5;241m.\u001b[39mOPTIONS(\n\u001b[0;32m    371\u001b[0m         url,\n\u001b[0;32m    372\u001b[0m         query_params\u001b[38;5;241m=\u001b[39mquery_params,\n\u001b[1;32m   (...)\u001b[0m\n\u001b[0;32m    377\u001b[0m         body\u001b[38;5;241m=\u001b[39mbody,\n\u001b[0;32m    378\u001b[0m     )\n\u001b[0;32m    379\u001b[0m \u001b[38;5;28;01melif\u001b[39;00m method \u001b[38;5;241m==\u001b[39m \u001b[38;5;124m\"\u001b[39m\u001b[38;5;124mPOST\u001b[39m\u001b[38;5;124m\"\u001b[39m:\n\u001b[1;32m--> 380\u001b[0m     \u001b[38;5;28;01mreturn\u001b[39;00m \u001b[38;5;28;43mself\u001b[39;49m\u001b[38;5;241;43m.\u001b[39;49m\u001b[43mrest_client\u001b[49m\u001b[38;5;241;43m.\u001b[39;49m\u001b[43mPOST\u001b[49m\u001b[43m(\u001b[49m\n\u001b[0;32m    381\u001b[0m \u001b[43m        \u001b[49m\u001b[43murl\u001b[49m\u001b[43m,\u001b[49m\n\u001b[0;32m    382\u001b[0m \u001b[43m        \u001b[49m\u001b[43mquery_params\u001b[49m\u001b[38;5;241;43m=\u001b[39;49m\u001b[43mquery_params\u001b[49m\u001b[43m,\u001b[49m\n\u001b[0;32m    383\u001b[0m \u001b[43m        \u001b[49m\u001b[43mheaders\u001b[49m\u001b[38;5;241;43m=\u001b[39;49m\u001b[43mheaders\u001b[49m\u001b[43m,\u001b[49m\n\u001b[0;32m    384\u001b[0m \u001b[43m        \u001b[49m\u001b[43mpost_params\u001b[49m\u001b[38;5;241;43m=\u001b[39;49m\u001b[43mpost_params\u001b[49m\u001b[43m,\u001b[49m\n\u001b[0;32m    385\u001b[0m \u001b[43m        \u001b[49m\u001b[43m_preload_content\u001b[49m\u001b[38;5;241;43m=\u001b[39;49m\u001b[43m_preload_content\u001b[49m\u001b[43m,\u001b[49m\n\u001b[0;32m    386\u001b[0m \u001b[43m        \u001b[49m\u001b[43m_request_timeout\u001b[49m\u001b[38;5;241;43m=\u001b[39;49m\u001b[43m_request_timeout\u001b[49m\u001b[43m,\u001b[49m\n\u001b[0;32m    387\u001b[0m \u001b[43m        \u001b[49m\u001b[43mbody\u001b[49m\u001b[38;5;241;43m=\u001b[39;49m\u001b[43mbody\u001b[49m\u001b[43m,\u001b[49m\n\u001b[0;32m    388\u001b[0m \u001b[43m    \u001b[49m\u001b[43m)\u001b[49m\n\u001b[0;32m    389\u001b[0m \u001b[38;5;28;01melif\u001b[39;00m method \u001b[38;5;241m==\u001b[39m \u001b[38;5;124m\"\u001b[39m\u001b[38;5;124mPUT\u001b[39m\u001b[38;5;124m\"\u001b[39m:\n\u001b[0;32m    390\u001b[0m     \u001b[38;5;28;01mreturn\u001b[39;00m \u001b[38;5;28mself\u001b[39m\u001b[38;5;241m.\u001b[39mrest_client\u001b[38;5;241m.\u001b[39mPUT(\n\u001b[0;32m    391\u001b[0m         url,\n\u001b[0;32m    392\u001b[0m         query_params\u001b[38;5;241m=\u001b[39mquery_params,\n\u001b[1;32m   (...)\u001b[0m\n\u001b[0;32m    397\u001b[0m         body\u001b[38;5;241m=\u001b[39mbody,\n\u001b[0;32m    398\u001b[0m     )\n",
      "File \u001b[1;32mc:\\Users\\Admin\\miniconda3\\envs\\medibot\\lib\\site-packages\\pinecone\\openapi_support\\rest_utils.py:146\u001b[0m, in \u001b[0;36mRestClientInterface.POST\u001b[1;34m(self, url, headers, query_params, post_params, body, _preload_content, _request_timeout)\u001b[0m\n\u001b[0;32m    136\u001b[0m \u001b[38;5;28;01mdef\u001b[39;00m\u001b[38;5;250m \u001b[39m\u001b[38;5;21mPOST\u001b[39m(\n\u001b[0;32m    137\u001b[0m     \u001b[38;5;28mself\u001b[39m,\n\u001b[0;32m    138\u001b[0m     url,\n\u001b[1;32m   (...)\u001b[0m\n\u001b[0;32m    144\u001b[0m     _request_timeout\u001b[38;5;241m=\u001b[39m\u001b[38;5;28;01mNone\u001b[39;00m,\n\u001b[0;32m    145\u001b[0m ):\n\u001b[1;32m--> 146\u001b[0m     \u001b[38;5;28;01mreturn\u001b[39;00m \u001b[38;5;28;43mself\u001b[39;49m\u001b[38;5;241;43m.\u001b[39;49m\u001b[43mrequest\u001b[49m\u001b[43m(\u001b[49m\n\u001b[0;32m    147\u001b[0m \u001b[43m        \u001b[49m\u001b[38;5;124;43m\"\u001b[39;49m\u001b[38;5;124;43mPOST\u001b[39;49m\u001b[38;5;124;43m\"\u001b[39;49m\u001b[43m,\u001b[49m\n\u001b[0;32m    148\u001b[0m \u001b[43m        \u001b[49m\u001b[43murl\u001b[49m\u001b[43m,\u001b[49m\n\u001b[0;32m    149\u001b[0m \u001b[43m        \u001b[49m\u001b[43mheaders\u001b[49m\u001b[38;5;241;43m=\u001b[39;49m\u001b[43mheaders\u001b[49m\u001b[43m,\u001b[49m\n\u001b[0;32m    150\u001b[0m \u001b[43m        \u001b[49m\u001b[43mquery_params\u001b[49m\u001b[38;5;241;43m=\u001b[39;49m\u001b[43mquery_params\u001b[49m\u001b[43m,\u001b[49m\n\u001b[0;32m    151\u001b[0m \u001b[43m        \u001b[49m\u001b[43mpost_params\u001b[49m\u001b[38;5;241;43m=\u001b[39;49m\u001b[43mpost_params\u001b[49m\u001b[43m,\u001b[49m\n\u001b[0;32m    152\u001b[0m \u001b[43m        \u001b[49m\u001b[43m_preload_content\u001b[49m\u001b[38;5;241;43m=\u001b[39;49m\u001b[43m_preload_content\u001b[49m\u001b[43m,\u001b[49m\n\u001b[0;32m    153\u001b[0m \u001b[43m        \u001b[49m\u001b[43m_request_timeout\u001b[49m\u001b[38;5;241;43m=\u001b[39;49m\u001b[43m_request_timeout\u001b[49m\u001b[43m,\u001b[49m\n\u001b[0;32m    154\u001b[0m \u001b[43m        \u001b[49m\u001b[43mbody\u001b[49m\u001b[38;5;241;43m=\u001b[39;49m\u001b[43mbody\u001b[49m\u001b[43m,\u001b[49m\n\u001b[0;32m    155\u001b[0m \u001b[43m    \u001b[49m\u001b[43m)\u001b[49m\n",
      "File \u001b[1;32mc:\\Users\\Admin\\miniconda3\\envs\\medibot\\lib\\site-packages\\pinecone\\openapi_support\\rest_urllib3.py:260\u001b[0m, in \u001b[0;36mUrllib3RestClient.request\u001b[1;34m(self, method, url, query_params, headers, body, post_params, _preload_content, _request_timeout)\u001b[0m\n\u001b[0;32m    257\u001b[0m     \u001b[38;5;66;03m# log response body\u001b[39;00m\n\u001b[0;32m    258\u001b[0m     logger\u001b[38;5;241m.\u001b[39mdebug(\u001b[38;5;124m\"\u001b[39m\u001b[38;5;124mresponse body: \u001b[39m\u001b[38;5;132;01m%s\u001b[39;00m\u001b[38;5;124m\"\u001b[39m, r\u001b[38;5;241m.\u001b[39mdata)\n\u001b[1;32m--> 260\u001b[0m \u001b[38;5;28;01mreturn\u001b[39;00m \u001b[43mraise_exceptions_or_return\u001b[49m\u001b[43m(\u001b[49m\u001b[43mr\u001b[49m\u001b[43m)\u001b[49m\n",
      "File \u001b[1;32mc:\\Users\\Admin\\miniconda3\\envs\\medibot\\lib\\site-packages\\pinecone\\openapi_support\\rest_utils.py:49\u001b[0m, in \u001b[0;36mraise_exceptions_or_return\u001b[1;34m(r)\u001b[0m\n\u001b[0;32m     46\u001b[0m     \u001b[38;5;28;01mif\u001b[39;00m \u001b[38;5;241m500\u001b[39m \u001b[38;5;241m<\u001b[39m\u001b[38;5;241m=\u001b[39m r\u001b[38;5;241m.\u001b[39mstatus \u001b[38;5;241m<\u001b[39m\u001b[38;5;241m=\u001b[39m \u001b[38;5;241m599\u001b[39m:\n\u001b[0;32m     47\u001b[0m         \u001b[38;5;28;01mraise\u001b[39;00m ServiceException(http_resp\u001b[38;5;241m=\u001b[39mr)\n\u001b[1;32m---> 49\u001b[0m     \u001b[38;5;28;01mraise\u001b[39;00m PineconeApiException(http_resp\u001b[38;5;241m=\u001b[39mr)\n\u001b[0;32m     51\u001b[0m \u001b[38;5;28;01mreturn\u001b[39;00m r\n",
      "\u001b[1;31mPineconeApiException\u001b[0m: (400)\nReason: Bad Request\nHTTP response headers: HTTPHeaderDict({'content-type': 'text/plain; charset=utf-8', 'access-control-allow-origin': '*', 'vary': 'origin,access-control-request-method,access-control-request-headers', 'access-control-expose-headers': '*', 'x-pinecone-api-version': '2025-01', 'x-cloud-trace-context': 'b218a2b0e8c47316d87c276d64af8701', 'date': 'Mon, 28 Apr 2025 19:16:34 GMT', 'server': 'Google Frontend', 'Content-Length': '125', 'Via': '1.1 google', 'Alt-Svc': 'h3=\":443\"; ma=2592000,h3-29=\":443\"; ma=2592000'})\nHTTP response body: {\"error\":{\"code\":\"INVALID_ARGUMENT\",\"message\":\"Name must consist of lower case alphanumeric characters or '-'\"},\"status\":400}\n"
     ]
    }
   ],
   "source": [
    "# index_name = \"MatriBot\"\n",
    "\n",
    "# pc.create_index(\n",
    "#     name=index_name,\n",
    "#     dimension=384, # Replace with your model dimensions\n",
    "#     metric=\"cosine\", # Replace with your model metric\n",
    "#     spec=ServerlessSpec(\n",
    "#         cloud=\"aws\",\n",
    "#         region=\"us-east-1\"\n",
    "#     ) \n",
    "# )"
   ]
  },
  {
   "cell_type": "code",
   "execution_count": null,
   "id": "822b0c4e",
   "metadata": {},
   "outputs": [],
   "source": [
    "# from pinecone import Pinecone, ServerlessSpec\n",
    "\n",
    "# pc = Pinecone(api_key=\"pcsk_4GEtY5_3SpouDjoxsjHc17apP6FsWZcNXdBJT89U3Us4J8pnkBQTpY7w6Za9WTZZZduE2Y\")"
   ]
  },
  {
   "cell_type": "code",
   "execution_count": null,
   "id": "3e706511",
   "metadata": {},
   "outputs": [
    {
     "ename": "PineconeApiException",
     "evalue": "(400)\nReason: Bad Request\nHTTP response headers: HTTPHeaderDict({'content-type': 'text/plain; charset=utf-8', 'access-control-allow-origin': '*', 'vary': 'origin,access-control-request-method,access-control-request-headers', 'access-control-expose-headers': '*', 'x-pinecone-api-version': '2025-01', 'x-cloud-trace-context': '099654fe1b79838bd574f0e2dd288d4f', 'date': 'Mon, 28 Apr 2025 19:17:59 GMT', 'server': 'Google Frontend', 'Content-Length': '125', 'Via': '1.1 google', 'Alt-Svc': 'h3=\":443\"; ma=2592000,h3-29=\":443\"; ma=2592000'})\nHTTP response body: {\"error\":{\"code\":\"INVALID_ARGUMENT\",\"message\":\"Name must consist of lower case alphanumeric characters or '-'\"},\"status\":400}\n",
     "output_type": "error",
     "traceback": [
      "\u001b[1;31m---------------------------------------------------------------------------\u001b[0m",
      "\u001b[1;31mPineconeApiException\u001b[0m                      Traceback (most recent call last)",
      "Cell \u001b[1;32mIn[75], line 3\u001b[0m\n\u001b[0;32m      1\u001b[0m index_name \u001b[38;5;241m=\u001b[39m \u001b[38;5;124m\"\u001b[39m\u001b[38;5;124mMatriBot\u001b[39m\u001b[38;5;124m\"\u001b[39m\n\u001b[1;32m----> 3\u001b[0m \u001b[43mpc\u001b[49m\u001b[38;5;241;43m.\u001b[39;49m\u001b[43mcreate_index\u001b[49m\u001b[43m(\u001b[49m\n\u001b[0;32m      4\u001b[0m \u001b[43m    \u001b[49m\u001b[43mname\u001b[49m\u001b[38;5;241;43m=\u001b[39;49m\u001b[43mindex_name\u001b[49m\u001b[43m,\u001b[49m\n\u001b[0;32m      5\u001b[0m \u001b[43m    \u001b[49m\u001b[43mdimension\u001b[49m\u001b[38;5;241;43m=\u001b[39;49m\u001b[38;5;241;43m384\u001b[39;49m\u001b[43m,\u001b[49m\u001b[43m \u001b[49m\u001b[38;5;66;43;03m# Replace with your model dimensions\u001b[39;49;00m\n\u001b[0;32m      6\u001b[0m \u001b[43m    \u001b[49m\u001b[43mmetric\u001b[49m\u001b[38;5;241;43m=\u001b[39;49m\u001b[38;5;124;43m\"\u001b[39;49m\u001b[38;5;124;43mcosine\u001b[39;49m\u001b[38;5;124;43m\"\u001b[39;49m\u001b[43m,\u001b[49m\u001b[43m \u001b[49m\u001b[38;5;66;43;03m# Replace with your model metric\u001b[39;49;00m\n\u001b[0;32m      7\u001b[0m \u001b[43m    \u001b[49m\u001b[43mspec\u001b[49m\u001b[38;5;241;43m=\u001b[39;49m\u001b[43mServerlessSpec\u001b[49m\u001b[43m(\u001b[49m\n\u001b[0;32m      8\u001b[0m \u001b[43m        \u001b[49m\u001b[43mcloud\u001b[49m\u001b[38;5;241;43m=\u001b[39;49m\u001b[38;5;124;43m\"\u001b[39;49m\u001b[38;5;124;43maws\u001b[39;49m\u001b[38;5;124;43m\"\u001b[39;49m\u001b[43m,\u001b[49m\n\u001b[0;32m      9\u001b[0m \u001b[43m        \u001b[49m\u001b[43mregion\u001b[49m\u001b[38;5;241;43m=\u001b[39;49m\u001b[38;5;124;43m\"\u001b[39;49m\u001b[38;5;124;43mus-east-1\u001b[39;49m\u001b[38;5;124;43m\"\u001b[39;49m\n\u001b[0;32m     10\u001b[0m \u001b[43m    \u001b[49m\u001b[43m)\u001b[49m\u001b[43m \u001b[49m\n\u001b[0;32m     11\u001b[0m \u001b[43m)\u001b[49m\n",
      "File \u001b[1;32mc:\\Users\\Admin\\miniconda3\\envs\\medibot\\lib\\site-packages\\pinecone\\control\\pinecone.py:143\u001b[0m, in \u001b[0;36mPinecone.create_index\u001b[1;34m(self, name, spec, dimension, metric, timeout, deletion_protection, vector_type, tags)\u001b[0m\n\u001b[0;32m    123\u001b[0m \u001b[38;5;28;01mdef\u001b[39;00m\u001b[38;5;250m \u001b[39m\u001b[38;5;21mcreate_index\u001b[39m(\n\u001b[0;32m    124\u001b[0m     \u001b[38;5;28mself\u001b[39m,\n\u001b[0;32m    125\u001b[0m     name: \u001b[38;5;28mstr\u001b[39m,\n\u001b[1;32m   (...)\u001b[0m\n\u001b[0;32m    132\u001b[0m     tags: Optional[Dict[\u001b[38;5;28mstr\u001b[39m, \u001b[38;5;28mstr\u001b[39m]] \u001b[38;5;241m=\u001b[39m \u001b[38;5;28;01mNone\u001b[39;00m,\n\u001b[0;32m    133\u001b[0m ) \u001b[38;5;241m-\u001b[39m\u001b[38;5;241m>\u001b[39m IndexModel:\n\u001b[0;32m    134\u001b[0m     req \u001b[38;5;241m=\u001b[39m PineconeDBControlRequestFactory\u001b[38;5;241m.\u001b[39mcreate_index_request(\n\u001b[0;32m    135\u001b[0m         name\u001b[38;5;241m=\u001b[39mname,\n\u001b[0;32m    136\u001b[0m         spec\u001b[38;5;241m=\u001b[39mspec,\n\u001b[1;32m   (...)\u001b[0m\n\u001b[0;32m    141\u001b[0m         tags\u001b[38;5;241m=\u001b[39mtags,\n\u001b[0;32m    142\u001b[0m     )\n\u001b[1;32m--> 143\u001b[0m     resp \u001b[38;5;241m=\u001b[39m \u001b[38;5;28;43mself\u001b[39;49m\u001b[38;5;241;43m.\u001b[39;49m\u001b[43mindex_api\u001b[49m\u001b[38;5;241;43m.\u001b[39;49m\u001b[43mcreate_index\u001b[49m\u001b[43m(\u001b[49m\u001b[43mcreate_index_request\u001b[49m\u001b[38;5;241;43m=\u001b[39;49m\u001b[43mreq\u001b[49m\u001b[43m)\u001b[49m\n\u001b[0;32m    145\u001b[0m     \u001b[38;5;28;01mif\u001b[39;00m timeout \u001b[38;5;241m==\u001b[39m \u001b[38;5;241m-\u001b[39m\u001b[38;5;241m1\u001b[39m:\n\u001b[0;32m    146\u001b[0m         \u001b[38;5;28;01mreturn\u001b[39;00m IndexModel(resp)\n",
      "File \u001b[1;32mc:\\Users\\Admin\\miniconda3\\envs\\medibot\\lib\\site-packages\\pinecone\\openapi_support\\endpoint.py:102\u001b[0m, in \u001b[0;36mEndpoint.__call__\u001b[1;34m(self, *args, **kwargs)\u001b[0m\n\u001b[0;32m     91\u001b[0m \u001b[38;5;28;01mdef\u001b[39;00m\u001b[38;5;250m \u001b[39m\u001b[38;5;21m__call__\u001b[39m(\u001b[38;5;28mself\u001b[39m, \u001b[38;5;241m*\u001b[39margs, \u001b[38;5;241m*\u001b[39m\u001b[38;5;241m*\u001b[39mkwargs):\n\u001b[0;32m     92\u001b[0m \u001b[38;5;250m    \u001b[39m\u001b[38;5;124;03m\"\"\"This method is invoked when endpoints are called\u001b[39;00m\n\u001b[0;32m     93\u001b[0m \u001b[38;5;124;03m    Example:\u001b[39;00m\n\u001b[0;32m     94\u001b[0m \n\u001b[1;32m   (...)\u001b[0m\n\u001b[0;32m    100\u001b[0m \n\u001b[0;32m    101\u001b[0m \u001b[38;5;124;03m    \"\"\"\u001b[39;00m\n\u001b[1;32m--> 102\u001b[0m     \u001b[38;5;28;01mreturn\u001b[39;00m \u001b[38;5;28mself\u001b[39m\u001b[38;5;241m.\u001b[39mcallable(\u001b[38;5;28mself\u001b[39m, \u001b[38;5;241m*\u001b[39margs, \u001b[38;5;241m*\u001b[39m\u001b[38;5;241m*\u001b[39mkwargs)\n",
      "File \u001b[1;32mc:\\Users\\Admin\\miniconda3\\envs\\medibot\\lib\\site-packages\\pinecone\\core\\openapi\\db_control\\api\\manage_indexes_api.py:235\u001b[0m, in \u001b[0;36mManageIndexesApi.__init__.<locals>.__create_index\u001b[1;34m(self, create_index_request, **kwargs)\u001b[0m\n\u001b[0;32m    233\u001b[0m kwargs \u001b[38;5;241m=\u001b[39m \u001b[38;5;28mself\u001b[39m\u001b[38;5;241m.\u001b[39m_process_openapi_kwargs(kwargs)\n\u001b[0;32m    234\u001b[0m kwargs[\u001b[38;5;124m\"\u001b[39m\u001b[38;5;124mcreate_index_request\u001b[39m\u001b[38;5;124m\"\u001b[39m] \u001b[38;5;241m=\u001b[39m create_index_request\n\u001b[1;32m--> 235\u001b[0m \u001b[38;5;28;01mreturn\u001b[39;00m \u001b[38;5;28mself\u001b[39m\u001b[38;5;241m.\u001b[39mcall_with_http_info(\u001b[38;5;241m*\u001b[39m\u001b[38;5;241m*\u001b[39mkwargs)\n",
      "File \u001b[1;32mc:\\Users\\Admin\\miniconda3\\envs\\medibot\\lib\\site-packages\\pinecone\\openapi_support\\endpoint.py:134\u001b[0m, in \u001b[0;36mEndpoint.call_with_http_info\u001b[1;34m(self, **kwargs)\u001b[0m\n\u001b[0;32m    124\u001b[0m params \u001b[38;5;241m=\u001b[39m EndpointUtils\u001b[38;5;241m.\u001b[39mgather_params(\n\u001b[0;32m    125\u001b[0m     attribute_map\u001b[38;5;241m=\u001b[39m\u001b[38;5;28mself\u001b[39m\u001b[38;5;241m.\u001b[39mattribute_map,\n\u001b[0;32m    126\u001b[0m     location_map\u001b[38;5;241m=\u001b[39m\u001b[38;5;28mself\u001b[39m\u001b[38;5;241m.\u001b[39mlocation_map,\n\u001b[1;32m   (...)\u001b[0m\n\u001b[0;32m    129\u001b[0m     kwargs\u001b[38;5;241m=\u001b[39mkwargs,\n\u001b[0;32m    130\u001b[0m )\n\u001b[0;32m    132\u001b[0m HeaderUtil\u001b[38;5;241m.\u001b[39mprepare_headers(headers_map\u001b[38;5;241m=\u001b[39m\u001b[38;5;28mself\u001b[39m\u001b[38;5;241m.\u001b[39mheaders_map, params\u001b[38;5;241m=\u001b[39mparams)\n\u001b[1;32m--> 134\u001b[0m \u001b[38;5;28;01mreturn\u001b[39;00m \u001b[38;5;28;43mself\u001b[39;49m\u001b[38;5;241;43m.\u001b[39;49m\u001b[43mapi_client\u001b[49m\u001b[38;5;241;43m.\u001b[39;49m\u001b[43mcall_api\u001b[49m\u001b[43m(\u001b[49m\n\u001b[0;32m    135\u001b[0m \u001b[43m    \u001b[49m\u001b[38;5;28;43mself\u001b[39;49m\u001b[38;5;241;43m.\u001b[39;49m\u001b[43msettings\u001b[49m\u001b[43m[\u001b[49m\u001b[38;5;124;43m\"\u001b[39;49m\u001b[38;5;124;43mendpoint_path\u001b[39;49m\u001b[38;5;124;43m\"\u001b[39;49m\u001b[43m]\u001b[49m\u001b[43m,\u001b[49m\n\u001b[0;32m    136\u001b[0m \u001b[43m    \u001b[49m\u001b[38;5;28;43mself\u001b[39;49m\u001b[38;5;241;43m.\u001b[39;49m\u001b[43msettings\u001b[49m\u001b[43m[\u001b[49m\u001b[38;5;124;43m\"\u001b[39;49m\u001b[38;5;124;43mhttp_method\u001b[39;49m\u001b[38;5;124;43m\"\u001b[39;49m\u001b[43m]\u001b[49m\u001b[43m,\u001b[49m\n\u001b[0;32m    137\u001b[0m \u001b[43m    \u001b[49m\u001b[43mpath_params\u001b[49m\u001b[38;5;241;43m=\u001b[39;49m\u001b[43mparams\u001b[49m\u001b[43m[\u001b[49m\u001b[38;5;124;43m\"\u001b[39;49m\u001b[38;5;124;43mpath\u001b[39;49m\u001b[38;5;124;43m\"\u001b[39;49m\u001b[43m]\u001b[49m\u001b[43m,\u001b[49m\n\u001b[0;32m    138\u001b[0m \u001b[43m    \u001b[49m\u001b[43mquery_params\u001b[49m\u001b[38;5;241;43m=\u001b[39;49m\u001b[43mparams\u001b[49m\u001b[43m[\u001b[49m\u001b[38;5;124;43m\"\u001b[39;49m\u001b[38;5;124;43mquery\u001b[39;49m\u001b[38;5;124;43m\"\u001b[39;49m\u001b[43m]\u001b[49m\u001b[43m,\u001b[49m\n\u001b[0;32m    139\u001b[0m \u001b[43m    \u001b[49m\u001b[43mheader_params\u001b[49m\u001b[38;5;241;43m=\u001b[39;49m\u001b[43mparams\u001b[49m\u001b[43m[\u001b[49m\u001b[38;5;124;43m\"\u001b[39;49m\u001b[38;5;124;43mheader\u001b[39;49m\u001b[38;5;124;43m\"\u001b[39;49m\u001b[43m]\u001b[49m\u001b[43m,\u001b[49m\n\u001b[0;32m    140\u001b[0m \u001b[43m    \u001b[49m\u001b[43mbody\u001b[49m\u001b[38;5;241;43m=\u001b[39;49m\u001b[43mparams\u001b[49m\u001b[43m[\u001b[49m\u001b[38;5;124;43m\"\u001b[39;49m\u001b[38;5;124;43mbody\u001b[39;49m\u001b[38;5;124;43m\"\u001b[39;49m\u001b[43m]\u001b[49m\u001b[43m,\u001b[49m\n\u001b[0;32m    141\u001b[0m \u001b[43m    \u001b[49m\u001b[43mpost_params\u001b[49m\u001b[38;5;241;43m=\u001b[39;49m\u001b[43mparams\u001b[49m\u001b[43m[\u001b[49m\u001b[38;5;124;43m\"\u001b[39;49m\u001b[38;5;124;43mform\u001b[39;49m\u001b[38;5;124;43m\"\u001b[39;49m\u001b[43m]\u001b[49m\u001b[43m,\u001b[49m\n\u001b[0;32m    142\u001b[0m \u001b[43m    \u001b[49m\u001b[43mfiles\u001b[49m\u001b[38;5;241;43m=\u001b[39;49m\u001b[43mparams\u001b[49m\u001b[43m[\u001b[49m\u001b[38;5;124;43m\"\u001b[39;49m\u001b[38;5;124;43mfile\u001b[39;49m\u001b[38;5;124;43m\"\u001b[39;49m\u001b[43m]\u001b[49m\u001b[43m,\u001b[49m\n\u001b[0;32m    143\u001b[0m \u001b[43m    \u001b[49m\u001b[43mresponse_type\u001b[49m\u001b[38;5;241;43m=\u001b[39;49m\u001b[38;5;28;43mself\u001b[39;49m\u001b[38;5;241;43m.\u001b[39;49m\u001b[43msettings\u001b[49m\u001b[43m[\u001b[49m\u001b[38;5;124;43m\"\u001b[39;49m\u001b[38;5;124;43mresponse_type\u001b[39;49m\u001b[38;5;124;43m\"\u001b[39;49m\u001b[43m]\u001b[49m\u001b[43m,\u001b[49m\n\u001b[0;32m    144\u001b[0m \u001b[43m    \u001b[49m\u001b[43mauth_settings\u001b[49m\u001b[38;5;241;43m=\u001b[39;49m\u001b[38;5;28;43mself\u001b[39;49m\u001b[38;5;241;43m.\u001b[39;49m\u001b[43msettings\u001b[49m\u001b[43m[\u001b[49m\u001b[38;5;124;43m\"\u001b[39;49m\u001b[38;5;124;43mauth\u001b[39;49m\u001b[38;5;124;43m\"\u001b[39;49m\u001b[43m]\u001b[49m\u001b[43m,\u001b[49m\n\u001b[0;32m    145\u001b[0m \u001b[43m    \u001b[49m\u001b[43masync_req\u001b[49m\u001b[38;5;241;43m=\u001b[39;49m\u001b[43mkwargs\u001b[49m\u001b[43m[\u001b[49m\u001b[38;5;124;43m\"\u001b[39;49m\u001b[38;5;124;43masync_req\u001b[39;49m\u001b[38;5;124;43m\"\u001b[39;49m\u001b[43m]\u001b[49m\u001b[43m,\u001b[49m\n\u001b[0;32m    146\u001b[0m \u001b[43m    \u001b[49m\u001b[43masync_threadpool_executor\u001b[49m\u001b[38;5;241;43m=\u001b[39;49m\u001b[43mkwargs\u001b[49m\u001b[38;5;241;43m.\u001b[39;49m\u001b[43mget\u001b[49m\u001b[43m(\u001b[49m\u001b[38;5;124;43m\"\u001b[39;49m\u001b[38;5;124;43masync_threadpool_executor\u001b[39;49m\u001b[38;5;124;43m\"\u001b[39;49m\u001b[43m,\u001b[49m\u001b[43m \u001b[49m\u001b[38;5;28;43;01mNone\u001b[39;49;00m\u001b[43m)\u001b[49m\u001b[43m,\u001b[49m\n\u001b[0;32m    147\u001b[0m \u001b[43m    \u001b[49m\u001b[43m_check_type\u001b[49m\u001b[38;5;241;43m=\u001b[39;49m\u001b[43mkwargs\u001b[49m\u001b[43m[\u001b[49m\u001b[38;5;124;43m\"\u001b[39;49m\u001b[38;5;124;43m_check_return_type\u001b[39;49m\u001b[38;5;124;43m\"\u001b[39;49m\u001b[43m]\u001b[49m\u001b[43m,\u001b[49m\n\u001b[0;32m    148\u001b[0m \u001b[43m    \u001b[49m\u001b[43m_return_http_data_only\u001b[49m\u001b[38;5;241;43m=\u001b[39;49m\u001b[43mkwargs\u001b[49m\u001b[43m[\u001b[49m\u001b[38;5;124;43m\"\u001b[39;49m\u001b[38;5;124;43m_return_http_data_only\u001b[39;49m\u001b[38;5;124;43m\"\u001b[39;49m\u001b[43m]\u001b[49m\u001b[43m,\u001b[49m\n\u001b[0;32m    149\u001b[0m \u001b[43m    \u001b[49m\u001b[43m_preload_content\u001b[49m\u001b[38;5;241;43m=\u001b[39;49m\u001b[43mkwargs\u001b[49m\u001b[43m[\u001b[49m\u001b[38;5;124;43m\"\u001b[39;49m\u001b[38;5;124;43m_preload_content\u001b[39;49m\u001b[38;5;124;43m\"\u001b[39;49m\u001b[43m]\u001b[49m\u001b[43m,\u001b[49m\n\u001b[0;32m    150\u001b[0m \u001b[43m    \u001b[49m\u001b[43m_request_timeout\u001b[49m\u001b[38;5;241;43m=\u001b[39;49m\u001b[43mkwargs\u001b[49m\u001b[43m[\u001b[49m\u001b[38;5;124;43m\"\u001b[39;49m\u001b[38;5;124;43m_request_timeout\u001b[39;49m\u001b[38;5;124;43m\"\u001b[39;49m\u001b[43m]\u001b[49m\u001b[43m,\u001b[49m\n\u001b[0;32m    151\u001b[0m \u001b[43m    \u001b[49m\u001b[43m_host\u001b[49m\u001b[38;5;241;43m=\u001b[39;49m\u001b[43m_host\u001b[49m\u001b[43m,\u001b[49m\n\u001b[0;32m    152\u001b[0m \u001b[43m    \u001b[49m\u001b[43mcollection_formats\u001b[49m\u001b[38;5;241;43m=\u001b[39;49m\u001b[43mparams\u001b[49m\u001b[43m[\u001b[49m\u001b[38;5;124;43m\"\u001b[39;49m\u001b[38;5;124;43mcollection_format\u001b[39;49m\u001b[38;5;124;43m\"\u001b[39;49m\u001b[43m]\u001b[49m\u001b[43m,\u001b[49m\n\u001b[0;32m    153\u001b[0m \u001b[43m\u001b[49m\u001b[43m)\u001b[49m\n",
      "File \u001b[1;32mc:\\Users\\Admin\\miniconda3\\envs\\medibot\\lib\\site-packages\\pinecone\\openapi_support\\api_client.py:300\u001b[0m, in \u001b[0;36mApiClient.call_api\u001b[1;34m(self, resource_path, method, path_params, query_params, header_params, body, post_params, files, response_type, auth_settings, async_req, async_threadpool_executor, _return_http_data_only, collection_formats, _preload_content, _request_timeout, _host, _check_type)\u001b[0m\n\u001b[0;32m    279\u001b[0m     \u001b[38;5;28;01mreturn\u001b[39;00m \u001b[38;5;28mself\u001b[39m\u001b[38;5;241m.\u001b[39mthreadpool_executor\u001b[38;5;241m.\u001b[39msubmit(\n\u001b[0;32m    280\u001b[0m         \u001b[38;5;28mself\u001b[39m\u001b[38;5;241m.\u001b[39m__call_api,\n\u001b[0;32m    281\u001b[0m         resource_path,\n\u001b[1;32m   (...)\u001b[0m\n\u001b[0;32m    296\u001b[0m         _check_type,\n\u001b[0;32m    297\u001b[0m     )\n\u001b[0;32m    299\u001b[0m \u001b[38;5;28;01mif\u001b[39;00m \u001b[38;5;129;01mnot\u001b[39;00m async_req:\n\u001b[1;32m--> 300\u001b[0m     \u001b[38;5;28;01mreturn\u001b[39;00m \u001b[38;5;28;43mself\u001b[39;49m\u001b[38;5;241;43m.\u001b[39;49m\u001b[43m__call_api\u001b[49m\u001b[43m(\u001b[49m\n\u001b[0;32m    301\u001b[0m \u001b[43m        \u001b[49m\u001b[43mresource_path\u001b[49m\u001b[43m,\u001b[49m\n\u001b[0;32m    302\u001b[0m \u001b[43m        \u001b[49m\u001b[43mmethod\u001b[49m\u001b[43m,\u001b[49m\n\u001b[0;32m    303\u001b[0m \u001b[43m        \u001b[49m\u001b[43mpath_params\u001b[49m\u001b[43m,\u001b[49m\n\u001b[0;32m    304\u001b[0m \u001b[43m        \u001b[49m\u001b[43mquery_params\u001b[49m\u001b[43m,\u001b[49m\n\u001b[0;32m    305\u001b[0m \u001b[43m        \u001b[49m\u001b[43mheader_params\u001b[49m\u001b[43m,\u001b[49m\n\u001b[0;32m    306\u001b[0m \u001b[43m        \u001b[49m\u001b[43mbody\u001b[49m\u001b[43m,\u001b[49m\n\u001b[0;32m    307\u001b[0m \u001b[43m        \u001b[49m\u001b[43mpost_params\u001b[49m\u001b[43m,\u001b[49m\n\u001b[0;32m    308\u001b[0m \u001b[43m        \u001b[49m\u001b[43mfiles\u001b[49m\u001b[43m,\u001b[49m\n\u001b[0;32m    309\u001b[0m \u001b[43m        \u001b[49m\u001b[43mresponse_type\u001b[49m\u001b[43m,\u001b[49m\n\u001b[0;32m    310\u001b[0m \u001b[43m        \u001b[49m\u001b[43mauth_settings\u001b[49m\u001b[43m,\u001b[49m\n\u001b[0;32m    311\u001b[0m \u001b[43m        \u001b[49m\u001b[43m_return_http_data_only\u001b[49m\u001b[43m,\u001b[49m\n\u001b[0;32m    312\u001b[0m \u001b[43m        \u001b[49m\u001b[43mcollection_formats\u001b[49m\u001b[43m,\u001b[49m\n\u001b[0;32m    313\u001b[0m \u001b[43m        \u001b[49m\u001b[43m_preload_content\u001b[49m\u001b[43m,\u001b[49m\n\u001b[0;32m    314\u001b[0m \u001b[43m        \u001b[49m\u001b[43m_request_timeout\u001b[49m\u001b[43m,\u001b[49m\n\u001b[0;32m    315\u001b[0m \u001b[43m        \u001b[49m\u001b[43m_host\u001b[49m\u001b[43m,\u001b[49m\n\u001b[0;32m    316\u001b[0m \u001b[43m        \u001b[49m\u001b[43m_check_type\u001b[49m\u001b[43m,\u001b[49m\n\u001b[0;32m    317\u001b[0m \u001b[43m    \u001b[49m\u001b[43m)\u001b[49m\n\u001b[0;32m    319\u001b[0m \u001b[38;5;28;01mreturn\u001b[39;00m \u001b[38;5;28mself\u001b[39m\u001b[38;5;241m.\u001b[39mpool\u001b[38;5;241m.\u001b[39mapply_async(\n\u001b[0;32m    320\u001b[0m     \u001b[38;5;28mself\u001b[39m\u001b[38;5;241m.\u001b[39m__call_api,\n\u001b[0;32m    321\u001b[0m     (\n\u001b[1;32m   (...)\u001b[0m\n\u001b[0;32m    338\u001b[0m     ),\n\u001b[0;32m    339\u001b[0m )\n",
      "File \u001b[1;32mc:\\Users\\Admin\\miniconda3\\envs\\medibot\\lib\\site-packages\\pinecone\\openapi_support\\api_client.py:178\u001b[0m, in \u001b[0;36mApiClient.__call_api\u001b[1;34m(self, resource_path, method, path_params, query_params, header_params, body, post_params, files, response_type, auth_settings, _return_http_data_only, collection_formats, _preload_content, _request_timeout, _host, _check_type)\u001b[0m\n\u001b[0;32m    176\u001b[0m \u001b[38;5;28;01mexcept\u001b[39;00m PineconeApiException \u001b[38;5;28;01mas\u001b[39;00m e:\n\u001b[0;32m    177\u001b[0m     e\u001b[38;5;241m.\u001b[39mbody \u001b[38;5;241m=\u001b[39m e\u001b[38;5;241m.\u001b[39mbody\u001b[38;5;241m.\u001b[39mdecode(\u001b[38;5;124m\"\u001b[39m\u001b[38;5;124mutf-8\u001b[39m\u001b[38;5;124m\"\u001b[39m)\n\u001b[1;32m--> 178\u001b[0m     \u001b[38;5;28;01mraise\u001b[39;00m e\n\u001b[0;32m    180\u001b[0m \u001b[38;5;28mself\u001b[39m\u001b[38;5;241m.\u001b[39mlast_response \u001b[38;5;241m=\u001b[39m response_data\n\u001b[0;32m    182\u001b[0m return_data \u001b[38;5;241m=\u001b[39m response_data\n",
      "File \u001b[1;32mc:\\Users\\Admin\\miniconda3\\envs\\medibot\\lib\\site-packages\\pinecone\\openapi_support\\api_client.py:166\u001b[0m, in \u001b[0;36mApiClient.__call_api\u001b[1;34m(self, resource_path, method, path_params, query_params, header_params, body, post_params, files, response_type, auth_settings, _return_http_data_only, collection_formats, _preload_content, _request_timeout, _host, _check_type)\u001b[0m\n\u001b[0;32m    157\u001b[0m url \u001b[38;5;241m=\u001b[39m build_request_url(\n\u001b[0;32m    158\u001b[0m     config\u001b[38;5;241m=\u001b[39mconfig,\n\u001b[0;32m    159\u001b[0m     processed_path_params\u001b[38;5;241m=\u001b[39mpath_params_tuple,\n\u001b[0;32m    160\u001b[0m     resource_path\u001b[38;5;241m=\u001b[39mresource_path,\n\u001b[0;32m    161\u001b[0m     _host\u001b[38;5;241m=\u001b[39m_host,\n\u001b[0;32m    162\u001b[0m )\n\u001b[0;32m    164\u001b[0m \u001b[38;5;28;01mtry\u001b[39;00m:\n\u001b[0;32m    165\u001b[0m     \u001b[38;5;66;03m# perform request and return response\u001b[39;00m\n\u001b[1;32m--> 166\u001b[0m     response_data \u001b[38;5;241m=\u001b[39m \u001b[38;5;28;43mself\u001b[39;49m\u001b[38;5;241;43m.\u001b[39;49m\u001b[43mrequest\u001b[49m\u001b[43m(\u001b[49m\n\u001b[0;32m    167\u001b[0m \u001b[43m        \u001b[49m\u001b[43mmethod\u001b[49m\u001b[43m,\u001b[49m\n\u001b[0;32m    168\u001b[0m \u001b[43m        \u001b[49m\u001b[43murl\u001b[49m\u001b[43m,\u001b[49m\n\u001b[0;32m    169\u001b[0m \u001b[43m        \u001b[49m\u001b[43mquery_params\u001b[49m\u001b[38;5;241;43m=\u001b[39;49m\u001b[43mprocessed_query_params\u001b[49m\u001b[43m,\u001b[49m\n\u001b[0;32m    170\u001b[0m \u001b[43m        \u001b[49m\u001b[43mheaders\u001b[49m\u001b[38;5;241;43m=\u001b[39;49m\u001b[43mheaders_tuple\u001b[49m\u001b[43m,\u001b[49m\n\u001b[0;32m    171\u001b[0m \u001b[43m        \u001b[49m\u001b[43mpost_params\u001b[49m\u001b[38;5;241;43m=\u001b[39;49m\u001b[43mprocessed_post_params\u001b[49m\u001b[43m,\u001b[49m\n\u001b[0;32m    172\u001b[0m \u001b[43m        \u001b[49m\u001b[43mbody\u001b[49m\u001b[38;5;241;43m=\u001b[39;49m\u001b[43mbody\u001b[49m\u001b[43m,\u001b[49m\n\u001b[0;32m    173\u001b[0m \u001b[43m        \u001b[49m\u001b[43m_preload_content\u001b[49m\u001b[38;5;241;43m=\u001b[39;49m\u001b[43m_preload_content\u001b[49m\u001b[43m,\u001b[49m\n\u001b[0;32m    174\u001b[0m \u001b[43m        \u001b[49m\u001b[43m_request_timeout\u001b[49m\u001b[38;5;241;43m=\u001b[39;49m\u001b[43m_request_timeout\u001b[49m\u001b[43m,\u001b[49m\n\u001b[0;32m    175\u001b[0m \u001b[43m    \u001b[49m\u001b[43m)\u001b[49m\n\u001b[0;32m    176\u001b[0m \u001b[38;5;28;01mexcept\u001b[39;00m PineconeApiException \u001b[38;5;28;01mas\u001b[39;00m e:\n\u001b[0;32m    177\u001b[0m     e\u001b[38;5;241m.\u001b[39mbody \u001b[38;5;241m=\u001b[39m e\u001b[38;5;241m.\u001b[39mbody\u001b[38;5;241m.\u001b[39mdecode(\u001b[38;5;124m\"\u001b[39m\u001b[38;5;124mutf-8\u001b[39m\u001b[38;5;124m\"\u001b[39m)\n",
      "File \u001b[1;32mc:\\Users\\Admin\\miniconda3\\envs\\medibot\\lib\\site-packages\\pinecone\\openapi_support\\api_client.py:380\u001b[0m, in \u001b[0;36mApiClient.request\u001b[1;34m(self, method, url, query_params, headers, post_params, body, _preload_content, _request_timeout)\u001b[0m\n\u001b[0;32m    370\u001b[0m     \u001b[38;5;28;01mreturn\u001b[39;00m \u001b[38;5;28mself\u001b[39m\u001b[38;5;241m.\u001b[39mrest_client\u001b[38;5;241m.\u001b[39mOPTIONS(\n\u001b[0;32m    371\u001b[0m         url,\n\u001b[0;32m    372\u001b[0m         query_params\u001b[38;5;241m=\u001b[39mquery_params,\n\u001b[1;32m   (...)\u001b[0m\n\u001b[0;32m    377\u001b[0m         body\u001b[38;5;241m=\u001b[39mbody,\n\u001b[0;32m    378\u001b[0m     )\n\u001b[0;32m    379\u001b[0m \u001b[38;5;28;01melif\u001b[39;00m method \u001b[38;5;241m==\u001b[39m \u001b[38;5;124m\"\u001b[39m\u001b[38;5;124mPOST\u001b[39m\u001b[38;5;124m\"\u001b[39m:\n\u001b[1;32m--> 380\u001b[0m     \u001b[38;5;28;01mreturn\u001b[39;00m \u001b[38;5;28;43mself\u001b[39;49m\u001b[38;5;241;43m.\u001b[39;49m\u001b[43mrest_client\u001b[49m\u001b[38;5;241;43m.\u001b[39;49m\u001b[43mPOST\u001b[49m\u001b[43m(\u001b[49m\n\u001b[0;32m    381\u001b[0m \u001b[43m        \u001b[49m\u001b[43murl\u001b[49m\u001b[43m,\u001b[49m\n\u001b[0;32m    382\u001b[0m \u001b[43m        \u001b[49m\u001b[43mquery_params\u001b[49m\u001b[38;5;241;43m=\u001b[39;49m\u001b[43mquery_params\u001b[49m\u001b[43m,\u001b[49m\n\u001b[0;32m    383\u001b[0m \u001b[43m        \u001b[49m\u001b[43mheaders\u001b[49m\u001b[38;5;241;43m=\u001b[39;49m\u001b[43mheaders\u001b[49m\u001b[43m,\u001b[49m\n\u001b[0;32m    384\u001b[0m \u001b[43m        \u001b[49m\u001b[43mpost_params\u001b[49m\u001b[38;5;241;43m=\u001b[39;49m\u001b[43mpost_params\u001b[49m\u001b[43m,\u001b[49m\n\u001b[0;32m    385\u001b[0m \u001b[43m        \u001b[49m\u001b[43m_preload_content\u001b[49m\u001b[38;5;241;43m=\u001b[39;49m\u001b[43m_preload_content\u001b[49m\u001b[43m,\u001b[49m\n\u001b[0;32m    386\u001b[0m \u001b[43m        \u001b[49m\u001b[43m_request_timeout\u001b[49m\u001b[38;5;241;43m=\u001b[39;49m\u001b[43m_request_timeout\u001b[49m\u001b[43m,\u001b[49m\n\u001b[0;32m    387\u001b[0m \u001b[43m        \u001b[49m\u001b[43mbody\u001b[49m\u001b[38;5;241;43m=\u001b[39;49m\u001b[43mbody\u001b[49m\u001b[43m,\u001b[49m\n\u001b[0;32m    388\u001b[0m \u001b[43m    \u001b[49m\u001b[43m)\u001b[49m\n\u001b[0;32m    389\u001b[0m \u001b[38;5;28;01melif\u001b[39;00m method \u001b[38;5;241m==\u001b[39m \u001b[38;5;124m\"\u001b[39m\u001b[38;5;124mPUT\u001b[39m\u001b[38;5;124m\"\u001b[39m:\n\u001b[0;32m    390\u001b[0m     \u001b[38;5;28;01mreturn\u001b[39;00m \u001b[38;5;28mself\u001b[39m\u001b[38;5;241m.\u001b[39mrest_client\u001b[38;5;241m.\u001b[39mPUT(\n\u001b[0;32m    391\u001b[0m         url,\n\u001b[0;32m    392\u001b[0m         query_params\u001b[38;5;241m=\u001b[39mquery_params,\n\u001b[1;32m   (...)\u001b[0m\n\u001b[0;32m    397\u001b[0m         body\u001b[38;5;241m=\u001b[39mbody,\n\u001b[0;32m    398\u001b[0m     )\n",
      "File \u001b[1;32mc:\\Users\\Admin\\miniconda3\\envs\\medibot\\lib\\site-packages\\pinecone\\openapi_support\\rest_utils.py:146\u001b[0m, in \u001b[0;36mRestClientInterface.POST\u001b[1;34m(self, url, headers, query_params, post_params, body, _preload_content, _request_timeout)\u001b[0m\n\u001b[0;32m    136\u001b[0m \u001b[38;5;28;01mdef\u001b[39;00m\u001b[38;5;250m \u001b[39m\u001b[38;5;21mPOST\u001b[39m(\n\u001b[0;32m    137\u001b[0m     \u001b[38;5;28mself\u001b[39m,\n\u001b[0;32m    138\u001b[0m     url,\n\u001b[1;32m   (...)\u001b[0m\n\u001b[0;32m    144\u001b[0m     _request_timeout\u001b[38;5;241m=\u001b[39m\u001b[38;5;28;01mNone\u001b[39;00m,\n\u001b[0;32m    145\u001b[0m ):\n\u001b[1;32m--> 146\u001b[0m     \u001b[38;5;28;01mreturn\u001b[39;00m \u001b[38;5;28;43mself\u001b[39;49m\u001b[38;5;241;43m.\u001b[39;49m\u001b[43mrequest\u001b[49m\u001b[43m(\u001b[49m\n\u001b[0;32m    147\u001b[0m \u001b[43m        \u001b[49m\u001b[38;5;124;43m\"\u001b[39;49m\u001b[38;5;124;43mPOST\u001b[39;49m\u001b[38;5;124;43m\"\u001b[39;49m\u001b[43m,\u001b[49m\n\u001b[0;32m    148\u001b[0m \u001b[43m        \u001b[49m\u001b[43murl\u001b[49m\u001b[43m,\u001b[49m\n\u001b[0;32m    149\u001b[0m \u001b[43m        \u001b[49m\u001b[43mheaders\u001b[49m\u001b[38;5;241;43m=\u001b[39;49m\u001b[43mheaders\u001b[49m\u001b[43m,\u001b[49m\n\u001b[0;32m    150\u001b[0m \u001b[43m        \u001b[49m\u001b[43mquery_params\u001b[49m\u001b[38;5;241;43m=\u001b[39;49m\u001b[43mquery_params\u001b[49m\u001b[43m,\u001b[49m\n\u001b[0;32m    151\u001b[0m \u001b[43m        \u001b[49m\u001b[43mpost_params\u001b[49m\u001b[38;5;241;43m=\u001b[39;49m\u001b[43mpost_params\u001b[49m\u001b[43m,\u001b[49m\n\u001b[0;32m    152\u001b[0m \u001b[43m        \u001b[49m\u001b[43m_preload_content\u001b[49m\u001b[38;5;241;43m=\u001b[39;49m\u001b[43m_preload_content\u001b[49m\u001b[43m,\u001b[49m\n\u001b[0;32m    153\u001b[0m \u001b[43m        \u001b[49m\u001b[43m_request_timeout\u001b[49m\u001b[38;5;241;43m=\u001b[39;49m\u001b[43m_request_timeout\u001b[49m\u001b[43m,\u001b[49m\n\u001b[0;32m    154\u001b[0m \u001b[43m        \u001b[49m\u001b[43mbody\u001b[49m\u001b[38;5;241;43m=\u001b[39;49m\u001b[43mbody\u001b[49m\u001b[43m,\u001b[49m\n\u001b[0;32m    155\u001b[0m \u001b[43m    \u001b[49m\u001b[43m)\u001b[49m\n",
      "File \u001b[1;32mc:\\Users\\Admin\\miniconda3\\envs\\medibot\\lib\\site-packages\\pinecone\\openapi_support\\rest_urllib3.py:260\u001b[0m, in \u001b[0;36mUrllib3RestClient.request\u001b[1;34m(self, method, url, query_params, headers, body, post_params, _preload_content, _request_timeout)\u001b[0m\n\u001b[0;32m    257\u001b[0m     \u001b[38;5;66;03m# log response body\u001b[39;00m\n\u001b[0;32m    258\u001b[0m     logger\u001b[38;5;241m.\u001b[39mdebug(\u001b[38;5;124m\"\u001b[39m\u001b[38;5;124mresponse body: \u001b[39m\u001b[38;5;132;01m%s\u001b[39;00m\u001b[38;5;124m\"\u001b[39m, r\u001b[38;5;241m.\u001b[39mdata)\n\u001b[1;32m--> 260\u001b[0m \u001b[38;5;28;01mreturn\u001b[39;00m \u001b[43mraise_exceptions_or_return\u001b[49m\u001b[43m(\u001b[49m\u001b[43mr\u001b[49m\u001b[43m)\u001b[49m\n",
      "File \u001b[1;32mc:\\Users\\Admin\\miniconda3\\envs\\medibot\\lib\\site-packages\\pinecone\\openapi_support\\rest_utils.py:49\u001b[0m, in \u001b[0;36mraise_exceptions_or_return\u001b[1;34m(r)\u001b[0m\n\u001b[0;32m     46\u001b[0m     \u001b[38;5;28;01mif\u001b[39;00m \u001b[38;5;241m500\u001b[39m \u001b[38;5;241m<\u001b[39m\u001b[38;5;241m=\u001b[39m r\u001b[38;5;241m.\u001b[39mstatus \u001b[38;5;241m<\u001b[39m\u001b[38;5;241m=\u001b[39m \u001b[38;5;241m599\u001b[39m:\n\u001b[0;32m     47\u001b[0m         \u001b[38;5;28;01mraise\u001b[39;00m ServiceException(http_resp\u001b[38;5;241m=\u001b[39mr)\n\u001b[1;32m---> 49\u001b[0m     \u001b[38;5;28;01mraise\u001b[39;00m PineconeApiException(http_resp\u001b[38;5;241m=\u001b[39mr)\n\u001b[0;32m     51\u001b[0m \u001b[38;5;28;01mreturn\u001b[39;00m r\n",
      "\u001b[1;31mPineconeApiException\u001b[0m: (400)\nReason: Bad Request\nHTTP response headers: HTTPHeaderDict({'content-type': 'text/plain; charset=utf-8', 'access-control-allow-origin': '*', 'vary': 'origin,access-control-request-method,access-control-request-headers', 'access-control-expose-headers': '*', 'x-pinecone-api-version': '2025-01', 'x-cloud-trace-context': '099654fe1b79838bd574f0e2dd288d4f', 'date': 'Mon, 28 Apr 2025 19:17:59 GMT', 'server': 'Google Frontend', 'Content-Length': '125', 'Via': '1.1 google', 'Alt-Svc': 'h3=\":443\"; ma=2592000,h3-29=\":443\"; ma=2592000'})\nHTTP response body: {\"error\":{\"code\":\"INVALID_ARGUMENT\",\"message\":\"Name must consist of lower case alphanumeric characters or '-'\"},\"status\":400}\n"
     ]
    }
   ],
   "source": [
    "# index_name = \"MatriBot\"\n",
    "\n",
    "# pc.create_index(\n",
    "#     name=index_name,\n",
    "#     dimension=384, # Replace with your model dimensions\n",
    "#     metric=\"cosine\", # Replace with your model metric\n",
    "#     spec=ServerlessSpec(\n",
    "#         cloud=\"aws\",\n",
    "#         region=\"us-east-1\"\n",
    "#     ) \n",
    "# )"
   ]
  },
  {
   "cell_type": "code",
   "execution_count": null,
   "id": "313bde94",
   "metadata": {},
   "outputs": [
    {
     "ename": "PineconeApiException",
     "evalue": "(400)\nReason: Bad Request\nHTTP response headers: HTTPHeaderDict({'content-type': 'text/plain; charset=utf-8', 'access-control-allow-origin': '*', 'vary': 'origin,access-control-request-method,access-control-request-headers', 'access-control-expose-headers': '*', 'x-pinecone-api-version': '2025-01', 'x-cloud-trace-context': 'd76b564c0c263d109a79daf1f49059be', 'date': 'Mon, 28 Apr 2025 19:18:37 GMT', 'server': 'Google Frontend', 'Content-Length': '125', 'Via': '1.1 google', 'Alt-Svc': 'h3=\":443\"; ma=2592000,h3-29=\":443\"; ma=2592000'})\nHTTP response body: {\"error\":{\"code\":\"INVALID_ARGUMENT\",\"message\":\"Name must consist of lower case alphanumeric characters or '-'\"},\"status\":400}\n",
     "output_type": "error",
     "traceback": [
      "\u001b[1;31m---------------------------------------------------------------------------\u001b[0m",
      "\u001b[1;31mPineconeApiException\u001b[0m                      Traceback (most recent call last)",
      "Cell \u001b[1;32mIn[76], line 3\u001b[0m\n\u001b[0;32m      1\u001b[0m index_name \u001b[38;5;241m=\u001b[39m \u001b[38;5;124m\"\u001b[39m\u001b[38;5;124mmatriBot\u001b[39m\u001b[38;5;124m\"\u001b[39m\n\u001b[1;32m----> 3\u001b[0m \u001b[43mpc\u001b[49m\u001b[38;5;241;43m.\u001b[39;49m\u001b[43mcreate_index\u001b[49m\u001b[43m(\u001b[49m\n\u001b[0;32m      4\u001b[0m \u001b[43m    \u001b[49m\u001b[43mname\u001b[49m\u001b[38;5;241;43m=\u001b[39;49m\u001b[43mindex_name\u001b[49m\u001b[43m,\u001b[49m\n\u001b[0;32m      5\u001b[0m \u001b[43m    \u001b[49m\u001b[43mdimension\u001b[49m\u001b[38;5;241;43m=\u001b[39;49m\u001b[38;5;241;43m384\u001b[39;49m\u001b[43m,\u001b[49m\u001b[43m \u001b[49m\u001b[38;5;66;43;03m# Replace with your model dimensions\u001b[39;49;00m\n\u001b[0;32m      6\u001b[0m \u001b[43m    \u001b[49m\u001b[43mmetric\u001b[49m\u001b[38;5;241;43m=\u001b[39;49m\u001b[38;5;124;43m\"\u001b[39;49m\u001b[38;5;124;43mcosine\u001b[39;49m\u001b[38;5;124;43m\"\u001b[39;49m\u001b[43m,\u001b[49m\u001b[43m \u001b[49m\u001b[38;5;66;43;03m# Replace with your model metric\u001b[39;49;00m\n\u001b[0;32m      7\u001b[0m \u001b[43m    \u001b[49m\u001b[43mspec\u001b[49m\u001b[38;5;241;43m=\u001b[39;49m\u001b[43mServerlessSpec\u001b[49m\u001b[43m(\u001b[49m\n\u001b[0;32m      8\u001b[0m \u001b[43m        \u001b[49m\u001b[43mcloud\u001b[49m\u001b[38;5;241;43m=\u001b[39;49m\u001b[38;5;124;43m\"\u001b[39;49m\u001b[38;5;124;43maws\u001b[39;49m\u001b[38;5;124;43m\"\u001b[39;49m\u001b[43m,\u001b[49m\n\u001b[0;32m      9\u001b[0m \u001b[43m        \u001b[49m\u001b[43mregion\u001b[49m\u001b[38;5;241;43m=\u001b[39;49m\u001b[38;5;124;43m\"\u001b[39;49m\u001b[38;5;124;43mus-east-1\u001b[39;49m\u001b[38;5;124;43m\"\u001b[39;49m\n\u001b[0;32m     10\u001b[0m \u001b[43m    \u001b[49m\u001b[43m)\u001b[49m\u001b[43m \u001b[49m\n\u001b[0;32m     11\u001b[0m \u001b[43m)\u001b[49m\n",
      "File \u001b[1;32mc:\\Users\\Admin\\miniconda3\\envs\\medibot\\lib\\site-packages\\pinecone\\control\\pinecone.py:143\u001b[0m, in \u001b[0;36mPinecone.create_index\u001b[1;34m(self, name, spec, dimension, metric, timeout, deletion_protection, vector_type, tags)\u001b[0m\n\u001b[0;32m    123\u001b[0m \u001b[38;5;28;01mdef\u001b[39;00m\u001b[38;5;250m \u001b[39m\u001b[38;5;21mcreate_index\u001b[39m(\n\u001b[0;32m    124\u001b[0m     \u001b[38;5;28mself\u001b[39m,\n\u001b[0;32m    125\u001b[0m     name: \u001b[38;5;28mstr\u001b[39m,\n\u001b[1;32m   (...)\u001b[0m\n\u001b[0;32m    132\u001b[0m     tags: Optional[Dict[\u001b[38;5;28mstr\u001b[39m, \u001b[38;5;28mstr\u001b[39m]] \u001b[38;5;241m=\u001b[39m \u001b[38;5;28;01mNone\u001b[39;00m,\n\u001b[0;32m    133\u001b[0m ) \u001b[38;5;241m-\u001b[39m\u001b[38;5;241m>\u001b[39m IndexModel:\n\u001b[0;32m    134\u001b[0m     req \u001b[38;5;241m=\u001b[39m PineconeDBControlRequestFactory\u001b[38;5;241m.\u001b[39mcreate_index_request(\n\u001b[0;32m    135\u001b[0m         name\u001b[38;5;241m=\u001b[39mname,\n\u001b[0;32m    136\u001b[0m         spec\u001b[38;5;241m=\u001b[39mspec,\n\u001b[1;32m   (...)\u001b[0m\n\u001b[0;32m    141\u001b[0m         tags\u001b[38;5;241m=\u001b[39mtags,\n\u001b[0;32m    142\u001b[0m     )\n\u001b[1;32m--> 143\u001b[0m     resp \u001b[38;5;241m=\u001b[39m \u001b[38;5;28;43mself\u001b[39;49m\u001b[38;5;241;43m.\u001b[39;49m\u001b[43mindex_api\u001b[49m\u001b[38;5;241;43m.\u001b[39;49m\u001b[43mcreate_index\u001b[49m\u001b[43m(\u001b[49m\u001b[43mcreate_index_request\u001b[49m\u001b[38;5;241;43m=\u001b[39;49m\u001b[43mreq\u001b[49m\u001b[43m)\u001b[49m\n\u001b[0;32m    145\u001b[0m     \u001b[38;5;28;01mif\u001b[39;00m timeout \u001b[38;5;241m==\u001b[39m \u001b[38;5;241m-\u001b[39m\u001b[38;5;241m1\u001b[39m:\n\u001b[0;32m    146\u001b[0m         \u001b[38;5;28;01mreturn\u001b[39;00m IndexModel(resp)\n",
      "File \u001b[1;32mc:\\Users\\Admin\\miniconda3\\envs\\medibot\\lib\\site-packages\\pinecone\\openapi_support\\endpoint.py:102\u001b[0m, in \u001b[0;36mEndpoint.__call__\u001b[1;34m(self, *args, **kwargs)\u001b[0m\n\u001b[0;32m     91\u001b[0m \u001b[38;5;28;01mdef\u001b[39;00m\u001b[38;5;250m \u001b[39m\u001b[38;5;21m__call__\u001b[39m(\u001b[38;5;28mself\u001b[39m, \u001b[38;5;241m*\u001b[39margs, \u001b[38;5;241m*\u001b[39m\u001b[38;5;241m*\u001b[39mkwargs):\n\u001b[0;32m     92\u001b[0m \u001b[38;5;250m    \u001b[39m\u001b[38;5;124;03m\"\"\"This method is invoked when endpoints are called\u001b[39;00m\n\u001b[0;32m     93\u001b[0m \u001b[38;5;124;03m    Example:\u001b[39;00m\n\u001b[0;32m     94\u001b[0m \n\u001b[1;32m   (...)\u001b[0m\n\u001b[0;32m    100\u001b[0m \n\u001b[0;32m    101\u001b[0m \u001b[38;5;124;03m    \"\"\"\u001b[39;00m\n\u001b[1;32m--> 102\u001b[0m     \u001b[38;5;28;01mreturn\u001b[39;00m \u001b[38;5;28mself\u001b[39m\u001b[38;5;241m.\u001b[39mcallable(\u001b[38;5;28mself\u001b[39m, \u001b[38;5;241m*\u001b[39margs, \u001b[38;5;241m*\u001b[39m\u001b[38;5;241m*\u001b[39mkwargs)\n",
      "File \u001b[1;32mc:\\Users\\Admin\\miniconda3\\envs\\medibot\\lib\\site-packages\\pinecone\\core\\openapi\\db_control\\api\\manage_indexes_api.py:235\u001b[0m, in \u001b[0;36mManageIndexesApi.__init__.<locals>.__create_index\u001b[1;34m(self, create_index_request, **kwargs)\u001b[0m\n\u001b[0;32m    233\u001b[0m kwargs \u001b[38;5;241m=\u001b[39m \u001b[38;5;28mself\u001b[39m\u001b[38;5;241m.\u001b[39m_process_openapi_kwargs(kwargs)\n\u001b[0;32m    234\u001b[0m kwargs[\u001b[38;5;124m\"\u001b[39m\u001b[38;5;124mcreate_index_request\u001b[39m\u001b[38;5;124m\"\u001b[39m] \u001b[38;5;241m=\u001b[39m create_index_request\n\u001b[1;32m--> 235\u001b[0m \u001b[38;5;28;01mreturn\u001b[39;00m \u001b[38;5;28mself\u001b[39m\u001b[38;5;241m.\u001b[39mcall_with_http_info(\u001b[38;5;241m*\u001b[39m\u001b[38;5;241m*\u001b[39mkwargs)\n",
      "File \u001b[1;32mc:\\Users\\Admin\\miniconda3\\envs\\medibot\\lib\\site-packages\\pinecone\\openapi_support\\endpoint.py:134\u001b[0m, in \u001b[0;36mEndpoint.call_with_http_info\u001b[1;34m(self, **kwargs)\u001b[0m\n\u001b[0;32m    124\u001b[0m params \u001b[38;5;241m=\u001b[39m EndpointUtils\u001b[38;5;241m.\u001b[39mgather_params(\n\u001b[0;32m    125\u001b[0m     attribute_map\u001b[38;5;241m=\u001b[39m\u001b[38;5;28mself\u001b[39m\u001b[38;5;241m.\u001b[39mattribute_map,\n\u001b[0;32m    126\u001b[0m     location_map\u001b[38;5;241m=\u001b[39m\u001b[38;5;28mself\u001b[39m\u001b[38;5;241m.\u001b[39mlocation_map,\n\u001b[1;32m   (...)\u001b[0m\n\u001b[0;32m    129\u001b[0m     kwargs\u001b[38;5;241m=\u001b[39mkwargs,\n\u001b[0;32m    130\u001b[0m )\n\u001b[0;32m    132\u001b[0m HeaderUtil\u001b[38;5;241m.\u001b[39mprepare_headers(headers_map\u001b[38;5;241m=\u001b[39m\u001b[38;5;28mself\u001b[39m\u001b[38;5;241m.\u001b[39mheaders_map, params\u001b[38;5;241m=\u001b[39mparams)\n\u001b[1;32m--> 134\u001b[0m \u001b[38;5;28;01mreturn\u001b[39;00m \u001b[38;5;28;43mself\u001b[39;49m\u001b[38;5;241;43m.\u001b[39;49m\u001b[43mapi_client\u001b[49m\u001b[38;5;241;43m.\u001b[39;49m\u001b[43mcall_api\u001b[49m\u001b[43m(\u001b[49m\n\u001b[0;32m    135\u001b[0m \u001b[43m    \u001b[49m\u001b[38;5;28;43mself\u001b[39;49m\u001b[38;5;241;43m.\u001b[39;49m\u001b[43msettings\u001b[49m\u001b[43m[\u001b[49m\u001b[38;5;124;43m\"\u001b[39;49m\u001b[38;5;124;43mendpoint_path\u001b[39;49m\u001b[38;5;124;43m\"\u001b[39;49m\u001b[43m]\u001b[49m\u001b[43m,\u001b[49m\n\u001b[0;32m    136\u001b[0m \u001b[43m    \u001b[49m\u001b[38;5;28;43mself\u001b[39;49m\u001b[38;5;241;43m.\u001b[39;49m\u001b[43msettings\u001b[49m\u001b[43m[\u001b[49m\u001b[38;5;124;43m\"\u001b[39;49m\u001b[38;5;124;43mhttp_method\u001b[39;49m\u001b[38;5;124;43m\"\u001b[39;49m\u001b[43m]\u001b[49m\u001b[43m,\u001b[49m\n\u001b[0;32m    137\u001b[0m \u001b[43m    \u001b[49m\u001b[43mpath_params\u001b[49m\u001b[38;5;241;43m=\u001b[39;49m\u001b[43mparams\u001b[49m\u001b[43m[\u001b[49m\u001b[38;5;124;43m\"\u001b[39;49m\u001b[38;5;124;43mpath\u001b[39;49m\u001b[38;5;124;43m\"\u001b[39;49m\u001b[43m]\u001b[49m\u001b[43m,\u001b[49m\n\u001b[0;32m    138\u001b[0m \u001b[43m    \u001b[49m\u001b[43mquery_params\u001b[49m\u001b[38;5;241;43m=\u001b[39;49m\u001b[43mparams\u001b[49m\u001b[43m[\u001b[49m\u001b[38;5;124;43m\"\u001b[39;49m\u001b[38;5;124;43mquery\u001b[39;49m\u001b[38;5;124;43m\"\u001b[39;49m\u001b[43m]\u001b[49m\u001b[43m,\u001b[49m\n\u001b[0;32m    139\u001b[0m \u001b[43m    \u001b[49m\u001b[43mheader_params\u001b[49m\u001b[38;5;241;43m=\u001b[39;49m\u001b[43mparams\u001b[49m\u001b[43m[\u001b[49m\u001b[38;5;124;43m\"\u001b[39;49m\u001b[38;5;124;43mheader\u001b[39;49m\u001b[38;5;124;43m\"\u001b[39;49m\u001b[43m]\u001b[49m\u001b[43m,\u001b[49m\n\u001b[0;32m    140\u001b[0m \u001b[43m    \u001b[49m\u001b[43mbody\u001b[49m\u001b[38;5;241;43m=\u001b[39;49m\u001b[43mparams\u001b[49m\u001b[43m[\u001b[49m\u001b[38;5;124;43m\"\u001b[39;49m\u001b[38;5;124;43mbody\u001b[39;49m\u001b[38;5;124;43m\"\u001b[39;49m\u001b[43m]\u001b[49m\u001b[43m,\u001b[49m\n\u001b[0;32m    141\u001b[0m \u001b[43m    \u001b[49m\u001b[43mpost_params\u001b[49m\u001b[38;5;241;43m=\u001b[39;49m\u001b[43mparams\u001b[49m\u001b[43m[\u001b[49m\u001b[38;5;124;43m\"\u001b[39;49m\u001b[38;5;124;43mform\u001b[39;49m\u001b[38;5;124;43m\"\u001b[39;49m\u001b[43m]\u001b[49m\u001b[43m,\u001b[49m\n\u001b[0;32m    142\u001b[0m \u001b[43m    \u001b[49m\u001b[43mfiles\u001b[49m\u001b[38;5;241;43m=\u001b[39;49m\u001b[43mparams\u001b[49m\u001b[43m[\u001b[49m\u001b[38;5;124;43m\"\u001b[39;49m\u001b[38;5;124;43mfile\u001b[39;49m\u001b[38;5;124;43m\"\u001b[39;49m\u001b[43m]\u001b[49m\u001b[43m,\u001b[49m\n\u001b[0;32m    143\u001b[0m \u001b[43m    \u001b[49m\u001b[43mresponse_type\u001b[49m\u001b[38;5;241;43m=\u001b[39;49m\u001b[38;5;28;43mself\u001b[39;49m\u001b[38;5;241;43m.\u001b[39;49m\u001b[43msettings\u001b[49m\u001b[43m[\u001b[49m\u001b[38;5;124;43m\"\u001b[39;49m\u001b[38;5;124;43mresponse_type\u001b[39;49m\u001b[38;5;124;43m\"\u001b[39;49m\u001b[43m]\u001b[49m\u001b[43m,\u001b[49m\n\u001b[0;32m    144\u001b[0m \u001b[43m    \u001b[49m\u001b[43mauth_settings\u001b[49m\u001b[38;5;241;43m=\u001b[39;49m\u001b[38;5;28;43mself\u001b[39;49m\u001b[38;5;241;43m.\u001b[39;49m\u001b[43msettings\u001b[49m\u001b[43m[\u001b[49m\u001b[38;5;124;43m\"\u001b[39;49m\u001b[38;5;124;43mauth\u001b[39;49m\u001b[38;5;124;43m\"\u001b[39;49m\u001b[43m]\u001b[49m\u001b[43m,\u001b[49m\n\u001b[0;32m    145\u001b[0m \u001b[43m    \u001b[49m\u001b[43masync_req\u001b[49m\u001b[38;5;241;43m=\u001b[39;49m\u001b[43mkwargs\u001b[49m\u001b[43m[\u001b[49m\u001b[38;5;124;43m\"\u001b[39;49m\u001b[38;5;124;43masync_req\u001b[39;49m\u001b[38;5;124;43m\"\u001b[39;49m\u001b[43m]\u001b[49m\u001b[43m,\u001b[49m\n\u001b[0;32m    146\u001b[0m \u001b[43m    \u001b[49m\u001b[43masync_threadpool_executor\u001b[49m\u001b[38;5;241;43m=\u001b[39;49m\u001b[43mkwargs\u001b[49m\u001b[38;5;241;43m.\u001b[39;49m\u001b[43mget\u001b[49m\u001b[43m(\u001b[49m\u001b[38;5;124;43m\"\u001b[39;49m\u001b[38;5;124;43masync_threadpool_executor\u001b[39;49m\u001b[38;5;124;43m\"\u001b[39;49m\u001b[43m,\u001b[49m\u001b[43m \u001b[49m\u001b[38;5;28;43;01mNone\u001b[39;49;00m\u001b[43m)\u001b[49m\u001b[43m,\u001b[49m\n\u001b[0;32m    147\u001b[0m \u001b[43m    \u001b[49m\u001b[43m_check_type\u001b[49m\u001b[38;5;241;43m=\u001b[39;49m\u001b[43mkwargs\u001b[49m\u001b[43m[\u001b[49m\u001b[38;5;124;43m\"\u001b[39;49m\u001b[38;5;124;43m_check_return_type\u001b[39;49m\u001b[38;5;124;43m\"\u001b[39;49m\u001b[43m]\u001b[49m\u001b[43m,\u001b[49m\n\u001b[0;32m    148\u001b[0m \u001b[43m    \u001b[49m\u001b[43m_return_http_data_only\u001b[49m\u001b[38;5;241;43m=\u001b[39;49m\u001b[43mkwargs\u001b[49m\u001b[43m[\u001b[49m\u001b[38;5;124;43m\"\u001b[39;49m\u001b[38;5;124;43m_return_http_data_only\u001b[39;49m\u001b[38;5;124;43m\"\u001b[39;49m\u001b[43m]\u001b[49m\u001b[43m,\u001b[49m\n\u001b[0;32m    149\u001b[0m \u001b[43m    \u001b[49m\u001b[43m_preload_content\u001b[49m\u001b[38;5;241;43m=\u001b[39;49m\u001b[43mkwargs\u001b[49m\u001b[43m[\u001b[49m\u001b[38;5;124;43m\"\u001b[39;49m\u001b[38;5;124;43m_preload_content\u001b[39;49m\u001b[38;5;124;43m\"\u001b[39;49m\u001b[43m]\u001b[49m\u001b[43m,\u001b[49m\n\u001b[0;32m    150\u001b[0m \u001b[43m    \u001b[49m\u001b[43m_request_timeout\u001b[49m\u001b[38;5;241;43m=\u001b[39;49m\u001b[43mkwargs\u001b[49m\u001b[43m[\u001b[49m\u001b[38;5;124;43m\"\u001b[39;49m\u001b[38;5;124;43m_request_timeout\u001b[39;49m\u001b[38;5;124;43m\"\u001b[39;49m\u001b[43m]\u001b[49m\u001b[43m,\u001b[49m\n\u001b[0;32m    151\u001b[0m \u001b[43m    \u001b[49m\u001b[43m_host\u001b[49m\u001b[38;5;241;43m=\u001b[39;49m\u001b[43m_host\u001b[49m\u001b[43m,\u001b[49m\n\u001b[0;32m    152\u001b[0m \u001b[43m    \u001b[49m\u001b[43mcollection_formats\u001b[49m\u001b[38;5;241;43m=\u001b[39;49m\u001b[43mparams\u001b[49m\u001b[43m[\u001b[49m\u001b[38;5;124;43m\"\u001b[39;49m\u001b[38;5;124;43mcollection_format\u001b[39;49m\u001b[38;5;124;43m\"\u001b[39;49m\u001b[43m]\u001b[49m\u001b[43m,\u001b[49m\n\u001b[0;32m    153\u001b[0m \u001b[43m\u001b[49m\u001b[43m)\u001b[49m\n",
      "File \u001b[1;32mc:\\Users\\Admin\\miniconda3\\envs\\medibot\\lib\\site-packages\\pinecone\\openapi_support\\api_client.py:300\u001b[0m, in \u001b[0;36mApiClient.call_api\u001b[1;34m(self, resource_path, method, path_params, query_params, header_params, body, post_params, files, response_type, auth_settings, async_req, async_threadpool_executor, _return_http_data_only, collection_formats, _preload_content, _request_timeout, _host, _check_type)\u001b[0m\n\u001b[0;32m    279\u001b[0m     \u001b[38;5;28;01mreturn\u001b[39;00m \u001b[38;5;28mself\u001b[39m\u001b[38;5;241m.\u001b[39mthreadpool_executor\u001b[38;5;241m.\u001b[39msubmit(\n\u001b[0;32m    280\u001b[0m         \u001b[38;5;28mself\u001b[39m\u001b[38;5;241m.\u001b[39m__call_api,\n\u001b[0;32m    281\u001b[0m         resource_path,\n\u001b[1;32m   (...)\u001b[0m\n\u001b[0;32m    296\u001b[0m         _check_type,\n\u001b[0;32m    297\u001b[0m     )\n\u001b[0;32m    299\u001b[0m \u001b[38;5;28;01mif\u001b[39;00m \u001b[38;5;129;01mnot\u001b[39;00m async_req:\n\u001b[1;32m--> 300\u001b[0m     \u001b[38;5;28;01mreturn\u001b[39;00m \u001b[38;5;28;43mself\u001b[39;49m\u001b[38;5;241;43m.\u001b[39;49m\u001b[43m__call_api\u001b[49m\u001b[43m(\u001b[49m\n\u001b[0;32m    301\u001b[0m \u001b[43m        \u001b[49m\u001b[43mresource_path\u001b[49m\u001b[43m,\u001b[49m\n\u001b[0;32m    302\u001b[0m \u001b[43m        \u001b[49m\u001b[43mmethod\u001b[49m\u001b[43m,\u001b[49m\n\u001b[0;32m    303\u001b[0m \u001b[43m        \u001b[49m\u001b[43mpath_params\u001b[49m\u001b[43m,\u001b[49m\n\u001b[0;32m    304\u001b[0m \u001b[43m        \u001b[49m\u001b[43mquery_params\u001b[49m\u001b[43m,\u001b[49m\n\u001b[0;32m    305\u001b[0m \u001b[43m        \u001b[49m\u001b[43mheader_params\u001b[49m\u001b[43m,\u001b[49m\n\u001b[0;32m    306\u001b[0m \u001b[43m        \u001b[49m\u001b[43mbody\u001b[49m\u001b[43m,\u001b[49m\n\u001b[0;32m    307\u001b[0m \u001b[43m        \u001b[49m\u001b[43mpost_params\u001b[49m\u001b[43m,\u001b[49m\n\u001b[0;32m    308\u001b[0m \u001b[43m        \u001b[49m\u001b[43mfiles\u001b[49m\u001b[43m,\u001b[49m\n\u001b[0;32m    309\u001b[0m \u001b[43m        \u001b[49m\u001b[43mresponse_type\u001b[49m\u001b[43m,\u001b[49m\n\u001b[0;32m    310\u001b[0m \u001b[43m        \u001b[49m\u001b[43mauth_settings\u001b[49m\u001b[43m,\u001b[49m\n\u001b[0;32m    311\u001b[0m \u001b[43m        \u001b[49m\u001b[43m_return_http_data_only\u001b[49m\u001b[43m,\u001b[49m\n\u001b[0;32m    312\u001b[0m \u001b[43m        \u001b[49m\u001b[43mcollection_formats\u001b[49m\u001b[43m,\u001b[49m\n\u001b[0;32m    313\u001b[0m \u001b[43m        \u001b[49m\u001b[43m_preload_content\u001b[49m\u001b[43m,\u001b[49m\n\u001b[0;32m    314\u001b[0m \u001b[43m        \u001b[49m\u001b[43m_request_timeout\u001b[49m\u001b[43m,\u001b[49m\n\u001b[0;32m    315\u001b[0m \u001b[43m        \u001b[49m\u001b[43m_host\u001b[49m\u001b[43m,\u001b[49m\n\u001b[0;32m    316\u001b[0m \u001b[43m        \u001b[49m\u001b[43m_check_type\u001b[49m\u001b[43m,\u001b[49m\n\u001b[0;32m    317\u001b[0m \u001b[43m    \u001b[49m\u001b[43m)\u001b[49m\n\u001b[0;32m    319\u001b[0m \u001b[38;5;28;01mreturn\u001b[39;00m \u001b[38;5;28mself\u001b[39m\u001b[38;5;241m.\u001b[39mpool\u001b[38;5;241m.\u001b[39mapply_async(\n\u001b[0;32m    320\u001b[0m     \u001b[38;5;28mself\u001b[39m\u001b[38;5;241m.\u001b[39m__call_api,\n\u001b[0;32m    321\u001b[0m     (\n\u001b[1;32m   (...)\u001b[0m\n\u001b[0;32m    338\u001b[0m     ),\n\u001b[0;32m    339\u001b[0m )\n",
      "File \u001b[1;32mc:\\Users\\Admin\\miniconda3\\envs\\medibot\\lib\\site-packages\\pinecone\\openapi_support\\api_client.py:178\u001b[0m, in \u001b[0;36mApiClient.__call_api\u001b[1;34m(self, resource_path, method, path_params, query_params, header_params, body, post_params, files, response_type, auth_settings, _return_http_data_only, collection_formats, _preload_content, _request_timeout, _host, _check_type)\u001b[0m\n\u001b[0;32m    176\u001b[0m \u001b[38;5;28;01mexcept\u001b[39;00m PineconeApiException \u001b[38;5;28;01mas\u001b[39;00m e:\n\u001b[0;32m    177\u001b[0m     e\u001b[38;5;241m.\u001b[39mbody \u001b[38;5;241m=\u001b[39m e\u001b[38;5;241m.\u001b[39mbody\u001b[38;5;241m.\u001b[39mdecode(\u001b[38;5;124m\"\u001b[39m\u001b[38;5;124mutf-8\u001b[39m\u001b[38;5;124m\"\u001b[39m)\n\u001b[1;32m--> 178\u001b[0m     \u001b[38;5;28;01mraise\u001b[39;00m e\n\u001b[0;32m    180\u001b[0m \u001b[38;5;28mself\u001b[39m\u001b[38;5;241m.\u001b[39mlast_response \u001b[38;5;241m=\u001b[39m response_data\n\u001b[0;32m    182\u001b[0m return_data \u001b[38;5;241m=\u001b[39m response_data\n",
      "File \u001b[1;32mc:\\Users\\Admin\\miniconda3\\envs\\medibot\\lib\\site-packages\\pinecone\\openapi_support\\api_client.py:166\u001b[0m, in \u001b[0;36mApiClient.__call_api\u001b[1;34m(self, resource_path, method, path_params, query_params, header_params, body, post_params, files, response_type, auth_settings, _return_http_data_only, collection_formats, _preload_content, _request_timeout, _host, _check_type)\u001b[0m\n\u001b[0;32m    157\u001b[0m url \u001b[38;5;241m=\u001b[39m build_request_url(\n\u001b[0;32m    158\u001b[0m     config\u001b[38;5;241m=\u001b[39mconfig,\n\u001b[0;32m    159\u001b[0m     processed_path_params\u001b[38;5;241m=\u001b[39mpath_params_tuple,\n\u001b[0;32m    160\u001b[0m     resource_path\u001b[38;5;241m=\u001b[39mresource_path,\n\u001b[0;32m    161\u001b[0m     _host\u001b[38;5;241m=\u001b[39m_host,\n\u001b[0;32m    162\u001b[0m )\n\u001b[0;32m    164\u001b[0m \u001b[38;5;28;01mtry\u001b[39;00m:\n\u001b[0;32m    165\u001b[0m     \u001b[38;5;66;03m# perform request and return response\u001b[39;00m\n\u001b[1;32m--> 166\u001b[0m     response_data \u001b[38;5;241m=\u001b[39m \u001b[38;5;28;43mself\u001b[39;49m\u001b[38;5;241;43m.\u001b[39;49m\u001b[43mrequest\u001b[49m\u001b[43m(\u001b[49m\n\u001b[0;32m    167\u001b[0m \u001b[43m        \u001b[49m\u001b[43mmethod\u001b[49m\u001b[43m,\u001b[49m\n\u001b[0;32m    168\u001b[0m \u001b[43m        \u001b[49m\u001b[43murl\u001b[49m\u001b[43m,\u001b[49m\n\u001b[0;32m    169\u001b[0m \u001b[43m        \u001b[49m\u001b[43mquery_params\u001b[49m\u001b[38;5;241;43m=\u001b[39;49m\u001b[43mprocessed_query_params\u001b[49m\u001b[43m,\u001b[49m\n\u001b[0;32m    170\u001b[0m \u001b[43m        \u001b[49m\u001b[43mheaders\u001b[49m\u001b[38;5;241;43m=\u001b[39;49m\u001b[43mheaders_tuple\u001b[49m\u001b[43m,\u001b[49m\n\u001b[0;32m    171\u001b[0m \u001b[43m        \u001b[49m\u001b[43mpost_params\u001b[49m\u001b[38;5;241;43m=\u001b[39;49m\u001b[43mprocessed_post_params\u001b[49m\u001b[43m,\u001b[49m\n\u001b[0;32m    172\u001b[0m \u001b[43m        \u001b[49m\u001b[43mbody\u001b[49m\u001b[38;5;241;43m=\u001b[39;49m\u001b[43mbody\u001b[49m\u001b[43m,\u001b[49m\n\u001b[0;32m    173\u001b[0m \u001b[43m        \u001b[49m\u001b[43m_preload_content\u001b[49m\u001b[38;5;241;43m=\u001b[39;49m\u001b[43m_preload_content\u001b[49m\u001b[43m,\u001b[49m\n\u001b[0;32m    174\u001b[0m \u001b[43m        \u001b[49m\u001b[43m_request_timeout\u001b[49m\u001b[38;5;241;43m=\u001b[39;49m\u001b[43m_request_timeout\u001b[49m\u001b[43m,\u001b[49m\n\u001b[0;32m    175\u001b[0m \u001b[43m    \u001b[49m\u001b[43m)\u001b[49m\n\u001b[0;32m    176\u001b[0m \u001b[38;5;28;01mexcept\u001b[39;00m PineconeApiException \u001b[38;5;28;01mas\u001b[39;00m e:\n\u001b[0;32m    177\u001b[0m     e\u001b[38;5;241m.\u001b[39mbody \u001b[38;5;241m=\u001b[39m e\u001b[38;5;241m.\u001b[39mbody\u001b[38;5;241m.\u001b[39mdecode(\u001b[38;5;124m\"\u001b[39m\u001b[38;5;124mutf-8\u001b[39m\u001b[38;5;124m\"\u001b[39m)\n",
      "File \u001b[1;32mc:\\Users\\Admin\\miniconda3\\envs\\medibot\\lib\\site-packages\\pinecone\\openapi_support\\api_client.py:380\u001b[0m, in \u001b[0;36mApiClient.request\u001b[1;34m(self, method, url, query_params, headers, post_params, body, _preload_content, _request_timeout)\u001b[0m\n\u001b[0;32m    370\u001b[0m     \u001b[38;5;28;01mreturn\u001b[39;00m \u001b[38;5;28mself\u001b[39m\u001b[38;5;241m.\u001b[39mrest_client\u001b[38;5;241m.\u001b[39mOPTIONS(\n\u001b[0;32m    371\u001b[0m         url,\n\u001b[0;32m    372\u001b[0m         query_params\u001b[38;5;241m=\u001b[39mquery_params,\n\u001b[1;32m   (...)\u001b[0m\n\u001b[0;32m    377\u001b[0m         body\u001b[38;5;241m=\u001b[39mbody,\n\u001b[0;32m    378\u001b[0m     )\n\u001b[0;32m    379\u001b[0m \u001b[38;5;28;01melif\u001b[39;00m method \u001b[38;5;241m==\u001b[39m \u001b[38;5;124m\"\u001b[39m\u001b[38;5;124mPOST\u001b[39m\u001b[38;5;124m\"\u001b[39m:\n\u001b[1;32m--> 380\u001b[0m     \u001b[38;5;28;01mreturn\u001b[39;00m \u001b[38;5;28;43mself\u001b[39;49m\u001b[38;5;241;43m.\u001b[39;49m\u001b[43mrest_client\u001b[49m\u001b[38;5;241;43m.\u001b[39;49m\u001b[43mPOST\u001b[49m\u001b[43m(\u001b[49m\n\u001b[0;32m    381\u001b[0m \u001b[43m        \u001b[49m\u001b[43murl\u001b[49m\u001b[43m,\u001b[49m\n\u001b[0;32m    382\u001b[0m \u001b[43m        \u001b[49m\u001b[43mquery_params\u001b[49m\u001b[38;5;241;43m=\u001b[39;49m\u001b[43mquery_params\u001b[49m\u001b[43m,\u001b[49m\n\u001b[0;32m    383\u001b[0m \u001b[43m        \u001b[49m\u001b[43mheaders\u001b[49m\u001b[38;5;241;43m=\u001b[39;49m\u001b[43mheaders\u001b[49m\u001b[43m,\u001b[49m\n\u001b[0;32m    384\u001b[0m \u001b[43m        \u001b[49m\u001b[43mpost_params\u001b[49m\u001b[38;5;241;43m=\u001b[39;49m\u001b[43mpost_params\u001b[49m\u001b[43m,\u001b[49m\n\u001b[0;32m    385\u001b[0m \u001b[43m        \u001b[49m\u001b[43m_preload_content\u001b[49m\u001b[38;5;241;43m=\u001b[39;49m\u001b[43m_preload_content\u001b[49m\u001b[43m,\u001b[49m\n\u001b[0;32m    386\u001b[0m \u001b[43m        \u001b[49m\u001b[43m_request_timeout\u001b[49m\u001b[38;5;241;43m=\u001b[39;49m\u001b[43m_request_timeout\u001b[49m\u001b[43m,\u001b[49m\n\u001b[0;32m    387\u001b[0m \u001b[43m        \u001b[49m\u001b[43mbody\u001b[49m\u001b[38;5;241;43m=\u001b[39;49m\u001b[43mbody\u001b[49m\u001b[43m,\u001b[49m\n\u001b[0;32m    388\u001b[0m \u001b[43m    \u001b[49m\u001b[43m)\u001b[49m\n\u001b[0;32m    389\u001b[0m \u001b[38;5;28;01melif\u001b[39;00m method \u001b[38;5;241m==\u001b[39m \u001b[38;5;124m\"\u001b[39m\u001b[38;5;124mPUT\u001b[39m\u001b[38;5;124m\"\u001b[39m:\n\u001b[0;32m    390\u001b[0m     \u001b[38;5;28;01mreturn\u001b[39;00m \u001b[38;5;28mself\u001b[39m\u001b[38;5;241m.\u001b[39mrest_client\u001b[38;5;241m.\u001b[39mPUT(\n\u001b[0;32m    391\u001b[0m         url,\n\u001b[0;32m    392\u001b[0m         query_params\u001b[38;5;241m=\u001b[39mquery_params,\n\u001b[1;32m   (...)\u001b[0m\n\u001b[0;32m    397\u001b[0m         body\u001b[38;5;241m=\u001b[39mbody,\n\u001b[0;32m    398\u001b[0m     )\n",
      "File \u001b[1;32mc:\\Users\\Admin\\miniconda3\\envs\\medibot\\lib\\site-packages\\pinecone\\openapi_support\\rest_utils.py:146\u001b[0m, in \u001b[0;36mRestClientInterface.POST\u001b[1;34m(self, url, headers, query_params, post_params, body, _preload_content, _request_timeout)\u001b[0m\n\u001b[0;32m    136\u001b[0m \u001b[38;5;28;01mdef\u001b[39;00m\u001b[38;5;250m \u001b[39m\u001b[38;5;21mPOST\u001b[39m(\n\u001b[0;32m    137\u001b[0m     \u001b[38;5;28mself\u001b[39m,\n\u001b[0;32m    138\u001b[0m     url,\n\u001b[1;32m   (...)\u001b[0m\n\u001b[0;32m    144\u001b[0m     _request_timeout\u001b[38;5;241m=\u001b[39m\u001b[38;5;28;01mNone\u001b[39;00m,\n\u001b[0;32m    145\u001b[0m ):\n\u001b[1;32m--> 146\u001b[0m     \u001b[38;5;28;01mreturn\u001b[39;00m \u001b[38;5;28;43mself\u001b[39;49m\u001b[38;5;241;43m.\u001b[39;49m\u001b[43mrequest\u001b[49m\u001b[43m(\u001b[49m\n\u001b[0;32m    147\u001b[0m \u001b[43m        \u001b[49m\u001b[38;5;124;43m\"\u001b[39;49m\u001b[38;5;124;43mPOST\u001b[39;49m\u001b[38;5;124;43m\"\u001b[39;49m\u001b[43m,\u001b[49m\n\u001b[0;32m    148\u001b[0m \u001b[43m        \u001b[49m\u001b[43murl\u001b[49m\u001b[43m,\u001b[49m\n\u001b[0;32m    149\u001b[0m \u001b[43m        \u001b[49m\u001b[43mheaders\u001b[49m\u001b[38;5;241;43m=\u001b[39;49m\u001b[43mheaders\u001b[49m\u001b[43m,\u001b[49m\n\u001b[0;32m    150\u001b[0m \u001b[43m        \u001b[49m\u001b[43mquery_params\u001b[49m\u001b[38;5;241;43m=\u001b[39;49m\u001b[43mquery_params\u001b[49m\u001b[43m,\u001b[49m\n\u001b[0;32m    151\u001b[0m \u001b[43m        \u001b[49m\u001b[43mpost_params\u001b[49m\u001b[38;5;241;43m=\u001b[39;49m\u001b[43mpost_params\u001b[49m\u001b[43m,\u001b[49m\n\u001b[0;32m    152\u001b[0m \u001b[43m        \u001b[49m\u001b[43m_preload_content\u001b[49m\u001b[38;5;241;43m=\u001b[39;49m\u001b[43m_preload_content\u001b[49m\u001b[43m,\u001b[49m\n\u001b[0;32m    153\u001b[0m \u001b[43m        \u001b[49m\u001b[43m_request_timeout\u001b[49m\u001b[38;5;241;43m=\u001b[39;49m\u001b[43m_request_timeout\u001b[49m\u001b[43m,\u001b[49m\n\u001b[0;32m    154\u001b[0m \u001b[43m        \u001b[49m\u001b[43mbody\u001b[49m\u001b[38;5;241;43m=\u001b[39;49m\u001b[43mbody\u001b[49m\u001b[43m,\u001b[49m\n\u001b[0;32m    155\u001b[0m \u001b[43m    \u001b[49m\u001b[43m)\u001b[49m\n",
      "File \u001b[1;32mc:\\Users\\Admin\\miniconda3\\envs\\medibot\\lib\\site-packages\\pinecone\\openapi_support\\rest_urllib3.py:260\u001b[0m, in \u001b[0;36mUrllib3RestClient.request\u001b[1;34m(self, method, url, query_params, headers, body, post_params, _preload_content, _request_timeout)\u001b[0m\n\u001b[0;32m    257\u001b[0m     \u001b[38;5;66;03m# log response body\u001b[39;00m\n\u001b[0;32m    258\u001b[0m     logger\u001b[38;5;241m.\u001b[39mdebug(\u001b[38;5;124m\"\u001b[39m\u001b[38;5;124mresponse body: \u001b[39m\u001b[38;5;132;01m%s\u001b[39;00m\u001b[38;5;124m\"\u001b[39m, r\u001b[38;5;241m.\u001b[39mdata)\n\u001b[1;32m--> 260\u001b[0m \u001b[38;5;28;01mreturn\u001b[39;00m \u001b[43mraise_exceptions_or_return\u001b[49m\u001b[43m(\u001b[49m\u001b[43mr\u001b[49m\u001b[43m)\u001b[49m\n",
      "File \u001b[1;32mc:\\Users\\Admin\\miniconda3\\envs\\medibot\\lib\\site-packages\\pinecone\\openapi_support\\rest_utils.py:49\u001b[0m, in \u001b[0;36mraise_exceptions_or_return\u001b[1;34m(r)\u001b[0m\n\u001b[0;32m     46\u001b[0m     \u001b[38;5;28;01mif\u001b[39;00m \u001b[38;5;241m500\u001b[39m \u001b[38;5;241m<\u001b[39m\u001b[38;5;241m=\u001b[39m r\u001b[38;5;241m.\u001b[39mstatus \u001b[38;5;241m<\u001b[39m\u001b[38;5;241m=\u001b[39m \u001b[38;5;241m599\u001b[39m:\n\u001b[0;32m     47\u001b[0m         \u001b[38;5;28;01mraise\u001b[39;00m ServiceException(http_resp\u001b[38;5;241m=\u001b[39mr)\n\u001b[1;32m---> 49\u001b[0m     \u001b[38;5;28;01mraise\u001b[39;00m PineconeApiException(http_resp\u001b[38;5;241m=\u001b[39mr)\n\u001b[0;32m     51\u001b[0m \u001b[38;5;28;01mreturn\u001b[39;00m r\n",
      "\u001b[1;31mPineconeApiException\u001b[0m: (400)\nReason: Bad Request\nHTTP response headers: HTTPHeaderDict({'content-type': 'text/plain; charset=utf-8', 'access-control-allow-origin': '*', 'vary': 'origin,access-control-request-method,access-control-request-headers', 'access-control-expose-headers': '*', 'x-pinecone-api-version': '2025-01', 'x-cloud-trace-context': 'd76b564c0c263d109a79daf1f49059be', 'date': 'Mon, 28 Apr 2025 19:18:37 GMT', 'server': 'Google Frontend', 'Content-Length': '125', 'Via': '1.1 google', 'Alt-Svc': 'h3=\":443\"; ma=2592000,h3-29=\":443\"; ma=2592000'})\nHTTP response body: {\"error\":{\"code\":\"INVALID_ARGUMENT\",\"message\":\"Name must consist of lower case alphanumeric characters or '-'\"},\"status\":400}\n"
     ]
    }
   ],
   "source": [
    "# index_name = \"matriBot\"\n",
    "\n",
    "# pc.create_index(\n",
    "#     name=index_name,\n",
    "#     dimension=384, # Replace with your model dimensions\n",
    "#     metric=\"cosine\", # Replace with your model metric\n",
    "#     spec=ServerlessSpec(\n",
    "#         cloud=\"aws\",\n",
    "#         region=\"us-east-1\"\n",
    "#     ) \n",
    "# )"
   ]
  },
  {
   "cell_type": "code",
   "execution_count": null,
   "id": "24294127",
   "metadata": {},
   "outputs": [],
   "source": [
    "# from pinecone import Pinecone, ServerlessSpec\n",
    "\n",
    "# pc = Pinecone(api_key=\"pcsk_4GEtY5_3SpouDjoxsjHc17apP6FsWZcNXdBJT89U3Us4J8pnkBQTpY7w6Za9WTZZZduE2Y\")"
   ]
  },
  {
   "cell_type": "code",
   "execution_count": null,
   "id": "a6bbe978",
   "metadata": {},
   "outputs": [
    {
     "ename": "PineconeApiException",
     "evalue": "(400)\nReason: Bad Request\nHTTP response headers: HTTPHeaderDict({'content-type': 'text/plain; charset=utf-8', 'access-control-allow-origin': '*', 'vary': 'origin,access-control-request-method,access-control-request-headers', 'access-control-expose-headers': '*', 'x-pinecone-api-version': '2025-01', 'x-cloud-trace-context': 'd84ce7fac897024026d64add537f9697', 'date': 'Mon, 28 Apr 2025 19:21:52 GMT', 'server': 'Google Frontend', 'Content-Length': '125', 'Via': '1.1 google', 'Alt-Svc': 'h3=\":443\"; ma=2592000,h3-29=\":443\"; ma=2592000'})\nHTTP response body: {\"error\":{\"code\":\"INVALID_ARGUMENT\",\"message\":\"Name must consist of lower case alphanumeric characters or '-'\"},\"status\":400}\n",
     "output_type": "error",
     "traceback": [
      "\u001b[1;31m---------------------------------------------------------------------------\u001b[0m",
      "\u001b[1;31mPineconeApiException\u001b[0m                      Traceback (most recent call last)",
      "Cell \u001b[1;32mIn[79], line 3\u001b[0m\n\u001b[0;32m      1\u001b[0m index_name \u001b[38;5;241m=\u001b[39m \u001b[38;5;124m\"\u001b[39m\u001b[38;5;124mmediBot\u001b[39m\u001b[38;5;124m\"\u001b[39m\n\u001b[1;32m----> 3\u001b[0m \u001b[43mpc\u001b[49m\u001b[38;5;241;43m.\u001b[39;49m\u001b[43mcreate_index\u001b[49m\u001b[43m(\u001b[49m\n\u001b[0;32m      4\u001b[0m \u001b[43m    \u001b[49m\u001b[43mname\u001b[49m\u001b[38;5;241;43m=\u001b[39;49m\u001b[43mindex_name\u001b[49m\u001b[43m,\u001b[49m\n\u001b[0;32m      5\u001b[0m \u001b[43m    \u001b[49m\u001b[43mdimension\u001b[49m\u001b[38;5;241;43m=\u001b[39;49m\u001b[38;5;241;43m384\u001b[39;49m\u001b[43m,\u001b[49m\u001b[43m \u001b[49m\u001b[38;5;66;43;03m# Replace with your model dimensions\u001b[39;49;00m\n\u001b[0;32m      6\u001b[0m \u001b[43m    \u001b[49m\u001b[43mmetric\u001b[49m\u001b[38;5;241;43m=\u001b[39;49m\u001b[38;5;124;43m\"\u001b[39;49m\u001b[38;5;124;43mcosine\u001b[39;49m\u001b[38;5;124;43m\"\u001b[39;49m\u001b[43m,\u001b[49m\u001b[43m \u001b[49m\u001b[38;5;66;43;03m# Replace with your model metric\u001b[39;49;00m\n\u001b[0;32m      7\u001b[0m \u001b[43m    \u001b[49m\u001b[43mspec\u001b[49m\u001b[38;5;241;43m=\u001b[39;49m\u001b[43mServerlessSpec\u001b[49m\u001b[43m(\u001b[49m\n\u001b[0;32m      8\u001b[0m \u001b[43m        \u001b[49m\u001b[43mcloud\u001b[49m\u001b[38;5;241;43m=\u001b[39;49m\u001b[38;5;124;43m\"\u001b[39;49m\u001b[38;5;124;43maws\u001b[39;49m\u001b[38;5;124;43m\"\u001b[39;49m\u001b[43m,\u001b[49m\n\u001b[0;32m      9\u001b[0m \u001b[43m        \u001b[49m\u001b[43mregion\u001b[49m\u001b[38;5;241;43m=\u001b[39;49m\u001b[38;5;124;43m\"\u001b[39;49m\u001b[38;5;124;43mus-east-1\u001b[39;49m\u001b[38;5;124;43m\"\u001b[39;49m\n\u001b[0;32m     10\u001b[0m \u001b[43m    \u001b[49m\u001b[43m)\u001b[49m\u001b[43m \u001b[49m\n\u001b[0;32m     11\u001b[0m \u001b[43m)\u001b[49m\n",
      "File \u001b[1;32mc:\\Users\\Admin\\miniconda3\\envs\\medibot\\lib\\site-packages\\pinecone\\control\\pinecone.py:143\u001b[0m, in \u001b[0;36mPinecone.create_index\u001b[1;34m(self, name, spec, dimension, metric, timeout, deletion_protection, vector_type, tags)\u001b[0m\n\u001b[0;32m    123\u001b[0m \u001b[38;5;28;01mdef\u001b[39;00m\u001b[38;5;250m \u001b[39m\u001b[38;5;21mcreate_index\u001b[39m(\n\u001b[0;32m    124\u001b[0m     \u001b[38;5;28mself\u001b[39m,\n\u001b[0;32m    125\u001b[0m     name: \u001b[38;5;28mstr\u001b[39m,\n\u001b[1;32m   (...)\u001b[0m\n\u001b[0;32m    132\u001b[0m     tags: Optional[Dict[\u001b[38;5;28mstr\u001b[39m, \u001b[38;5;28mstr\u001b[39m]] \u001b[38;5;241m=\u001b[39m \u001b[38;5;28;01mNone\u001b[39;00m,\n\u001b[0;32m    133\u001b[0m ) \u001b[38;5;241m-\u001b[39m\u001b[38;5;241m>\u001b[39m IndexModel:\n\u001b[0;32m    134\u001b[0m     req \u001b[38;5;241m=\u001b[39m PineconeDBControlRequestFactory\u001b[38;5;241m.\u001b[39mcreate_index_request(\n\u001b[0;32m    135\u001b[0m         name\u001b[38;5;241m=\u001b[39mname,\n\u001b[0;32m    136\u001b[0m         spec\u001b[38;5;241m=\u001b[39mspec,\n\u001b[1;32m   (...)\u001b[0m\n\u001b[0;32m    141\u001b[0m         tags\u001b[38;5;241m=\u001b[39mtags,\n\u001b[0;32m    142\u001b[0m     )\n\u001b[1;32m--> 143\u001b[0m     resp \u001b[38;5;241m=\u001b[39m \u001b[38;5;28;43mself\u001b[39;49m\u001b[38;5;241;43m.\u001b[39;49m\u001b[43mindex_api\u001b[49m\u001b[38;5;241;43m.\u001b[39;49m\u001b[43mcreate_index\u001b[49m\u001b[43m(\u001b[49m\u001b[43mcreate_index_request\u001b[49m\u001b[38;5;241;43m=\u001b[39;49m\u001b[43mreq\u001b[49m\u001b[43m)\u001b[49m\n\u001b[0;32m    145\u001b[0m     \u001b[38;5;28;01mif\u001b[39;00m timeout \u001b[38;5;241m==\u001b[39m \u001b[38;5;241m-\u001b[39m\u001b[38;5;241m1\u001b[39m:\n\u001b[0;32m    146\u001b[0m         \u001b[38;5;28;01mreturn\u001b[39;00m IndexModel(resp)\n",
      "File \u001b[1;32mc:\\Users\\Admin\\miniconda3\\envs\\medibot\\lib\\site-packages\\pinecone\\openapi_support\\endpoint.py:102\u001b[0m, in \u001b[0;36mEndpoint.__call__\u001b[1;34m(self, *args, **kwargs)\u001b[0m\n\u001b[0;32m     91\u001b[0m \u001b[38;5;28;01mdef\u001b[39;00m\u001b[38;5;250m \u001b[39m\u001b[38;5;21m__call__\u001b[39m(\u001b[38;5;28mself\u001b[39m, \u001b[38;5;241m*\u001b[39margs, \u001b[38;5;241m*\u001b[39m\u001b[38;5;241m*\u001b[39mkwargs):\n\u001b[0;32m     92\u001b[0m \u001b[38;5;250m    \u001b[39m\u001b[38;5;124;03m\"\"\"This method is invoked when endpoints are called\u001b[39;00m\n\u001b[0;32m     93\u001b[0m \u001b[38;5;124;03m    Example:\u001b[39;00m\n\u001b[0;32m     94\u001b[0m \n\u001b[1;32m   (...)\u001b[0m\n\u001b[0;32m    100\u001b[0m \n\u001b[0;32m    101\u001b[0m \u001b[38;5;124;03m    \"\"\"\u001b[39;00m\n\u001b[1;32m--> 102\u001b[0m     \u001b[38;5;28;01mreturn\u001b[39;00m \u001b[38;5;28mself\u001b[39m\u001b[38;5;241m.\u001b[39mcallable(\u001b[38;5;28mself\u001b[39m, \u001b[38;5;241m*\u001b[39margs, \u001b[38;5;241m*\u001b[39m\u001b[38;5;241m*\u001b[39mkwargs)\n",
      "File \u001b[1;32mc:\\Users\\Admin\\miniconda3\\envs\\medibot\\lib\\site-packages\\pinecone\\core\\openapi\\db_control\\api\\manage_indexes_api.py:235\u001b[0m, in \u001b[0;36mManageIndexesApi.__init__.<locals>.__create_index\u001b[1;34m(self, create_index_request, **kwargs)\u001b[0m\n\u001b[0;32m    233\u001b[0m kwargs \u001b[38;5;241m=\u001b[39m \u001b[38;5;28mself\u001b[39m\u001b[38;5;241m.\u001b[39m_process_openapi_kwargs(kwargs)\n\u001b[0;32m    234\u001b[0m kwargs[\u001b[38;5;124m\"\u001b[39m\u001b[38;5;124mcreate_index_request\u001b[39m\u001b[38;5;124m\"\u001b[39m] \u001b[38;5;241m=\u001b[39m create_index_request\n\u001b[1;32m--> 235\u001b[0m \u001b[38;5;28;01mreturn\u001b[39;00m \u001b[38;5;28mself\u001b[39m\u001b[38;5;241m.\u001b[39mcall_with_http_info(\u001b[38;5;241m*\u001b[39m\u001b[38;5;241m*\u001b[39mkwargs)\n",
      "File \u001b[1;32mc:\\Users\\Admin\\miniconda3\\envs\\medibot\\lib\\site-packages\\pinecone\\openapi_support\\endpoint.py:134\u001b[0m, in \u001b[0;36mEndpoint.call_with_http_info\u001b[1;34m(self, **kwargs)\u001b[0m\n\u001b[0;32m    124\u001b[0m params \u001b[38;5;241m=\u001b[39m EndpointUtils\u001b[38;5;241m.\u001b[39mgather_params(\n\u001b[0;32m    125\u001b[0m     attribute_map\u001b[38;5;241m=\u001b[39m\u001b[38;5;28mself\u001b[39m\u001b[38;5;241m.\u001b[39mattribute_map,\n\u001b[0;32m    126\u001b[0m     location_map\u001b[38;5;241m=\u001b[39m\u001b[38;5;28mself\u001b[39m\u001b[38;5;241m.\u001b[39mlocation_map,\n\u001b[1;32m   (...)\u001b[0m\n\u001b[0;32m    129\u001b[0m     kwargs\u001b[38;5;241m=\u001b[39mkwargs,\n\u001b[0;32m    130\u001b[0m )\n\u001b[0;32m    132\u001b[0m HeaderUtil\u001b[38;5;241m.\u001b[39mprepare_headers(headers_map\u001b[38;5;241m=\u001b[39m\u001b[38;5;28mself\u001b[39m\u001b[38;5;241m.\u001b[39mheaders_map, params\u001b[38;5;241m=\u001b[39mparams)\n\u001b[1;32m--> 134\u001b[0m \u001b[38;5;28;01mreturn\u001b[39;00m \u001b[38;5;28;43mself\u001b[39;49m\u001b[38;5;241;43m.\u001b[39;49m\u001b[43mapi_client\u001b[49m\u001b[38;5;241;43m.\u001b[39;49m\u001b[43mcall_api\u001b[49m\u001b[43m(\u001b[49m\n\u001b[0;32m    135\u001b[0m \u001b[43m    \u001b[49m\u001b[38;5;28;43mself\u001b[39;49m\u001b[38;5;241;43m.\u001b[39;49m\u001b[43msettings\u001b[49m\u001b[43m[\u001b[49m\u001b[38;5;124;43m\"\u001b[39;49m\u001b[38;5;124;43mendpoint_path\u001b[39;49m\u001b[38;5;124;43m\"\u001b[39;49m\u001b[43m]\u001b[49m\u001b[43m,\u001b[49m\n\u001b[0;32m    136\u001b[0m \u001b[43m    \u001b[49m\u001b[38;5;28;43mself\u001b[39;49m\u001b[38;5;241;43m.\u001b[39;49m\u001b[43msettings\u001b[49m\u001b[43m[\u001b[49m\u001b[38;5;124;43m\"\u001b[39;49m\u001b[38;5;124;43mhttp_method\u001b[39;49m\u001b[38;5;124;43m\"\u001b[39;49m\u001b[43m]\u001b[49m\u001b[43m,\u001b[49m\n\u001b[0;32m    137\u001b[0m \u001b[43m    \u001b[49m\u001b[43mpath_params\u001b[49m\u001b[38;5;241;43m=\u001b[39;49m\u001b[43mparams\u001b[49m\u001b[43m[\u001b[49m\u001b[38;5;124;43m\"\u001b[39;49m\u001b[38;5;124;43mpath\u001b[39;49m\u001b[38;5;124;43m\"\u001b[39;49m\u001b[43m]\u001b[49m\u001b[43m,\u001b[49m\n\u001b[0;32m    138\u001b[0m \u001b[43m    \u001b[49m\u001b[43mquery_params\u001b[49m\u001b[38;5;241;43m=\u001b[39;49m\u001b[43mparams\u001b[49m\u001b[43m[\u001b[49m\u001b[38;5;124;43m\"\u001b[39;49m\u001b[38;5;124;43mquery\u001b[39;49m\u001b[38;5;124;43m\"\u001b[39;49m\u001b[43m]\u001b[49m\u001b[43m,\u001b[49m\n\u001b[0;32m    139\u001b[0m \u001b[43m    \u001b[49m\u001b[43mheader_params\u001b[49m\u001b[38;5;241;43m=\u001b[39;49m\u001b[43mparams\u001b[49m\u001b[43m[\u001b[49m\u001b[38;5;124;43m\"\u001b[39;49m\u001b[38;5;124;43mheader\u001b[39;49m\u001b[38;5;124;43m\"\u001b[39;49m\u001b[43m]\u001b[49m\u001b[43m,\u001b[49m\n\u001b[0;32m    140\u001b[0m \u001b[43m    \u001b[49m\u001b[43mbody\u001b[49m\u001b[38;5;241;43m=\u001b[39;49m\u001b[43mparams\u001b[49m\u001b[43m[\u001b[49m\u001b[38;5;124;43m\"\u001b[39;49m\u001b[38;5;124;43mbody\u001b[39;49m\u001b[38;5;124;43m\"\u001b[39;49m\u001b[43m]\u001b[49m\u001b[43m,\u001b[49m\n\u001b[0;32m    141\u001b[0m \u001b[43m    \u001b[49m\u001b[43mpost_params\u001b[49m\u001b[38;5;241;43m=\u001b[39;49m\u001b[43mparams\u001b[49m\u001b[43m[\u001b[49m\u001b[38;5;124;43m\"\u001b[39;49m\u001b[38;5;124;43mform\u001b[39;49m\u001b[38;5;124;43m\"\u001b[39;49m\u001b[43m]\u001b[49m\u001b[43m,\u001b[49m\n\u001b[0;32m    142\u001b[0m \u001b[43m    \u001b[49m\u001b[43mfiles\u001b[49m\u001b[38;5;241;43m=\u001b[39;49m\u001b[43mparams\u001b[49m\u001b[43m[\u001b[49m\u001b[38;5;124;43m\"\u001b[39;49m\u001b[38;5;124;43mfile\u001b[39;49m\u001b[38;5;124;43m\"\u001b[39;49m\u001b[43m]\u001b[49m\u001b[43m,\u001b[49m\n\u001b[0;32m    143\u001b[0m \u001b[43m    \u001b[49m\u001b[43mresponse_type\u001b[49m\u001b[38;5;241;43m=\u001b[39;49m\u001b[38;5;28;43mself\u001b[39;49m\u001b[38;5;241;43m.\u001b[39;49m\u001b[43msettings\u001b[49m\u001b[43m[\u001b[49m\u001b[38;5;124;43m\"\u001b[39;49m\u001b[38;5;124;43mresponse_type\u001b[39;49m\u001b[38;5;124;43m\"\u001b[39;49m\u001b[43m]\u001b[49m\u001b[43m,\u001b[49m\n\u001b[0;32m    144\u001b[0m \u001b[43m    \u001b[49m\u001b[43mauth_settings\u001b[49m\u001b[38;5;241;43m=\u001b[39;49m\u001b[38;5;28;43mself\u001b[39;49m\u001b[38;5;241;43m.\u001b[39;49m\u001b[43msettings\u001b[49m\u001b[43m[\u001b[49m\u001b[38;5;124;43m\"\u001b[39;49m\u001b[38;5;124;43mauth\u001b[39;49m\u001b[38;5;124;43m\"\u001b[39;49m\u001b[43m]\u001b[49m\u001b[43m,\u001b[49m\n\u001b[0;32m    145\u001b[0m \u001b[43m    \u001b[49m\u001b[43masync_req\u001b[49m\u001b[38;5;241;43m=\u001b[39;49m\u001b[43mkwargs\u001b[49m\u001b[43m[\u001b[49m\u001b[38;5;124;43m\"\u001b[39;49m\u001b[38;5;124;43masync_req\u001b[39;49m\u001b[38;5;124;43m\"\u001b[39;49m\u001b[43m]\u001b[49m\u001b[43m,\u001b[49m\n\u001b[0;32m    146\u001b[0m \u001b[43m    \u001b[49m\u001b[43masync_threadpool_executor\u001b[49m\u001b[38;5;241;43m=\u001b[39;49m\u001b[43mkwargs\u001b[49m\u001b[38;5;241;43m.\u001b[39;49m\u001b[43mget\u001b[49m\u001b[43m(\u001b[49m\u001b[38;5;124;43m\"\u001b[39;49m\u001b[38;5;124;43masync_threadpool_executor\u001b[39;49m\u001b[38;5;124;43m\"\u001b[39;49m\u001b[43m,\u001b[49m\u001b[43m \u001b[49m\u001b[38;5;28;43;01mNone\u001b[39;49;00m\u001b[43m)\u001b[49m\u001b[43m,\u001b[49m\n\u001b[0;32m    147\u001b[0m \u001b[43m    \u001b[49m\u001b[43m_check_type\u001b[49m\u001b[38;5;241;43m=\u001b[39;49m\u001b[43mkwargs\u001b[49m\u001b[43m[\u001b[49m\u001b[38;5;124;43m\"\u001b[39;49m\u001b[38;5;124;43m_check_return_type\u001b[39;49m\u001b[38;5;124;43m\"\u001b[39;49m\u001b[43m]\u001b[49m\u001b[43m,\u001b[49m\n\u001b[0;32m    148\u001b[0m \u001b[43m    \u001b[49m\u001b[43m_return_http_data_only\u001b[49m\u001b[38;5;241;43m=\u001b[39;49m\u001b[43mkwargs\u001b[49m\u001b[43m[\u001b[49m\u001b[38;5;124;43m\"\u001b[39;49m\u001b[38;5;124;43m_return_http_data_only\u001b[39;49m\u001b[38;5;124;43m\"\u001b[39;49m\u001b[43m]\u001b[49m\u001b[43m,\u001b[49m\n\u001b[0;32m    149\u001b[0m \u001b[43m    \u001b[49m\u001b[43m_preload_content\u001b[49m\u001b[38;5;241;43m=\u001b[39;49m\u001b[43mkwargs\u001b[49m\u001b[43m[\u001b[49m\u001b[38;5;124;43m\"\u001b[39;49m\u001b[38;5;124;43m_preload_content\u001b[39;49m\u001b[38;5;124;43m\"\u001b[39;49m\u001b[43m]\u001b[49m\u001b[43m,\u001b[49m\n\u001b[0;32m    150\u001b[0m \u001b[43m    \u001b[49m\u001b[43m_request_timeout\u001b[49m\u001b[38;5;241;43m=\u001b[39;49m\u001b[43mkwargs\u001b[49m\u001b[43m[\u001b[49m\u001b[38;5;124;43m\"\u001b[39;49m\u001b[38;5;124;43m_request_timeout\u001b[39;49m\u001b[38;5;124;43m\"\u001b[39;49m\u001b[43m]\u001b[49m\u001b[43m,\u001b[49m\n\u001b[0;32m    151\u001b[0m \u001b[43m    \u001b[49m\u001b[43m_host\u001b[49m\u001b[38;5;241;43m=\u001b[39;49m\u001b[43m_host\u001b[49m\u001b[43m,\u001b[49m\n\u001b[0;32m    152\u001b[0m \u001b[43m    \u001b[49m\u001b[43mcollection_formats\u001b[49m\u001b[38;5;241;43m=\u001b[39;49m\u001b[43mparams\u001b[49m\u001b[43m[\u001b[49m\u001b[38;5;124;43m\"\u001b[39;49m\u001b[38;5;124;43mcollection_format\u001b[39;49m\u001b[38;5;124;43m\"\u001b[39;49m\u001b[43m]\u001b[49m\u001b[43m,\u001b[49m\n\u001b[0;32m    153\u001b[0m \u001b[43m\u001b[49m\u001b[43m)\u001b[49m\n",
      "File \u001b[1;32mc:\\Users\\Admin\\miniconda3\\envs\\medibot\\lib\\site-packages\\pinecone\\openapi_support\\api_client.py:300\u001b[0m, in \u001b[0;36mApiClient.call_api\u001b[1;34m(self, resource_path, method, path_params, query_params, header_params, body, post_params, files, response_type, auth_settings, async_req, async_threadpool_executor, _return_http_data_only, collection_formats, _preload_content, _request_timeout, _host, _check_type)\u001b[0m\n\u001b[0;32m    279\u001b[0m     \u001b[38;5;28;01mreturn\u001b[39;00m \u001b[38;5;28mself\u001b[39m\u001b[38;5;241m.\u001b[39mthreadpool_executor\u001b[38;5;241m.\u001b[39msubmit(\n\u001b[0;32m    280\u001b[0m         \u001b[38;5;28mself\u001b[39m\u001b[38;5;241m.\u001b[39m__call_api,\n\u001b[0;32m    281\u001b[0m         resource_path,\n\u001b[1;32m   (...)\u001b[0m\n\u001b[0;32m    296\u001b[0m         _check_type,\n\u001b[0;32m    297\u001b[0m     )\n\u001b[0;32m    299\u001b[0m \u001b[38;5;28;01mif\u001b[39;00m \u001b[38;5;129;01mnot\u001b[39;00m async_req:\n\u001b[1;32m--> 300\u001b[0m     \u001b[38;5;28;01mreturn\u001b[39;00m \u001b[38;5;28;43mself\u001b[39;49m\u001b[38;5;241;43m.\u001b[39;49m\u001b[43m__call_api\u001b[49m\u001b[43m(\u001b[49m\n\u001b[0;32m    301\u001b[0m \u001b[43m        \u001b[49m\u001b[43mresource_path\u001b[49m\u001b[43m,\u001b[49m\n\u001b[0;32m    302\u001b[0m \u001b[43m        \u001b[49m\u001b[43mmethod\u001b[49m\u001b[43m,\u001b[49m\n\u001b[0;32m    303\u001b[0m \u001b[43m        \u001b[49m\u001b[43mpath_params\u001b[49m\u001b[43m,\u001b[49m\n\u001b[0;32m    304\u001b[0m \u001b[43m        \u001b[49m\u001b[43mquery_params\u001b[49m\u001b[43m,\u001b[49m\n\u001b[0;32m    305\u001b[0m \u001b[43m        \u001b[49m\u001b[43mheader_params\u001b[49m\u001b[43m,\u001b[49m\n\u001b[0;32m    306\u001b[0m \u001b[43m        \u001b[49m\u001b[43mbody\u001b[49m\u001b[43m,\u001b[49m\n\u001b[0;32m    307\u001b[0m \u001b[43m        \u001b[49m\u001b[43mpost_params\u001b[49m\u001b[43m,\u001b[49m\n\u001b[0;32m    308\u001b[0m \u001b[43m        \u001b[49m\u001b[43mfiles\u001b[49m\u001b[43m,\u001b[49m\n\u001b[0;32m    309\u001b[0m \u001b[43m        \u001b[49m\u001b[43mresponse_type\u001b[49m\u001b[43m,\u001b[49m\n\u001b[0;32m    310\u001b[0m \u001b[43m        \u001b[49m\u001b[43mauth_settings\u001b[49m\u001b[43m,\u001b[49m\n\u001b[0;32m    311\u001b[0m \u001b[43m        \u001b[49m\u001b[43m_return_http_data_only\u001b[49m\u001b[43m,\u001b[49m\n\u001b[0;32m    312\u001b[0m \u001b[43m        \u001b[49m\u001b[43mcollection_formats\u001b[49m\u001b[43m,\u001b[49m\n\u001b[0;32m    313\u001b[0m \u001b[43m        \u001b[49m\u001b[43m_preload_content\u001b[49m\u001b[43m,\u001b[49m\n\u001b[0;32m    314\u001b[0m \u001b[43m        \u001b[49m\u001b[43m_request_timeout\u001b[49m\u001b[43m,\u001b[49m\n\u001b[0;32m    315\u001b[0m \u001b[43m        \u001b[49m\u001b[43m_host\u001b[49m\u001b[43m,\u001b[49m\n\u001b[0;32m    316\u001b[0m \u001b[43m        \u001b[49m\u001b[43m_check_type\u001b[49m\u001b[43m,\u001b[49m\n\u001b[0;32m    317\u001b[0m \u001b[43m    \u001b[49m\u001b[43m)\u001b[49m\n\u001b[0;32m    319\u001b[0m \u001b[38;5;28;01mreturn\u001b[39;00m \u001b[38;5;28mself\u001b[39m\u001b[38;5;241m.\u001b[39mpool\u001b[38;5;241m.\u001b[39mapply_async(\n\u001b[0;32m    320\u001b[0m     \u001b[38;5;28mself\u001b[39m\u001b[38;5;241m.\u001b[39m__call_api,\n\u001b[0;32m    321\u001b[0m     (\n\u001b[1;32m   (...)\u001b[0m\n\u001b[0;32m    338\u001b[0m     ),\n\u001b[0;32m    339\u001b[0m )\n",
      "File \u001b[1;32mc:\\Users\\Admin\\miniconda3\\envs\\medibot\\lib\\site-packages\\pinecone\\openapi_support\\api_client.py:178\u001b[0m, in \u001b[0;36mApiClient.__call_api\u001b[1;34m(self, resource_path, method, path_params, query_params, header_params, body, post_params, files, response_type, auth_settings, _return_http_data_only, collection_formats, _preload_content, _request_timeout, _host, _check_type)\u001b[0m\n\u001b[0;32m    176\u001b[0m \u001b[38;5;28;01mexcept\u001b[39;00m PineconeApiException \u001b[38;5;28;01mas\u001b[39;00m e:\n\u001b[0;32m    177\u001b[0m     e\u001b[38;5;241m.\u001b[39mbody \u001b[38;5;241m=\u001b[39m e\u001b[38;5;241m.\u001b[39mbody\u001b[38;5;241m.\u001b[39mdecode(\u001b[38;5;124m\"\u001b[39m\u001b[38;5;124mutf-8\u001b[39m\u001b[38;5;124m\"\u001b[39m)\n\u001b[1;32m--> 178\u001b[0m     \u001b[38;5;28;01mraise\u001b[39;00m e\n\u001b[0;32m    180\u001b[0m \u001b[38;5;28mself\u001b[39m\u001b[38;5;241m.\u001b[39mlast_response \u001b[38;5;241m=\u001b[39m response_data\n\u001b[0;32m    182\u001b[0m return_data \u001b[38;5;241m=\u001b[39m response_data\n",
      "File \u001b[1;32mc:\\Users\\Admin\\miniconda3\\envs\\medibot\\lib\\site-packages\\pinecone\\openapi_support\\api_client.py:166\u001b[0m, in \u001b[0;36mApiClient.__call_api\u001b[1;34m(self, resource_path, method, path_params, query_params, header_params, body, post_params, files, response_type, auth_settings, _return_http_data_only, collection_formats, _preload_content, _request_timeout, _host, _check_type)\u001b[0m\n\u001b[0;32m    157\u001b[0m url \u001b[38;5;241m=\u001b[39m build_request_url(\n\u001b[0;32m    158\u001b[0m     config\u001b[38;5;241m=\u001b[39mconfig,\n\u001b[0;32m    159\u001b[0m     processed_path_params\u001b[38;5;241m=\u001b[39mpath_params_tuple,\n\u001b[0;32m    160\u001b[0m     resource_path\u001b[38;5;241m=\u001b[39mresource_path,\n\u001b[0;32m    161\u001b[0m     _host\u001b[38;5;241m=\u001b[39m_host,\n\u001b[0;32m    162\u001b[0m )\n\u001b[0;32m    164\u001b[0m \u001b[38;5;28;01mtry\u001b[39;00m:\n\u001b[0;32m    165\u001b[0m     \u001b[38;5;66;03m# perform request and return response\u001b[39;00m\n\u001b[1;32m--> 166\u001b[0m     response_data \u001b[38;5;241m=\u001b[39m \u001b[38;5;28;43mself\u001b[39;49m\u001b[38;5;241;43m.\u001b[39;49m\u001b[43mrequest\u001b[49m\u001b[43m(\u001b[49m\n\u001b[0;32m    167\u001b[0m \u001b[43m        \u001b[49m\u001b[43mmethod\u001b[49m\u001b[43m,\u001b[49m\n\u001b[0;32m    168\u001b[0m \u001b[43m        \u001b[49m\u001b[43murl\u001b[49m\u001b[43m,\u001b[49m\n\u001b[0;32m    169\u001b[0m \u001b[43m        \u001b[49m\u001b[43mquery_params\u001b[49m\u001b[38;5;241;43m=\u001b[39;49m\u001b[43mprocessed_query_params\u001b[49m\u001b[43m,\u001b[49m\n\u001b[0;32m    170\u001b[0m \u001b[43m        \u001b[49m\u001b[43mheaders\u001b[49m\u001b[38;5;241;43m=\u001b[39;49m\u001b[43mheaders_tuple\u001b[49m\u001b[43m,\u001b[49m\n\u001b[0;32m    171\u001b[0m \u001b[43m        \u001b[49m\u001b[43mpost_params\u001b[49m\u001b[38;5;241;43m=\u001b[39;49m\u001b[43mprocessed_post_params\u001b[49m\u001b[43m,\u001b[49m\n\u001b[0;32m    172\u001b[0m \u001b[43m        \u001b[49m\u001b[43mbody\u001b[49m\u001b[38;5;241;43m=\u001b[39;49m\u001b[43mbody\u001b[49m\u001b[43m,\u001b[49m\n\u001b[0;32m    173\u001b[0m \u001b[43m        \u001b[49m\u001b[43m_preload_content\u001b[49m\u001b[38;5;241;43m=\u001b[39;49m\u001b[43m_preload_content\u001b[49m\u001b[43m,\u001b[49m\n\u001b[0;32m    174\u001b[0m \u001b[43m        \u001b[49m\u001b[43m_request_timeout\u001b[49m\u001b[38;5;241;43m=\u001b[39;49m\u001b[43m_request_timeout\u001b[49m\u001b[43m,\u001b[49m\n\u001b[0;32m    175\u001b[0m \u001b[43m    \u001b[49m\u001b[43m)\u001b[49m\n\u001b[0;32m    176\u001b[0m \u001b[38;5;28;01mexcept\u001b[39;00m PineconeApiException \u001b[38;5;28;01mas\u001b[39;00m e:\n\u001b[0;32m    177\u001b[0m     e\u001b[38;5;241m.\u001b[39mbody \u001b[38;5;241m=\u001b[39m e\u001b[38;5;241m.\u001b[39mbody\u001b[38;5;241m.\u001b[39mdecode(\u001b[38;5;124m\"\u001b[39m\u001b[38;5;124mutf-8\u001b[39m\u001b[38;5;124m\"\u001b[39m)\n",
      "File \u001b[1;32mc:\\Users\\Admin\\miniconda3\\envs\\medibot\\lib\\site-packages\\pinecone\\openapi_support\\api_client.py:380\u001b[0m, in \u001b[0;36mApiClient.request\u001b[1;34m(self, method, url, query_params, headers, post_params, body, _preload_content, _request_timeout)\u001b[0m\n\u001b[0;32m    370\u001b[0m     \u001b[38;5;28;01mreturn\u001b[39;00m \u001b[38;5;28mself\u001b[39m\u001b[38;5;241m.\u001b[39mrest_client\u001b[38;5;241m.\u001b[39mOPTIONS(\n\u001b[0;32m    371\u001b[0m         url,\n\u001b[0;32m    372\u001b[0m         query_params\u001b[38;5;241m=\u001b[39mquery_params,\n\u001b[1;32m   (...)\u001b[0m\n\u001b[0;32m    377\u001b[0m         body\u001b[38;5;241m=\u001b[39mbody,\n\u001b[0;32m    378\u001b[0m     )\n\u001b[0;32m    379\u001b[0m \u001b[38;5;28;01melif\u001b[39;00m method \u001b[38;5;241m==\u001b[39m \u001b[38;5;124m\"\u001b[39m\u001b[38;5;124mPOST\u001b[39m\u001b[38;5;124m\"\u001b[39m:\n\u001b[1;32m--> 380\u001b[0m     \u001b[38;5;28;01mreturn\u001b[39;00m \u001b[38;5;28;43mself\u001b[39;49m\u001b[38;5;241;43m.\u001b[39;49m\u001b[43mrest_client\u001b[49m\u001b[38;5;241;43m.\u001b[39;49m\u001b[43mPOST\u001b[49m\u001b[43m(\u001b[49m\n\u001b[0;32m    381\u001b[0m \u001b[43m        \u001b[49m\u001b[43murl\u001b[49m\u001b[43m,\u001b[49m\n\u001b[0;32m    382\u001b[0m \u001b[43m        \u001b[49m\u001b[43mquery_params\u001b[49m\u001b[38;5;241;43m=\u001b[39;49m\u001b[43mquery_params\u001b[49m\u001b[43m,\u001b[49m\n\u001b[0;32m    383\u001b[0m \u001b[43m        \u001b[49m\u001b[43mheaders\u001b[49m\u001b[38;5;241;43m=\u001b[39;49m\u001b[43mheaders\u001b[49m\u001b[43m,\u001b[49m\n\u001b[0;32m    384\u001b[0m \u001b[43m        \u001b[49m\u001b[43mpost_params\u001b[49m\u001b[38;5;241;43m=\u001b[39;49m\u001b[43mpost_params\u001b[49m\u001b[43m,\u001b[49m\n\u001b[0;32m    385\u001b[0m \u001b[43m        \u001b[49m\u001b[43m_preload_content\u001b[49m\u001b[38;5;241;43m=\u001b[39;49m\u001b[43m_preload_content\u001b[49m\u001b[43m,\u001b[49m\n\u001b[0;32m    386\u001b[0m \u001b[43m        \u001b[49m\u001b[43m_request_timeout\u001b[49m\u001b[38;5;241;43m=\u001b[39;49m\u001b[43m_request_timeout\u001b[49m\u001b[43m,\u001b[49m\n\u001b[0;32m    387\u001b[0m \u001b[43m        \u001b[49m\u001b[43mbody\u001b[49m\u001b[38;5;241;43m=\u001b[39;49m\u001b[43mbody\u001b[49m\u001b[43m,\u001b[49m\n\u001b[0;32m    388\u001b[0m \u001b[43m    \u001b[49m\u001b[43m)\u001b[49m\n\u001b[0;32m    389\u001b[0m \u001b[38;5;28;01melif\u001b[39;00m method \u001b[38;5;241m==\u001b[39m \u001b[38;5;124m\"\u001b[39m\u001b[38;5;124mPUT\u001b[39m\u001b[38;5;124m\"\u001b[39m:\n\u001b[0;32m    390\u001b[0m     \u001b[38;5;28;01mreturn\u001b[39;00m \u001b[38;5;28mself\u001b[39m\u001b[38;5;241m.\u001b[39mrest_client\u001b[38;5;241m.\u001b[39mPUT(\n\u001b[0;32m    391\u001b[0m         url,\n\u001b[0;32m    392\u001b[0m         query_params\u001b[38;5;241m=\u001b[39mquery_params,\n\u001b[1;32m   (...)\u001b[0m\n\u001b[0;32m    397\u001b[0m         body\u001b[38;5;241m=\u001b[39mbody,\n\u001b[0;32m    398\u001b[0m     )\n",
      "File \u001b[1;32mc:\\Users\\Admin\\miniconda3\\envs\\medibot\\lib\\site-packages\\pinecone\\openapi_support\\rest_utils.py:146\u001b[0m, in \u001b[0;36mRestClientInterface.POST\u001b[1;34m(self, url, headers, query_params, post_params, body, _preload_content, _request_timeout)\u001b[0m\n\u001b[0;32m    136\u001b[0m \u001b[38;5;28;01mdef\u001b[39;00m\u001b[38;5;250m \u001b[39m\u001b[38;5;21mPOST\u001b[39m(\n\u001b[0;32m    137\u001b[0m     \u001b[38;5;28mself\u001b[39m,\n\u001b[0;32m    138\u001b[0m     url,\n\u001b[1;32m   (...)\u001b[0m\n\u001b[0;32m    144\u001b[0m     _request_timeout\u001b[38;5;241m=\u001b[39m\u001b[38;5;28;01mNone\u001b[39;00m,\n\u001b[0;32m    145\u001b[0m ):\n\u001b[1;32m--> 146\u001b[0m     \u001b[38;5;28;01mreturn\u001b[39;00m \u001b[38;5;28;43mself\u001b[39;49m\u001b[38;5;241;43m.\u001b[39;49m\u001b[43mrequest\u001b[49m\u001b[43m(\u001b[49m\n\u001b[0;32m    147\u001b[0m \u001b[43m        \u001b[49m\u001b[38;5;124;43m\"\u001b[39;49m\u001b[38;5;124;43mPOST\u001b[39;49m\u001b[38;5;124;43m\"\u001b[39;49m\u001b[43m,\u001b[49m\n\u001b[0;32m    148\u001b[0m \u001b[43m        \u001b[49m\u001b[43murl\u001b[49m\u001b[43m,\u001b[49m\n\u001b[0;32m    149\u001b[0m \u001b[43m        \u001b[49m\u001b[43mheaders\u001b[49m\u001b[38;5;241;43m=\u001b[39;49m\u001b[43mheaders\u001b[49m\u001b[43m,\u001b[49m\n\u001b[0;32m    150\u001b[0m \u001b[43m        \u001b[49m\u001b[43mquery_params\u001b[49m\u001b[38;5;241;43m=\u001b[39;49m\u001b[43mquery_params\u001b[49m\u001b[43m,\u001b[49m\n\u001b[0;32m    151\u001b[0m \u001b[43m        \u001b[49m\u001b[43mpost_params\u001b[49m\u001b[38;5;241;43m=\u001b[39;49m\u001b[43mpost_params\u001b[49m\u001b[43m,\u001b[49m\n\u001b[0;32m    152\u001b[0m \u001b[43m        \u001b[49m\u001b[43m_preload_content\u001b[49m\u001b[38;5;241;43m=\u001b[39;49m\u001b[43m_preload_content\u001b[49m\u001b[43m,\u001b[49m\n\u001b[0;32m    153\u001b[0m \u001b[43m        \u001b[49m\u001b[43m_request_timeout\u001b[49m\u001b[38;5;241;43m=\u001b[39;49m\u001b[43m_request_timeout\u001b[49m\u001b[43m,\u001b[49m\n\u001b[0;32m    154\u001b[0m \u001b[43m        \u001b[49m\u001b[43mbody\u001b[49m\u001b[38;5;241;43m=\u001b[39;49m\u001b[43mbody\u001b[49m\u001b[43m,\u001b[49m\n\u001b[0;32m    155\u001b[0m \u001b[43m    \u001b[49m\u001b[43m)\u001b[49m\n",
      "File \u001b[1;32mc:\\Users\\Admin\\miniconda3\\envs\\medibot\\lib\\site-packages\\pinecone\\openapi_support\\rest_urllib3.py:260\u001b[0m, in \u001b[0;36mUrllib3RestClient.request\u001b[1;34m(self, method, url, query_params, headers, body, post_params, _preload_content, _request_timeout)\u001b[0m\n\u001b[0;32m    257\u001b[0m     \u001b[38;5;66;03m# log response body\u001b[39;00m\n\u001b[0;32m    258\u001b[0m     logger\u001b[38;5;241m.\u001b[39mdebug(\u001b[38;5;124m\"\u001b[39m\u001b[38;5;124mresponse body: \u001b[39m\u001b[38;5;132;01m%s\u001b[39;00m\u001b[38;5;124m\"\u001b[39m, r\u001b[38;5;241m.\u001b[39mdata)\n\u001b[1;32m--> 260\u001b[0m \u001b[38;5;28;01mreturn\u001b[39;00m \u001b[43mraise_exceptions_or_return\u001b[49m\u001b[43m(\u001b[49m\u001b[43mr\u001b[49m\u001b[43m)\u001b[49m\n",
      "File \u001b[1;32mc:\\Users\\Admin\\miniconda3\\envs\\medibot\\lib\\site-packages\\pinecone\\openapi_support\\rest_utils.py:49\u001b[0m, in \u001b[0;36mraise_exceptions_or_return\u001b[1;34m(r)\u001b[0m\n\u001b[0;32m     46\u001b[0m     \u001b[38;5;28;01mif\u001b[39;00m \u001b[38;5;241m500\u001b[39m \u001b[38;5;241m<\u001b[39m\u001b[38;5;241m=\u001b[39m r\u001b[38;5;241m.\u001b[39mstatus \u001b[38;5;241m<\u001b[39m\u001b[38;5;241m=\u001b[39m \u001b[38;5;241m599\u001b[39m:\n\u001b[0;32m     47\u001b[0m         \u001b[38;5;28;01mraise\u001b[39;00m ServiceException(http_resp\u001b[38;5;241m=\u001b[39mr)\n\u001b[1;32m---> 49\u001b[0m     \u001b[38;5;28;01mraise\u001b[39;00m PineconeApiException(http_resp\u001b[38;5;241m=\u001b[39mr)\n\u001b[0;32m     51\u001b[0m \u001b[38;5;28;01mreturn\u001b[39;00m r\n",
      "\u001b[1;31mPineconeApiException\u001b[0m: (400)\nReason: Bad Request\nHTTP response headers: HTTPHeaderDict({'content-type': 'text/plain; charset=utf-8', 'access-control-allow-origin': '*', 'vary': 'origin,access-control-request-method,access-control-request-headers', 'access-control-expose-headers': '*', 'x-pinecone-api-version': '2025-01', 'x-cloud-trace-context': 'd84ce7fac897024026d64add537f9697', 'date': 'Mon, 28 Apr 2025 19:21:52 GMT', 'server': 'Google Frontend', 'Content-Length': '125', 'Via': '1.1 google', 'Alt-Svc': 'h3=\":443\"; ma=2592000,h3-29=\":443\"; ma=2592000'})\nHTTP response body: {\"error\":{\"code\":\"INVALID_ARGUMENT\",\"message\":\"Name must consist of lower case alphanumeric characters or '-'\"},\"status\":400}\n"
     ]
    }
   ],
   "source": [
    "# index_name = \"mediBot\"\n",
    "\n",
    "# pc.create_index(\n",
    "#     name=index_name,\n",
    "#     dimension=384, # Replace with your model dimensions\n",
    "#     metric=\"cosine\", # Replace with your model metric\n",
    "#     spec=ServerlessSpec(\n",
    "#         cloud=\"aws\",\n",
    "#         region=\"us-east-1\"\n",
    "#     ) \n",
    "# )"
   ]
  },
  {
   "cell_type": "code",
   "execution_count": null,
   "id": "454337a9",
   "metadata": {},
   "outputs": [],
   "source": [
    "# from dotenv import load_dotenv"
   ]
  },
  {
   "cell_type": "code",
   "execution_count": null,
   "id": "d7b5454d",
   "metadata": {},
   "outputs": [
    {
     "data": {
      "text/plain": [
       "False"
      ]
     },
     "execution_count": 81,
     "metadata": {},
     "output_type": "execute_result"
    }
   ],
   "source": [
    "# from dotenv import load_dotenv\n",
    "# load_dotenv()"
   ]
  },
  {
   "cell_type": "code",
   "execution_count": null,
   "id": "f1d2dce8",
   "metadata": {},
   "outputs": [],
   "source": [
    "# pineconae_api_key=os.environ.get('pinecone_api_key')"
   ]
  },
  {
   "cell_type": "code",
   "execution_count": null,
   "id": "0b4b932d",
   "metadata": {},
   "outputs": [
    {
     "ename": "ModuleNotFoundError",
     "evalue": "No module named 'google'",
     "output_type": "error",
     "traceback": [
      "\u001b[1;31m---------------------------------------------------------------------------\u001b[0m",
      "\u001b[1;31mModuleNotFoundError\u001b[0m                       Traceback (most recent call last)",
      "Cell \u001b[1;32mIn[83], line 1\u001b[0m\n\u001b[1;32m----> 1\u001b[0m \u001b[38;5;28;01mfrom\u001b[39;00m\u001b[38;5;250m \u001b[39m\u001b[38;5;21;01mpinecone\u001b[39;00m\u001b[38;5;21;01m.\u001b[39;00m\u001b[38;5;21;01mgrpc\u001b[39;00m\u001b[38;5;250m \u001b[39m\u001b[38;5;28;01mimport\u001b[39;00m pineconeGRPC \u001b[38;5;28;01mas\u001b[39;00m pinecone\n\u001b[0;32m      2\u001b[0m \u001b[38;5;28;01mfrom\u001b[39;00m\u001b[38;5;250m \u001b[39m\u001b[38;5;21;01mpinecone\u001b[39;00m\u001b[38;5;250m \u001b[39m\u001b[38;5;28;01mimport\u001b[39;00m ServerlessSpec\n\u001b[0;32m      3\u001b[0m \u001b[38;5;28;01mimport\u001b[39;00m\u001b[38;5;250m \u001b[39m\u001b[38;5;21;01mos\u001b[39;00m\n",
      "File \u001b[1;32mc:\\Users\\Admin\\miniconda3\\envs\\medibot\\lib\\site-packages\\pinecone\\grpc\\__init__.py:47\u001b[0m\n\u001b[0;32m      1\u001b[0m \u001b[38;5;124;03m\"\"\"\u001b[39;00m\n\u001b[0;32m      2\u001b[0m \u001b[38;5;124;03mConnecting to Pinecone with GRPC\u001b[39;00m\n\u001b[0;32m      3\u001b[0m \n\u001b[1;32m   (...)\u001b[0m\n\u001b[0;32m     44\u001b[0m \n\u001b[0;32m     45\u001b[0m \u001b[38;5;124;03m\"\"\"\u001b[39;00m\n\u001b[1;32m---> 47\u001b[0m \u001b[38;5;28;01mfrom\u001b[39;00m\u001b[38;5;250m \u001b[39m\u001b[38;5;21;01m.\u001b[39;00m\u001b[38;5;21;01mindex_grpc\u001b[39;00m\u001b[38;5;250m \u001b[39m\u001b[38;5;28;01mimport\u001b[39;00m GRPCIndex\n\u001b[0;32m     48\u001b[0m \u001b[38;5;28;01mfrom\u001b[39;00m\u001b[38;5;250m \u001b[39m\u001b[38;5;21;01m.\u001b[39;00m\u001b[38;5;21;01mpinecone\u001b[39;00m\u001b[38;5;250m \u001b[39m\u001b[38;5;28;01mimport\u001b[39;00m PineconeGRPC\n\u001b[0;32m     49\u001b[0m \u001b[38;5;28;01mfrom\u001b[39;00m\u001b[38;5;250m \u001b[39m\u001b[38;5;21;01m.\u001b[39;00m\u001b[38;5;21;01mconfig\u001b[39;00m\u001b[38;5;250m \u001b[39m\u001b[38;5;28;01mimport\u001b[39;00m GRPCClientConfig\n",
      "File \u001b[1;32mc:\\Users\\Admin\\miniconda3\\envs\\medibot\\lib\\site-packages\\pinecone\\grpc\\index_grpc.py:4\u001b[0m\n\u001b[0;32m      1\u001b[0m \u001b[38;5;28;01mimport\u001b[39;00m\u001b[38;5;250m \u001b[39m\u001b[38;5;21;01mlogging\u001b[39;00m\n\u001b[0;32m      2\u001b[0m \u001b[38;5;28;01mfrom\u001b[39;00m\u001b[38;5;250m \u001b[39m\u001b[38;5;21;01mtyping\u001b[39;00m\u001b[38;5;250m \u001b[39m\u001b[38;5;28;01mimport\u001b[39;00m Optional, Dict, Union, List, Tuple, Any, Iterable, cast, Literal\n\u001b[1;32m----> 4\u001b[0m \u001b[38;5;28;01mfrom\u001b[39;00m\u001b[38;5;250m \u001b[39m\u001b[38;5;21;01mgoogle\u001b[39;00m\u001b[38;5;21;01m.\u001b[39;00m\u001b[38;5;21;01mprotobuf\u001b[39;00m\u001b[38;5;250m \u001b[39m\u001b[38;5;28;01mimport\u001b[39;00m json_format\n\u001b[0;32m      6\u001b[0m \u001b[38;5;28;01mfrom\u001b[39;00m\u001b[38;5;250m \u001b[39m\u001b[38;5;21;01mpinecone\u001b[39;00m\u001b[38;5;21;01m.\u001b[39;00m\u001b[38;5;21;01mutils\u001b[39;00m\u001b[38;5;21;01m.\u001b[39;00m\u001b[38;5;21;01mtqdm\u001b[39;00m\u001b[38;5;250m \u001b[39m\u001b[38;5;28;01mimport\u001b[39;00m tqdm\n\u001b[0;32m      7\u001b[0m \u001b[38;5;28;01mfrom\u001b[39;00m\u001b[38;5;250m \u001b[39m\u001b[38;5;21;01mconcurrent\u001b[39;00m\u001b[38;5;21;01m.\u001b[39;00m\u001b[38;5;21;01mfutures\u001b[39;00m\u001b[38;5;250m \u001b[39m\u001b[38;5;28;01mimport\u001b[39;00m as_completed, Future\n",
      "\u001b[1;31mModuleNotFoundError\u001b[0m: No module named 'google'"
     ]
    }
   ],
   "source": [
    "# from pinecone.grpc import pineconeGRPC as pinecone\n",
    "# from pinecone import ServerlessSpec\n",
    "# import os\n",
    "\n",
    "# pc = pinecone(api_key=pinecone_api_key)\n",
    "\n",
    "# index_name = \"MatriBot\"\n",
    "\n",
    "# pc.create_index(\n",
    "#     name=index_name,\n",
    "#     dimension=384, # Replace with your model dimensions\n",
    "#     metric=\"cosine\", # Replace with your model metric\n",
    "#     spec=ServerlessSpec(\n",
    "#         cloud=\"aws\",\n",
    "#         region=\"us-east-1\"\n",
    "#     ) \n",
    "# )"
   ]
  },
  {
   "cell_type": "code",
   "execution_count": null,
   "id": "1301395f",
   "metadata": {},
   "outputs": [
    {
     "name": "stdout",
     "output_type": "stream",
     "text": [
      "Collecting pinecone-client\n",
      "  Downloading pinecone_client-6.0.0-py3-none-any.whl.metadata (3.4 kB)\n",
      "Requirement already satisfied: certifi>=2019.11.17 in c:\\users\\admin\\miniconda3\\envs\\medibot\\lib\\site-packages (from pinecone-client) (2025.4.26)\n",
      "Requirement already satisfied: pinecone-plugin-interface<0.0.8,>=0.0.7 in c:\\users\\admin\\miniconda3\\envs\\medibot\\lib\\site-packages (from pinecone-client) (0.0.7)\n",
      "Requirement already satisfied: python-dateutil>=2.5.3 in c:\\users\\admin\\miniconda3\\envs\\medibot\\lib\\site-packages (from pinecone-client) (2.9.0.post0)\n",
      "Requirement already satisfied: typing-extensions>=3.7.4 in c:\\users\\admin\\miniconda3\\envs\\medibot\\lib\\site-packages (from pinecone-client) (4.13.2)\n",
      "Requirement already satisfied: urllib3>=1.26.0 in c:\\users\\admin\\miniconda3\\envs\\medibot\\lib\\site-packages (from pinecone-client) (2.4.0)\n",
      "Requirement already satisfied: six>=1.5 in c:\\users\\admin\\miniconda3\\envs\\medibot\\lib\\site-packages (from python-dateutil>=2.5.3->pinecone-client) (1.17.0)\n",
      "Downloading pinecone_client-6.0.0-py3-none-any.whl (6.7 kB)\n",
      "Installing collected packages: pinecone-client\n",
      "Successfully installed pinecone-client-6.0.0\n",
      "Note: you may need to restart the kernel to use updated packages.\n"
     ]
    }
   ],
   "source": [
    "\n"
   ]
  },
  {
   "cell_type": "code",
   "execution_count": null,
   "id": "68acd5e2",
   "metadata": {},
   "outputs": [],
   "source": [
    "\n"
   ]
  },
  {
   "cell_type": "code",
   "execution_count": null,
   "id": "98ce9765",
   "metadata": {},
   "outputs": [
    {
     "ename": "AttributeError",
     "evalue": "init is no longer a top-level attribute of the pinecone package.\n\nPlease create an instance of the Pinecone class instead.\n\nExample:\n\n    import os\n    from pinecone import Pinecone, ServerlessSpec\n\n    pc = Pinecone(\n        api_key=os.environ.get(\"PINECONE_API_KEY\")\n    )\n\n    # Now do stuff\n    if 'my_index' not in pc.list_indexes().names():\n        pc.create_index(\n            name='my_index', \n            dimension=1536, \n            metric='euclidean',\n            spec=ServerlessSpec(\n                cloud='aws',\n                region='us-west-2'\n            )\n        )\n\n",
     "output_type": "error",
     "traceback": [
      "\u001b[1;31m---------------------------------------------------------------------------\u001b[0m",
      "\u001b[1;31mAttributeError\u001b[0m                            Traceback (most recent call last)",
      "Cell \u001b[1;32mIn[86], line 1\u001b[0m\n\u001b[1;32m----> 1\u001b[0m \u001b[43mpinecone\u001b[49m\u001b[38;5;241;43m.\u001b[39;49m\u001b[43minit\u001b[49m\u001b[43m(\u001b[49m\n\u001b[0;32m      2\u001b[0m \u001b[43m    \u001b[49m\u001b[43mapi_key\u001b[49m\u001b[38;5;241;43m=\u001b[39;49m\u001b[38;5;124;43m\"\u001b[39;49m\u001b[38;5;124;43mpcsk_4GEtY5_3SpouDjoxsjHc17apP6FsWZcNXdBJT89U3Us4J8pnkBQTpY7w6Za9WTZZZduE2Y\u001b[39;49m\u001b[38;5;124;43m\"\u001b[39;49m\u001b[43m,\u001b[49m\n\u001b[0;32m      3\u001b[0m \u001b[43m    \u001b[49m\u001b[43menvironment\u001b[49m\u001b[38;5;241;43m=\u001b[39;49m\u001b[38;5;124;43m\"\u001b[39;49m\u001b[38;5;124;43mus-east-1-aws\u001b[39;49m\u001b[38;5;124;43m\"\u001b[39;49m\u001b[43m  \u001b[49m\u001b[38;5;66;43;03m# Example: region info\u001b[39;49;00m\n\u001b[0;32m      4\u001b[0m \u001b[43m)\u001b[49m\n\u001b[0;32m      6\u001b[0m index_name \u001b[38;5;241m=\u001b[39m \u001b[38;5;124m\"\u001b[39m\u001b[38;5;124mMatriBot\u001b[39m\u001b[38;5;124m\"\u001b[39m\n\u001b[0;32m      8\u001b[0m pinecone\u001b[38;5;241m.\u001b[39mcreate_index(\n\u001b[0;32m      9\u001b[0m     name\u001b[38;5;241m=\u001b[39mindex_name,\n\u001b[0;32m     10\u001b[0m     dimension\u001b[38;5;241m=\u001b[39m\u001b[38;5;241m384\u001b[39m,       \u001b[38;5;66;03m# Your embedding size\u001b[39;00m\n\u001b[1;32m   (...)\u001b[0m\n\u001b[0;32m     15\u001b[0m     )\n\u001b[0;32m     16\u001b[0m )\n",
      "File \u001b[1;32mc:\\Users\\Admin\\miniconda3\\envs\\medibot\\lib\\site-packages\\pinecone\\deprecation_warnings.py:39\u001b[0m, in \u001b[0;36minit\u001b[1;34m(*args, **kwargs)\u001b[0m\n\u001b[0;32m     12\u001b[0m     example \u001b[38;5;241m=\u001b[39m \u001b[38;5;124m\"\"\"\u001b[39m\n\u001b[0;32m     13\u001b[0m \u001b[38;5;124m    import os\u001b[39m\n\u001b[0;32m     14\u001b[0m \u001b[38;5;124m    from pinecone import Pinecone, ServerlessSpec\u001b[39m\n\u001b[1;32m   (...)\u001b[0m\n\u001b[0;32m     30\u001b[0m \u001b[38;5;124m        )\u001b[39m\n\u001b[0;32m     31\u001b[0m \u001b[38;5;124m\"\"\"\u001b[39m\n\u001b[0;32m     32\u001b[0m     msg \u001b[38;5;241m=\u001b[39m \u001b[38;5;124mf\u001b[39m\u001b[38;5;124m\"\"\"\u001b[39m\u001b[38;5;124minit is no longer a top-level attribute of the pinecone package.\u001b[39m\n\u001b[0;32m     33\u001b[0m \n\u001b[0;32m     34\u001b[0m \u001b[38;5;124mPlease create an instance of the Pinecone class instead.\u001b[39m\n\u001b[1;32m   (...)\u001b[0m\n\u001b[0;32m     37\u001b[0m \u001b[38;5;132;01m{\u001b[39;00mexample\u001b[38;5;132;01m}\u001b[39;00m\n\u001b[0;32m     38\u001b[0m \u001b[38;5;124m\"\"\"\u001b[39m\n\u001b[1;32m---> 39\u001b[0m     \u001b[38;5;28;01mraise\u001b[39;00m \u001b[38;5;167;01mAttributeError\u001b[39;00m(msg)\n",
      "\u001b[1;31mAttributeError\u001b[0m: init is no longer a top-level attribute of the pinecone package.\n\nPlease create an instance of the Pinecone class instead.\n\nExample:\n\n    import os\n    from pinecone import Pinecone, ServerlessSpec\n\n    pc = Pinecone(\n        api_key=os.environ.get(\"PINECONE_API_KEY\")\n    )\n\n    # Now do stuff\n    if 'my_index' not in pc.list_indexes().names():\n        pc.create_index(\n            name='my_index', \n            dimension=1536, \n            metric='euclidean',\n            spec=ServerlessSpec(\n                cloud='aws',\n                region='us-west-2'\n            )\n        )\n\n"
     ]
    }
   ],
   "source": [
    "# pinecone.init(\n",
    "#     api_key=\"pcsk_4GEtY5_3SpouDjoxsjHc17apP6FsWZcNXdBJT89U3Us4J8pnkBQTpY7w6Za9WTZZZduE2Y\",\n",
    "#     environment=\"us-east-1-aws\"  # Example: region info\n",
    "# )\n",
    "\n",
    "#index_name = \"MatriBot\"\n",
    "\n",
    "#pinecone.create_index(\n",
    "    #name=index_name,\n",
    "    #dimension=384,       # Your embedding size\n",
    "    #metric=\"cosine\",      # Metric you are using\n",
    "    #spec=ServerlessSpec(\n",
    "        #cloud=\"aws\",\n",
    "        #region=\"us-east-1\"\n",
    "    #)\n",
    "#)\n"
   ]
  },
  {
   "cell_type": "code",
   "execution_count": null,
   "id": "6ef46bd9",
   "metadata": {},
   "outputs": [
    {
     "name": "stdout",
     "output_type": "stream",
     "text": [
      "Requirement already satisfied: pinecone-client in c:\\users\\admin\\miniconda3\\envs\\medibot\\lib\\site-packages (6.0.0)\n",
      "Requirement already satisfied: certifi>=2019.11.17 in c:\\users\\admin\\miniconda3\\envs\\medibot\\lib\\site-packages (from pinecone-client) (2025.4.26)\n",
      "Requirement already satisfied: pinecone-plugin-interface<0.0.8,>=0.0.7 in c:\\users\\admin\\miniconda3\\envs\\medibot\\lib\\site-packages (from pinecone-client) (0.0.7)\n",
      "Requirement already satisfied: python-dateutil>=2.5.3 in c:\\users\\admin\\miniconda3\\envs\\medibot\\lib\\site-packages (from pinecone-client) (2.9.0.post0)\n",
      "Requirement already satisfied: typing-extensions>=3.7.4 in c:\\users\\admin\\miniconda3\\envs\\medibot\\lib\\site-packages (from pinecone-client) (4.13.2)\n",
      "Requirement already satisfied: urllib3>=1.26.0 in c:\\users\\admin\\miniconda3\\envs\\medibot\\lib\\site-packages (from pinecone-client) (2.4.0)\n",
      "Requirement already satisfied: six>=1.5 in c:\\users\\admin\\miniconda3\\envs\\medibot\\lib\\site-packages (from python-dateutil>=2.5.3->pinecone-client) (1.17.0)\n",
      "Note: you may need to restart the kernel to use updated packages.\n"
     ]
    }
   ],
   "source": [
    "#pip install -U pinecone-client\n"
   ]
  },
  {
   "cell_type": "code",
   "execution_count": null,
   "id": "5bbee31a",
   "metadata": {},
   "outputs": [
    {
     "ename": "Exception",
     "evalue": "The official Pinecone python package has been renamed from `pinecone-client` to `pinecone`. Please remove `pinecone-client` from your project dependencies and add `pinecone` instead. See the README at https://github.com/pinecone-io/pinecone-python-client for more information on using the python SDK.",
     "output_type": "error",
     "traceback": [
      "\u001b[1;31m---------------------------------------------------------------------------\u001b[0m",
      "\u001b[1;31mException\u001b[0m                                 Traceback (most recent call last)",
      "Cell \u001b[1;32mIn[1], line 1\u001b[0m\n\u001b[1;32m----> 1\u001b[0m \u001b[38;5;28;01mimport\u001b[39;00m\u001b[38;5;250m \u001b[39m\u001b[38;5;21;01mpinecone\u001b[39;00m\n\u001b[0;32m      2\u001b[0m \u001b[38;5;28;01mfrom\u001b[39;00m\u001b[38;5;250m \u001b[39m\u001b[38;5;21;01mpinecone\u001b[39;00m\u001b[38;5;250m \u001b[39m\u001b[38;5;28;01mimport\u001b[39;00m ServerlessSpec\n",
      "File \u001b[1;32mc:\\Users\\Admin\\miniconda3\\envs\\medibot\\lib\\site-packages\\pinecone\\__init__.py:5\u001b[0m\n\u001b[0;32m      1\u001b[0m \u001b[38;5;124;03m\"\"\"\u001b[39;00m\n\u001b[0;32m      2\u001b[0m \u001b[38;5;124;03m.. include:: ../README.md\u001b[39;00m\n\u001b[0;32m      3\u001b[0m \u001b[38;5;124;03m\"\"\"\u001b[39;00m\n\u001b[1;32m----> 5\u001b[0m \u001b[38;5;28;01mraise\u001b[39;00m \u001b[38;5;167;01mException\u001b[39;00m(\n\u001b[0;32m      6\u001b[0m     \u001b[38;5;124m\"\u001b[39m\u001b[38;5;124mThe official Pinecone python package has been renamed from `pinecone-client` to `pinecone`. Please remove `pinecone-client` from your project dependencies and add `pinecone` instead. See the README at https://github.com/pinecone-io/pinecone-python-client for more information on using the python SDK.\u001b[39m\u001b[38;5;124m\"\u001b[39m\n\u001b[0;32m      7\u001b[0m )\n",
      "\u001b[1;31mException\u001b[0m: The official Pinecone python package has been renamed from `pinecone-client` to `pinecone`. Please remove `pinecone-client` from your project dependencies and add `pinecone` instead. See the README at https://github.com/pinecone-io/pinecone-python-client for more information on using the python SDK."
     ]
    }
   ],
   "source": [
    "#import pinecone\n",
    "#from pinecone import ServerlessSpec\n"
   ]
  },
  {
   "cell_type": "code",
   "execution_count": null,
   "id": "4d0e84e4",
   "metadata": {},
   "outputs": [
    {
     "ename": "SyntaxError",
     "evalue": "invalid syntax (2627354248.py, line 1)",
     "output_type": "error",
     "traceback": [
      "\u001b[1;36m  Cell \u001b[1;32mIn[2], line 1\u001b[1;36m\u001b[0m\n\u001b[1;33m    pip install sentence-transformers\u001b[0m\n\u001b[1;37m        ^\u001b[0m\n\u001b[1;31mSyntaxError\u001b[0m\u001b[1;31m:\u001b[0m invalid syntax\n"
     ]
    }
   ],
   "source": [
    "#pip install sentence-transformers\n",
    "\n"
   ]
  },
  {
   "cell_type": "code",
   "execution_count": null,
   "id": "3b039331",
   "metadata": {},
   "outputs": [
    {
     "name": "stdout",
     "output_type": "stream",
     "text": [
      "Requirement already satisfied: sentence-transformers in c:\\users\\admin\\miniconda3\\envs\\medibot\\lib\\site-packages (4.1.0)\n",
      "Requirement already satisfied: transformers<5.0.0,>=4.41.0 in c:\\users\\admin\\miniconda3\\envs\\medibot\\lib\\site-packages (from sentence-transformers) (4.51.3)\n",
      "Requirement already satisfied: tqdm in c:\\users\\admin\\miniconda3\\envs\\medibot\\lib\\site-packages (from sentence-transformers) (4.67.1)\n",
      "Requirement already satisfied: torch>=1.11.0 in c:\\users\\admin\\miniconda3\\envs\\medibot\\lib\\site-packages (from sentence-transformers) (2.7.0)\n",
      "Requirement already satisfied: scikit-learn in c:\\users\\admin\\miniconda3\\envs\\medibot\\lib\\site-packages (from sentence-transformers) (1.6.1)\n",
      "Requirement already satisfied: scipy in c:\\users\\admin\\miniconda3\\envs\\medibot\\lib\\site-packages (from sentence-transformers) (1.15.2)\n",
      "Requirement already satisfied: huggingface-hub>=0.20.0 in c:\\users\\admin\\miniconda3\\envs\\medibot\\lib\\site-packages (from sentence-transformers) (0.30.2)\n",
      "Requirement already satisfied: Pillow in c:\\users\\admin\\miniconda3\\envs\\medibot\\lib\\site-packages (from sentence-transformers) (11.2.1)\n",
      "Requirement already satisfied: typing_extensions>=4.5.0 in c:\\users\\admin\\miniconda3\\envs\\medibot\\lib\\site-packages (from sentence-transformers) (4.13.2)\n",
      "Requirement already satisfied: filelock in c:\\users\\admin\\miniconda3\\envs\\medibot\\lib\\site-packages (from huggingface-hub>=0.20.0->sentence-transformers) (3.18.0)\n",
      "Requirement already satisfied: fsspec>=2023.5.0 in c:\\users\\admin\\miniconda3\\envs\\medibot\\lib\\site-packages (from huggingface-hub>=0.20.0->sentence-transformers) (2025.3.2)\n",
      "Requirement already satisfied: packaging>=20.9 in c:\\users\\admin\\miniconda3\\envs\\medibot\\lib\\site-packages (from huggingface-hub>=0.20.0->sentence-transformers) (24.2)\n",
      "Requirement already satisfied: pyyaml>=5.1 in c:\\users\\admin\\miniconda3\\envs\\medibot\\lib\\site-packages (from huggingface-hub>=0.20.0->sentence-transformers) (6.0.2)\n",
      "Requirement already satisfied: requests in c:\\users\\admin\\miniconda3\\envs\\medibot\\lib\\site-packages (from huggingface-hub>=0.20.0->sentence-transformers) (2.32.3)\n",
      "Requirement already satisfied: sympy>=1.13.3 in c:\\users\\admin\\miniconda3\\envs\\medibot\\lib\\site-packages (from torch>=1.11.0->sentence-transformers) (1.14.0)\n",
      "Requirement already satisfied: networkx in c:\\users\\admin\\miniconda3\\envs\\medibot\\lib\\site-packages (from torch>=1.11.0->sentence-transformers) (3.4.2)\n",
      "Requirement already satisfied: jinja2 in c:\\users\\admin\\miniconda3\\envs\\medibot\\lib\\site-packages (from torch>=1.11.0->sentence-transformers) (3.1.6)\n",
      "Requirement already satisfied: colorama in c:\\users\\admin\\miniconda3\\envs\\medibot\\lib\\site-packages (from tqdm->sentence-transformers) (0.4.6)\n",
      "Requirement already satisfied: numpy>=1.17 in c:\\users\\admin\\miniconda3\\envs\\medibot\\lib\\site-packages (from transformers<5.0.0,>=4.41.0->sentence-transformers) (2.2.5)\n",
      "Requirement already satisfied: regex!=2019.12.17 in c:\\users\\admin\\miniconda3\\envs\\medibot\\lib\\site-packages (from transformers<5.0.0,>=4.41.0->sentence-transformers) (2024.11.6)\n",
      "Requirement already satisfied: tokenizers<0.22,>=0.21 in c:\\users\\admin\\miniconda3\\envs\\medibot\\lib\\site-packages (from transformers<5.0.0,>=4.41.0->sentence-transformers) (0.21.1)\n",
      "Requirement already satisfied: safetensors>=0.4.3 in c:\\users\\admin\\miniconda3\\envs\\medibot\\lib\\site-packages (from transformers<5.0.0,>=4.41.0->sentence-transformers) (0.5.3)\n",
      "Requirement already satisfied: joblib>=1.2.0 in c:\\users\\admin\\miniconda3\\envs\\medibot\\lib\\site-packages (from scikit-learn->sentence-transformers) (1.4.2)\n",
      "Requirement already satisfied: threadpoolctl>=3.1.0 in c:\\users\\admin\\miniconda3\\envs\\medibot\\lib\\site-packages (from scikit-learn->sentence-transformers) (3.6.0)\n",
      "Requirement already satisfied: mpmath<1.4,>=1.1.0 in c:\\users\\admin\\miniconda3\\envs\\medibot\\lib\\site-packages (from sympy>=1.13.3->torch>=1.11.0->sentence-transformers) (1.3.0)\n",
      "Requirement already satisfied: MarkupSafe>=2.0 in c:\\users\\admin\\miniconda3\\envs\\medibot\\lib\\site-packages (from jinja2->torch>=1.11.0->sentence-transformers) (3.0.2)\n",
      "Requirement already satisfied: charset-normalizer<4,>=2 in c:\\users\\admin\\miniconda3\\envs\\medibot\\lib\\site-packages (from requests->huggingface-hub>=0.20.0->sentence-transformers) (3.4.1)\n",
      "Requirement already satisfied: idna<4,>=2.5 in c:\\users\\admin\\miniconda3\\envs\\medibot\\lib\\site-packages (from requests->huggingface-hub>=0.20.0->sentence-transformers) (3.10)\n",
      "Requirement already satisfied: urllib3<3,>=1.21.1 in c:\\users\\admin\\miniconda3\\envs\\medibot\\lib\\site-packages (from requests->huggingface-hub>=0.20.0->sentence-transformers) (2.4.0)\n",
      "Requirement already satisfied: certifi>=2017.4.17 in c:\\users\\admin\\miniconda3\\envs\\medibot\\lib\\site-packages (from requests->huggingface-hub>=0.20.0->sentence-transformers) (2025.4.26)\n",
      "Note: you may need to restart the kernel to use updated packages.\n"
     ]
    }
   ],
   "source": [
    "#pip install sentence-transformers"
   ]
  },
  {
   "cell_type": "code",
   "execution_count": null,
   "id": "48af91a7",
   "metadata": {},
   "outputs": [
    {
     "ename": "Exception",
     "evalue": "The official Pinecone python package has been renamed from `pinecone-client` to `pinecone`. Please remove `pinecone-client` from your project dependencies and add `pinecone` instead. See the README at https://github.com/pinecone-io/pinecone-python-client for more information on using the python SDK.",
     "output_type": "error",
     "traceback": [
      "\u001b[1;31m---------------------------------------------------------------------------\u001b[0m",
      "\u001b[1;31mException\u001b[0m                                 Traceback (most recent call last)",
      "Cell \u001b[1;32mIn[11], line 1\u001b[0m\n\u001b[1;32m----> 1\u001b[0m \u001b[38;5;28;01mimport\u001b[39;00m\u001b[38;5;250m \u001b[39m\u001b[38;5;21;01mpinecone\u001b[39;00m\n\u001b[0;32m      2\u001b[0m \u001b[38;5;28;01mfrom\u001b[39;00m\u001b[38;5;250m \u001b[39m\u001b[38;5;21;01mpinecone\u001b[39;00m\u001b[38;5;250m \u001b[39m\u001b[38;5;28;01mimport\u001b[39;00m ServerlessSpec\n",
      "File \u001b[1;32mc:\\Users\\Admin\\miniconda3\\envs\\medibot\\lib\\site-packages\\pinecone\\__init__.py:5\u001b[0m\n\u001b[0;32m      1\u001b[0m \u001b[38;5;124;03m\"\"\"\u001b[39;00m\n\u001b[0;32m      2\u001b[0m \u001b[38;5;124;03m.. include:: ../README.md\u001b[39;00m\n\u001b[0;32m      3\u001b[0m \u001b[38;5;124;03m\"\"\"\u001b[39;00m\n\u001b[1;32m----> 5\u001b[0m \u001b[38;5;28;01mraise\u001b[39;00m \u001b[38;5;167;01mException\u001b[39;00m(\n\u001b[0;32m      6\u001b[0m     \u001b[38;5;124m\"\u001b[39m\u001b[38;5;124mThe official Pinecone python package has been renamed from `pinecone-client` to `pinecone`. Please remove `pinecone-client` from your project dependencies and add `pinecone` instead. See the README at https://github.com/pinecone-io/pinecone-python-client for more information on using the python SDK.\u001b[39m\u001b[38;5;124m\"\u001b[39m\n\u001b[0;32m      7\u001b[0m )\n",
      "\u001b[1;31mException\u001b[0m: The official Pinecone python package has been renamed from `pinecone-client` to `pinecone`. Please remove `pinecone-client` from your project dependencies and add `pinecone` instead. See the README at https://github.com/pinecone-io/pinecone-python-client for more information on using the python SDK."
     ]
    }
   ],
   "source": [
    "#import pinecone\n",
    "#from pinecone import ServerlessSpec"
   ]
  },
  {
   "cell_type": "code",
   "execution_count": 12,
   "id": "f44582f2",
   "metadata": {},
   "outputs": [
    {
     "name": "stdout",
     "output_type": "stream",
     "text": [
      "Requirement already satisfied: pinecone-client in c:\\users\\admin\\miniconda3\\envs\\medibot\\lib\\site-packages (6.0.0)\n",
      "Requirement already satisfied: certifi>=2019.11.17 in c:\\users\\admin\\miniconda3\\envs\\medibot\\lib\\site-packages (from pinecone-client) (2025.4.26)\n",
      "Requirement already satisfied: pinecone-plugin-interface<0.0.8,>=0.0.7 in c:\\users\\admin\\miniconda3\\envs\\medibot\\lib\\site-packages (from pinecone-client) (0.0.7)\n",
      "Requirement already satisfied: python-dateutil>=2.5.3 in c:\\users\\admin\\miniconda3\\envs\\medibot\\lib\\site-packages (from pinecone-client) (2.9.0.post0)\n",
      "Requirement already satisfied: typing-extensions>=3.7.4 in c:\\users\\admin\\miniconda3\\envs\\medibot\\lib\\site-packages (from pinecone-client) (4.13.2)\n",
      "Requirement already satisfied: urllib3>=1.26.0 in c:\\users\\admin\\miniconda3\\envs\\medibot\\lib\\site-packages (from pinecone-client) (2.4.0)\n",
      "Requirement already satisfied: six>=1.5 in c:\\users\\admin\\miniconda3\\envs\\medibot\\lib\\site-packages (from python-dateutil>=2.5.3->pinecone-client) (1.17.0)\n",
      "Note: you may need to restart the kernel to use updated packages.\n"
     ]
    }
   ],
   "source": [
    "pip install -U pinecone-client"
   ]
  },
  {
   "cell_type": "code",
   "execution_count": null,
   "id": "447bdc86",
   "metadata": {},
   "outputs": [
    {
     "ename": "Exception",
     "evalue": "The official Pinecone python package has been renamed from `pinecone-client` to `pinecone`. Please remove `pinecone-client` from your project dependencies and add `pinecone` instead. See the README at https://github.com/pinecone-io/pinecone-python-client for more information on using the python SDK.",
     "output_type": "error",
     "traceback": [
      "\u001b[1;31m---------------------------------------------------------------------------\u001b[0m",
      "\u001b[1;31mException\u001b[0m                                 Traceback (most recent call last)",
      "Cell \u001b[1;32mIn[13], line 1\u001b[0m\n\u001b[1;32m----> 1\u001b[0m \u001b[38;5;28;01mimport\u001b[39;00m\u001b[38;5;250m \u001b[39m\u001b[38;5;21;01mpinecone\u001b[39;00m\n\u001b[0;32m      2\u001b[0m \u001b[38;5;28;01mfrom\u001b[39;00m\u001b[38;5;250m \u001b[39m\u001b[38;5;21;01mpinecone\u001b[39;00m\u001b[38;5;250m \u001b[39m\u001b[38;5;28;01mimport\u001b[39;00m ServerlessSpec\n",
      "File \u001b[1;32mc:\\Users\\Admin\\miniconda3\\envs\\medibot\\lib\\site-packages\\pinecone\\__init__.py:5\u001b[0m\n\u001b[0;32m      1\u001b[0m \u001b[38;5;124;03m\"\"\"\u001b[39;00m\n\u001b[0;32m      2\u001b[0m \u001b[38;5;124;03m.. include:: ../README.md\u001b[39;00m\n\u001b[0;32m      3\u001b[0m \u001b[38;5;124;03m\"\"\"\u001b[39;00m\n\u001b[1;32m----> 5\u001b[0m \u001b[38;5;28;01mraise\u001b[39;00m \u001b[38;5;167;01mException\u001b[39;00m(\n\u001b[0;32m      6\u001b[0m     \u001b[38;5;124m\"\u001b[39m\u001b[38;5;124mThe official Pinecone python package has been renamed from `pinecone-client` to `pinecone`. Please remove `pinecone-client` from your project dependencies and add `pinecone` instead. See the README at https://github.com/pinecone-io/pinecone-python-client for more information on using the python SDK.\u001b[39m\u001b[38;5;124m\"\u001b[39m\n\u001b[0;32m      7\u001b[0m )\n",
      "\u001b[1;31mException\u001b[0m: The official Pinecone python package has been renamed from `pinecone-client` to `pinecone`. Please remove `pinecone-client` from your project dependencies and add `pinecone` instead. See the README at https://github.com/pinecone-io/pinecone-python-client for more information on using the python SDK."
     ]
    }
   ],
   "source": [
    "#import pinecone\n",
    "#from pinecone import ServerlessSpec"
   ]
  },
  {
   "cell_type": "code",
   "execution_count": 14,
   "id": "0ac4a48a",
   "metadata": {},
   "outputs": [
    {
     "name": "stdout",
     "output_type": "stream",
     "text": [
      "Requirement already satisfied: pinecone in c:\\users\\admin\\miniconda3\\envs\\medibot\\lib\\site-packages (6.0.2)\n",
      "Requirement already satisfied: certifi>=2019.11.17 in c:\\users\\admin\\miniconda3\\envs\\medibot\\lib\\site-packages (from pinecone) (2025.4.26)\n",
      "Requirement already satisfied: pinecone-plugin-interface<0.0.8,>=0.0.7 in c:\\users\\admin\\miniconda3\\envs\\medibot\\lib\\site-packages (from pinecone) (0.0.7)\n",
      "Requirement already satisfied: python-dateutil>=2.5.3 in c:\\users\\admin\\miniconda3\\envs\\medibot\\lib\\site-packages (from pinecone) (2.9.0.post0)\n",
      "Requirement already satisfied: typing-extensions>=3.7.4 in c:\\users\\admin\\miniconda3\\envs\\medibot\\lib\\site-packages (from pinecone) (4.13.2)\n",
      "Requirement already satisfied: urllib3>=1.26.0 in c:\\users\\admin\\miniconda3\\envs\\medibot\\lib\\site-packages (from pinecone) (2.4.0)\n",
      "Requirement already satisfied: six>=1.5 in c:\\users\\admin\\miniconda3\\envs\\medibot\\lib\\site-packages (from python-dateutil>=2.5.3->pinecone) (1.17.0)\n",
      "Note: you may need to restart the kernel to use updated packages.\n"
     ]
    }
   ],
   "source": [
    "pip install pinecone"
   ]
  },
  {
   "cell_type": "code",
   "execution_count": 15,
   "id": "25f5d12f",
   "metadata": {},
   "outputs": [
    {
     "ename": "Exception",
     "evalue": "The official Pinecone python package has been renamed from `pinecone-client` to `pinecone`. Please remove `pinecone-client` from your project dependencies and add `pinecone` instead. See the README at https://github.com/pinecone-io/pinecone-python-client for more information on using the python SDK.",
     "output_type": "error",
     "traceback": [
      "\u001b[1;31m---------------------------------------------------------------------------\u001b[0m",
      "\u001b[1;31mException\u001b[0m                                 Traceback (most recent call last)",
      "Cell \u001b[1;32mIn[15], line 1\u001b[0m\n\u001b[1;32m----> 1\u001b[0m \u001b[38;5;28;01mfrom\u001b[39;00m\u001b[38;5;250m \u001b[39m\u001b[38;5;21;01mpinecone\u001b[39;00m\u001b[38;5;250m \u001b[39m\u001b[38;5;28;01mimport\u001b[39;00m Pinecone, ServerlessSpec\n\u001b[0;32m      3\u001b[0m pc \u001b[38;5;241m=\u001b[39m Pinecone(api_key\u001b[38;5;241m=\u001b[39m\u001b[38;5;124m\"\u001b[39m\u001b[38;5;124mpcsk_4GEtY5_3SpouDjoxsjHc17apP6FsWZcNXdBJT89U3Us4J8pnkBQTpY7w6Za9WTZZZduE2Y\u001b[39m\u001b[38;5;124m\"\u001b[39m)\n",
      "File \u001b[1;32mc:\\Users\\Admin\\miniconda3\\envs\\medibot\\lib\\site-packages\\pinecone\\__init__.py:5\u001b[0m\n\u001b[0;32m      1\u001b[0m \u001b[38;5;124;03m\"\"\"\u001b[39;00m\n\u001b[0;32m      2\u001b[0m \u001b[38;5;124;03m.. include:: ../README.md\u001b[39;00m\n\u001b[0;32m      3\u001b[0m \u001b[38;5;124;03m\"\"\"\u001b[39;00m\n\u001b[1;32m----> 5\u001b[0m \u001b[38;5;28;01mraise\u001b[39;00m \u001b[38;5;167;01mException\u001b[39;00m(\n\u001b[0;32m      6\u001b[0m     \u001b[38;5;124m\"\u001b[39m\u001b[38;5;124mThe official Pinecone python package has been renamed from `pinecone-client` to `pinecone`. Please remove `pinecone-client` from your project dependencies and add `pinecone` instead. See the README at https://github.com/pinecone-io/pinecone-python-client for more information on using the python SDK.\u001b[39m\u001b[38;5;124m\"\u001b[39m\n\u001b[0;32m      7\u001b[0m )\n",
      "\u001b[1;31mException\u001b[0m: The official Pinecone python package has been renamed from `pinecone-client` to `pinecone`. Please remove `pinecone-client` from your project dependencies and add `pinecone` instead. See the README at https://github.com/pinecone-io/pinecone-python-client for more information on using the python SDK."
     ]
    }
   ],
   "source": [
    "from pinecone import Pinecone, ServerlessSpec\n",
    "\n",
    "pc = Pinecone(api_key=\"pcsk_4GEtY5_3SpouDjoxsjHc17apP6FsWZcNXdBJT89U3Us4J8pnkBQTpY7w6Za9WTZZZduE2Y\")"
   ]
  },
  {
   "cell_type": "code",
   "execution_count": 16,
   "id": "c8050639",
   "metadata": {},
   "outputs": [
    {
     "name": "stdout",
     "output_type": "stream",
     "text": [
      "Requirement already satisfied: pinecone in c:\\users\\admin\\miniconda3\\envs\\medibot\\lib\\site-packages (6.0.2)\n",
      "Requirement already satisfied: certifi>=2019.11.17 in c:\\users\\admin\\miniconda3\\envs\\medibot\\lib\\site-packages (from pinecone) (2025.4.26)\n",
      "Requirement already satisfied: pinecone-plugin-interface<0.0.8,>=0.0.7 in c:\\users\\admin\\miniconda3\\envs\\medibot\\lib\\site-packages (from pinecone) (0.0.7)\n",
      "Requirement already satisfied: python-dateutil>=2.5.3 in c:\\users\\admin\\miniconda3\\envs\\medibot\\lib\\site-packages (from pinecone) (2.9.0.post0)\n",
      "Requirement already satisfied: typing-extensions>=3.7.4 in c:\\users\\admin\\miniconda3\\envs\\medibot\\lib\\site-packages (from pinecone) (4.13.2)\n",
      "Requirement already satisfied: urllib3>=1.26.0 in c:\\users\\admin\\miniconda3\\envs\\medibot\\lib\\site-packages (from pinecone) (2.4.0)\n",
      "Requirement already satisfied: six>=1.5 in c:\\users\\admin\\miniconda3\\envs\\medibot\\lib\\site-packages (from python-dateutil>=2.5.3->pinecone) (1.17.0)\n",
      "Note: you may need to restart the kernel to use updated packages.\n"
     ]
    }
   ],
   "source": [
    "pip install pinecone"
   ]
  },
  {
   "cell_type": "code",
   "execution_count": 17,
   "id": "4e0b117d",
   "metadata": {},
   "outputs": [
    {
     "ename": "Exception",
     "evalue": "The official Pinecone python package has been renamed from `pinecone-client` to `pinecone`. Please remove `pinecone-client` from your project dependencies and add `pinecone` instead. See the README at https://github.com/pinecone-io/pinecone-python-client for more information on using the python SDK.",
     "output_type": "error",
     "traceback": [
      "\u001b[1;31m---------------------------------------------------------------------------\u001b[0m",
      "\u001b[1;31mException\u001b[0m                                 Traceback (most recent call last)",
      "Cell \u001b[1;32mIn[17], line 1\u001b[0m\n\u001b[1;32m----> 1\u001b[0m \u001b[38;5;28;01mfrom\u001b[39;00m\u001b[38;5;250m \u001b[39m\u001b[38;5;21;01mpinecone\u001b[39;00m\u001b[38;5;250m \u001b[39m\u001b[38;5;28;01mimport\u001b[39;00m Pinecone, ServerlessSpec\n\u001b[0;32m      3\u001b[0m pc \u001b[38;5;241m=\u001b[39m Pinecone(api_key\u001b[38;5;241m=\u001b[39m\u001b[38;5;124m\"\u001b[39m\u001b[38;5;124mpcsk_4GEtY5_3SpouDjoxsjHc17apP6FsWZcNXdBJT89U3Us4J8pnkBQTpY7w6Za9WTZZZduE2Y\u001b[39m\u001b[38;5;124m\"\u001b[39m)\n",
      "File \u001b[1;32mc:\\Users\\Admin\\miniconda3\\envs\\medibot\\lib\\site-packages\\pinecone\\__init__.py:5\u001b[0m\n\u001b[0;32m      1\u001b[0m \u001b[38;5;124;03m\"\"\"\u001b[39;00m\n\u001b[0;32m      2\u001b[0m \u001b[38;5;124;03m.. include:: ../README.md\u001b[39;00m\n\u001b[0;32m      3\u001b[0m \u001b[38;5;124;03m\"\"\"\u001b[39;00m\n\u001b[1;32m----> 5\u001b[0m \u001b[38;5;28;01mraise\u001b[39;00m \u001b[38;5;167;01mException\u001b[39;00m(\n\u001b[0;32m      6\u001b[0m     \u001b[38;5;124m\"\u001b[39m\u001b[38;5;124mThe official Pinecone python package has been renamed from `pinecone-client` to `pinecone`. Please remove `pinecone-client` from your project dependencies and add `pinecone` instead. See the README at https://github.com/pinecone-io/pinecone-python-client for more information on using the python SDK.\u001b[39m\u001b[38;5;124m\"\u001b[39m\n\u001b[0;32m      7\u001b[0m )\n",
      "\u001b[1;31mException\u001b[0m: The official Pinecone python package has been renamed from `pinecone-client` to `pinecone`. Please remove `pinecone-client` from your project dependencies and add `pinecone` instead. See the README at https://github.com/pinecone-io/pinecone-python-client for more information on using the python SDK."
     ]
    }
   ],
   "source": [
    "from pinecone import Pinecone, ServerlessSpec\n",
    "\n",
    "pc = Pinecone(api_key=\"pcsk_4GEtY5_3SpouDjoxsjHc17apP6FsWZcNXdBJT89U3Us4J8pnkBQTpY7w6Za9WTZZZduE2Y\")"
   ]
  },
  {
   "cell_type": "code",
   "execution_count": 18,
   "id": "852f1e01",
   "metadata": {},
   "outputs": [
    {
     "ename": "Exception",
     "evalue": "The official Pinecone python package has been renamed from `pinecone-client` to `pinecone`. Please remove `pinecone-client` from your project dependencies and add `pinecone` instead. See the README at https://github.com/pinecone-io/pinecone-python-client for more information on using the python SDK.",
     "output_type": "error",
     "traceback": [
      "\u001b[1;31m---------------------------------------------------------------------------\u001b[0m",
      "\u001b[1;31mException\u001b[0m                                 Traceback (most recent call last)",
      "Cell \u001b[1;32mIn[18], line 1\u001b[0m\n\u001b[1;32m----> 1\u001b[0m \u001b[38;5;28;01mfrom\u001b[39;00m\u001b[38;5;250m \u001b[39m\u001b[38;5;21;01mpinecone\u001b[39;00m\u001b[38;5;250m \u001b[39m\u001b[38;5;28;01mimport\u001b[39;00m Pinecone, ServerlessSpec\n\u001b[0;32m      3\u001b[0m pc \u001b[38;5;241m=\u001b[39m Pinecone(api_key\u001b[38;5;241m=\u001b[39m\u001b[38;5;124m\"\u001b[39m\u001b[38;5;124mpcsk_4Nbsn3_DFfh6j1X7HKTuirMfby61smQy8sJWjUfNYv2jHiaHy7gfzXb4kBrmJNrd8nvBvp\u001b[39m\u001b[38;5;124m\"\u001b[39m)\n",
      "File \u001b[1;32mc:\\Users\\Admin\\miniconda3\\envs\\medibot\\lib\\site-packages\\pinecone\\__init__.py:5\u001b[0m\n\u001b[0;32m      1\u001b[0m \u001b[38;5;124;03m\"\"\"\u001b[39;00m\n\u001b[0;32m      2\u001b[0m \u001b[38;5;124;03m.. include:: ../README.md\u001b[39;00m\n\u001b[0;32m      3\u001b[0m \u001b[38;5;124;03m\"\"\"\u001b[39;00m\n\u001b[1;32m----> 5\u001b[0m \u001b[38;5;28;01mraise\u001b[39;00m \u001b[38;5;167;01mException\u001b[39;00m(\n\u001b[0;32m      6\u001b[0m     \u001b[38;5;124m\"\u001b[39m\u001b[38;5;124mThe official Pinecone python package has been renamed from `pinecone-client` to `pinecone`. Please remove `pinecone-client` from your project dependencies and add `pinecone` instead. See the README at https://github.com/pinecone-io/pinecone-python-client for more information on using the python SDK.\u001b[39m\u001b[38;5;124m\"\u001b[39m\n\u001b[0;32m      7\u001b[0m )\n",
      "\u001b[1;31mException\u001b[0m: The official Pinecone python package has been renamed from `pinecone-client` to `pinecone`. Please remove `pinecone-client` from your project dependencies and add `pinecone` instead. See the README at https://github.com/pinecone-io/pinecone-python-client for more information on using the python SDK."
     ]
    }
   ],
   "source": [
    "from pinecone import Pinecone, ServerlessSpec\n",
    "\n",
    "pc = Pinecone(api_key=\"pcsk_4Nbsn3_DFfh6j1X7HKTuirMfby61smQy8sJWjUfNYv2jHiaHy7gfzXb4kBrmJNrd8nvBvp\")"
   ]
  },
  {
   "cell_type": "code",
   "execution_count": 1,
   "id": "4149c909",
   "metadata": {},
   "outputs": [
    {
     "name": "stdout",
     "output_type": "stream",
     "text": [
      "^C\n",
      "Note: you may need to restart the kernel to use updated packages.\n"
     ]
    }
   ],
   "source": [
    "pip uninstall pinecone-client\n"
   ]
  },
  {
   "cell_type": "code",
   "execution_count": 2,
   "id": "99341a6a",
   "metadata": {},
   "outputs": [
    {
     "name": "stdout",
     "output_type": "stream",
     "text": [
      "Requirement already satisfied: pinecone in c:\\users\\admin\\miniconda3\\envs\\medibot\\lib\\site-packages (6.0.2)\n",
      "Requirement already satisfied: certifi>=2019.11.17 in c:\\users\\admin\\miniconda3\\envs\\medibot\\lib\\site-packages (from pinecone) (2025.4.26)\n",
      "Requirement already satisfied: pinecone-plugin-interface<0.0.8,>=0.0.7 in c:\\users\\admin\\miniconda3\\envs\\medibot\\lib\\site-packages (from pinecone) (0.0.7)\n",
      "Requirement already satisfied: python-dateutil>=2.5.3 in c:\\users\\admin\\miniconda3\\envs\\medibot\\lib\\site-packages (from pinecone) (2.9.0.post0)\n",
      "Requirement already satisfied: typing-extensions>=3.7.4 in c:\\users\\admin\\miniconda3\\envs\\medibot\\lib\\site-packages (from pinecone) (4.13.2)\n",
      "Requirement already satisfied: urllib3>=1.26.0 in c:\\users\\admin\\miniconda3\\envs\\medibot\\lib\\site-packages (from pinecone) (2.4.0)\n",
      "Requirement already satisfied: six>=1.5 in c:\\users\\admin\\miniconda3\\envs\\medibot\\lib\\site-packages (from python-dateutil>=2.5.3->pinecone) (1.17.0)\n",
      "Note: you may need to restart the kernel to use updated packages.\n"
     ]
    }
   ],
   "source": [
    "pip install pinecone"
   ]
  },
  {
   "cell_type": "code",
   "execution_count": 3,
   "id": "cbc0576a",
   "metadata": {},
   "outputs": [
    {
     "ename": "ModuleNotFoundError",
     "evalue": "No module named 'pinecone'",
     "output_type": "error",
     "traceback": [
      "\u001b[1;31m---------------------------------------------------------------------------\u001b[0m",
      "\u001b[1;31mModuleNotFoundError\u001b[0m                       Traceback (most recent call last)",
      "Cell \u001b[1;32mIn[3], line 1\u001b[0m\n\u001b[1;32m----> 1\u001b[0m \u001b[38;5;28;01mfrom\u001b[39;00m\u001b[38;5;250m \u001b[39m\u001b[38;5;21;01mpinecone\u001b[39;00m\u001b[38;5;250m \u001b[39m\u001b[38;5;28;01mimport\u001b[39;00m Pinecone, ServerlessSpec\n\u001b[0;32m      3\u001b[0m pc \u001b[38;5;241m=\u001b[39m Pinecone(api_key\u001b[38;5;241m=\u001b[39m\u001b[38;5;124m\"\u001b[39m\u001b[38;5;124mpcsk_4Nbsn3_DFfh6j1X7HKTuirMfby61smQy8sJWjUfNYv2jHiaHy7gfzXb4kBrmJNrd8nvBvp\u001b[39m\u001b[38;5;124m\"\u001b[39m)\n",
      "\u001b[1;31mModuleNotFoundError\u001b[0m: No module named 'pinecone'"
     ]
    }
   ],
   "source": [
    "from pinecone import Pinecone, ServerlessSpec\n",
    "\n",
    "pc = Pinecone(api_key=\"pcsk_4Nbsn3_DFfh6j1X7HKTuirMfby61smQy8sJWjUfNYv2jHiaHy7gfzXb4kBrmJNrd8nvBvp\")"
   ]
  },
  {
   "cell_type": "code",
   "execution_count": 1,
   "id": "0a08b3b1",
   "metadata": {},
   "outputs": [
    {
     "ename": "ModuleNotFoundError",
     "evalue": "No module named 'pinecone'",
     "output_type": "error",
     "traceback": [
      "\u001b[1;31m---------------------------------------------------------------------------\u001b[0m",
      "\u001b[1;31mModuleNotFoundError\u001b[0m                       Traceback (most recent call last)",
      "Cell \u001b[1;32mIn[1], line 1\u001b[0m\n\u001b[1;32m----> 1\u001b[0m \u001b[38;5;28;01mfrom\u001b[39;00m\u001b[38;5;250m \u001b[39m\u001b[38;5;21;01mpinecone\u001b[39;00m\u001b[38;5;250m \u001b[39m\u001b[38;5;28;01mimport\u001b[39;00m Pinecone, ServerlessSpec\n\u001b[0;32m      3\u001b[0m pc \u001b[38;5;241m=\u001b[39m Pinecone(api_key\u001b[38;5;241m=\u001b[39m\u001b[38;5;124m\"\u001b[39m\u001b[38;5;124mpcsk_4Nbsn3_DFfh6j1X7HKTuirMfby61smQy8sJWjUfNYv2jHiaHy7gfzXb4kBrmJNrd8nvBvp\u001b[39m\u001b[38;5;124m\"\u001b[39m)\n",
      "\u001b[1;31mModuleNotFoundError\u001b[0m: No module named 'pinecone'"
     ]
    }
   ],
   "source": [
    "from pinecone import Pinecone, ServerlessSpec\n",
    "\n",
    "pc = Pinecone(api_key=\"pcsk_4Nbsn3_DFfh6j1X7HKTuirMfby61smQy8sJWjUfNYv2jHiaHy7gfzXb4kBrmJNrd8nvBvp\")"
   ]
  },
  {
   "cell_type": "code",
   "execution_count": 2,
   "id": "0ee043a6",
   "metadata": {},
   "outputs": [
    {
     "ename": "ModuleNotFoundError",
     "evalue": "No module named 'pinecone'",
     "output_type": "error",
     "traceback": [
      "\u001b[1;31m---------------------------------------------------------------------------\u001b[0m",
      "\u001b[1;31mModuleNotFoundError\u001b[0m                       Traceback (most recent call last)",
      "Cell \u001b[1;32mIn[2], line 1\u001b[0m\n\u001b[1;32m----> 1\u001b[0m \u001b[38;5;28;01mimport\u001b[39;00m\u001b[38;5;250m \u001b[39m\u001b[38;5;21;01mpinecone\u001b[39;00m\n",
      "\u001b[1;31mModuleNotFoundError\u001b[0m: No module named 'pinecone'"
     ]
    }
   ],
   "source": [
    "import pinecone\n"
   ]
  },
  {
   "cell_type": "code",
   "execution_count": 3,
   "id": "00580fce",
   "metadata": {},
   "outputs": [
    {
     "name": "stdout",
     "output_type": "stream",
     "text": [
      "Requirement already satisfied: pinecone in c:\\users\\admin\\miniconda3\\envs\\medibot\\lib\\site-packages (6.0.2)\n",
      "Requirement already satisfied: certifi>=2019.11.17 in c:\\users\\admin\\miniconda3\\envs\\medibot\\lib\\site-packages (from pinecone) (2025.4.26)\n",
      "Requirement already satisfied: pinecone-plugin-interface<0.0.8,>=0.0.7 in c:\\users\\admin\\miniconda3\\envs\\medibot\\lib\\site-packages (from pinecone) (0.0.7)\n",
      "Requirement already satisfied: python-dateutil>=2.5.3 in c:\\users\\admin\\miniconda3\\envs\\medibot\\lib\\site-packages (from pinecone) (2.9.0.post0)\n",
      "Requirement already satisfied: typing-extensions>=3.7.4 in c:\\users\\admin\\miniconda3\\envs\\medibot\\lib\\site-packages (from pinecone) (4.13.2)\n",
      "Requirement already satisfied: urllib3>=1.26.0 in c:\\users\\admin\\miniconda3\\envs\\medibot\\lib\\site-packages (from pinecone) (2.4.0)\n",
      "Requirement already satisfied: six>=1.5 in c:\\users\\admin\\miniconda3\\envs\\medibot\\lib\\site-packages (from python-dateutil>=2.5.3->pinecone) (1.17.0)\n",
      "Note: you may need to restart the kernel to use updated packages.\n"
     ]
    }
   ],
   "source": [
    "pip install pinecone"
   ]
  },
  {
   "cell_type": "code",
   "execution_count": 4,
   "id": "78125fcf",
   "metadata": {},
   "outputs": [
    {
     "ename": "Exception",
     "evalue": "The official Pinecone python package has been renamed from `pinecone-client` to `pinecone`. Please remove `pinecone-client` from your project dependencies and add `pinecone` instead. See the README at https://github.com/pinecone-io/pinecone-python-client for more information on using the python SDK.",
     "output_type": "error",
     "traceback": [
      "\u001b[1;31m---------------------------------------------------------------------------\u001b[0m",
      "\u001b[1;31mException\u001b[0m                                 Traceback (most recent call last)",
      "Cell \u001b[1;32mIn[4], line 1\u001b[0m\n\u001b[1;32m----> 1\u001b[0m \u001b[38;5;28;01mfrom\u001b[39;00m\u001b[38;5;250m \u001b[39m\u001b[38;5;21;01mpinecone\u001b[39;00m\u001b[38;5;250m \u001b[39m\u001b[38;5;28;01mimport\u001b[39;00m Pinecone, ServerlessSpec\n\u001b[0;32m      3\u001b[0m pc \u001b[38;5;241m=\u001b[39m Pinecone(api_key\u001b[38;5;241m=\u001b[39m\u001b[38;5;124m\"\u001b[39m\u001b[38;5;124mpcsk_4Nbsn3_DFfh6j1X7HKTuirMfby61smQy8sJWjUfNYv2jHiaHy7gfzXb4kBrmJNrd8nvBvp\u001b[39m\u001b[38;5;124m\"\u001b[39m)\n",
      "File \u001b[1;32mc:\\Users\\Admin\\miniconda3\\envs\\medibot\\lib\\site-packages\\pinecone\\__init__.py:5\u001b[0m\n\u001b[0;32m      1\u001b[0m \u001b[38;5;124;03m\"\"\"\u001b[39;00m\n\u001b[0;32m      2\u001b[0m \u001b[38;5;124;03m.. include:: ../README.md\u001b[39;00m\n\u001b[0;32m      3\u001b[0m \u001b[38;5;124;03m\"\"\"\u001b[39;00m\n\u001b[1;32m----> 5\u001b[0m \u001b[38;5;28;01mraise\u001b[39;00m \u001b[38;5;167;01mException\u001b[39;00m(\n\u001b[0;32m      6\u001b[0m     \u001b[38;5;124m\"\u001b[39m\u001b[38;5;124mThe official Pinecone python package has been renamed from `pinecone-client` to `pinecone`. Please remove `pinecone-client` from your project dependencies and add `pinecone` instead. See the README at https://github.com/pinecone-io/pinecone-python-client for more information on using the python SDK.\u001b[39m\u001b[38;5;124m\"\u001b[39m\n\u001b[0;32m      7\u001b[0m )\n",
      "\u001b[1;31mException\u001b[0m: The official Pinecone python package has been renamed from `pinecone-client` to `pinecone`. Please remove `pinecone-client` from your project dependencies and add `pinecone` instead. See the README at https://github.com/pinecone-io/pinecone-python-client for more information on using the python SDK."
     ]
    }
   ],
   "source": [
    "from pinecone import Pinecone, ServerlessSpec\n",
    "\n",
    "pc = Pinecone(api_key=\"pcsk_4Nbsn3_DFfh6j1X7HKTuirMfby61smQy8sJWjUfNYv2jHiaHy7gfzXb4kBrmJNrd8nvBvp\")"
   ]
  },
  {
   "cell_type": "code",
   "execution_count": 5,
   "id": "895fd739",
   "metadata": {},
   "outputs": [
    {
     "name": "stdout",
     "output_type": "stream",
     "text": [
      "Requirement already satisfied: pinecone-client in c:\\users\\admin\\miniconda3\\envs\\medibot\\lib\\site-packages (6.0.0)\n",
      "Requirement already satisfied: certifi>=2019.11.17 in c:\\users\\admin\\miniconda3\\envs\\medibot\\lib\\site-packages (from pinecone-client) (2025.4.26)\n",
      "Requirement already satisfied: pinecone-plugin-interface<0.0.8,>=0.0.7 in c:\\users\\admin\\miniconda3\\envs\\medibot\\lib\\site-packages (from pinecone-client) (0.0.7)\n",
      "Requirement already satisfied: python-dateutil>=2.5.3 in c:\\users\\admin\\miniconda3\\envs\\medibot\\lib\\site-packages (from pinecone-client) (2.9.0.post0)\n",
      "Requirement already satisfied: typing-extensions>=3.7.4 in c:\\users\\admin\\miniconda3\\envs\\medibot\\lib\\site-packages (from pinecone-client) (4.13.2)\n",
      "Requirement already satisfied: urllib3>=1.26.0 in c:\\users\\admin\\miniconda3\\envs\\medibot\\lib\\site-packages (from pinecone-client) (2.4.0)\n",
      "Requirement already satisfied: six>=1.5 in c:\\users\\admin\\miniconda3\\envs\\medibot\\lib\\site-packages (from python-dateutil>=2.5.3->pinecone-client) (1.17.0)\n"
     ]
    }
   ],
   "source": [
    "!pip install pinecone-client\n"
   ]
  },
  {
   "cell_type": "code",
   "execution_count": 6,
   "id": "99858a39",
   "metadata": {},
   "outputs": [
    {
     "ename": "Exception",
     "evalue": "The official Pinecone python package has been renamed from `pinecone-client` to `pinecone`. Please remove `pinecone-client` from your project dependencies and add `pinecone` instead. See the README at https://github.com/pinecone-io/pinecone-python-client for more information on using the python SDK.",
     "output_type": "error",
     "traceback": [
      "\u001b[1;31m---------------------------------------------------------------------------\u001b[0m",
      "\u001b[1;31mException\u001b[0m                                 Traceback (most recent call last)",
      "Cell \u001b[1;32mIn[6], line 1\u001b[0m\n\u001b[1;32m----> 1\u001b[0m \u001b[38;5;28;01mfrom\u001b[39;00m\u001b[38;5;250m \u001b[39m\u001b[38;5;21;01mpinecone\u001b[39;00m\u001b[38;5;250m \u001b[39m\u001b[38;5;28;01mimport\u001b[39;00m Pinecone, ServerlessSpec\n\u001b[0;32m      3\u001b[0m pc \u001b[38;5;241m=\u001b[39m Pinecone(api_key\u001b[38;5;241m=\u001b[39m\u001b[38;5;124m\"\u001b[39m\u001b[38;5;124mpcsk_4Nbsn3_DFfh6j1X7HKTuirMfby61smQy8sJWjUfNYv2jHiaHy7gfzXb4kBrmJNrd8nvBvp\u001b[39m\u001b[38;5;124m\"\u001b[39m)\n",
      "File \u001b[1;32mc:\\Users\\Admin\\miniconda3\\envs\\medibot\\lib\\site-packages\\pinecone\\__init__.py:5\u001b[0m\n\u001b[0;32m      1\u001b[0m \u001b[38;5;124;03m\"\"\"\u001b[39;00m\n\u001b[0;32m      2\u001b[0m \u001b[38;5;124;03m.. include:: ../README.md\u001b[39;00m\n\u001b[0;32m      3\u001b[0m \u001b[38;5;124;03m\"\"\"\u001b[39;00m\n\u001b[1;32m----> 5\u001b[0m \u001b[38;5;28;01mraise\u001b[39;00m \u001b[38;5;167;01mException\u001b[39;00m(\n\u001b[0;32m      6\u001b[0m     \u001b[38;5;124m\"\u001b[39m\u001b[38;5;124mThe official Pinecone python package has been renamed from `pinecone-client` to `pinecone`. Please remove `pinecone-client` from your project dependencies and add `pinecone` instead. See the README at https://github.com/pinecone-io/pinecone-python-client for more information on using the python SDK.\u001b[39m\u001b[38;5;124m\"\u001b[39m\n\u001b[0;32m      7\u001b[0m )\n",
      "\u001b[1;31mException\u001b[0m: The official Pinecone python package has been renamed from `pinecone-client` to `pinecone`. Please remove `pinecone-client` from your project dependencies and add `pinecone` instead. See the README at https://github.com/pinecone-io/pinecone-python-client for more information on using the python SDK."
     ]
    }
   ],
   "source": [
    "from pinecone import Pinecone, ServerlessSpec\n",
    "\n",
    "pc = Pinecone(api_key=\"pcsk_4Nbsn3_DFfh6j1X7HKTuirMfby61smQy8sJWjUfNYv2jHiaHy7gfzXb4kBrmJNrd8nvBvp\")"
   ]
  },
  {
   "cell_type": "code",
   "execution_count": 7,
   "id": "b93f1f61",
   "metadata": {},
   "outputs": [
    {
     "name": "stdout",
     "output_type": "stream",
     "text": [
      "Requirement already satisfied: pinecone in c:\\users\\admin\\miniconda3\\envs\\medibot\\lib\\site-packages (6.0.2)\n",
      "Requirement already satisfied: certifi>=2019.11.17 in c:\\users\\admin\\miniconda3\\envs\\medibot\\lib\\site-packages (from pinecone) (2025.4.26)\n",
      "Requirement already satisfied: pinecone-plugin-interface<0.0.8,>=0.0.7 in c:\\users\\admin\\miniconda3\\envs\\medibot\\lib\\site-packages (from pinecone) (0.0.7)\n",
      "Requirement already satisfied: python-dateutil>=2.5.3 in c:\\users\\admin\\miniconda3\\envs\\medibot\\lib\\site-packages (from pinecone) (2.9.0.post0)\n",
      "Requirement already satisfied: typing-extensions>=3.7.4 in c:\\users\\admin\\miniconda3\\envs\\medibot\\lib\\site-packages (from pinecone) (4.13.2)\n",
      "Requirement already satisfied: urllib3>=1.26.0 in c:\\users\\admin\\miniconda3\\envs\\medibot\\lib\\site-packages (from pinecone) (2.4.0)\n",
      "Requirement already satisfied: six>=1.5 in c:\\users\\admin\\miniconda3\\envs\\medibot\\lib\\site-packages (from python-dateutil>=2.5.3->pinecone) (1.17.0)\n",
      "Note: you may need to restart the kernel to use updated packages.\n"
     ]
    }
   ],
   "source": [
    "pip install pinecone\n"
   ]
  },
  {
   "cell_type": "code",
   "execution_count": 8,
   "id": "dd855496",
   "metadata": {},
   "outputs": [
    {
     "ename": "ModuleNotFoundError",
     "evalue": "No module named 'pinecone'",
     "output_type": "error",
     "traceback": [
      "\u001b[1;31m---------------------------------------------------------------------------\u001b[0m",
      "\u001b[1;31mModuleNotFoundError\u001b[0m                       Traceback (most recent call last)",
      "Cell \u001b[1;32mIn[8], line 1\u001b[0m\n\u001b[1;32m----> 1\u001b[0m \u001b[38;5;28;01mfrom\u001b[39;00m\u001b[38;5;250m \u001b[39m\u001b[38;5;21;01mpinecone\u001b[39;00m\u001b[38;5;250m \u001b[39m\u001b[38;5;28;01mimport\u001b[39;00m Pinecone, ServerlessSpec\n\u001b[0;32m      3\u001b[0m pc \u001b[38;5;241m=\u001b[39m Pinecone(api_key\u001b[38;5;241m=\u001b[39m\u001b[38;5;124m\"\u001b[39m\u001b[38;5;124mpcsk_4Nbsn3_DFfh6j1X7HKTuirMfby61smQy8sJWjUfNYv2jHiaHy7gfzXb4kBrmJNrd8nvBvp\u001b[39m\u001b[38;5;124m\"\u001b[39m)\n",
      "\u001b[1;31mModuleNotFoundError\u001b[0m: No module named 'pinecone'"
     ]
    }
   ],
   "source": [
    "from pinecone import Pinecone, ServerlessSpec\n",
    "\n",
    "pc = Pinecone(api_key=\"pcsk_4Nbsn3_DFfh6j1X7HKTuirMfby61smQy8sJWjUfNYv2jHiaHy7gfzXb4kBrmJNrd8nvBvp\")\n"
   ]
  },
  {
   "cell_type": "code",
   "execution_count": 9,
   "id": "1752bc0b",
   "metadata": {},
   "outputs": [
    {
     "ename": "ModuleNotFoundError",
     "evalue": "No module named 'pinecone'",
     "output_type": "error",
     "traceback": [
      "\u001b[1;31m---------------------------------------------------------------------------\u001b[0m",
      "\u001b[1;31mModuleNotFoundError\u001b[0m                       Traceback (most recent call last)",
      "Cell \u001b[1;32mIn[9], line 1\u001b[0m\n\u001b[1;32m----> 1\u001b[0m \u001b[38;5;28;01mfrom\u001b[39;00m\u001b[38;5;250m \u001b[39m\u001b[38;5;21;01mpinecone\u001b[39;00m\u001b[38;5;250m \u001b[39m\u001b[38;5;28;01mimport\u001b[39;00m Pinecone, ServerlessSpec\n\u001b[0;32m      3\u001b[0m pc \u001b[38;5;241m=\u001b[39m Pinecone(api_key\u001b[38;5;241m=\u001b[39m\u001b[38;5;124m\"\u001b[39m\u001b[38;5;124mpcsk_4Nbsn3_DFfh6j1X7HKTuirMfby61smQy8sJWjUfNYv2jHiaHy7gfzXb4kBrmJNrd8nvBvp\u001b[39m\u001b[38;5;124m\"\u001b[39m)\n",
      "\u001b[1;31mModuleNotFoundError\u001b[0m: No module named 'pinecone'"
     ]
    }
   ],
   "source": [
    "from pinecone import Pinecone, ServerlessSpec\n",
    "\n",
    "pc = Pinecone(api_key=\"pcsk_4Nbsn3_DFfh6j1X7HKTuirMfby61smQy8sJWjUfNYv2jHiaHy7gfzXb4kBrmJNrd8nvBvp\")"
   ]
  },
  {
   "cell_type": "code",
   "execution_count": 10,
   "id": "7e86431c",
   "metadata": {},
   "outputs": [
    {
     "name": "stdout",
     "output_type": "stream",
     "text": [
      "Requirement already satisfied: pinecone in c:\\users\\admin\\miniconda3\\envs\\medibot\\lib\\site-packages (6.0.2)\n",
      "Requirement already satisfied: certifi>=2019.11.17 in c:\\users\\admin\\miniconda3\\envs\\medibot\\lib\\site-packages (from pinecone) (2025.4.26)\n",
      "Requirement already satisfied: pinecone-plugin-interface<0.0.8,>=0.0.7 in c:\\users\\admin\\miniconda3\\envs\\medibot\\lib\\site-packages (from pinecone) (0.0.7)\n",
      "Requirement already satisfied: python-dateutil>=2.5.3 in c:\\users\\admin\\miniconda3\\envs\\medibot\\lib\\site-packages (from pinecone) (2.9.0.post0)\n",
      "Requirement already satisfied: typing-extensions>=3.7.4 in c:\\users\\admin\\miniconda3\\envs\\medibot\\lib\\site-packages (from pinecone) (4.13.2)\n",
      "Requirement already satisfied: urllib3>=1.26.0 in c:\\users\\admin\\miniconda3\\envs\\medibot\\lib\\site-packages (from pinecone) (2.4.0)\n",
      "Requirement already satisfied: six>=1.5 in c:\\users\\admin\\miniconda3\\envs\\medibot\\lib\\site-packages (from python-dateutil>=2.5.3->pinecone) (1.17.0)\n",
      "Note: you may need to restart the kernel to use updated packages.\n"
     ]
    }
   ],
   "source": [
    "pip install pinecone"
   ]
  },
  {
   "cell_type": "code",
   "execution_count": null,
   "id": "daad599d",
   "metadata": {},
   "outputs": [
    {
     "ename": "ModuleNotFoundError",
     "evalue": "No module named 'pinecone'",
     "output_type": "error",
     "traceback": [
      "\u001b[1;31m---------------------------------------------------------------------------\u001b[0m",
      "\u001b[1;31mModuleNotFoundError\u001b[0m                       Traceback (most recent call last)",
      "Cell \u001b[1;32mIn[11], line 1\u001b[0m\n\u001b[1;32m----> 1\u001b[0m \u001b[38;5;28;01mfrom\u001b[39;00m\u001b[38;5;250m \u001b[39m\u001b[38;5;21;01mpinecone\u001b[39;00m\u001b[38;5;250m \u001b[39m\u001b[38;5;28;01mimport\u001b[39;00m Pinecone, ServerlessSpec\n\u001b[0;32m      3\u001b[0m pc \u001b[38;5;241m=\u001b[39m Pinecone(api_key\u001b[38;5;241m=\u001b[39m\u001b[38;5;124m\"\u001b[39m\u001b[38;5;124mpcsk_4Nbsn3_DFfh6j1X7HKTuirMfby61smQy8sJWjUfNYv2jHiaHy7gfzXb4kBrmJNrd8nvBvp\u001b[39m\u001b[38;5;124m\"\u001b[39m)\n",
      "\u001b[1;31mModuleNotFoundError\u001b[0m: No module named 'pinecone'"
     ]
    }
   ],
   "source": [
    "rom pinecone import Pinecone, ServerlessSpec\n",
    "\n",
    "pc = Pinecone(api_key=\"pcsk_4Nbsn3_DFfh6j1X7HKTuirMfby61smQy8sfJWjUfNYv2jHiaHy7gfzXb4kBrmJNrd8nvBvp\")"
   ]
  },
  {
   "cell_type": "code",
   "execution_count": 12,
   "id": "5f2e3af3",
   "metadata": {},
   "outputs": [
    {
     "name": "stdout",
     "output_type": "stream",
     "text": [
      "Requirement already satisfied: pinecone in c:\\users\\admin\\miniconda3\\envs\\medibot\\lib\\site-packages (6.0.2)\n",
      "Requirement already satisfied: certifi>=2019.11.17 in c:\\users\\admin\\miniconda3\\envs\\medibot\\lib\\site-packages (from pinecone) (2025.4.26)\n",
      "Requirement already satisfied: pinecone-plugin-interface<0.0.8,>=0.0.7 in c:\\users\\admin\\miniconda3\\envs\\medibot\\lib\\site-packages (from pinecone) (0.0.7)\n",
      "Requirement already satisfied: python-dateutil>=2.5.3 in c:\\users\\admin\\miniconda3\\envs\\medibot\\lib\\site-packages (from pinecone) (2.9.0.post0)\n",
      "Requirement already satisfied: typing-extensions>=3.7.4 in c:\\users\\admin\\miniconda3\\envs\\medibot\\lib\\site-packages (from pinecone) (4.13.2)\n",
      "Requirement already satisfied: urllib3>=1.26.0 in c:\\users\\admin\\miniconda3\\envs\\medibot\\lib\\site-packages (from pinecone) (2.4.0)\n",
      "Requirement already satisfied: six>=1.5 in c:\\users\\admin\\miniconda3\\envs\\medibot\\lib\\site-packages (from python-dateutil>=2.5.3->pinecone) (1.17.0)\n"
     ]
    }
   ],
   "source": [
    "!pip install pinecone\n"
   ]
  },
  {
   "cell_type": "code",
   "execution_count": 14,
   "id": "fb8ed562",
   "metadata": {},
   "outputs": [
    {
     "ename": "ModuleNotFoundError",
     "evalue": "No module named 'pinecone'",
     "output_type": "error",
     "traceback": [
      "\u001b[1;31m---------------------------------------------------------------------------\u001b[0m",
      "\u001b[1;31mModuleNotFoundError\u001b[0m                       Traceback (most recent call last)",
      "Cell \u001b[1;32mIn[14], line 1\u001b[0m\n\u001b[1;32m----> 1\u001b[0m \u001b[38;5;28;01mfrom\u001b[39;00m\u001b[38;5;250m \u001b[39m\u001b[38;5;21;01mpinecone\u001b[39;00m\u001b[38;5;250m \u001b[39m\u001b[38;5;28;01mimport\u001b[39;00m Pinecone, ServerlessSpec\n\u001b[0;32m      3\u001b[0m pc \u001b[38;5;241m=\u001b[39m Pinecone(api_key\u001b[38;5;241m=\u001b[39m\u001b[38;5;124m\"\u001b[39m\u001b[38;5;124mpcsk_4Nbsn3_DFfh6j1X7HKTuirMfby61smQy8sfJWjUfNYv2jHiaHy7gfzXb4kBrmJNrd8nvBvp\u001b[39m\u001b[38;5;124m\"\u001b[39m)\n",
      "\u001b[1;31mModuleNotFoundError\u001b[0m: No module named 'pinecone'"
     ]
    }
   ],
   "source": [
    "from pinecone import Pinecone, ServerlessSpec\n",
    "\n",
    "pc = Pinecone(api_key=\"pcsk_4Nbsn3_DFfh6j1X7HKTuirMfby61smQy8sfJWjUfNYv2jHiaHy7gfzXb4kBrmJNrd8nvBvp\")"
   ]
  },
  {
   "cell_type": "code",
   "execution_count": 15,
   "id": "07204a90",
   "metadata": {},
   "outputs": [
    {
     "name": "stdout",
     "output_type": "stream",
     "text": [
      "Name: pinecone\n",
      "Version: 6.0.2\n",
      "Summary: Pinecone client and SDK\n",
      "Home-page: https://www.pinecone.io\n",
      "Author: Pinecone Systems, Inc.\n",
      "Author-email: support@pinecone.io\n",
      "License: Apache-2.0\n",
      "Location: c:\\users\\admin\\miniconda3\\envs\\medibot\\lib\\site-packages\n",
      "Requires: certifi, pinecone-plugin-interface, python-dateutil, typing-extensions, urllib3\n",
      "Required-by: \n",
      "Note: you may need to restart the kernel to use updated packages.\n"
     ]
    }
   ],
   "source": [
    "pip show pinecone\n"
   ]
  },
  {
   "cell_type": "code",
   "execution_count": 16,
   "id": "7ca3d39b",
   "metadata": {},
   "outputs": [
    {
     "name": "stdout",
     "output_type": "stream",
     "text": [
      "Name: pinecone\n",
      "Version: 6.0.2\n",
      "Summary: Pinecone client and SDK\n",
      "Home-page: https://www.pinecone.io\n",
      "Author: Pinecone Systems, Inc.\n",
      "Author-email: support@pinecone.io\n",
      "License: Apache-2.0\n",
      "Location: c:\\users\\admin\\miniconda3\\envs\\medibot\\lib\\site-packages\n",
      "Requires: certifi, pinecone-plugin-interface, python-dateutil, typing-extensions, urllib3\n",
      "Required-by: \n",
      "Note: you may need to restart the kernel to use updated packages.\n"
     ]
    }
   ],
   "source": [
    "pip show pinecone\n"
   ]
  },
  {
   "cell_type": "code",
   "execution_count": 1,
   "id": "f732744f",
   "metadata": {},
   "outputs": [
    {
     "name": "stdout",
     "output_type": "stream",
     "text": [
      "Name: pinecone\n",
      "Version: 6.0.2\n",
      "Summary: Pinecone client and SDK\n",
      "Home-page: https://www.pinecone.io\n",
      "Author: Pinecone Systems, Inc.\n",
      "Author-email: support@pinecone.io\n",
      "License: Apache-2.0\n",
      "Location: c:\\users\\admin\\miniconda3\\envs\\medibot\\lib\\site-packages\n",
      "Requires: certifi, pinecone-plugin-interface, python-dateutil, typing-extensions, urllib3\n",
      "Required-by: \n",
      "Note: you may need to restart the kernel to use updated packages.\n"
     ]
    }
   ],
   "source": [
    "pip show pinecone\n"
   ]
  },
  {
   "cell_type": "code",
   "execution_count": 2,
   "id": "85e57318",
   "metadata": {},
   "outputs": [
    {
     "name": "stderr",
     "output_type": "stream",
     "text": [
      "'{sys.executable}' is not recognized as an internal or external command,\n",
      "operable program or batch file.\n"
     ]
    }
   ],
   "source": [
    "!{sys.executable} -m pip install pinecone\n"
   ]
  },
  {
   "cell_type": "code",
   "execution_count": 3,
   "id": "f0401811",
   "metadata": {},
   "outputs": [
    {
     "name": "stdout",
     "output_type": "stream",
     "text": [
      "Requirement already satisfied: pinecone in c:\\users\\admin\\miniconda3\\envs\\medibot\\lib\\site-packages (6.0.2)\n",
      "Requirement already satisfied: certifi>=2019.11.17 in c:\\users\\admin\\miniconda3\\envs\\medibot\\lib\\site-packages (from pinecone) (2025.4.26)\n",
      "Requirement already satisfied: pinecone-plugin-interface<0.0.8,>=0.0.7 in c:\\users\\admin\\miniconda3\\envs\\medibot\\lib\\site-packages (from pinecone) (0.0.7)\n",
      "Requirement already satisfied: python-dateutil>=2.5.3 in c:\\users\\admin\\miniconda3\\envs\\medibot\\lib\\site-packages (from pinecone) (2.9.0.post0)\n",
      "Requirement already satisfied: typing-extensions>=3.7.4 in c:\\users\\admin\\miniconda3\\envs\\medibot\\lib\\site-packages (from pinecone) (4.13.2)\n",
      "Requirement already satisfied: urllib3>=1.26.0 in c:\\users\\admin\\miniconda3\\envs\\medibot\\lib\\site-packages (from pinecone) (2.4.0)\n",
      "Requirement already satisfied: six>=1.5 in c:\\users\\admin\\miniconda3\\envs\\medibot\\lib\\site-packages (from python-dateutil>=2.5.3->pinecone) (1.17.0)\n"
     ]
    }
   ],
   "source": [
    "import sys\n",
    "!{sys.executable} -m pip install pinecone\n"
   ]
  },
  {
   "cell_type": "code",
   "execution_count": 4,
   "id": "26c90b2f",
   "metadata": {},
   "outputs": [
    {
     "ename": "SyntaxError",
     "evalue": "invalid syntax (1946277985.py, line 1)",
     "output_type": "error",
     "traceback": [
      "\u001b[1;36m  Cell \u001b[1;32mIn[4], line 1\u001b[1;36m\u001b[0m\n\u001b[1;33m    conda activate medibot\u001b[0m\n\u001b[1;37m          ^\u001b[0m\n\u001b[1;31mSyntaxError\u001b[0m\u001b[1;31m:\u001b[0m invalid syntax\n"
     ]
    }
   ],
   "source": [
    "conda activate medibot\n",
    "pip install pinecone\n"
   ]
  },
  {
   "cell_type": "code",
   "execution_count": 1,
   "id": "b3198ca1",
   "metadata": {},
   "outputs": [
    {
     "ename": "ModuleNotFoundError",
     "evalue": "No module named 'pinecone'",
     "output_type": "error",
     "traceback": [
      "\u001b[1;31m---------------------------------------------------------------------------\u001b[0m",
      "\u001b[1;31mModuleNotFoundError\u001b[0m                       Traceback (most recent call last)",
      "Cell \u001b[1;32mIn[1], line 1\u001b[0m\n\u001b[1;32m----> 1\u001b[0m \u001b[38;5;28;01mfrom\u001b[39;00m\u001b[38;5;250m \u001b[39m\u001b[38;5;21;01mpinecone\u001b[39;00m\u001b[38;5;250m \u001b[39m\u001b[38;5;28;01mimport\u001b[39;00m Pinecone, ServerlessSpec\n\u001b[0;32m      3\u001b[0m pinecone \u001b[38;5;241m=\u001b[39m Pinecone(api_key\u001b[38;5;241m=\u001b[39m\u001b[38;5;124m\"\u001b[39m\u001b[38;5;124mpcsk_4Nbsn3_DFfh6j1X7HKTuirMfby61smQy8sJWjUfNYv2jHiaHy7gfzXb4kBrmJNrd8nvBvp\u001b[39m\u001b[38;5;124m\"\u001b[39m)\n",
      "\u001b[1;31mModuleNotFoundError\u001b[0m: No module named 'pinecone'"
     ]
    }
   ],
   "source": [
    "from pinecone import Pinecone, ServerlessSpec\n",
    "\n",
    "pinecone = Pinecone(api_key=\"pcsk_4Nbsn3_DFfh6j1X7HKTuirMfby61smQy8sJWjUfNYv2jHiaHy7gfzXb4kBrmJNrd8nvBvp\")\n"
   ]
  },
  {
   "cell_type": "code",
   "execution_count": 2,
   "id": "b834a545",
   "metadata": {},
   "outputs": [
    {
     "name": "stdout",
     "output_type": "stream",
     "text": [
      "Collecting pinecone-client\n",
      "  Using cached pinecone_client-6.0.0-py3-none-any.whl.metadata (3.4 kB)\n",
      "Requirement already satisfied: certifi>=2019.11.17 in c:\\users\\admin\\miniconda3\\envs\\medibot\\lib\\site-packages (from pinecone-client) (2025.4.26)\n",
      "Requirement already satisfied: pinecone-plugin-interface<0.0.8,>=0.0.7 in c:\\users\\admin\\miniconda3\\envs\\medibot\\lib\\site-packages (from pinecone-client) (0.0.7)\n",
      "Requirement already satisfied: python-dateutil>=2.5.3 in c:\\users\\admin\\miniconda3\\envs\\medibot\\lib\\site-packages (from pinecone-client) (2.9.0.post0)\n",
      "Requirement already satisfied: typing-extensions>=3.7.4 in c:\\users\\admin\\miniconda3\\envs\\medibot\\lib\\site-packages (from pinecone-client) (4.13.2)\n",
      "Requirement already satisfied: urllib3>=1.26.0 in c:\\users\\admin\\miniconda3\\envs\\medibot\\lib\\site-packages (from pinecone-client) (2.4.0)\n",
      "Requirement already satisfied: six>=1.5 in c:\\users\\admin\\miniconda3\\envs\\medibot\\lib\\site-packages (from python-dateutil>=2.5.3->pinecone-client) (1.17.0)\n",
      "Using cached pinecone_client-6.0.0-py3-none-any.whl (6.7 kB)\n",
      "Installing collected packages: pinecone-client\n",
      "Successfully installed pinecone-client-6.0.0\n",
      "Note: you may need to restart the kernel to use updated packages.\n"
     ]
    }
   ],
   "source": [
    "pip install --upgrade pinecone-client\n"
   ]
  },
  {
   "cell_type": "code",
   "execution_count": 3,
   "id": "03bd0d22",
   "metadata": {},
   "outputs": [
    {
     "ename": "Exception",
     "evalue": "The official Pinecone python package has been renamed from `pinecone-client` to `pinecone`. Please remove `pinecone-client` from your project dependencies and add `pinecone` instead. See the README at https://github.com/pinecone-io/pinecone-python-client for more information on using the python SDK.",
     "output_type": "error",
     "traceback": [
      "\u001b[1;31m---------------------------------------------------------------------------\u001b[0m",
      "\u001b[1;31mException\u001b[0m                                 Traceback (most recent call last)",
      "Cell \u001b[1;32mIn[3], line 1\u001b[0m\n\u001b[1;32m----> 1\u001b[0m \u001b[38;5;28;01mfrom\u001b[39;00m\u001b[38;5;250m \u001b[39m\u001b[38;5;21;01mpinecone\u001b[39;00m\u001b[38;5;250m \u001b[39m\u001b[38;5;28;01mimport\u001b[39;00m Pinecone, ServerlessSpec\n",
      "File \u001b[1;32mc:\\Users\\Admin\\miniconda3\\envs\\medibot\\lib\\site-packages\\pinecone\\__init__.py:5\u001b[0m\n\u001b[0;32m      1\u001b[0m \u001b[38;5;124;03m\"\"\"\u001b[39;00m\n\u001b[0;32m      2\u001b[0m \u001b[38;5;124;03m.. include:: ../README.md\u001b[39;00m\n\u001b[0;32m      3\u001b[0m \u001b[38;5;124;03m\"\"\"\u001b[39;00m\n\u001b[1;32m----> 5\u001b[0m \u001b[38;5;28;01mraise\u001b[39;00m \u001b[38;5;167;01mException\u001b[39;00m(\n\u001b[0;32m      6\u001b[0m     \u001b[38;5;124m\"\u001b[39m\u001b[38;5;124mThe official Pinecone python package has been renamed from `pinecone-client` to `pinecone`. Please remove `pinecone-client` from your project dependencies and add `pinecone` instead. See the README at https://github.com/pinecone-io/pinecone-python-client for more information on using the python SDK.\u001b[39m\u001b[38;5;124m\"\u001b[39m\n\u001b[0;32m      7\u001b[0m )\n",
      "\u001b[1;31mException\u001b[0m: The official Pinecone python package has been renamed from `pinecone-client` to `pinecone`. Please remove `pinecone-client` from your project dependencies and add `pinecone` instead. See the README at https://github.com/pinecone-io/pinecone-python-client for more information on using the python SDK."
     ]
    }
   ],
   "source": [
    "from pinecone import Pinecone, ServerlessSpec\n"
   ]
  },
  {
   "cell_type": "code",
   "execution_count": 4,
   "id": "e876a7d3",
   "metadata": {},
   "outputs": [
    {
     "ename": "SyntaxError",
     "evalue": "invalid syntax (231028383.py, line 1)",
     "output_type": "error",
     "traceback": [
      "\u001b[1;36m  Cell \u001b[1;32mIn[4], line 1\u001b[1;36m\u001b[0m\n\u001b[1;33m    from pinecone-client import Pinecone, ServerlessSpec\u001b[0m\n\u001b[1;37m                 ^\u001b[0m\n\u001b[1;31mSyntaxError\u001b[0m\u001b[1;31m:\u001b[0m invalid syntax\n"
     ]
    }
   ],
   "source": [
    "from pinecone-client import Pinecone, ServerlessSpec\n"
   ]
  },
  {
   "cell_type": "code",
   "execution_count": 5,
   "id": "70c9253b",
   "metadata": {},
   "outputs": [
    {
     "name": "stdout",
     "output_type": "stream",
     "text": [
      "Name: pinecone-client\n",
      "Version: 6.0.0\n",
      "Summary: Pinecone client (DEPRECATED)\n",
      "Home-page: https://www.pinecone.io\n",
      "Author: Pinecone Systems, Inc.\n",
      "Author-email: support@pinecone.io\n",
      "License: Apache-2.0\n",
      "Location: c:\\users\\admin\\miniconda3\\envs\\medibot\\lib\\site-packages\n",
      "Requires: certifi, pinecone-plugin-interface, python-dateutil, typing-extensions, urllib3\n",
      "Required-by: \n",
      "Note: you may need to restart the kernel to use updated packages.\n"
     ]
    }
   ],
   "source": [
    "pip show pinecone-client\n"
   ]
  },
  {
   "cell_type": "code",
   "execution_count": 1,
   "id": "f39d038e",
   "metadata": {},
   "outputs": [
    {
     "ename": "Exception",
     "evalue": "The official Pinecone python package has been renamed from `pinecone-client` to `pinecone`. Please remove `pinecone-client` from your project dependencies and add `pinecone` instead. See the README at https://github.com/pinecone-io/pinecone-python-client for more information on using the python SDK.",
     "output_type": "error",
     "traceback": [
      "\u001b[1;31m---------------------------------------------------------------------------\u001b[0m",
      "\u001b[1;31mException\u001b[0m                                 Traceback (most recent call last)",
      "Cell \u001b[1;32mIn[1], line 1\u001b[0m\n\u001b[1;32m----> 1\u001b[0m \u001b[38;5;28;01mfrom\u001b[39;00m\u001b[38;5;250m \u001b[39m\u001b[38;5;21;01mpinecone\u001b[39;00m\u001b[38;5;250m \u001b[39m\u001b[38;5;28;01mimport\u001b[39;00m Pinecone, ServerlessSpec\n",
      "File \u001b[1;32mc:\\Users\\Admin\\miniconda3\\envs\\medibot\\lib\\site-packages\\pinecone\\__init__.py:5\u001b[0m\n\u001b[0;32m      1\u001b[0m \u001b[38;5;124;03m\"\"\"\u001b[39;00m\n\u001b[0;32m      2\u001b[0m \u001b[38;5;124;03m.. include:: ../README.md\u001b[39;00m\n\u001b[0;32m      3\u001b[0m \u001b[38;5;124;03m\"\"\"\u001b[39;00m\n\u001b[1;32m----> 5\u001b[0m \u001b[38;5;28;01mraise\u001b[39;00m \u001b[38;5;167;01mException\u001b[39;00m(\n\u001b[0;32m      6\u001b[0m     \u001b[38;5;124m\"\u001b[39m\u001b[38;5;124mThe official Pinecone python package has been renamed from `pinecone-client` to `pinecone`. Please remove `pinecone-client` from your project dependencies and add `pinecone` instead. See the README at https://github.com/pinecone-io/pinecone-python-client for more information on using the python SDK.\u001b[39m\u001b[38;5;124m\"\u001b[39m\n\u001b[0;32m      7\u001b[0m )\n",
      "\u001b[1;31mException\u001b[0m: The official Pinecone python package has been renamed from `pinecone-client` to `pinecone`. Please remove `pinecone-client` from your project dependencies and add `pinecone` instead. See the README at https://github.com/pinecone-io/pinecone-python-client for more information on using the python SDK."
     ]
    }
   ],
   "source": [
    "from pinecone import Pinecone, ServerlessSpec\n"
   ]
  },
  {
   "cell_type": "code",
   "execution_count": 2,
   "id": "7a86cb9b",
   "metadata": {},
   "outputs": [
    {
     "ename": "Exception",
     "evalue": "The official Pinecone python package has been renamed from `pinecone-client` to `pinecone`. Please remove `pinecone-client` from your project dependencies and add `pinecone` instead. See the README at https://github.com/pinecone-io/pinecone-python-client for more information on using the python SDK.",
     "output_type": "error",
     "traceback": [
      "\u001b[1;31m---------------------------------------------------------------------------\u001b[0m",
      "\u001b[1;31mException\u001b[0m                                 Traceback (most recent call last)",
      "Cell \u001b[1;32mIn[2], line 1\u001b[0m\n\u001b[1;32m----> 1\u001b[0m \u001b[38;5;28;01mimport\u001b[39;00m\u001b[38;5;250m \u001b[39m\u001b[38;5;21;01mpinecone\u001b[39;00m\n\u001b[0;32m      3\u001b[0m pinecone\u001b[38;5;241m.\u001b[39minit(api_key\u001b[38;5;241m=\u001b[39m\u001b[38;5;124m\"\u001b[39m\u001b[38;5;124mpcsk_4Nbsn3_DFfh6j1X7HKTuirMfby61smQy8sJWjUfNYv2jHiaHy7gfzXb4kBrmJNrd8nvBvp\u001b[39m\u001b[38;5;124m\"\u001b[39m, environment\u001b[38;5;241m=\u001b[39m\u001b[38;5;124m\"\u001b[39m\u001b[38;5;124mtest\u001b[39m\u001b[38;5;124m\"\u001b[39m)\n",
      "File \u001b[1;32mc:\\Users\\Admin\\miniconda3\\envs\\medibot\\lib\\site-packages\\pinecone\\__init__.py:5\u001b[0m\n\u001b[0;32m      1\u001b[0m \u001b[38;5;124;03m\"\"\"\u001b[39;00m\n\u001b[0;32m      2\u001b[0m \u001b[38;5;124;03m.. include:: ../README.md\u001b[39;00m\n\u001b[0;32m      3\u001b[0m \u001b[38;5;124;03m\"\"\"\u001b[39;00m\n\u001b[1;32m----> 5\u001b[0m \u001b[38;5;28;01mraise\u001b[39;00m \u001b[38;5;167;01mException\u001b[39;00m(\n\u001b[0;32m      6\u001b[0m     \u001b[38;5;124m\"\u001b[39m\u001b[38;5;124mThe official Pinecone python package has been renamed from `pinecone-client` to `pinecone`. Please remove `pinecone-client` from your project dependencies and add `pinecone` instead. See the README at https://github.com/pinecone-io/pinecone-python-client for more information on using the python SDK.\u001b[39m\u001b[38;5;124m\"\u001b[39m\n\u001b[0;32m      7\u001b[0m )\n",
      "\u001b[1;31mException\u001b[0m: The official Pinecone python package has been renamed from `pinecone-client` to `pinecone`. Please remove `pinecone-client` from your project dependencies and add `pinecone` instead. See the README at https://github.com/pinecone-io/pinecone-python-client for more information on using the python SDK."
     ]
    }
   ],
   "source": [
    "import pinecone\n",
    "\n",
    "pinecone.init(api_key=\"pcsk_4Nbsn3_DFfh6j1X7HKTuirMfby61smQy8sJWjUfNYv2jHiaHy7gfzXb4kBrmJNrd8nvBvp\", environment=\"test\")\n"
   ]
  },
  {
   "cell_type": "code",
   "execution_count": 3,
   "id": "92beae1c",
   "metadata": {},
   "outputs": [
    {
     "name": "stdout",
     "output_type": "stream",
     "text": [
      "Requirement already satisfied: pinecone-client in c:\\users\\admin\\miniconda3\\envs\\medibot\\lib\\site-packages (6.0.0)\n",
      "Requirement already satisfied: certifi>=2019.11.17 in c:\\users\\admin\\miniconda3\\envs\\medibot\\lib\\site-packages (from pinecone-client) (2025.4.26)\n",
      "Requirement already satisfied: pinecone-plugin-interface<0.0.8,>=0.0.7 in c:\\users\\admin\\miniconda3\\envs\\medibot\\lib\\site-packages (from pinecone-client) (0.0.7)\n",
      "Requirement already satisfied: python-dateutil>=2.5.3 in c:\\users\\admin\\miniconda3\\envs\\medibot\\lib\\site-packages (from pinecone-client) (2.9.0.post0)\n",
      "Requirement already satisfied: typing-extensions>=3.7.4 in c:\\users\\admin\\miniconda3\\envs\\medibot\\lib\\site-packages (from pinecone-client) (4.13.2)\n",
      "Requirement already satisfied: urllib3>=1.26.0 in c:\\users\\admin\\miniconda3\\envs\\medibot\\lib\\site-packages (from pinecone-client) (2.4.0)\n",
      "Requirement already satisfied: six>=1.5 in c:\\users\\admin\\miniconda3\\envs\\medibot\\lib\\site-packages (from python-dateutil>=2.5.3->pinecone-client) (1.17.0)\n",
      "Note: you may need to restart the kernel to use updated packages.\n"
     ]
    }
   ],
   "source": [
    "pip install pinecone-client\n"
   ]
  },
  {
   "cell_type": "code",
   "execution_count": 4,
   "id": "d79a4e21",
   "metadata": {},
   "outputs": [
    {
     "name": "stdout",
     "output_type": "stream",
     "text": [
      "Name: pinecone-client\n",
      "Version: 6.0.0\n",
      "Summary: Pinecone client (DEPRECATED)\n",
      "Home-page: https://www.pinecone.io\n",
      "Author: Pinecone Systems, Inc.\n",
      "Author-email: support@pinecone.io\n",
      "License: Apache-2.0\n",
      "Location: c:\\users\\admin\\miniconda3\\envs\\medibot\\lib\\site-packages\n",
      "Requires: certifi, pinecone-plugin-interface, python-dateutil, typing-extensions, urllib3\n",
      "Required-by: \n",
      "Note: you may need to restart the kernel to use updated packages.\n"
     ]
    }
   ],
   "source": [
    "pip show pinecone-client\n"
   ]
  },
  {
   "cell_type": "code",
   "execution_count": null,
   "id": "d27ea0dc",
   "metadata": {},
   "outputs": [],
   "source": []
  }
 ],
 "metadata": {
  "kernelspec": {
   "display_name": "medibot",
   "language": "python",
   "name": "python3"
  },
  "language_info": {
   "codemirror_mode": {
    "name": "ipython",
    "version": 3
   },
   "file_extension": ".py",
   "mimetype": "text/x-python",
   "name": "python",
   "nbconvert_exporter": "python",
   "pygments_lexer": "ipython3",
   "version": "3.10.16"
  }
 },
 "nbformat": 4,
 "nbformat_minor": 5
}
